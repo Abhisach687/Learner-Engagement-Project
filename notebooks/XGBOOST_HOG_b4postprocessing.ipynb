{
 "cells": [
  {
   "cell_type": "markdown",
   "metadata": {},
   "source": [
    "This notebook implements the ML Baseline (Phase 1) using XGBoost with HOG features. It extracts HOG features from the best (sharpest) frame per video, caches progress, performs hyperparameter grid search with checkpointing, and saves the best model.\n"
   ]
  },
  {
   "cell_type": "code",
   "execution_count": 11,
   "metadata": {},
   "outputs": [],
   "source": [
    "import os\n",
    "import cv2\n",
    "import json\n",
    "import joblib\n",
    "import numpy as np\n",
    "import pandas as pd\n",
    "from pathlib import Path\n",
    "from skimage.feature import hog\n",
    "import xgboost as xgb\n",
    "from sklearn.model_selection import train_test_split\n",
    "from sklearn.metrics import accuracy_score, classification_report, confusion_matrix\n",
    "import itertools\n",
    "from xgboost.callback import TrainingCallback\n",
    "\n",
    "\n",
    "# Set paths \n",
    "BASE_DIR = Path(\"C:/Users/abhis/Downloads/Documents/Learner Engagement Project\")\n",
    "DATA_DIR = BASE_DIR / \"data\" / \"DAiSEE\"\n",
    "FRAMES_DIR = DATA_DIR / \"ExtractedFrames\"    \n",
    "LABELS_DIR = DATA_DIR / \"Labels\"\n",
    "MODEL_DIR = BASE_DIR / \"models\"\n",
    "FEATURE_CACHE_DIR = MODEL_DIR / \"hog_features\"   # Directory to save per-video HOG feature files\n",
    "CHECKPOINT_FILE = MODEL_DIR / \"xgboost_hog_checkpoint.json\"\n",
    "FINAL_MODEL_PATH = MODEL_DIR / \"xgboost_hog_model.json\"\n",
    "\n",
    "# Create directories if they don't exist\n",
    "os.makedirs(MODEL_DIR, exist_ok=True)\n",
    "os.makedirs(FEATURE_CACHE_DIR, exist_ok=True)\n",
    "\n",
    "# For reproducibility\n",
    "np.random.seed(42)"
   ]
  },
  {
   "cell_type": "markdown",
   "metadata": {},
   "source": [
    "# Helper Functions\n",
    "\n",
    "This section defines the following helper functions:\n",
    "\n",
    "- **get_csv_clip_id**: Maps a video clip ID (file stem) to its corresponding folder name using custom mapping logic.\n",
    "- **select_top_frames**: From all frames in a video folder, this function:\n",
    "\n",
    "  - Detects faces using Haar cascades.\n",
    "  - Computes a quality score based on the sharpness of the face region (with a fallback to the full frame if no face is detected).\n",
    "  - Selects the top N frames with the highest quality scores.\n",
    "\n",
    "- **extract_hog_from_image**: Reads an image in grayscale and computes HOG (Histogram of Oriented Gradients) features.\n",
    "\n",
    "- **process_video_for_hog**:\n",
    "  - Selects the top frames for a given video.\n",
    "  - Extracts HOG features from each selected frame.\n",
    "  - Averages the HOG features to form a single feature vector per video.\n",
    "  - Caches the resulting feature vector for future use.\n"
   ]
  },
  {
   "cell_type": "code",
   "execution_count": 12,
   "metadata": {},
   "outputs": [],
   "source": [
    "def get_csv_clip_id(video_stem: str) -> str:\n",
    "    \"\"\"\n",
    "    Maps the given video stem using your mapping rule.\n",
    "    For example, if the video_stem starts with \"110001\", replace with \"202614\".\n",
    "    \"\"\"\n",
    "    base = video_stem.strip()\n",
    "    if base.startswith(\"110001\"):\n",
    "        base = base.replace(\"110001\", \"202614\", 1)\n",
    "    return base\n",
    "\n",
    "def select_top_frames(video_folder: Path, num_frames=30):\n",
    "    \"\"\"\n",
    "    Given a folder of frames, select up to num_frames that are best for face detection.\n",
    "    For each frame, a Haar cascade is used to detect faces. If a face is detected,\n",
    "    we compute the sharpness (variance of Laplacian) over the face region (largest face).\n",
    "    If no face is detected, we fall back to computing sharpness over the full image.\n",
    "    Frames are then ranked by quality, and the top ones are returned.\n",
    "    \"\"\"\n",
    "    # Load Haar cascade for face detection (using OpenCV's built-in path)\n",
    "    cascade_path = cv2.data.haarcascades + \"haarcascade_frontalface_default.xml\"\n",
    "    face_cascade = cv2.CascadeClassifier(cascade_path)\n",
    "\n",
    "    frame_files = sorted(video_folder.glob(\"frame_*.jpg\"))\n",
    "    quality_list = []\n",
    "    for fp in frame_files:\n",
    "        img = cv2.imread(str(fp))\n",
    "        if img is None:\n",
    "            continue\n",
    "        gray = cv2.cvtColor(img, cv2.COLOR_BGR2GRAY)\n",
    "        faces = face_cascade.detectMultiScale(gray, scaleFactor=1.1, minNeighbors=5)\n",
    "        if len(faces) > 0:\n",
    "            # Choose the largest detected face (by area)\n",
    "            face = max(faces, key=lambda r: r[2]*r[3])\n",
    "            x, y, w, h = face\n",
    "            face_region = gray[y:y+h, x:x+w]\n",
    "            quality = cv2.Laplacian(face_region, cv2.CV_64F).var()\n",
    "        else:\n",
    "            # Fallback: use full frame sharpness\n",
    "            quality = cv2.Laplacian(gray, cv2.CV_64F).var()\n",
    "        quality_list.append((fp, quality))\n",
    "    \n",
    "    # Sort frames by quality (highest first) and select the top num_frames\n",
    "    quality_list.sort(key=lambda x: x[1], reverse=True)\n",
    "    top_frames = [item[0] for item in quality_list[:num_frames]]\n",
    "    return top_frames\n",
    "\n",
    "def extract_hog_from_image(image_path, orientations=9, pixels_per_cell=(8, 8), cells_per_block=(2, 2)):\n",
    "    \"\"\"\n",
    "    Reads an image in grayscale and computes HOG features.\n",
    "    This is the HOG logic implementation.\n",
    "    \"\"\"\n",
    "    img = cv2.imread(str(image_path), cv2.IMREAD_GRAYSCALE)\n",
    "    if img is None:\n",
    "        raise ValueError(f\"Unable to read image: {image_path}\")\n",
    "    features = hog(img, orientations=orientations, \n",
    "                   pixels_per_cell=pixels_per_cell, \n",
    "                   cells_per_block=cells_per_block, \n",
    "                   block_norm='L2-Hys', transform_sqrt=True)\n",
    "    return features\n",
    "\n",
    "def process_video_for_hog(video_folder: Path, cache_dir: Path, num_frames=30) -> np.ndarray:\n",
    "    \"\"\"\n",
    "    For a given video folder, this function:\n",
    "      - Checks if an aggregated HOG feature vector is cached.\n",
    "      - If not, selects up to num_frames using face detection and quality metrics.\n",
    "      - Extracts HOG features from each selected frame.\n",
    "      - Aggregates the features (by averaging) into a single feature vector.\n",
    "      - Caches and returns the aggregated feature vector.\n",
    "    \"\"\"\n",
    "    cache_file = cache_dir / f\"{video_folder.name}_top{num_frames}.npy\"\n",
    "    if cache_file.exists():\n",
    "        features = np.load(cache_file)\n",
    "        return features\n",
    "\n",
    "    top_frames = select_top_frames(video_folder, num_frames=num_frames)\n",
    "    if len(top_frames) == 0:\n",
    "        raise ValueError(f\"No valid frames found in {video_folder}\")\n",
    "    \n",
    "    hog_features_list = []\n",
    "    for fp in top_frames:\n",
    "        feat = extract_hog_from_image(fp)\n",
    "        hog_features_list.append(feat)\n",
    "    # Aggregate features by averaging across selected frames\n",
    "    hog_features = np.mean(np.stack(hog_features_list, axis=0), axis=0)\n",
    "    np.save(cache_file, hog_features)\n",
    "    return hog_features"
   ]
  },
  {
   "cell_type": "markdown",
   "metadata": {},
   "source": [
    "# Prepare Training Data\n",
    "\n",
    "In this section, we load the training CSV file (assumed to be located at `LABELS_DIR/TrainLabels.csv`). For each row in the CSV, we perform the following steps:\n",
    "\n",
    "- **Map the clip ID** to its corresponding video folder name.\n",
    "- **Locate the video folder** under `FRAMES_DIR/Train`.\n",
    "- **Extract aggregated HOG features** using the `process_video_for_hog` function, which now incorporates face-based frame selection.\n",
    "\n",
    "We accumulate the feature vectors and their corresponding classification labels. Progress is periodically saved to allow resumption of the process in case of interruption.\n"
   ]
  },
  {
   "cell_type": "code",
   "execution_count": 13,
   "metadata": {},
   "outputs": [
    {
     "name": "stdout",
     "output_type": "stream",
     "text": [
      "Resuming from cached features...\n",
      "Already processed 5275 videos.\n"
     ]
    },
    {
     "name": "stderr",
     "output_type": "stream",
     "text": [
      "                                                          \n",
      "                                                                 \n",
      "                                                                 \n",
      "                                                                 \n",
      "                                                                 \n",
      "Final Training:   0%|          | 0/500 [13:57<?, ?round/s]       "
     ]
    },
    {
     "name": "stdout",
     "output_type": "stream",
     "text": [
      "Processed video 4140810266 (5276/5358)\n",
      "Processed video 4140810268 (5277/5358)\n",
      "Processed video 4140810269 (5278/5358)\n",
      "Processed video 414081027 (5279/5358)\n",
      "Processed video 4140810270 (5280/5358)\n"
     ]
    },
    {
     "name": "stderr",
     "output_type": "stream",
     "text": [
      "                                                          \n",
      "                                                                 \n",
      "                                                                         \n",
      "                                                                         \n",
      "                                                                         \n",
      "                                                                         \n",
      "                                                                         \n",
      "                                                                         \n",
      "                                                                         \n",
      "                                                                         \n",
      "                                                                         \n",
      "Final Training:   0%|          | 0/500 [13:59<?, ?round/s]               "
     ]
    },
    {
     "name": "stdout",
     "output_type": "stream",
     "text": [
      "Checkpoint saved at 5280 videos.\n",
      "Processed video 4140810271 (5281/5358)\n",
      "Processed video 4140810272 (5282/5358)\n",
      "Processed video 4140810273 (5283/5358)\n",
      "Processed video 4140810274 (5284/5358)\n",
      "Processed video 4140810276 (5285/5358)\n",
      "Processed video 4140810277 (5286/5358)\n",
      "Processed video 4140810278 (5287/5358)\n",
      "Processed video 4140810279 (5288/5358)\n",
      "Processed video 414081028 (5289/5358)\n",
      "Processed video 4140810280 (5290/5358)\n"
     ]
    },
    {
     "name": "stderr",
     "output_type": "stream",
     "text": [
      "                                                          \n",
      "                                                                         \n",
      "                                                                         \n",
      "                                                                         \n",
      "                                                                         \n",
      "                                                                         \n",
      "                                                                         \n",
      "                                                                         \n",
      "                                                                         \n",
      "                                                                         \n",
      "\u001b[A                                                                      "
     ]
    },
    {
     "name": "stdout",
     "output_type": "stream",
     "text": [
      "Checkpoint saved at 5290 videos.\n",
      "Processed video 414081029 (5291/5358)\n",
      "Processed video 459999011 (5292/5358)\n",
      "Processed video 4599990110 (5293/5358)\n",
      "Processed video 4599990112 (5294/5358)\n",
      "Processed video 4599990113 (5295/5358)\n",
      "Processed video 4599990114 (5296/5358)\n",
      "Processed video 4599990116 (5297/5358)\n",
      "Processed video 4599990117 (5298/5358)\n"
     ]
    },
    {
     "name": "stderr",
     "output_type": "stream",
     "text": [
      "                                                          \n",
      "Final Training:   0%|          | 0/500 [14:01<?, ?round/s]               "
     ]
    },
    {
     "name": "stdout",
     "output_type": "stream",
     "text": [
      "Processed video 4599990118 (5299/5358)\n",
      "Processed video 4599990119 (5300/5358)\n"
     ]
    },
    {
     "name": "stderr",
     "output_type": "stream",
     "text": [
      "                                                          \n",
      "                                                                         \n",
      "                                                                         \n",
      "                                                                         \n",
      "                                                                         \n",
      "                                                                         \n",
      "                                                                         \n",
      "                                                                         \n",
      "Final Training:   0%|          | 0/500 [14:02<?, ?round/s]               "
     ]
    },
    {
     "name": "stdout",
     "output_type": "stream",
     "text": [
      "Checkpoint saved at 5300 videos.\n",
      "Processed video 459999012 (5301/5358)\n",
      "Processed video 4599990120 (5302/5358)\n",
      "Processed video 4599990125 (5303/5358)\n",
      "Processed video 4599990126 (5304/5358)\n",
      "Processed video 4599990128 (5305/5358)\n",
      "Processed video 4599990129 (5306/5358)\n",
      "Processed video 459999013 (5307/5358)\n"
     ]
    },
    {
     "name": "stderr",
     "output_type": "stream",
     "text": [
      "                                                          \n",
      "                                                                         \n",
      "                                                                         \n",
      "Final Training:   0%|          | 0/500 [14:02<?, ?round/s]               "
     ]
    },
    {
     "name": "stdout",
     "output_type": "stream",
     "text": [
      "Processed video 4599990130 (5308/5358)\n",
      "Processed video 4599990131 (5309/5358)\n",
      "Processed video 4599990132 (5310/5358)\n"
     ]
    },
    {
     "name": "stderr",
     "output_type": "stream",
     "text": [
      "                                                          \n",
      "                                                                         \n",
      "                                                                         \n",
      "                                                                         \n",
      "                                                                         \n",
      "                                                                         \n",
      "                                                                         \n",
      "                                                                         \n",
      "                                                                         \n",
      "                                                                         \n",
      "                                                                         \n",
      "Final Training:   0%|          | 0/500 [14:04<?, ?round/s]               "
     ]
    },
    {
     "name": "stdout",
     "output_type": "stream",
     "text": [
      "Checkpoint saved at 5310 videos.\n",
      "Processed video 4599990133 (5311/5358)\n",
      "Processed video 4599990134 (5312/5358)\n",
      "Processed video 4599990136 (5313/5358)\n",
      "Processed video 4599990137 (5314/5358)\n",
      "Processed video 4599990139 (5315/5358)\n",
      "Processed video 4599990141 (5316/5358)\n",
      "Processed video 4599990144 (5317/5358)\n",
      "Processed video 4599990146 (5318/5358)\n",
      "Processed video 4599990148 (5319/5358)\n",
      "Processed video 4599990149 (5320/5358)\n"
     ]
    },
    {
     "name": "stderr",
     "output_type": "stream",
     "text": [
      "                                                          \n",
      "                                                                         \n",
      "                                                                         \n",
      "                                                                         \n",
      "                                                                         \n",
      "                                                                         \n",
      "                                                                         \n",
      "                                                                         \n",
      "Final Training:   0%|          | 0/500 [14:06<?, ?round/s]               "
     ]
    },
    {
     "name": "stdout",
     "output_type": "stream",
     "text": [
      "Checkpoint saved at 5320 videos.\n",
      "Processed video 4599990153 (5321/5358)\n",
      "Processed video 4599990154 (5322/5358)\n",
      "Processed video 4599990155 (5323/5358)\n",
      "Processed video 459999016 (5324/5358)\n",
      "Processed video 4599990163 (5325/5358)\n",
      "Processed video 4599990165 (5326/5358)\n",
      "Processed video 4599990166 (5327/5358)\n"
     ]
    },
    {
     "name": "stderr",
     "output_type": "stream",
     "text": [
      "                                                          \n",
      "                                                                         \n",
      "                                                                         \n",
      "Final Training:   0%|          | 0/500 [14:06<?, ?round/s]               "
     ]
    },
    {
     "name": "stdout",
     "output_type": "stream",
     "text": [
      "Processed video 4599990168 (5328/5358)\n",
      "Processed video 459999017 (5329/5358)\n",
      "Processed video 4599990171 (5330/5358)\n"
     ]
    },
    {
     "name": "stderr",
     "output_type": "stream",
     "text": [
      "                                                          \n",
      "                                                                         \n",
      "                                                                         \n",
      "                                                                         \n",
      "                                                                         \n",
      "                                                                         \n",
      "                                                                         \n",
      "                                                                         \n",
      "                                                                         \n",
      "Final Training:   0%|          | 0/500 [14:08<?, ?round/s]               "
     ]
    },
    {
     "name": "stdout",
     "output_type": "stream",
     "text": [
      "Checkpoint saved at 5330 videos.\n",
      "Processed video 459999021 (5331/5358)\n",
      "Processed video 4599990211 (5332/5358)\n",
      "Processed video 4599990212 (5333/5358)\n",
      "Processed video 4599990214 (5334/5358)\n",
      "Processed video 4599990216 (5335/5358)\n",
      "Processed video 4599990218 (5336/5358)\n",
      "Processed video 459999022 (5337/5358)\n",
      "Processed video 4599990221 (5338/5358)\n"
     ]
    },
    {
     "name": "stderr",
     "output_type": "stream",
     "text": [
      "                                                          \n",
      "                                                                         \n",
      "Final Training:   0%|          | 0/500 [14:08<?, ?round/s]               "
     ]
    },
    {
     "name": "stdout",
     "output_type": "stream",
     "text": [
      "Processed video 4599990222 (5339/5358)\n",
      "Processed video 4599990223 (5340/5358)\n"
     ]
    },
    {
     "name": "stderr",
     "output_type": "stream",
     "text": [
      "                                                          \n",
      "                                                                         \n",
      "                                                                         \n",
      "                                                                         \n",
      "                                                                         \n",
      "                                                                         \n",
      "                                                                         \n",
      "                                                                         \n",
      "                                                                         \n",
      "                                                                         \n",
      "Final Training:   0%|          | 0/500 [14:10<?, ?round/s]               "
     ]
    },
    {
     "name": "stdout",
     "output_type": "stream",
     "text": [
      "Checkpoint saved at 5340 videos.\n",
      "Processed video 4599990224 (5341/5358)\n",
      "Processed video 4599990226 (5342/5358)\n",
      "Processed video 4599990231 (5343/5358)\n",
      "Processed video 4599990233 (5344/5358)\n",
      "Processed video 4599990234 (5345/5358)\n",
      "Processed video 4599990235 (5346/5358)\n",
      "Processed video 4599990238 (5347/5358)\n",
      "Processed video 459999024 (5348/5358)\n",
      "Processed video 4599990240 (5349/5358)\n"
     ]
    },
    {
     "name": "stderr",
     "output_type": "stream",
     "text": [
      "                                                          \n",
      "Final Training:   0%|          | 0/500 [14:10<?, ?round/s]               "
     ]
    },
    {
     "name": "stdout",
     "output_type": "stream",
     "text": [
      "Processed video 4599990241 (5350/5358)\n"
     ]
    },
    {
     "name": "stderr",
     "output_type": "stream",
     "text": [
      "                                                          \n",
      "                                                                         \n",
      "                                                                         \n",
      "                                                                         \n",
      "                                                                         \n",
      "                                                                         \n",
      "                                                                         \n",
      "                                                                         \n",
      "Final Training:   0%|          | 0/500 [14:11<?, ?round/s]               "
     ]
    },
    {
     "name": "stdout",
     "output_type": "stream",
     "text": [
      "Checkpoint saved at 5350 videos.\n",
      "Processed video 4599990243 (5351/5358)\n",
      "Processed video 4599990244 (5352/5358)\n",
      "Processed video 4599990245 (5353/5358)\n",
      "Processed video 4599990246 (5354/5358)\n",
      "Processed video 4599990247 (5355/5358)\n",
      "Processed video 4599990248 (5356/5358)\n",
      "Processed video 4599990249 (5357/5358)\n"
     ]
    },
    {
     "name": "stderr",
     "output_type": "stream",
     "text": [
      "                                                          \n",
      "Processing Videos: 100%|██████████| 5358/5358 [00:14<00:00,  5.78video/s]\n"
     ]
    },
    {
     "name": "stdout",
     "output_type": "stream",
     "text": [
      "Processed video 459999025 (5358/5358)\n",
      "Feature extraction completed and cached.\n"
     ]
    }
   ],
   "source": [
    "import numpy as np\n",
    "from tqdm import tqdm\n",
    "\n",
    "TRAIN_CSV = LABELS_DIR / \"TrainLabels.csv\"\n",
    "\n",
    "# Load CSV into a DataFrame\n",
    "df_train = pd.read_csv(TRAIN_CSV, dtype=str)\n",
    "df_train.columns = df_train.columns.str.strip()\n",
    "\n",
    "# Lists to hold features and labels, and track processed video ids\n",
    "X_features = []\n",
    "y_labels = []\n",
    "processed_ids = []\n",
    "\n",
    "# Cache file to store progress (features, labels, processed ids)\n",
    "FEATURES_CACHE_FILE = MODEL_DIR / \"features_cache.npz\"\n",
    "start_index = 0\n",
    "if FEATURES_CACHE_FILE.exists():\n",
    "    print(\"Resuming from cached features...\")\n",
    "    cache_data = np.load(FEATURES_CACHE_FILE, allow_pickle=True)\n",
    "    X_features = list(cache_data[\"X_features\"])\n",
    "    y_labels = list(cache_data[\"y_labels\"])\n",
    "    processed_ids = list(cache_data[\"processed_ids\"])\n",
    "    start_index = len(processed_ids)\n",
    "    print(f\"Already processed {start_index} videos.\")\n",
    "\n",
    "# Process each row in the training CSV (resume from start_index)\n",
    "for idx in tqdm(range(start_index, len(df_train)), total=len(df_train), initial=start_index, unit=\"video\", desc=\"Processing Videos\"):\n",
    "    row = df_train.iloc[idx]\n",
    "    clip_id = row['ClipID'].strip()\n",
    "    # Remove file extension if present\n",
    "    if clip_id.endswith('.avi'):\n",
    "        clip_id = clip_id[:-4]\n",
    "    mapped_id = get_csv_clip_id(clip_id)\n",
    "    \n",
    "    # Construct the path to the video folder (under Train)\n",
    "    video_folder = FRAMES_DIR / \"Train\" / mapped_id\n",
    "    if not video_folder.exists():\n",
    "        print(f\"[Warning] Video folder not found: {video_folder}. Skipping.\")\n",
    "        continue\n",
    "    \n",
    "    try:\n",
    "        # Extract aggregated HOG features from top frames using face detection\n",
    "        features = process_video_for_hog(video_folder, FEATURE_CACHE_DIR, num_frames=30)\n",
    "        X_features.append(features)\n",
    "        # Use the \"Engagement\" label for classification (ensure this column is appropriate)\n",
    "        y_labels.append(int(row['Engagement']))\n",
    "        processed_ids.append(mapped_id)\n",
    "        tqdm.write(f\"Processed video {mapped_id} ({idx+1}/{len(df_train)})\")\n",
    "    except Exception as e:\n",
    "        tqdm.write(f\"Error processing video {mapped_id}: {e}\")\n",
    "    \n",
    "    # Periodically save progress every 10 videos\n",
    "    if (idx+1) % 10 == 0:\n",
    "        np.savez(FEATURES_CACHE_FILE, X_features=X_features, y_labels=y_labels, processed_ids=processed_ids)\n",
    "        tqdm.write(f\"Checkpoint saved at {idx+1} videos.\")\n",
    "\n",
    "# Final cache save\n",
    "np.savez(FEATURES_CACHE_FILE, X_features=X_features, y_labels=y_labels, processed_ids=processed_ids)\n",
    "print(\"Feature extraction completed and cached.\")"
   ]
  },
  {
   "cell_type": "markdown",
   "metadata": {},
   "source": [
    "# Train the XGBoost Classifier with Hyperparameter Grid Search\n",
    "\n",
    "In this section, we perform the following steps:\n",
    "\n",
    "- **Convert the accumulated features and labels** into numpy arrays for further processing.\n",
    "- **Split the data** into an 80/20 train-validation split to evaluate model performance.\n",
    "- **Define a hyperparameter grid** and manually conduct a grid search with checkpointing to optimize the model's performance.\n",
    "- **Save the best model** (based on classification performance) to disk for future use.\n",
    "\n",
    "Since this is a classification task, we utilize metrics such as **accuracy** to evaluate the model during training. Additionally, we later report comprehensive classification metrics to assess the model's overall performance.\n"
   ]
  },
  {
   "cell_type": "code",
   "execution_count": 14,
   "metadata": {},
   "outputs": [],
   "source": [
    "class CheckpointCallback(TrainingCallback):\n",
    "    def __init__(self, pbar, checkpoint_dir):\n",
    "        self.pbar = pbar\n",
    "        self.checkpoint_dir = checkpoint_dir\n",
    "\n",
    "    def after_iteration(self, model, epoch, evals_log):\n",
    "        # Update the progress bar for every iteration.\n",
    "        self.pbar.update(1)\n",
    "        # Save a checkpoint every 50 rounds (excluding round 0)\n",
    "        if epoch % 50 == 0 and epoch != 0:\n",
    "            checkpoint_path = self.checkpoint_dir / f\"checkpoint_{epoch}.model\"\n",
    "            model.save_model(str(checkpoint_path))\n",
    "            tqdm.write(f\"Checkpoint saved at iteration {epoch}\")\n",
    "        # Return False to indicate training should continue.\n",
    "        return False"
   ]
  },
  {
   "cell_type": "code",
   "execution_count": 15,
   "metadata": {},
   "outputs": [
    {
     "name": "stderr",
     "output_type": "stream",
     "text": [
      "Final Training:   0%|          | 0/500 [14:21<?, ?round/s]"
     ]
    },
    {
     "name": "stdout",
     "output_type": "stream",
     "text": [
      "Resuming grid search from index 27 with best score so far: 0.6748815165876777\n",
      "Total hyperparameter combinations: 27\n"
     ]
    },
    {
     "name": "stderr",
     "output_type": "stream",
     "text": [
      "Grid Search: 54combo [00:00, ?combo/s]                 \n",
      "Final Training:   0%|          | 0/500 [14:21<?, ?round/s]"
     ]
    },
    {
     "name": "stdout",
     "output_type": "stream",
     "text": [
      "\n",
      "Grid search complete.\n",
      "Best Hyperparameters: {'max_depth': 5, 'learning_rate': 0.2, 'n_estimators': 50} with Validation Accuracy: 0.6749\n"
     ]
    },
    {
     "name": "stderr",
     "output_type": "stream",
     "text": [
      "Final Training:   0%|          | 0/500 [14:22<?, ?round/s]\n"
     ]
    },
    {
     "name": "stdout",
     "output_type": "stream",
     "text": [
      "[0]\ttrain-mlogloss:1.23747\teval-mlogloss:1.25604\n"
     ]
    },
    {
     "name": "stderr",
     "output_type": "stream",
     "text": []
    },
    {
     "name": "stdout",
     "output_type": "stream",
     "text": [
      "[1]\ttrain-mlogloss:1.11855\teval-mlogloss:1.15545\n"
     ]
    },
    {
     "name": "stderr",
     "output_type": "stream",
     "text": []
    },
    {
     "name": "stdout",
     "output_type": "stream",
     "text": [
      "[2]\ttrain-mlogloss:1.02138\teval-mlogloss:1.07997\n"
     ]
    },
    {
     "name": "stderr",
     "output_type": "stream",
     "text": []
    },
    {
     "name": "stdout",
     "output_type": "stream",
     "text": [
      "[3]\ttrain-mlogloss:0.94387\teval-mlogloss:1.02005\n"
     ]
    },
    {
     "name": "stderr",
     "output_type": "stream",
     "text": []
    },
    {
     "name": "stdout",
     "output_type": "stream",
     "text": [
      "[4]\ttrain-mlogloss:0.87957\teval-mlogloss:0.97296\n"
     ]
    },
    {
     "name": "stderr",
     "output_type": "stream",
     "text": []
    },
    {
     "name": "stdout",
     "output_type": "stream",
     "text": [
      "[5]\ttrain-mlogloss:0.82356\teval-mlogloss:0.93473\n"
     ]
    },
    {
     "name": "stderr",
     "output_type": "stream",
     "text": []
    },
    {
     "name": "stdout",
     "output_type": "stream",
     "text": [
      "[6]\ttrain-mlogloss:0.77532\teval-mlogloss:0.90496\n"
     ]
    },
    {
     "name": "stderr",
     "output_type": "stream",
     "text": []
    },
    {
     "name": "stdout",
     "output_type": "stream",
     "text": [
      "[7]\ttrain-mlogloss:0.73783\teval-mlogloss:0.88051\n"
     ]
    },
    {
     "name": "stderr",
     "output_type": "stream",
     "text": []
    },
    {
     "name": "stdout",
     "output_type": "stream",
     "text": [
      "[8]\ttrain-mlogloss:0.70128\teval-mlogloss:0.85978\n"
     ]
    },
    {
     "name": "stderr",
     "output_type": "stream",
     "text": []
    },
    {
     "name": "stdout",
     "output_type": "stream",
     "text": [
      "[9]\ttrain-mlogloss:0.66497\teval-mlogloss:0.84258\n"
     ]
    },
    {
     "name": "stderr",
     "output_type": "stream",
     "text": []
    },
    {
     "name": "stdout",
     "output_type": "stream",
     "text": [
      "[10]\ttrain-mlogloss:0.63519\teval-mlogloss:0.82927\n"
     ]
    },
    {
     "name": "stderr",
     "output_type": "stream",
     "text": []
    },
    {
     "name": "stdout",
     "output_type": "stream",
     "text": [
      "[11]\ttrain-mlogloss:0.60825\teval-mlogloss:0.81689\n"
     ]
    },
    {
     "name": "stderr",
     "output_type": "stream",
     "text": []
    },
    {
     "name": "stdout",
     "output_type": "stream",
     "text": [
      "[12]\ttrain-mlogloss:0.58551\teval-mlogloss:0.80733\n"
     ]
    },
    {
     "name": "stderr",
     "output_type": "stream",
     "text": []
    },
    {
     "name": "stdout",
     "output_type": "stream",
     "text": [
      "[13]\ttrain-mlogloss:0.56564\teval-mlogloss:0.79807\n"
     ]
    },
    {
     "name": "stderr",
     "output_type": "stream",
     "text": []
    },
    {
     "name": "stdout",
     "output_type": "stream",
     "text": [
      "[14]\ttrain-mlogloss:0.54810\teval-mlogloss:0.79220\n"
     ]
    },
    {
     "name": "stderr",
     "output_type": "stream",
     "text": []
    },
    {
     "name": "stdout",
     "output_type": "stream",
     "text": [
      "[15]\ttrain-mlogloss:0.53138\teval-mlogloss:0.78664\n"
     ]
    },
    {
     "name": "stderr",
     "output_type": "stream",
     "text": []
    },
    {
     "name": "stdout",
     "output_type": "stream",
     "text": [
      "[16]\ttrain-mlogloss:0.51579\teval-mlogloss:0.78097\n"
     ]
    },
    {
     "name": "stderr",
     "output_type": "stream",
     "text": []
    },
    {
     "name": "stdout",
     "output_type": "stream",
     "text": [
      "[17]\ttrain-mlogloss:0.50189\teval-mlogloss:0.77620\n"
     ]
    },
    {
     "name": "stderr",
     "output_type": "stream",
     "text": []
    },
    {
     "name": "stdout",
     "output_type": "stream",
     "text": [
      "[18]\ttrain-mlogloss:0.48636\teval-mlogloss:0.77064\n"
     ]
    },
    {
     "name": "stderr",
     "output_type": "stream",
     "text": []
    },
    {
     "name": "stdout",
     "output_type": "stream",
     "text": [
      "[19]\ttrain-mlogloss:0.47082\teval-mlogloss:0.76604\n"
     ]
    },
    {
     "name": "stderr",
     "output_type": "stream",
     "text": []
    },
    {
     "name": "stdout",
     "output_type": "stream",
     "text": [
      "[20]\ttrain-mlogloss:0.45817\teval-mlogloss:0.76320\n"
     ]
    },
    {
     "name": "stderr",
     "output_type": "stream",
     "text": []
    },
    {
     "name": "stdout",
     "output_type": "stream",
     "text": [
      "[21]\ttrain-mlogloss:0.44697\teval-mlogloss:0.75993\n"
     ]
    },
    {
     "name": "stderr",
     "output_type": "stream",
     "text": []
    },
    {
     "name": "stdout",
     "output_type": "stream",
     "text": [
      "[22]\ttrain-mlogloss:0.43749\teval-mlogloss:0.75870\n"
     ]
    },
    {
     "name": "stderr",
     "output_type": "stream",
     "text": []
    },
    {
     "name": "stdout",
     "output_type": "stream",
     "text": [
      "[23]\ttrain-mlogloss:0.42822\teval-mlogloss:0.75550\n"
     ]
    },
    {
     "name": "stderr",
     "output_type": "stream",
     "text": []
    },
    {
     "name": "stdout",
     "output_type": "stream",
     "text": [
      "[24]\ttrain-mlogloss:0.41945\teval-mlogloss:0.75231\n"
     ]
    },
    {
     "name": "stderr",
     "output_type": "stream",
     "text": []
    },
    {
     "name": "stdout",
     "output_type": "stream",
     "text": [
      "[25]\ttrain-mlogloss:0.40728\teval-mlogloss:0.75105\n"
     ]
    },
    {
     "name": "stderr",
     "output_type": "stream",
     "text": []
    },
    {
     "name": "stdout",
     "output_type": "stream",
     "text": [
      "[26]\ttrain-mlogloss:0.39655\teval-mlogloss:0.74837\n"
     ]
    },
    {
     "name": "stderr",
     "output_type": "stream",
     "text": []
    },
    {
     "name": "stdout",
     "output_type": "stream",
     "text": [
      "[27]\ttrain-mlogloss:0.38602\teval-mlogloss:0.74751\n"
     ]
    },
    {
     "name": "stderr",
     "output_type": "stream",
     "text": []
    },
    {
     "name": "stdout",
     "output_type": "stream",
     "text": [
      "[28]\ttrain-mlogloss:0.37538\teval-mlogloss:0.74538\n"
     ]
    },
    {
     "name": "stderr",
     "output_type": "stream",
     "text": []
    },
    {
     "name": "stdout",
     "output_type": "stream",
     "text": [
      "[29]\ttrain-mlogloss:0.36791\teval-mlogloss:0.74561\n"
     ]
    },
    {
     "name": "stderr",
     "output_type": "stream",
     "text": []
    },
    {
     "name": "stdout",
     "output_type": "stream",
     "text": [
      "[30]\ttrain-mlogloss:0.35934\teval-mlogloss:0.74665\n"
     ]
    },
    {
     "name": "stderr",
     "output_type": "stream",
     "text": []
    },
    {
     "name": "stdout",
     "output_type": "stream",
     "text": [
      "[31]\ttrain-mlogloss:0.34985\teval-mlogloss:0.74525\n"
     ]
    },
    {
     "name": "stderr",
     "output_type": "stream",
     "text": []
    },
    {
     "name": "stdout",
     "output_type": "stream",
     "text": [
      "[32]\ttrain-mlogloss:0.34391\teval-mlogloss:0.74534\n"
     ]
    },
    {
     "name": "stderr",
     "output_type": "stream",
     "text": []
    },
    {
     "name": "stdout",
     "output_type": "stream",
     "text": [
      "[33]\ttrain-mlogloss:0.33820\teval-mlogloss:0.74581\n"
     ]
    },
    {
     "name": "stderr",
     "output_type": "stream",
     "text": []
    },
    {
     "name": "stdout",
     "output_type": "stream",
     "text": [
      "[34]\ttrain-mlogloss:0.33232\teval-mlogloss:0.74434\n"
     ]
    },
    {
     "name": "stderr",
     "output_type": "stream",
     "text": []
    },
    {
     "name": "stdout",
     "output_type": "stream",
     "text": [
      "[35]\ttrain-mlogloss:0.32337\teval-mlogloss:0.74425\n"
     ]
    },
    {
     "name": "stderr",
     "output_type": "stream",
     "text": []
    },
    {
     "name": "stdout",
     "output_type": "stream",
     "text": [
      "[36]\ttrain-mlogloss:0.31705\teval-mlogloss:0.74302\n"
     ]
    },
    {
     "name": "stderr",
     "output_type": "stream",
     "text": []
    },
    {
     "name": "stdout",
     "output_type": "stream",
     "text": [
      "[37]\ttrain-mlogloss:0.31072\teval-mlogloss:0.74356\n"
     ]
    },
    {
     "name": "stderr",
     "output_type": "stream",
     "text": []
    },
    {
     "name": "stdout",
     "output_type": "stream",
     "text": [
      "[38]\ttrain-mlogloss:0.30491\teval-mlogloss:0.74476\n"
     ]
    },
    {
     "name": "stderr",
     "output_type": "stream",
     "text": []
    },
    {
     "name": "stdout",
     "output_type": "stream",
     "text": [
      "[39]\ttrain-mlogloss:0.29808\teval-mlogloss:0.74525\n"
     ]
    },
    {
     "name": "stderr",
     "output_type": "stream",
     "text": []
    },
    {
     "name": "stdout",
     "output_type": "stream",
     "text": [
      "[40]\ttrain-mlogloss:0.29239\teval-mlogloss:0.74486\n"
     ]
    },
    {
     "name": "stderr",
     "output_type": "stream",
     "text": []
    },
    {
     "name": "stdout",
     "output_type": "stream",
     "text": [
      "[41]\ttrain-mlogloss:0.28858\teval-mlogloss:0.74532\n"
     ]
    },
    {
     "name": "stderr",
     "output_type": "stream",
     "text": []
    },
    {
     "name": "stdout",
     "output_type": "stream",
     "text": [
      "[42]\ttrain-mlogloss:0.28228\teval-mlogloss:0.74468\n"
     ]
    },
    {
     "name": "stderr",
     "output_type": "stream",
     "text": []
    },
    {
     "name": "stdout",
     "output_type": "stream",
     "text": [
      "[43]\ttrain-mlogloss:0.27895\teval-mlogloss:0.74583\n"
     ]
    },
    {
     "name": "stderr",
     "output_type": "stream",
     "text": []
    },
    {
     "name": "stdout",
     "output_type": "stream",
     "text": [
      "[44]\ttrain-mlogloss:0.27567\teval-mlogloss:0.74660\n"
     ]
    },
    {
     "name": "stderr",
     "output_type": "stream",
     "text": []
    },
    {
     "name": "stdout",
     "output_type": "stream",
     "text": [
      "[45]\ttrain-mlogloss:0.27263\teval-mlogloss:0.74792\n"
     ]
    },
    {
     "name": "stderr",
     "output_type": "stream",
     "text": []
    },
    {
     "name": "stdout",
     "output_type": "stream",
     "text": [
      "[46]\ttrain-mlogloss:0.26710\teval-mlogloss:0.74879\n"
     ]
    },
    {
     "name": "stderr",
     "output_type": "stream",
     "text": []
    },
    {
     "name": "stdout",
     "output_type": "stream",
     "text": [
      "[47]\ttrain-mlogloss:0.26344\teval-mlogloss:0.74977\n"
     ]
    },
    {
     "name": "stderr",
     "output_type": "stream",
     "text": []
    },
    {
     "name": "stdout",
     "output_type": "stream",
     "text": [
      "[48]\ttrain-mlogloss:0.25908\teval-mlogloss:0.75000\n"
     ]
    },
    {
     "name": "stderr",
     "output_type": "stream",
     "text": []
    },
    {
     "name": "stdout",
     "output_type": "stream",
     "text": [
      "[49]\ttrain-mlogloss:0.25504\teval-mlogloss:0.75120\n"
     ]
    },
    {
     "name": "stderr",
     "output_type": "stream",
     "text": []
    },
    {
     "name": "stdout",
     "output_type": "stream",
     "text": [
      "[50]\ttrain-mlogloss:0.25077\teval-mlogloss:0.75187\n"
     ]
    },
    {
     "name": "stderr",
     "output_type": "stream",
     "text": [
      "c:\\Users\\abhis\\Downloads\\Documents\\Learner Engagement Project\\venv\\Lib\\site-packages\\xgboost\\core.py:158: UserWarning: [00:20:15] WARNING: C:\\buildkite-agent\\builds\\buildkite-windows-cpu-autoscaling-group-i-08cbc0333d8d4aae1-1\\xgboost\\xgboost-ci-windows\\src\\c_api\\c_api.cc:1374: Saving model in the UBJSON format as default.  You can use file extension: `json`, `ubj` or `deprecated` to choose between formats.\n",
      "  warnings.warn(smsg, UserWarning)\n",
      "\n",
      "\u001b[A                                                                "
     ]
    },
    {
     "name": "stdout",
     "output_type": "stream",
     "text": [
      "Checkpoint saved at iteration 50\n",
      "[51]\ttrain-mlogloss:0.24645\teval-mlogloss:0.75190\n"
     ]
    },
    {
     "name": "stderr",
     "output_type": "stream",
     "text": []
    },
    {
     "name": "stdout",
     "output_type": "stream",
     "text": [
      "[52]\ttrain-mlogloss:0.24159\teval-mlogloss:0.75221\n"
     ]
    },
    {
     "name": "stderr",
     "output_type": "stream",
     "text": []
    },
    {
     "name": "stdout",
     "output_type": "stream",
     "text": [
      "[53]\ttrain-mlogloss:0.23669\teval-mlogloss:0.75384\n"
     ]
    },
    {
     "name": "stderr",
     "output_type": "stream",
     "text": []
    },
    {
     "name": "stdout",
     "output_type": "stream",
     "text": [
      "[54]\ttrain-mlogloss:0.23287\teval-mlogloss:0.75382\n"
     ]
    },
    {
     "name": "stderr",
     "output_type": "stream",
     "text": []
    },
    {
     "name": "stdout",
     "output_type": "stream",
     "text": [
      "[55]\ttrain-mlogloss:0.22816\teval-mlogloss:0.75622\n"
     ]
    },
    {
     "name": "stderr",
     "output_type": "stream",
     "text": []
    },
    {
     "name": "stdout",
     "output_type": "stream",
     "text": [
      "[56]\ttrain-mlogloss:0.22282\teval-mlogloss:0.75683\n"
     ]
    },
    {
     "name": "stderr",
     "output_type": "stream",
     "text": []
    },
    {
     "name": "stdout",
     "output_type": "stream",
     "text": [
      "[57]\ttrain-mlogloss:0.21933\teval-mlogloss:0.75857\n"
     ]
    },
    {
     "name": "stderr",
     "output_type": "stream",
     "text": []
    },
    {
     "name": "stdout",
     "output_type": "stream",
     "text": [
      "[58]\ttrain-mlogloss:0.21391\teval-mlogloss:0.76001\n"
     ]
    },
    {
     "name": "stderr",
     "output_type": "stream",
     "text": []
    },
    {
     "name": "stdout",
     "output_type": "stream",
     "text": [
      "[59]\ttrain-mlogloss:0.20998\teval-mlogloss:0.76045\n"
     ]
    },
    {
     "name": "stderr",
     "output_type": "stream",
     "text": []
    },
    {
     "name": "stdout",
     "output_type": "stream",
     "text": [
      "[60]\ttrain-mlogloss:0.20617\teval-mlogloss:0.76245\n"
     ]
    },
    {
     "name": "stderr",
     "output_type": "stream",
     "text": []
    },
    {
     "name": "stdout",
     "output_type": "stream",
     "text": [
      "[61]\ttrain-mlogloss:0.20350\teval-mlogloss:0.76429\n"
     ]
    },
    {
     "name": "stderr",
     "output_type": "stream",
     "text": []
    },
    {
     "name": "stdout",
     "output_type": "stream",
     "text": [
      "[62]\ttrain-mlogloss:0.20040\teval-mlogloss:0.76428\n"
     ]
    },
    {
     "name": "stderr",
     "output_type": "stream",
     "text": []
    },
    {
     "name": "stdout",
     "output_type": "stream",
     "text": [
      "[63]\ttrain-mlogloss:0.19790\teval-mlogloss:0.76591\n"
     ]
    },
    {
     "name": "stderr",
     "output_type": "stream",
     "text": []
    },
    {
     "name": "stdout",
     "output_type": "stream",
     "text": [
      "[64]\ttrain-mlogloss:0.19416\teval-mlogloss:0.76636\n"
     ]
    },
    {
     "name": "stderr",
     "output_type": "stream",
     "text": []
    },
    {
     "name": "stdout",
     "output_type": "stream",
     "text": [
      "[65]\ttrain-mlogloss:0.18983\teval-mlogloss:0.76726\n"
     ]
    },
    {
     "name": "stderr",
     "output_type": "stream",
     "text": []
    },
    {
     "name": "stdout",
     "output_type": "stream",
     "text": [
      "[66]\ttrain-mlogloss:0.18483\teval-mlogloss:0.76985\n"
     ]
    },
    {
     "name": "stderr",
     "output_type": "stream",
     "text": []
    },
    {
     "name": "stdout",
     "output_type": "stream",
     "text": [
      "[67]\ttrain-mlogloss:0.18183\teval-mlogloss:0.77238\n"
     ]
    },
    {
     "name": "stderr",
     "output_type": "stream",
     "text": []
    },
    {
     "name": "stdout",
     "output_type": "stream",
     "text": [
      "[68]\ttrain-mlogloss:0.17985\teval-mlogloss:0.77253\n"
     ]
    },
    {
     "name": "stderr",
     "output_type": "stream",
     "text": []
    },
    {
     "name": "stdout",
     "output_type": "stream",
     "text": [
      "[69]\ttrain-mlogloss:0.17757\teval-mlogloss:0.77498\n"
     ]
    },
    {
     "name": "stderr",
     "output_type": "stream",
     "text": []
    },
    {
     "name": "stdout",
     "output_type": "stream",
     "text": [
      "[70]\ttrain-mlogloss:0.17425\teval-mlogloss:0.77550\n"
     ]
    },
    {
     "name": "stderr",
     "output_type": "stream",
     "text": []
    },
    {
     "name": "stdout",
     "output_type": "stream",
     "text": [
      "[71]\ttrain-mlogloss:0.17148\teval-mlogloss:0.77594\n"
     ]
    },
    {
     "name": "stderr",
     "output_type": "stream",
     "text": []
    },
    {
     "name": "stdout",
     "output_type": "stream",
     "text": [
      "[72]\ttrain-mlogloss:0.16892\teval-mlogloss:0.77654\n"
     ]
    },
    {
     "name": "stderr",
     "output_type": "stream",
     "text": []
    },
    {
     "name": "stdout",
     "output_type": "stream",
     "text": [
      "[73]\ttrain-mlogloss:0.16461\teval-mlogloss:0.77759\n"
     ]
    },
    {
     "name": "stderr",
     "output_type": "stream",
     "text": []
    },
    {
     "name": "stdout",
     "output_type": "stream",
     "text": [
      "[74]\ttrain-mlogloss:0.16239\teval-mlogloss:0.77771\n"
     ]
    },
    {
     "name": "stderr",
     "output_type": "stream",
     "text": []
    },
    {
     "name": "stdout",
     "output_type": "stream",
     "text": [
      "[75]\ttrain-mlogloss:0.15976\teval-mlogloss:0.77844\n"
     ]
    },
    {
     "name": "stderr",
     "output_type": "stream",
     "text": []
    },
    {
     "name": "stdout",
     "output_type": "stream",
     "text": [
      "[76]\ttrain-mlogloss:0.15735\teval-mlogloss:0.77999\n"
     ]
    },
    {
     "name": "stderr",
     "output_type": "stream",
     "text": []
    },
    {
     "name": "stdout",
     "output_type": "stream",
     "text": [
      "[77]\ttrain-mlogloss:0.15543\teval-mlogloss:0.78138\n"
     ]
    },
    {
     "name": "stderr",
     "output_type": "stream",
     "text": []
    },
    {
     "name": "stdout",
     "output_type": "stream",
     "text": [
      "[78]\ttrain-mlogloss:0.15316\teval-mlogloss:0.78286\n"
     ]
    },
    {
     "name": "stderr",
     "output_type": "stream",
     "text": []
    },
    {
     "name": "stdout",
     "output_type": "stream",
     "text": [
      "[79]\ttrain-mlogloss:0.15088\teval-mlogloss:0.78489\n"
     ]
    },
    {
     "name": "stderr",
     "output_type": "stream",
     "text": []
    },
    {
     "name": "stdout",
     "output_type": "stream",
     "text": [
      "[80]\ttrain-mlogloss:0.14766\teval-mlogloss:0.78473\n"
     ]
    },
    {
     "name": "stderr",
     "output_type": "stream",
     "text": []
    },
    {
     "name": "stdout",
     "output_type": "stream",
     "text": [
      "[81]\ttrain-mlogloss:0.14530\teval-mlogloss:0.78614\n"
     ]
    },
    {
     "name": "stderr",
     "output_type": "stream",
     "text": []
    },
    {
     "name": "stdout",
     "output_type": "stream",
     "text": [
      "[82]\ttrain-mlogloss:0.14333\teval-mlogloss:0.78676\n"
     ]
    },
    {
     "name": "stderr",
     "output_type": "stream",
     "text": []
    },
    {
     "name": "stdout",
     "output_type": "stream",
     "text": [
      "[83]\ttrain-mlogloss:0.14147\teval-mlogloss:0.78739\n"
     ]
    },
    {
     "name": "stderr",
     "output_type": "stream",
     "text": []
    },
    {
     "name": "stdout",
     "output_type": "stream",
     "text": [
      "[84]\ttrain-mlogloss:0.14023\teval-mlogloss:0.78860\n"
     ]
    },
    {
     "name": "stderr",
     "output_type": "stream",
     "text": []
    },
    {
     "name": "stdout",
     "output_type": "stream",
     "text": [
      "[85]\ttrain-mlogloss:0.13913\teval-mlogloss:0.78937\n"
     ]
    },
    {
     "name": "stderr",
     "output_type": "stream",
     "text": []
    },
    {
     "name": "stdout",
     "output_type": "stream",
     "text": [
      "[86]\ttrain-mlogloss:0.13698\teval-mlogloss:0.78937\n"
     ]
    },
    {
     "name": "stderr",
     "output_type": "stream",
     "text": []
    },
    {
     "name": "stdout",
     "output_type": "stream",
     "text": [
      "[87]\ttrain-mlogloss:0.13456\teval-mlogloss:0.79115\n"
     ]
    },
    {
     "name": "stderr",
     "output_type": "stream",
     "text": []
    },
    {
     "name": "stdout",
     "output_type": "stream",
     "text": [
      "[88]\ttrain-mlogloss:0.13284\teval-mlogloss:0.79235\n"
     ]
    },
    {
     "name": "stderr",
     "output_type": "stream",
     "text": []
    },
    {
     "name": "stdout",
     "output_type": "stream",
     "text": [
      "[89]\ttrain-mlogloss:0.13060\teval-mlogloss:0.79356\n"
     ]
    },
    {
     "name": "stderr",
     "output_type": "stream",
     "text": []
    },
    {
     "name": "stdout",
     "output_type": "stream",
     "text": [
      "[90]\ttrain-mlogloss:0.12790\teval-mlogloss:0.79512\n"
     ]
    },
    {
     "name": "stderr",
     "output_type": "stream",
     "text": []
    },
    {
     "name": "stdout",
     "output_type": "stream",
     "text": [
      "[91]\ttrain-mlogloss:0.12580\teval-mlogloss:0.79617\n"
     ]
    },
    {
     "name": "stderr",
     "output_type": "stream",
     "text": []
    },
    {
     "name": "stdout",
     "output_type": "stream",
     "text": [
      "[92]\ttrain-mlogloss:0.12376\teval-mlogloss:0.79808\n"
     ]
    },
    {
     "name": "stderr",
     "output_type": "stream",
     "text": []
    },
    {
     "name": "stdout",
     "output_type": "stream",
     "text": [
      "[93]\ttrain-mlogloss:0.12229\teval-mlogloss:0.79997\n"
     ]
    },
    {
     "name": "stderr",
     "output_type": "stream",
     "text": []
    },
    {
     "name": "stdout",
     "output_type": "stream",
     "text": [
      "[94]\ttrain-mlogloss:0.12022\teval-mlogloss:0.79993\n"
     ]
    },
    {
     "name": "stderr",
     "output_type": "stream",
     "text": []
    },
    {
     "name": "stdout",
     "output_type": "stream",
     "text": [
      "[95]\ttrain-mlogloss:0.11872\teval-mlogloss:0.79974\n"
     ]
    },
    {
     "name": "stderr",
     "output_type": "stream",
     "text": []
    },
    {
     "name": "stdout",
     "output_type": "stream",
     "text": [
      "[96]\ttrain-mlogloss:0.11707\teval-mlogloss:0.79968\n"
     ]
    },
    {
     "name": "stderr",
     "output_type": "stream",
     "text": []
    },
    {
     "name": "stdout",
     "output_type": "stream",
     "text": [
      "[97]\ttrain-mlogloss:0.11533\teval-mlogloss:0.80116\n"
     ]
    },
    {
     "name": "stderr",
     "output_type": "stream",
     "text": []
    },
    {
     "name": "stdout",
     "output_type": "stream",
     "text": [
      "[98]\ttrain-mlogloss:0.11265\teval-mlogloss:0.80405\n"
     ]
    },
    {
     "name": "stderr",
     "output_type": "stream",
     "text": []
    },
    {
     "name": "stdout",
     "output_type": "stream",
     "text": [
      "[99]\ttrain-mlogloss:0.11064\teval-mlogloss:0.80636\n"
     ]
    },
    {
     "name": "stderr",
     "output_type": "stream",
     "text": []
    },
    {
     "name": "stdout",
     "output_type": "stream",
     "text": [
      "[100]\ttrain-mlogloss:0.10918\teval-mlogloss:0.80746\n"
     ]
    },
    {
     "name": "stderr",
     "output_type": "stream",
     "text": [
      "c:\\Users\\abhis\\Downloads\\Documents\\Learner Engagement Project\\venv\\Lib\\site-packages\\xgboost\\core.py:158: UserWarning: [00:24:35] WARNING: C:\\buildkite-agent\\builds\\buildkite-windows-cpu-autoscaling-group-i-08cbc0333d8d4aae1-1\\xgboost\\xgboost-ci-windows\\src\\c_api\\c_api.cc:1374: Saving model in the UBJSON format as default.  You can use file extension: `json`, `ubj` or `deprecated` to choose between formats.\n",
      "  warnings.warn(smsg, UserWarning)\n",
      "\n",
      "\u001b[A                                                                 "
     ]
    },
    {
     "name": "stdout",
     "output_type": "stream",
     "text": [
      "Checkpoint saved at iteration 100\n",
      "[101]\ttrain-mlogloss:0.10683\teval-mlogloss:0.80880\n"
     ]
    },
    {
     "name": "stderr",
     "output_type": "stream",
     "text": []
    },
    {
     "name": "stdout",
     "output_type": "stream",
     "text": [
      "[102]\ttrain-mlogloss:0.10568\teval-mlogloss:0.80993\n"
     ]
    },
    {
     "name": "stderr",
     "output_type": "stream",
     "text": []
    },
    {
     "name": "stdout",
     "output_type": "stream",
     "text": [
      "[103]\ttrain-mlogloss:0.10399\teval-mlogloss:0.81133\n"
     ]
    },
    {
     "name": "stderr",
     "output_type": "stream",
     "text": []
    },
    {
     "name": "stdout",
     "output_type": "stream",
     "text": [
      "[104]\ttrain-mlogloss:0.10227\teval-mlogloss:0.81400\n"
     ]
    },
    {
     "name": "stderr",
     "output_type": "stream",
     "text": []
    },
    {
     "name": "stdout",
     "output_type": "stream",
     "text": [
      "[105]\ttrain-mlogloss:0.10035\teval-mlogloss:0.81451\n"
     ]
    },
    {
     "name": "stderr",
     "output_type": "stream",
     "text": []
    },
    {
     "name": "stdout",
     "output_type": "stream",
     "text": [
      "[106]\ttrain-mlogloss:0.09870\teval-mlogloss:0.81509\n"
     ]
    },
    {
     "name": "stderr",
     "output_type": "stream",
     "text": []
    },
    {
     "name": "stdout",
     "output_type": "stream",
     "text": [
      "[107]\ttrain-mlogloss:0.09704\teval-mlogloss:0.81612\n"
     ]
    },
    {
     "name": "stderr",
     "output_type": "stream",
     "text": []
    },
    {
     "name": "stdout",
     "output_type": "stream",
     "text": [
      "[108]\ttrain-mlogloss:0.09521\teval-mlogloss:0.81864\n"
     ]
    },
    {
     "name": "stderr",
     "output_type": "stream",
     "text": []
    },
    {
     "name": "stdout",
     "output_type": "stream",
     "text": [
      "[109]\ttrain-mlogloss:0.09329\teval-mlogloss:0.81954\n"
     ]
    },
    {
     "name": "stderr",
     "output_type": "stream",
     "text": []
    },
    {
     "name": "stdout",
     "output_type": "stream",
     "text": [
      "[110]\ttrain-mlogloss:0.09168\teval-mlogloss:0.81989\n"
     ]
    },
    {
     "name": "stderr",
     "output_type": "stream",
     "text": []
    },
    {
     "name": "stdout",
     "output_type": "stream",
     "text": [
      "[111]\ttrain-mlogloss:0.09004\teval-mlogloss:0.82155\n"
     ]
    },
    {
     "name": "stderr",
     "output_type": "stream",
     "text": []
    },
    {
     "name": "stdout",
     "output_type": "stream",
     "text": [
      "[112]\ttrain-mlogloss:0.08867\teval-mlogloss:0.82333\n"
     ]
    },
    {
     "name": "stderr",
     "output_type": "stream",
     "text": []
    },
    {
     "name": "stdout",
     "output_type": "stream",
     "text": [
      "[113]\ttrain-mlogloss:0.08787\teval-mlogloss:0.82343\n"
     ]
    },
    {
     "name": "stderr",
     "output_type": "stream",
     "text": []
    },
    {
     "name": "stdout",
     "output_type": "stream",
     "text": [
      "[114]\ttrain-mlogloss:0.08632\teval-mlogloss:0.82472\n"
     ]
    },
    {
     "name": "stderr",
     "output_type": "stream",
     "text": []
    },
    {
     "name": "stdout",
     "output_type": "stream",
     "text": [
      "[115]\ttrain-mlogloss:0.08489\teval-mlogloss:0.82616\n"
     ]
    },
    {
     "name": "stderr",
     "output_type": "stream",
     "text": []
    },
    {
     "name": "stdout",
     "output_type": "stream",
     "text": [
      "[116]\ttrain-mlogloss:0.08354\teval-mlogloss:0.82783\n"
     ]
    },
    {
     "name": "stderr",
     "output_type": "stream",
     "text": []
    },
    {
     "name": "stdout",
     "output_type": "stream",
     "text": [
      "[117]\ttrain-mlogloss:0.08196\teval-mlogloss:0.82955\n"
     ]
    },
    {
     "name": "stderr",
     "output_type": "stream",
     "text": []
    },
    {
     "name": "stdout",
     "output_type": "stream",
     "text": [
      "[118]\ttrain-mlogloss:0.08060\teval-mlogloss:0.83013\n"
     ]
    },
    {
     "name": "stderr",
     "output_type": "stream",
     "text": []
    },
    {
     "name": "stdout",
     "output_type": "stream",
     "text": [
      "[119]\ttrain-mlogloss:0.07896\teval-mlogloss:0.83157\n"
     ]
    },
    {
     "name": "stderr",
     "output_type": "stream",
     "text": []
    },
    {
     "name": "stdout",
     "output_type": "stream",
     "text": [
      "[120]\ttrain-mlogloss:0.07748\teval-mlogloss:0.83252\n"
     ]
    },
    {
     "name": "stderr",
     "output_type": "stream",
     "text": []
    },
    {
     "name": "stdout",
     "output_type": "stream",
     "text": [
      "[121]\ttrain-mlogloss:0.07610\teval-mlogloss:0.83413\n"
     ]
    },
    {
     "name": "stderr",
     "output_type": "stream",
     "text": []
    },
    {
     "name": "stdout",
     "output_type": "stream",
     "text": [
      "[122]\ttrain-mlogloss:0.07520\teval-mlogloss:0.83516\n"
     ]
    },
    {
     "name": "stderr",
     "output_type": "stream",
     "text": []
    },
    {
     "name": "stdout",
     "output_type": "stream",
     "text": [
      "[123]\ttrain-mlogloss:0.07427\teval-mlogloss:0.83691\n"
     ]
    },
    {
     "name": "stderr",
     "output_type": "stream",
     "text": []
    },
    {
     "name": "stdout",
     "output_type": "stream",
     "text": [
      "[124]\ttrain-mlogloss:0.07339\teval-mlogloss:0.83800\n"
     ]
    },
    {
     "name": "stderr",
     "output_type": "stream",
     "text": []
    },
    {
     "name": "stdout",
     "output_type": "stream",
     "text": [
      "[125]\ttrain-mlogloss:0.07209\teval-mlogloss:0.83791\n"
     ]
    },
    {
     "name": "stderr",
     "output_type": "stream",
     "text": []
    },
    {
     "name": "stdout",
     "output_type": "stream",
     "text": [
      "[126]\ttrain-mlogloss:0.07138\teval-mlogloss:0.83915\n"
     ]
    },
    {
     "name": "stderr",
     "output_type": "stream",
     "text": []
    },
    {
     "name": "stdout",
     "output_type": "stream",
     "text": [
      "[127]\ttrain-mlogloss:0.07061\teval-mlogloss:0.84058\n"
     ]
    },
    {
     "name": "stderr",
     "output_type": "stream",
     "text": []
    },
    {
     "name": "stdout",
     "output_type": "stream",
     "text": [
      "[128]\ttrain-mlogloss:0.06979\teval-mlogloss:0.84058\n"
     ]
    },
    {
     "name": "stderr",
     "output_type": "stream",
     "text": []
    },
    {
     "name": "stdout",
     "output_type": "stream",
     "text": [
      "[129]\ttrain-mlogloss:0.06861\teval-mlogloss:0.84111\n"
     ]
    },
    {
     "name": "stderr",
     "output_type": "stream",
     "text": []
    },
    {
     "name": "stdout",
     "output_type": "stream",
     "text": [
      "[130]\ttrain-mlogloss:0.06768\teval-mlogloss:0.84232\n"
     ]
    },
    {
     "name": "stderr",
     "output_type": "stream",
     "text": []
    },
    {
     "name": "stdout",
     "output_type": "stream",
     "text": [
      "[131]\ttrain-mlogloss:0.06690\teval-mlogloss:0.84436\n"
     ]
    },
    {
     "name": "stderr",
     "output_type": "stream",
     "text": []
    },
    {
     "name": "stdout",
     "output_type": "stream",
     "text": [
      "[132]\ttrain-mlogloss:0.06575\teval-mlogloss:0.84611\n"
     ]
    },
    {
     "name": "stderr",
     "output_type": "stream",
     "text": []
    },
    {
     "name": "stdout",
     "output_type": "stream",
     "text": [
      "[133]\ttrain-mlogloss:0.06485\teval-mlogloss:0.84559\n"
     ]
    },
    {
     "name": "stderr",
     "output_type": "stream",
     "text": []
    },
    {
     "name": "stdout",
     "output_type": "stream",
     "text": [
      "[134]\ttrain-mlogloss:0.06428\teval-mlogloss:0.84602\n"
     ]
    },
    {
     "name": "stderr",
     "output_type": "stream",
     "text": []
    },
    {
     "name": "stdout",
     "output_type": "stream",
     "text": [
      "[135]\ttrain-mlogloss:0.06296\teval-mlogloss:0.84798\n"
     ]
    },
    {
     "name": "stderr",
     "output_type": "stream",
     "text": []
    },
    {
     "name": "stdout",
     "output_type": "stream",
     "text": [
      "[136]\ttrain-mlogloss:0.06203\teval-mlogloss:0.84918\n"
     ]
    },
    {
     "name": "stderr",
     "output_type": "stream",
     "text": []
    },
    {
     "name": "stdout",
     "output_type": "stream",
     "text": [
      "[137]\ttrain-mlogloss:0.06108\teval-mlogloss:0.85061\n"
     ]
    },
    {
     "name": "stderr",
     "output_type": "stream",
     "text": []
    },
    {
     "name": "stdout",
     "output_type": "stream",
     "text": [
      "[138]\ttrain-mlogloss:0.05985\teval-mlogloss:0.85327\n"
     ]
    },
    {
     "name": "stderr",
     "output_type": "stream",
     "text": []
    },
    {
     "name": "stdout",
     "output_type": "stream",
     "text": [
      "[139]\ttrain-mlogloss:0.05887\teval-mlogloss:0.85447\n"
     ]
    },
    {
     "name": "stderr",
     "output_type": "stream",
     "text": []
    },
    {
     "name": "stdout",
     "output_type": "stream",
     "text": [
      "[140]\ttrain-mlogloss:0.05769\teval-mlogloss:0.85582\n"
     ]
    },
    {
     "name": "stderr",
     "output_type": "stream",
     "text": []
    },
    {
     "name": "stdout",
     "output_type": "stream",
     "text": [
      "[141]\ttrain-mlogloss:0.05715\teval-mlogloss:0.85767\n"
     ]
    },
    {
     "name": "stderr",
     "output_type": "stream",
     "text": []
    },
    {
     "name": "stdout",
     "output_type": "stream",
     "text": [
      "[142]\ttrain-mlogloss:0.05626\teval-mlogloss:0.85865\n"
     ]
    },
    {
     "name": "stderr",
     "output_type": "stream",
     "text": []
    },
    {
     "name": "stdout",
     "output_type": "stream",
     "text": [
      "[143]\ttrain-mlogloss:0.05517\teval-mlogloss:0.85989\n"
     ]
    },
    {
     "name": "stderr",
     "output_type": "stream",
     "text": []
    },
    {
     "name": "stdout",
     "output_type": "stream",
     "text": [
      "[144]\ttrain-mlogloss:0.05424\teval-mlogloss:0.86217\n"
     ]
    },
    {
     "name": "stderr",
     "output_type": "stream",
     "text": []
    },
    {
     "name": "stdout",
     "output_type": "stream",
     "text": [
      "[145]\ttrain-mlogloss:0.05364\teval-mlogloss:0.86353\n"
     ]
    },
    {
     "name": "stderr",
     "output_type": "stream",
     "text": []
    },
    {
     "name": "stdout",
     "output_type": "stream",
     "text": [
      "[146]\ttrain-mlogloss:0.05249\teval-mlogloss:0.86507\n"
     ]
    },
    {
     "name": "stderr",
     "output_type": "stream",
     "text": []
    },
    {
     "name": "stdout",
     "output_type": "stream",
     "text": [
      "[147]\ttrain-mlogloss:0.05170\teval-mlogloss:0.86673\n"
     ]
    },
    {
     "name": "stderr",
     "output_type": "stream",
     "text": []
    },
    {
     "name": "stdout",
     "output_type": "stream",
     "text": [
      "[148]\ttrain-mlogloss:0.05103\teval-mlogloss:0.86736\n"
     ]
    },
    {
     "name": "stderr",
     "output_type": "stream",
     "text": []
    },
    {
     "name": "stdout",
     "output_type": "stream",
     "text": [
      "[149]\ttrain-mlogloss:0.04993\teval-mlogloss:0.86870\n"
     ]
    },
    {
     "name": "stderr",
     "output_type": "stream",
     "text": []
    },
    {
     "name": "stdout",
     "output_type": "stream",
     "text": [
      "[150]\ttrain-mlogloss:0.04929\teval-mlogloss:0.86940\n"
     ]
    },
    {
     "name": "stderr",
     "output_type": "stream",
     "text": [
      "c:\\Users\\abhis\\Downloads\\Documents\\Learner Engagement Project\\venv\\Lib\\site-packages\\xgboost\\core.py:158: UserWarning: [00:29:01] WARNING: C:\\buildkite-agent\\builds\\buildkite-windows-cpu-autoscaling-group-i-08cbc0333d8d4aae1-1\\xgboost\\xgboost-ci-windows\\src\\c_api\\c_api.cc:1374: Saving model in the UBJSON format as default.  You can use file extension: `json`, `ubj` or `deprecated` to choose between formats.\n",
      "  warnings.warn(smsg, UserWarning)\n",
      "\n",
      "\u001b[A                                                                 "
     ]
    },
    {
     "name": "stdout",
     "output_type": "stream",
     "text": [
      "Checkpoint saved at iteration 150\n",
      "[151]\ttrain-mlogloss:0.04826\teval-mlogloss:0.87042\n"
     ]
    },
    {
     "name": "stderr",
     "output_type": "stream",
     "text": []
    },
    {
     "name": "stdout",
     "output_type": "stream",
     "text": [
      "[152]\ttrain-mlogloss:0.04745\teval-mlogloss:0.87252\n"
     ]
    },
    {
     "name": "stderr",
     "output_type": "stream",
     "text": []
    },
    {
     "name": "stdout",
     "output_type": "stream",
     "text": [
      "[153]\ttrain-mlogloss:0.04674\teval-mlogloss:0.87487\n"
     ]
    },
    {
     "name": "stderr",
     "output_type": "stream",
     "text": []
    },
    {
     "name": "stdout",
     "output_type": "stream",
     "text": [
      "[154]\ttrain-mlogloss:0.04602\teval-mlogloss:0.87496\n"
     ]
    },
    {
     "name": "stderr",
     "output_type": "stream",
     "text": []
    },
    {
     "name": "stdout",
     "output_type": "stream",
     "text": [
      "[155]\ttrain-mlogloss:0.04531\teval-mlogloss:0.87674\n"
     ]
    },
    {
     "name": "stderr",
     "output_type": "stream",
     "text": []
    },
    {
     "name": "stdout",
     "output_type": "stream",
     "text": [
      "[156]\ttrain-mlogloss:0.04446\teval-mlogloss:0.87750\n"
     ]
    },
    {
     "name": "stderr",
     "output_type": "stream",
     "text": []
    },
    {
     "name": "stdout",
     "output_type": "stream",
     "text": [
      "[157]\ttrain-mlogloss:0.04353\teval-mlogloss:0.87956\n"
     ]
    },
    {
     "name": "stderr",
     "output_type": "stream",
     "text": []
    },
    {
     "name": "stdout",
     "output_type": "stream",
     "text": [
      "[158]\ttrain-mlogloss:0.04273\teval-mlogloss:0.88109\n"
     ]
    },
    {
     "name": "stderr",
     "output_type": "stream",
     "text": []
    },
    {
     "name": "stdout",
     "output_type": "stream",
     "text": [
      "[159]\ttrain-mlogloss:0.04209\teval-mlogloss:0.88210\n"
     ]
    },
    {
     "name": "stderr",
     "output_type": "stream",
     "text": []
    },
    {
     "name": "stdout",
     "output_type": "stream",
     "text": [
      "[160]\ttrain-mlogloss:0.04159\teval-mlogloss:0.88347\n"
     ]
    },
    {
     "name": "stderr",
     "output_type": "stream",
     "text": []
    },
    {
     "name": "stdout",
     "output_type": "stream",
     "text": [
      "[161]\ttrain-mlogloss:0.04092\teval-mlogloss:0.88609\n"
     ]
    },
    {
     "name": "stderr",
     "output_type": "stream",
     "text": []
    },
    {
     "name": "stdout",
     "output_type": "stream",
     "text": [
      "[162]\ttrain-mlogloss:0.04048\teval-mlogloss:0.88807\n"
     ]
    },
    {
     "name": "stderr",
     "output_type": "stream",
     "text": []
    },
    {
     "name": "stdout",
     "output_type": "stream",
     "text": [
      "[163]\ttrain-mlogloss:0.04005\teval-mlogloss:0.88874\n"
     ]
    },
    {
     "name": "stderr",
     "output_type": "stream",
     "text": []
    },
    {
     "name": "stdout",
     "output_type": "stream",
     "text": [
      "[164]\ttrain-mlogloss:0.03953\teval-mlogloss:0.89035\n"
     ]
    },
    {
     "name": "stderr",
     "output_type": "stream",
     "text": []
    },
    {
     "name": "stdout",
     "output_type": "stream",
     "text": [
      "[165]\ttrain-mlogloss:0.03879\teval-mlogloss:0.89076\n"
     ]
    },
    {
     "name": "stderr",
     "output_type": "stream",
     "text": []
    },
    {
     "name": "stdout",
     "output_type": "stream",
     "text": [
      "[166]\ttrain-mlogloss:0.03835\teval-mlogloss:0.89102\n"
     ]
    },
    {
     "name": "stderr",
     "output_type": "stream",
     "text": []
    },
    {
     "name": "stdout",
     "output_type": "stream",
     "text": [
      "[167]\ttrain-mlogloss:0.03793\teval-mlogloss:0.89216\n"
     ]
    },
    {
     "name": "stderr",
     "output_type": "stream",
     "text": []
    },
    {
     "name": "stdout",
     "output_type": "stream",
     "text": [
      "[168]\ttrain-mlogloss:0.03756\teval-mlogloss:0.89211\n"
     ]
    },
    {
     "name": "stderr",
     "output_type": "stream",
     "text": []
    },
    {
     "name": "stdout",
     "output_type": "stream",
     "text": [
      "[169]\ttrain-mlogloss:0.03680\teval-mlogloss:0.89428\n"
     ]
    },
    {
     "name": "stderr",
     "output_type": "stream",
     "text": []
    },
    {
     "name": "stdout",
     "output_type": "stream",
     "text": [
      "[170]\ttrain-mlogloss:0.03626\teval-mlogloss:0.89582\n"
     ]
    },
    {
     "name": "stderr",
     "output_type": "stream",
     "text": []
    },
    {
     "name": "stdout",
     "output_type": "stream",
     "text": [
      "[171]\ttrain-mlogloss:0.03568\teval-mlogloss:0.89630\n"
     ]
    },
    {
     "name": "stderr",
     "output_type": "stream",
     "text": []
    },
    {
     "name": "stdout",
     "output_type": "stream",
     "text": [
      "[172]\ttrain-mlogloss:0.03512\teval-mlogloss:0.89566\n"
     ]
    },
    {
     "name": "stderr",
     "output_type": "stream",
     "text": []
    },
    {
     "name": "stdout",
     "output_type": "stream",
     "text": [
      "[173]\ttrain-mlogloss:0.03457\teval-mlogloss:0.89640\n"
     ]
    },
    {
     "name": "stderr",
     "output_type": "stream",
     "text": []
    },
    {
     "name": "stdout",
     "output_type": "stream",
     "text": [
      "[174]\ttrain-mlogloss:0.03418\teval-mlogloss:0.89680\n"
     ]
    },
    {
     "name": "stderr",
     "output_type": "stream",
     "text": []
    },
    {
     "name": "stdout",
     "output_type": "stream",
     "text": [
      "[175]\ttrain-mlogloss:0.03369\teval-mlogloss:0.89771\n"
     ]
    },
    {
     "name": "stderr",
     "output_type": "stream",
     "text": []
    },
    {
     "name": "stdout",
     "output_type": "stream",
     "text": [
      "[176]\ttrain-mlogloss:0.03335\teval-mlogloss:0.89852\n"
     ]
    },
    {
     "name": "stderr",
     "output_type": "stream",
     "text": []
    },
    {
     "name": "stdout",
     "output_type": "stream",
     "text": [
      "[177]\ttrain-mlogloss:0.03275\teval-mlogloss:0.89938\n"
     ]
    },
    {
     "name": "stderr",
     "output_type": "stream",
     "text": []
    },
    {
     "name": "stdout",
     "output_type": "stream",
     "text": [
      "[178]\ttrain-mlogloss:0.03232\teval-mlogloss:0.90066\n"
     ]
    },
    {
     "name": "stderr",
     "output_type": "stream",
     "text": []
    },
    {
     "name": "stdout",
     "output_type": "stream",
     "text": [
      "[179]\ttrain-mlogloss:0.03176\teval-mlogloss:0.90211\n"
     ]
    },
    {
     "name": "stderr",
     "output_type": "stream",
     "text": []
    },
    {
     "name": "stdout",
     "output_type": "stream",
     "text": [
      "[180]\ttrain-mlogloss:0.03121\teval-mlogloss:0.90303\n"
     ]
    },
    {
     "name": "stderr",
     "output_type": "stream",
     "text": []
    },
    {
     "name": "stdout",
     "output_type": "stream",
     "text": [
      "[181]\ttrain-mlogloss:0.03072\teval-mlogloss:0.90284\n"
     ]
    },
    {
     "name": "stderr",
     "output_type": "stream",
     "text": []
    },
    {
     "name": "stdout",
     "output_type": "stream",
     "text": [
      "[182]\ttrain-mlogloss:0.03030\teval-mlogloss:0.90322\n"
     ]
    },
    {
     "name": "stderr",
     "output_type": "stream",
     "text": []
    },
    {
     "name": "stdout",
     "output_type": "stream",
     "text": [
      "[183]\ttrain-mlogloss:0.02978\teval-mlogloss:0.90459\n"
     ]
    },
    {
     "name": "stderr",
     "output_type": "stream",
     "text": []
    },
    {
     "name": "stdout",
     "output_type": "stream",
     "text": [
      "[184]\ttrain-mlogloss:0.02937\teval-mlogloss:0.90574\n"
     ]
    },
    {
     "name": "stderr",
     "output_type": "stream",
     "text": []
    },
    {
     "name": "stdout",
     "output_type": "stream",
     "text": [
      "[185]\ttrain-mlogloss:0.02897\teval-mlogloss:0.90609\n"
     ]
    },
    {
     "name": "stderr",
     "output_type": "stream",
     "text": []
    },
    {
     "name": "stdout",
     "output_type": "stream",
     "text": [
      "[186]\ttrain-mlogloss:0.02852\teval-mlogloss:0.90708\n"
     ]
    },
    {
     "name": "stderr",
     "output_type": "stream",
     "text": []
    },
    {
     "name": "stdout",
     "output_type": "stream",
     "text": [
      "[187]\ttrain-mlogloss:0.02814\teval-mlogloss:0.90907\n"
     ]
    },
    {
     "name": "stderr",
     "output_type": "stream",
     "text": []
    },
    {
     "name": "stdout",
     "output_type": "stream",
     "text": [
      "[188]\ttrain-mlogloss:0.02782\teval-mlogloss:0.90914\n"
     ]
    },
    {
     "name": "stderr",
     "output_type": "stream",
     "text": []
    },
    {
     "name": "stdout",
     "output_type": "stream",
     "text": [
      "[189]\ttrain-mlogloss:0.02758\teval-mlogloss:0.90938\n"
     ]
    },
    {
     "name": "stderr",
     "output_type": "stream",
     "text": []
    },
    {
     "name": "stdout",
     "output_type": "stream",
     "text": [
      "[190]\ttrain-mlogloss:0.02735\teval-mlogloss:0.91041\n"
     ]
    },
    {
     "name": "stderr",
     "output_type": "stream",
     "text": []
    },
    {
     "name": "stdout",
     "output_type": "stream",
     "text": [
      "[191]\ttrain-mlogloss:0.02694\teval-mlogloss:0.91072\n"
     ]
    },
    {
     "name": "stderr",
     "output_type": "stream",
     "text": []
    },
    {
     "name": "stdout",
     "output_type": "stream",
     "text": [
      "[192]\ttrain-mlogloss:0.02673\teval-mlogloss:0.91162\n"
     ]
    },
    {
     "name": "stderr",
     "output_type": "stream",
     "text": []
    },
    {
     "name": "stdout",
     "output_type": "stream",
     "text": [
      "[193]\ttrain-mlogloss:0.02633\teval-mlogloss:0.91331\n"
     ]
    },
    {
     "name": "stderr",
     "output_type": "stream",
     "text": []
    },
    {
     "name": "stdout",
     "output_type": "stream",
     "text": [
      "[194]\ttrain-mlogloss:0.02595\teval-mlogloss:0.91464\n"
     ]
    },
    {
     "name": "stderr",
     "output_type": "stream",
     "text": []
    },
    {
     "name": "stdout",
     "output_type": "stream",
     "text": [
      "[195]\ttrain-mlogloss:0.02554\teval-mlogloss:0.91492\n"
     ]
    },
    {
     "name": "stderr",
     "output_type": "stream",
     "text": []
    },
    {
     "name": "stdout",
     "output_type": "stream",
     "text": [
      "[196]\ttrain-mlogloss:0.02517\teval-mlogloss:0.91623\n"
     ]
    },
    {
     "name": "stderr",
     "output_type": "stream",
     "text": []
    },
    {
     "name": "stdout",
     "output_type": "stream",
     "text": [
      "[197]\ttrain-mlogloss:0.02482\teval-mlogloss:0.91667\n"
     ]
    },
    {
     "name": "stderr",
     "output_type": "stream",
     "text": []
    },
    {
     "name": "stdout",
     "output_type": "stream",
     "text": [
      "[198]\ttrain-mlogloss:0.02460\teval-mlogloss:0.91737\n"
     ]
    },
    {
     "name": "stderr",
     "output_type": "stream",
     "text": []
    },
    {
     "name": "stdout",
     "output_type": "stream",
     "text": [
      "[199]\ttrain-mlogloss:0.02422\teval-mlogloss:0.91849\n"
     ]
    },
    {
     "name": "stderr",
     "output_type": "stream",
     "text": []
    },
    {
     "name": "stdout",
     "output_type": "stream",
     "text": [
      "[200]\ttrain-mlogloss:0.02396\teval-mlogloss:0.91944\n"
     ]
    },
    {
     "name": "stderr",
     "output_type": "stream",
     "text": [
      "c:\\Users\\abhis\\Downloads\\Documents\\Learner Engagement Project\\venv\\Lib\\site-packages\\xgboost\\core.py:158: UserWarning: [00:32:56] WARNING: C:\\buildkite-agent\\builds\\buildkite-windows-cpu-autoscaling-group-i-08cbc0333d8d4aae1-1\\xgboost\\xgboost-ci-windows\\src\\c_api\\c_api.cc:1374: Saving model in the UBJSON format as default.  You can use file extension: `json`, `ubj` or `deprecated` to choose between formats.\n",
      "  warnings.warn(smsg, UserWarning)\n",
      "\n",
      "\u001b[A                                                                 "
     ]
    },
    {
     "name": "stdout",
     "output_type": "stream",
     "text": [
      "Checkpoint saved at iteration 200\n",
      "[201]\ttrain-mlogloss:0.02362\teval-mlogloss:0.91995\n"
     ]
    },
    {
     "name": "stderr",
     "output_type": "stream",
     "text": []
    },
    {
     "name": "stdout",
     "output_type": "stream",
     "text": [
      "[202]\ttrain-mlogloss:0.02334\teval-mlogloss:0.92041\n"
     ]
    },
    {
     "name": "stderr",
     "output_type": "stream",
     "text": []
    },
    {
     "name": "stdout",
     "output_type": "stream",
     "text": [
      "[203]\ttrain-mlogloss:0.02300\teval-mlogloss:0.92071\n"
     ]
    },
    {
     "name": "stderr",
     "output_type": "stream",
     "text": []
    },
    {
     "name": "stdout",
     "output_type": "stream",
     "text": [
      "[204]\ttrain-mlogloss:0.02267\teval-mlogloss:0.92171\n"
     ]
    },
    {
     "name": "stderr",
     "output_type": "stream",
     "text": []
    },
    {
     "name": "stdout",
     "output_type": "stream",
     "text": [
      "[205]\ttrain-mlogloss:0.02231\teval-mlogloss:0.92374\n"
     ]
    },
    {
     "name": "stderr",
     "output_type": "stream",
     "text": []
    },
    {
     "name": "stdout",
     "output_type": "stream",
     "text": [
      "[206]\ttrain-mlogloss:0.02200\teval-mlogloss:0.92413\n"
     ]
    },
    {
     "name": "stderr",
     "output_type": "stream",
     "text": []
    },
    {
     "name": "stdout",
     "output_type": "stream",
     "text": [
      "[207]\ttrain-mlogloss:0.02173\teval-mlogloss:0.92493\n"
     ]
    },
    {
     "name": "stderr",
     "output_type": "stream",
     "text": []
    },
    {
     "name": "stdout",
     "output_type": "stream",
     "text": [
      "[208]\ttrain-mlogloss:0.02147\teval-mlogloss:0.92641\n"
     ]
    },
    {
     "name": "stderr",
     "output_type": "stream",
     "text": []
    },
    {
     "name": "stdout",
     "output_type": "stream",
     "text": [
      "[209]\ttrain-mlogloss:0.02121\teval-mlogloss:0.92770\n"
     ]
    },
    {
     "name": "stderr",
     "output_type": "stream",
     "text": []
    },
    {
     "name": "stdout",
     "output_type": "stream",
     "text": [
      "[210]\ttrain-mlogloss:0.02092\teval-mlogloss:0.92932\n"
     ]
    },
    {
     "name": "stderr",
     "output_type": "stream",
     "text": []
    },
    {
     "name": "stdout",
     "output_type": "stream",
     "text": [
      "[211]\ttrain-mlogloss:0.02062\teval-mlogloss:0.93032\n"
     ]
    },
    {
     "name": "stderr",
     "output_type": "stream",
     "text": []
    },
    {
     "name": "stdout",
     "output_type": "stream",
     "text": [
      "[212]\ttrain-mlogloss:0.02029\teval-mlogloss:0.93089\n"
     ]
    },
    {
     "name": "stderr",
     "output_type": "stream",
     "text": []
    },
    {
     "name": "stdout",
     "output_type": "stream",
     "text": [
      "[213]\ttrain-mlogloss:0.02003\teval-mlogloss:0.93278\n"
     ]
    },
    {
     "name": "stderr",
     "output_type": "stream",
     "text": []
    },
    {
     "name": "stdout",
     "output_type": "stream",
     "text": [
      "[214]\ttrain-mlogloss:0.01979\teval-mlogloss:0.93451\n"
     ]
    },
    {
     "name": "stderr",
     "output_type": "stream",
     "text": []
    },
    {
     "name": "stdout",
     "output_type": "stream",
     "text": [
      "[215]\ttrain-mlogloss:0.01957\teval-mlogloss:0.93541\n"
     ]
    },
    {
     "name": "stderr",
     "output_type": "stream",
     "text": []
    },
    {
     "name": "stdout",
     "output_type": "stream",
     "text": [
      "[216]\ttrain-mlogloss:0.01931\teval-mlogloss:0.93614\n"
     ]
    },
    {
     "name": "stderr",
     "output_type": "stream",
     "text": []
    },
    {
     "name": "stdout",
     "output_type": "stream",
     "text": [
      "[217]\ttrain-mlogloss:0.01903\teval-mlogloss:0.93686\n"
     ]
    },
    {
     "name": "stderr",
     "output_type": "stream",
     "text": []
    },
    {
     "name": "stdout",
     "output_type": "stream",
     "text": [
      "[218]\ttrain-mlogloss:0.01881\teval-mlogloss:0.93789\n"
     ]
    },
    {
     "name": "stderr",
     "output_type": "stream",
     "text": []
    },
    {
     "name": "stdout",
     "output_type": "stream",
     "text": [
      "[219]\ttrain-mlogloss:0.01856\teval-mlogloss:0.93901\n"
     ]
    },
    {
     "name": "stderr",
     "output_type": "stream",
     "text": []
    },
    {
     "name": "stdout",
     "output_type": "stream",
     "text": [
      "[220]\ttrain-mlogloss:0.01832\teval-mlogloss:0.94033\n"
     ]
    },
    {
     "name": "stderr",
     "output_type": "stream",
     "text": []
    },
    {
     "name": "stdout",
     "output_type": "stream",
     "text": [
      "[221]\ttrain-mlogloss:0.01812\teval-mlogloss:0.94125\n"
     ]
    },
    {
     "name": "stderr",
     "output_type": "stream",
     "text": []
    },
    {
     "name": "stdout",
     "output_type": "stream",
     "text": [
      "[222]\ttrain-mlogloss:0.01788\teval-mlogloss:0.94290\n"
     ]
    },
    {
     "name": "stderr",
     "output_type": "stream",
     "text": []
    },
    {
     "name": "stdout",
     "output_type": "stream",
     "text": [
      "[223]\ttrain-mlogloss:0.01757\teval-mlogloss:0.94482\n"
     ]
    },
    {
     "name": "stderr",
     "output_type": "stream",
     "text": []
    },
    {
     "name": "stdout",
     "output_type": "stream",
     "text": [
      "[224]\ttrain-mlogloss:0.01735\teval-mlogloss:0.94585\n"
     ]
    },
    {
     "name": "stderr",
     "output_type": "stream",
     "text": []
    },
    {
     "name": "stdout",
     "output_type": "stream",
     "text": [
      "[225]\ttrain-mlogloss:0.01715\teval-mlogloss:0.94694\n"
     ]
    },
    {
     "name": "stderr",
     "output_type": "stream",
     "text": []
    },
    {
     "name": "stdout",
     "output_type": "stream",
     "text": [
      "[226]\ttrain-mlogloss:0.01692\teval-mlogloss:0.94832\n"
     ]
    },
    {
     "name": "stderr",
     "output_type": "stream",
     "text": []
    },
    {
     "name": "stdout",
     "output_type": "stream",
     "text": [
      "[227]\ttrain-mlogloss:0.01668\teval-mlogloss:0.94966\n"
     ]
    },
    {
     "name": "stderr",
     "output_type": "stream",
     "text": []
    },
    {
     "name": "stdout",
     "output_type": "stream",
     "text": [
      "[228]\ttrain-mlogloss:0.01654\teval-mlogloss:0.95053\n"
     ]
    },
    {
     "name": "stderr",
     "output_type": "stream",
     "text": []
    },
    {
     "name": "stdout",
     "output_type": "stream",
     "text": [
      "[229]\ttrain-mlogloss:0.01642\teval-mlogloss:0.95084\n"
     ]
    },
    {
     "name": "stderr",
     "output_type": "stream",
     "text": []
    },
    {
     "name": "stdout",
     "output_type": "stream",
     "text": [
      "[230]\ttrain-mlogloss:0.01628\teval-mlogloss:0.95136\n"
     ]
    },
    {
     "name": "stderr",
     "output_type": "stream",
     "text": []
    },
    {
     "name": "stdout",
     "output_type": "stream",
     "text": [
      "[231]\ttrain-mlogloss:0.01611\teval-mlogloss:0.95237\n"
     ]
    },
    {
     "name": "stderr",
     "output_type": "stream",
     "text": []
    },
    {
     "name": "stdout",
     "output_type": "stream",
     "text": [
      "[232]\ttrain-mlogloss:0.01587\teval-mlogloss:0.95295\n"
     ]
    },
    {
     "name": "stderr",
     "output_type": "stream",
     "text": []
    },
    {
     "name": "stdout",
     "output_type": "stream",
     "text": [
      "[233]\ttrain-mlogloss:0.01574\teval-mlogloss:0.95308\n"
     ]
    },
    {
     "name": "stderr",
     "output_type": "stream",
     "text": []
    },
    {
     "name": "stdout",
     "output_type": "stream",
     "text": [
      "[234]\ttrain-mlogloss:0.01562\teval-mlogloss:0.95413\n"
     ]
    },
    {
     "name": "stderr",
     "output_type": "stream",
     "text": []
    },
    {
     "name": "stdout",
     "output_type": "stream",
     "text": [
      "[235]\ttrain-mlogloss:0.01537\teval-mlogloss:0.95464\n"
     ]
    },
    {
     "name": "stderr",
     "output_type": "stream",
     "text": []
    },
    {
     "name": "stdout",
     "output_type": "stream",
     "text": [
      "[236]\ttrain-mlogloss:0.01513\teval-mlogloss:0.95643\n"
     ]
    },
    {
     "name": "stderr",
     "output_type": "stream",
     "text": []
    },
    {
     "name": "stdout",
     "output_type": "stream",
     "text": [
      "[237]\ttrain-mlogloss:0.01498\teval-mlogloss:0.95714\n"
     ]
    },
    {
     "name": "stderr",
     "output_type": "stream",
     "text": []
    },
    {
     "name": "stdout",
     "output_type": "stream",
     "text": [
      "[238]\ttrain-mlogloss:0.01480\teval-mlogloss:0.95752\n"
     ]
    },
    {
     "name": "stderr",
     "output_type": "stream",
     "text": []
    },
    {
     "name": "stdout",
     "output_type": "stream",
     "text": [
      "[239]\ttrain-mlogloss:0.01463\teval-mlogloss:0.95844\n"
     ]
    },
    {
     "name": "stderr",
     "output_type": "stream",
     "text": []
    },
    {
     "name": "stdout",
     "output_type": "stream",
     "text": [
      "[240]\ttrain-mlogloss:0.01441\teval-mlogloss:0.96017\n"
     ]
    },
    {
     "name": "stderr",
     "output_type": "stream",
     "text": []
    },
    {
     "name": "stdout",
     "output_type": "stream",
     "text": [
      "[241]\ttrain-mlogloss:0.01418\teval-mlogloss:0.96063\n"
     ]
    },
    {
     "name": "stderr",
     "output_type": "stream",
     "text": []
    },
    {
     "name": "stdout",
     "output_type": "stream",
     "text": [
      "[242]\ttrain-mlogloss:0.01397\teval-mlogloss:0.96111\n"
     ]
    },
    {
     "name": "stderr",
     "output_type": "stream",
     "text": []
    },
    {
     "name": "stdout",
     "output_type": "stream",
     "text": [
      "[243]\ttrain-mlogloss:0.01381\teval-mlogloss:0.96168\n"
     ]
    },
    {
     "name": "stderr",
     "output_type": "stream",
     "text": []
    },
    {
     "name": "stdout",
     "output_type": "stream",
     "text": [
      "[244]\ttrain-mlogloss:0.01361\teval-mlogloss:0.96334\n"
     ]
    },
    {
     "name": "stderr",
     "output_type": "stream",
     "text": []
    },
    {
     "name": "stdout",
     "output_type": "stream",
     "text": [
      "[245]\ttrain-mlogloss:0.01344\teval-mlogloss:0.96440\n"
     ]
    },
    {
     "name": "stderr",
     "output_type": "stream",
     "text": []
    },
    {
     "name": "stdout",
     "output_type": "stream",
     "text": [
      "[246]\ttrain-mlogloss:0.01323\teval-mlogloss:0.96494\n"
     ]
    },
    {
     "name": "stderr",
     "output_type": "stream",
     "text": []
    },
    {
     "name": "stdout",
     "output_type": "stream",
     "text": [
      "[247]\ttrain-mlogloss:0.01308\teval-mlogloss:0.96612\n"
     ]
    },
    {
     "name": "stderr",
     "output_type": "stream",
     "text": []
    },
    {
     "name": "stdout",
     "output_type": "stream",
     "text": [
      "[248]\ttrain-mlogloss:0.01296\teval-mlogloss:0.96660\n"
     ]
    },
    {
     "name": "stderr",
     "output_type": "stream",
     "text": []
    },
    {
     "name": "stdout",
     "output_type": "stream",
     "text": [
      "[249]\ttrain-mlogloss:0.01276\teval-mlogloss:0.96752\n"
     ]
    },
    {
     "name": "stderr",
     "output_type": "stream",
     "text": []
    },
    {
     "name": "stdout",
     "output_type": "stream",
     "text": [
      "[250]\ttrain-mlogloss:0.01255\teval-mlogloss:0.96896\n"
     ]
    },
    {
     "name": "stderr",
     "output_type": "stream",
     "text": [
      "c:\\Users\\abhis\\Downloads\\Documents\\Learner Engagement Project\\venv\\Lib\\site-packages\\xgboost\\core.py:158: UserWarning: [00:36:53] WARNING: C:\\buildkite-agent\\builds\\buildkite-windows-cpu-autoscaling-group-i-08cbc0333d8d4aae1-1\\xgboost\\xgboost-ci-windows\\src\\c_api\\c_api.cc:1374: Saving model in the UBJSON format as default.  You can use file extension: `json`, `ubj` or `deprecated` to choose between formats.\n",
      "  warnings.warn(smsg, UserWarning)\n",
      "\n",
      "\u001b[A                                                                 "
     ]
    },
    {
     "name": "stdout",
     "output_type": "stream",
     "text": [
      "Checkpoint saved at iteration 250\n",
      "[251]\ttrain-mlogloss:0.01241\teval-mlogloss:0.96946\n"
     ]
    },
    {
     "name": "stderr",
     "output_type": "stream",
     "text": []
    },
    {
     "name": "stdout",
     "output_type": "stream",
     "text": [
      "[252]\ttrain-mlogloss:0.01227\teval-mlogloss:0.97124\n"
     ]
    },
    {
     "name": "stderr",
     "output_type": "stream",
     "text": []
    },
    {
     "name": "stdout",
     "output_type": "stream",
     "text": [
      "[253]\ttrain-mlogloss:0.01210\teval-mlogloss:0.97199\n"
     ]
    },
    {
     "name": "stderr",
     "output_type": "stream",
     "text": []
    },
    {
     "name": "stdout",
     "output_type": "stream",
     "text": [
      "[254]\ttrain-mlogloss:0.01195\teval-mlogloss:0.97246\n"
     ]
    },
    {
     "name": "stderr",
     "output_type": "stream",
     "text": []
    },
    {
     "name": "stdout",
     "output_type": "stream",
     "text": [
      "[255]\ttrain-mlogloss:0.01184\teval-mlogloss:0.97301\n"
     ]
    },
    {
     "name": "stderr",
     "output_type": "stream",
     "text": []
    },
    {
     "name": "stdout",
     "output_type": "stream",
     "text": [
      "[256]\ttrain-mlogloss:0.01169\teval-mlogloss:0.97472\n"
     ]
    },
    {
     "name": "stderr",
     "output_type": "stream",
     "text": []
    },
    {
     "name": "stdout",
     "output_type": "stream",
     "text": [
      "[257]\ttrain-mlogloss:0.01156\teval-mlogloss:0.97558\n"
     ]
    },
    {
     "name": "stderr",
     "output_type": "stream",
     "text": []
    },
    {
     "name": "stdout",
     "output_type": "stream",
     "text": [
      "[258]\ttrain-mlogloss:0.01143\teval-mlogloss:0.97683\n"
     ]
    },
    {
     "name": "stderr",
     "output_type": "stream",
     "text": []
    },
    {
     "name": "stdout",
     "output_type": "stream",
     "text": [
      "[259]\ttrain-mlogloss:0.01133\teval-mlogloss:0.97728\n"
     ]
    },
    {
     "name": "stderr",
     "output_type": "stream",
     "text": []
    },
    {
     "name": "stdout",
     "output_type": "stream",
     "text": [
      "[260]\ttrain-mlogloss:0.01119\teval-mlogloss:0.97843\n"
     ]
    },
    {
     "name": "stderr",
     "output_type": "stream",
     "text": []
    },
    {
     "name": "stdout",
     "output_type": "stream",
     "text": [
      "[261]\ttrain-mlogloss:0.01100\teval-mlogloss:0.98029\n"
     ]
    },
    {
     "name": "stderr",
     "output_type": "stream",
     "text": []
    },
    {
     "name": "stdout",
     "output_type": "stream",
     "text": [
      "[262]\ttrain-mlogloss:0.01087\teval-mlogloss:0.98121\n"
     ]
    },
    {
     "name": "stderr",
     "output_type": "stream",
     "text": []
    },
    {
     "name": "stdout",
     "output_type": "stream",
     "text": [
      "[263]\ttrain-mlogloss:0.01072\teval-mlogloss:0.98243\n"
     ]
    },
    {
     "name": "stderr",
     "output_type": "stream",
     "text": []
    },
    {
     "name": "stdout",
     "output_type": "stream",
     "text": [
      "[264]\ttrain-mlogloss:0.01061\teval-mlogloss:0.98336\n"
     ]
    },
    {
     "name": "stderr",
     "output_type": "stream",
     "text": []
    },
    {
     "name": "stdout",
     "output_type": "stream",
     "text": [
      "[265]\ttrain-mlogloss:0.01050\teval-mlogloss:0.98447\n"
     ]
    },
    {
     "name": "stderr",
     "output_type": "stream",
     "text": []
    },
    {
     "name": "stdout",
     "output_type": "stream",
     "text": [
      "[266]\ttrain-mlogloss:0.01039\teval-mlogloss:0.98506\n"
     ]
    },
    {
     "name": "stderr",
     "output_type": "stream",
     "text": []
    },
    {
     "name": "stdout",
     "output_type": "stream",
     "text": [
      "[267]\ttrain-mlogloss:0.01027\teval-mlogloss:0.98579\n"
     ]
    },
    {
     "name": "stderr",
     "output_type": "stream",
     "text": []
    },
    {
     "name": "stdout",
     "output_type": "stream",
     "text": [
      "[268]\ttrain-mlogloss:0.01016\teval-mlogloss:0.98620\n"
     ]
    },
    {
     "name": "stderr",
     "output_type": "stream",
     "text": []
    },
    {
     "name": "stdout",
     "output_type": "stream",
     "text": [
      "[269]\ttrain-mlogloss:0.01003\teval-mlogloss:0.98700\n"
     ]
    },
    {
     "name": "stderr",
     "output_type": "stream",
     "text": []
    },
    {
     "name": "stdout",
     "output_type": "stream",
     "text": [
      "[270]\ttrain-mlogloss:0.00995\teval-mlogloss:0.98782\n"
     ]
    },
    {
     "name": "stderr",
     "output_type": "stream",
     "text": []
    },
    {
     "name": "stdout",
     "output_type": "stream",
     "text": [
      "[271]\ttrain-mlogloss:0.00988\teval-mlogloss:0.98879\n"
     ]
    },
    {
     "name": "stderr",
     "output_type": "stream",
     "text": []
    },
    {
     "name": "stdout",
     "output_type": "stream",
     "text": [
      "[272]\ttrain-mlogloss:0.00975\teval-mlogloss:0.99032\n"
     ]
    },
    {
     "name": "stderr",
     "output_type": "stream",
     "text": []
    },
    {
     "name": "stdout",
     "output_type": "stream",
     "text": [
      "[273]\ttrain-mlogloss:0.00962\teval-mlogloss:0.99202\n"
     ]
    },
    {
     "name": "stderr",
     "output_type": "stream",
     "text": []
    },
    {
     "name": "stdout",
     "output_type": "stream",
     "text": [
      "[274]\ttrain-mlogloss:0.00953\teval-mlogloss:0.99321\n"
     ]
    },
    {
     "name": "stderr",
     "output_type": "stream",
     "text": []
    },
    {
     "name": "stdout",
     "output_type": "stream",
     "text": [
      "[275]\ttrain-mlogloss:0.00941\teval-mlogloss:0.99391\n"
     ]
    },
    {
     "name": "stderr",
     "output_type": "stream",
     "text": []
    },
    {
     "name": "stdout",
     "output_type": "stream",
     "text": [
      "[276]\ttrain-mlogloss:0.00930\teval-mlogloss:0.99443\n"
     ]
    },
    {
     "name": "stderr",
     "output_type": "stream",
     "text": []
    },
    {
     "name": "stdout",
     "output_type": "stream",
     "text": [
      "[277]\ttrain-mlogloss:0.00920\teval-mlogloss:0.99435\n"
     ]
    },
    {
     "name": "stderr",
     "output_type": "stream",
     "text": []
    },
    {
     "name": "stdout",
     "output_type": "stream",
     "text": [
      "[278]\ttrain-mlogloss:0.00910\teval-mlogloss:0.99408\n"
     ]
    },
    {
     "name": "stderr",
     "output_type": "stream",
     "text": []
    },
    {
     "name": "stdout",
     "output_type": "stream",
     "text": [
      "[279]\ttrain-mlogloss:0.00902\teval-mlogloss:0.99455\n"
     ]
    },
    {
     "name": "stderr",
     "output_type": "stream",
     "text": []
    },
    {
     "name": "stdout",
     "output_type": "stream",
     "text": [
      "[280]\ttrain-mlogloss:0.00893\teval-mlogloss:0.99528\n"
     ]
    },
    {
     "name": "stderr",
     "output_type": "stream",
     "text": []
    },
    {
     "name": "stdout",
     "output_type": "stream",
     "text": [
      "[281]\ttrain-mlogloss:0.00886\teval-mlogloss:0.99574\n"
     ]
    },
    {
     "name": "stderr",
     "output_type": "stream",
     "text": []
    },
    {
     "name": "stdout",
     "output_type": "stream",
     "text": [
      "[282]\ttrain-mlogloss:0.00875\teval-mlogloss:0.99631\n"
     ]
    },
    {
     "name": "stderr",
     "output_type": "stream",
     "text": []
    },
    {
     "name": "stdout",
     "output_type": "stream",
     "text": [
      "[283]\ttrain-mlogloss:0.00868\teval-mlogloss:0.99720\n"
     ]
    },
    {
     "name": "stderr",
     "output_type": "stream",
     "text": []
    },
    {
     "name": "stdout",
     "output_type": "stream",
     "text": [
      "[284]\ttrain-mlogloss:0.00860\teval-mlogloss:0.99778\n"
     ]
    },
    {
     "name": "stderr",
     "output_type": "stream",
     "text": []
    },
    {
     "name": "stdout",
     "output_type": "stream",
     "text": [
      "[285]\ttrain-mlogloss:0.00852\teval-mlogloss:0.99813\n"
     ]
    },
    {
     "name": "stderr",
     "output_type": "stream",
     "text": []
    },
    {
     "name": "stdout",
     "output_type": "stream",
     "text": [
      "[286]\ttrain-mlogloss:0.00844\teval-mlogloss:0.99841\n"
     ]
    },
    {
     "name": "stderr",
     "output_type": "stream",
     "text": []
    },
    {
     "name": "stdout",
     "output_type": "stream",
     "text": [
      "[287]\ttrain-mlogloss:0.00835\teval-mlogloss:0.99974\n"
     ]
    },
    {
     "name": "stderr",
     "output_type": "stream",
     "text": []
    },
    {
     "name": "stdout",
     "output_type": "stream",
     "text": [
      "[288]\ttrain-mlogloss:0.00827\teval-mlogloss:1.00047\n"
     ]
    },
    {
     "name": "stderr",
     "output_type": "stream",
     "text": []
    },
    {
     "name": "stdout",
     "output_type": "stream",
     "text": [
      "[289]\ttrain-mlogloss:0.00817\teval-mlogloss:1.00182\n"
     ]
    },
    {
     "name": "stderr",
     "output_type": "stream",
     "text": []
    },
    {
     "name": "stdout",
     "output_type": "stream",
     "text": [
      "[290]\ttrain-mlogloss:0.00810\teval-mlogloss:1.00168\n"
     ]
    },
    {
     "name": "stderr",
     "output_type": "stream",
     "text": []
    },
    {
     "name": "stdout",
     "output_type": "stream",
     "text": [
      "[291]\ttrain-mlogloss:0.00803\teval-mlogloss:1.00262\n"
     ]
    },
    {
     "name": "stderr",
     "output_type": "stream",
     "text": []
    },
    {
     "name": "stdout",
     "output_type": "stream",
     "text": [
      "[292]\ttrain-mlogloss:0.00794\teval-mlogloss:1.00302\n"
     ]
    },
    {
     "name": "stderr",
     "output_type": "stream",
     "text": []
    },
    {
     "name": "stdout",
     "output_type": "stream",
     "text": [
      "[293]\ttrain-mlogloss:0.00787\teval-mlogloss:1.00419\n"
     ]
    },
    {
     "name": "stderr",
     "output_type": "stream",
     "text": []
    },
    {
     "name": "stdout",
     "output_type": "stream",
     "text": [
      "[294]\ttrain-mlogloss:0.00779\teval-mlogloss:1.00577\n"
     ]
    },
    {
     "name": "stderr",
     "output_type": "stream",
     "text": []
    },
    {
     "name": "stdout",
     "output_type": "stream",
     "text": [
      "[295]\ttrain-mlogloss:0.00771\teval-mlogloss:1.00623\n"
     ]
    },
    {
     "name": "stderr",
     "output_type": "stream",
     "text": []
    },
    {
     "name": "stdout",
     "output_type": "stream",
     "text": [
      "[296]\ttrain-mlogloss:0.00763\teval-mlogloss:1.00688\n"
     ]
    },
    {
     "name": "stderr",
     "output_type": "stream",
     "text": []
    },
    {
     "name": "stdout",
     "output_type": "stream",
     "text": [
      "[297]\ttrain-mlogloss:0.00754\teval-mlogloss:1.00792\n"
     ]
    },
    {
     "name": "stderr",
     "output_type": "stream",
     "text": []
    },
    {
     "name": "stdout",
     "output_type": "stream",
     "text": [
      "[298]\ttrain-mlogloss:0.00746\teval-mlogloss:1.00866\n"
     ]
    },
    {
     "name": "stderr",
     "output_type": "stream",
     "text": []
    },
    {
     "name": "stdout",
     "output_type": "stream",
     "text": [
      "[299]\ttrain-mlogloss:0.00737\teval-mlogloss:1.00969\n"
     ]
    },
    {
     "name": "stderr",
     "output_type": "stream",
     "text": []
    },
    {
     "name": "stdout",
     "output_type": "stream",
     "text": [
      "[300]\ttrain-mlogloss:0.00731\teval-mlogloss:1.01112\n"
     ]
    },
    {
     "name": "stderr",
     "output_type": "stream",
     "text": [
      "c:\\Users\\abhis\\Downloads\\Documents\\Learner Engagement Project\\venv\\Lib\\site-packages\\xgboost\\core.py:158: UserWarning: [00:41:04] WARNING: C:\\buildkite-agent\\builds\\buildkite-windows-cpu-autoscaling-group-i-08cbc0333d8d4aae1-1\\xgboost\\xgboost-ci-windows\\src\\c_api\\c_api.cc:1374: Saving model in the UBJSON format as default.  You can use file extension: `json`, `ubj` or `deprecated` to choose between formats.\n",
      "  warnings.warn(smsg, UserWarning)\n",
      "\n",
      "\u001b[A                                                                 "
     ]
    },
    {
     "name": "stdout",
     "output_type": "stream",
     "text": [
      "Checkpoint saved at iteration 300\n",
      "[301]\ttrain-mlogloss:0.00726\teval-mlogloss:1.01212\n"
     ]
    },
    {
     "name": "stderr",
     "output_type": "stream",
     "text": []
    },
    {
     "name": "stdout",
     "output_type": "stream",
     "text": [
      "[302]\ttrain-mlogloss:0.00720\teval-mlogloss:1.01345\n"
     ]
    },
    {
     "name": "stderr",
     "output_type": "stream",
     "text": []
    },
    {
     "name": "stdout",
     "output_type": "stream",
     "text": [
      "[303]\ttrain-mlogloss:0.00713\teval-mlogloss:1.01362\n"
     ]
    },
    {
     "name": "stderr",
     "output_type": "stream",
     "text": []
    },
    {
     "name": "stdout",
     "output_type": "stream",
     "text": [
      "[304]\ttrain-mlogloss:0.00706\teval-mlogloss:1.01398\n"
     ]
    },
    {
     "name": "stderr",
     "output_type": "stream",
     "text": []
    },
    {
     "name": "stdout",
     "output_type": "stream",
     "text": [
      "[305]\ttrain-mlogloss:0.00700\teval-mlogloss:1.01436\n"
     ]
    },
    {
     "name": "stderr",
     "output_type": "stream",
     "text": []
    },
    {
     "name": "stdout",
     "output_type": "stream",
     "text": [
      "[306]\ttrain-mlogloss:0.00695\teval-mlogloss:1.01466\n"
     ]
    },
    {
     "name": "stderr",
     "output_type": "stream",
     "text": []
    },
    {
     "name": "stdout",
     "output_type": "stream",
     "text": [
      "[307]\ttrain-mlogloss:0.00689\teval-mlogloss:1.01464\n"
     ]
    },
    {
     "name": "stderr",
     "output_type": "stream",
     "text": []
    },
    {
     "name": "stdout",
     "output_type": "stream",
     "text": [
      "[308]\ttrain-mlogloss:0.00683\teval-mlogloss:1.01488\n"
     ]
    },
    {
     "name": "stderr",
     "output_type": "stream",
     "text": []
    },
    {
     "name": "stdout",
     "output_type": "stream",
     "text": [
      "[309]\ttrain-mlogloss:0.00677\teval-mlogloss:1.01540\n"
     ]
    },
    {
     "name": "stderr",
     "output_type": "stream",
     "text": []
    },
    {
     "name": "stdout",
     "output_type": "stream",
     "text": [
      "[310]\ttrain-mlogloss:0.00672\teval-mlogloss:1.01604\n"
     ]
    },
    {
     "name": "stderr",
     "output_type": "stream",
     "text": []
    },
    {
     "name": "stdout",
     "output_type": "stream",
     "text": [
      "[311]\ttrain-mlogloss:0.00665\teval-mlogloss:1.01676\n"
     ]
    },
    {
     "name": "stderr",
     "output_type": "stream",
     "text": []
    },
    {
     "name": "stdout",
     "output_type": "stream",
     "text": [
      "[312]\ttrain-mlogloss:0.00660\teval-mlogloss:1.01733\n"
     ]
    },
    {
     "name": "stderr",
     "output_type": "stream",
     "text": []
    },
    {
     "name": "stdout",
     "output_type": "stream",
     "text": [
      "[313]\ttrain-mlogloss:0.00654\teval-mlogloss:1.01849\n"
     ]
    },
    {
     "name": "stderr",
     "output_type": "stream",
     "text": []
    },
    {
     "name": "stdout",
     "output_type": "stream",
     "text": [
      "[314]\ttrain-mlogloss:0.00648\teval-mlogloss:1.02012\n"
     ]
    },
    {
     "name": "stderr",
     "output_type": "stream",
     "text": []
    },
    {
     "name": "stdout",
     "output_type": "stream",
     "text": [
      "[315]\ttrain-mlogloss:0.00642\teval-mlogloss:1.02026\n"
     ]
    },
    {
     "name": "stderr",
     "output_type": "stream",
     "text": []
    },
    {
     "name": "stdout",
     "output_type": "stream",
     "text": [
      "[316]\ttrain-mlogloss:0.00637\teval-mlogloss:1.02206\n"
     ]
    },
    {
     "name": "stderr",
     "output_type": "stream",
     "text": []
    },
    {
     "name": "stdout",
     "output_type": "stream",
     "text": [
      "[317]\ttrain-mlogloss:0.00631\teval-mlogloss:1.02208\n"
     ]
    },
    {
     "name": "stderr",
     "output_type": "stream",
     "text": []
    },
    {
     "name": "stdout",
     "output_type": "stream",
     "text": [
      "[318]\ttrain-mlogloss:0.00627\teval-mlogloss:1.02274\n"
     ]
    },
    {
     "name": "stderr",
     "output_type": "stream",
     "text": []
    },
    {
     "name": "stdout",
     "output_type": "stream",
     "text": [
      "[319]\ttrain-mlogloss:0.00621\teval-mlogloss:1.02369\n"
     ]
    },
    {
     "name": "stderr",
     "output_type": "stream",
     "text": []
    },
    {
     "name": "stdout",
     "output_type": "stream",
     "text": [
      "[320]\ttrain-mlogloss:0.00616\teval-mlogloss:1.02366\n"
     ]
    },
    {
     "name": "stderr",
     "output_type": "stream",
     "text": []
    },
    {
     "name": "stdout",
     "output_type": "stream",
     "text": [
      "[321]\ttrain-mlogloss:0.00612\teval-mlogloss:1.02394\n"
     ]
    },
    {
     "name": "stderr",
     "output_type": "stream",
     "text": []
    },
    {
     "name": "stdout",
     "output_type": "stream",
     "text": [
      "[322]\ttrain-mlogloss:0.00606\teval-mlogloss:1.02466\n"
     ]
    },
    {
     "name": "stderr",
     "output_type": "stream",
     "text": []
    },
    {
     "name": "stdout",
     "output_type": "stream",
     "text": [
      "[323]\ttrain-mlogloss:0.00600\teval-mlogloss:1.02573\n"
     ]
    },
    {
     "name": "stderr",
     "output_type": "stream",
     "text": []
    },
    {
     "name": "stdout",
     "output_type": "stream",
     "text": [
      "[324]\ttrain-mlogloss:0.00595\teval-mlogloss:1.02686\n"
     ]
    },
    {
     "name": "stderr",
     "output_type": "stream",
     "text": []
    },
    {
     "name": "stdout",
     "output_type": "stream",
     "text": [
      "[325]\ttrain-mlogloss:0.00590\teval-mlogloss:1.02823\n"
     ]
    },
    {
     "name": "stderr",
     "output_type": "stream",
     "text": []
    },
    {
     "name": "stdout",
     "output_type": "stream",
     "text": [
      "[326]\ttrain-mlogloss:0.00584\teval-mlogloss:1.02972\n"
     ]
    },
    {
     "name": "stderr",
     "output_type": "stream",
     "text": []
    },
    {
     "name": "stdout",
     "output_type": "stream",
     "text": [
      "[327]\ttrain-mlogloss:0.00579\teval-mlogloss:1.03066\n"
     ]
    },
    {
     "name": "stderr",
     "output_type": "stream",
     "text": []
    },
    {
     "name": "stdout",
     "output_type": "stream",
     "text": [
      "[328]\ttrain-mlogloss:0.00574\teval-mlogloss:1.03098\n"
     ]
    },
    {
     "name": "stderr",
     "output_type": "stream",
     "text": []
    },
    {
     "name": "stdout",
     "output_type": "stream",
     "text": [
      "[329]\ttrain-mlogloss:0.00570\teval-mlogloss:1.03167\n"
     ]
    },
    {
     "name": "stderr",
     "output_type": "stream",
     "text": []
    },
    {
     "name": "stdout",
     "output_type": "stream",
     "text": [
      "[330]\ttrain-mlogloss:0.00565\teval-mlogloss:1.03208\n"
     ]
    },
    {
     "name": "stderr",
     "output_type": "stream",
     "text": []
    },
    {
     "name": "stdout",
     "output_type": "stream",
     "text": [
      "[331]\ttrain-mlogloss:0.00562\teval-mlogloss:1.03246\n"
     ]
    },
    {
     "name": "stderr",
     "output_type": "stream",
     "text": []
    },
    {
     "name": "stdout",
     "output_type": "stream",
     "text": [
      "[332]\ttrain-mlogloss:0.00558\teval-mlogloss:1.03272\n"
     ]
    },
    {
     "name": "stderr",
     "output_type": "stream",
     "text": []
    },
    {
     "name": "stdout",
     "output_type": "stream",
     "text": [
      "[333]\ttrain-mlogloss:0.00554\teval-mlogloss:1.03383\n"
     ]
    },
    {
     "name": "stderr",
     "output_type": "stream",
     "text": []
    },
    {
     "name": "stdout",
     "output_type": "stream",
     "text": [
      "[334]\ttrain-mlogloss:0.00550\teval-mlogloss:1.03440\n"
     ]
    },
    {
     "name": "stderr",
     "output_type": "stream",
     "text": []
    },
    {
     "name": "stdout",
     "output_type": "stream",
     "text": [
      "[335]\ttrain-mlogloss:0.00546\teval-mlogloss:1.03565\n"
     ]
    },
    {
     "name": "stderr",
     "output_type": "stream",
     "text": []
    },
    {
     "name": "stdout",
     "output_type": "stream",
     "text": [
      "[336]\ttrain-mlogloss:0.00542\teval-mlogloss:1.03650\n"
     ]
    },
    {
     "name": "stderr",
     "output_type": "stream",
     "text": []
    },
    {
     "name": "stdout",
     "output_type": "stream",
     "text": [
      "[337]\ttrain-mlogloss:0.00537\teval-mlogloss:1.03677\n"
     ]
    },
    {
     "name": "stderr",
     "output_type": "stream",
     "text": []
    },
    {
     "name": "stdout",
     "output_type": "stream",
     "text": [
      "[338]\ttrain-mlogloss:0.00533\teval-mlogloss:1.03742\n"
     ]
    },
    {
     "name": "stderr",
     "output_type": "stream",
     "text": []
    },
    {
     "name": "stdout",
     "output_type": "stream",
     "text": [
      "[339]\ttrain-mlogloss:0.00528\teval-mlogloss:1.03765\n"
     ]
    },
    {
     "name": "stderr",
     "output_type": "stream",
     "text": []
    },
    {
     "name": "stdout",
     "output_type": "stream",
     "text": [
      "[340]\ttrain-mlogloss:0.00523\teval-mlogloss:1.03835\n"
     ]
    },
    {
     "name": "stderr",
     "output_type": "stream",
     "text": []
    },
    {
     "name": "stdout",
     "output_type": "stream",
     "text": [
      "[341]\ttrain-mlogloss:0.00519\teval-mlogloss:1.03871\n"
     ]
    },
    {
     "name": "stderr",
     "output_type": "stream",
     "text": []
    },
    {
     "name": "stdout",
     "output_type": "stream",
     "text": [
      "[342]\ttrain-mlogloss:0.00515\teval-mlogloss:1.03962\n"
     ]
    },
    {
     "name": "stderr",
     "output_type": "stream",
     "text": []
    },
    {
     "name": "stdout",
     "output_type": "stream",
     "text": [
      "[343]\ttrain-mlogloss:0.00511\teval-mlogloss:1.04050\n"
     ]
    },
    {
     "name": "stderr",
     "output_type": "stream",
     "text": []
    },
    {
     "name": "stdout",
     "output_type": "stream",
     "text": [
      "[344]\ttrain-mlogloss:0.00507\teval-mlogloss:1.04115\n"
     ]
    },
    {
     "name": "stderr",
     "output_type": "stream",
     "text": []
    },
    {
     "name": "stdout",
     "output_type": "stream",
     "text": [
      "[345]\ttrain-mlogloss:0.00502\teval-mlogloss:1.04314\n"
     ]
    },
    {
     "name": "stderr",
     "output_type": "stream",
     "text": []
    },
    {
     "name": "stdout",
     "output_type": "stream",
     "text": [
      "[346]\ttrain-mlogloss:0.00499\teval-mlogloss:1.04385\n"
     ]
    },
    {
     "name": "stderr",
     "output_type": "stream",
     "text": []
    },
    {
     "name": "stdout",
     "output_type": "stream",
     "text": [
      "[347]\ttrain-mlogloss:0.00496\teval-mlogloss:1.04466\n"
     ]
    },
    {
     "name": "stderr",
     "output_type": "stream",
     "text": []
    },
    {
     "name": "stdout",
     "output_type": "stream",
     "text": [
      "[348]\ttrain-mlogloss:0.00491\teval-mlogloss:1.04500\n"
     ]
    },
    {
     "name": "stderr",
     "output_type": "stream",
     "text": []
    },
    {
     "name": "stdout",
     "output_type": "stream",
     "text": [
      "[349]\ttrain-mlogloss:0.00488\teval-mlogloss:1.04581\n"
     ]
    },
    {
     "name": "stderr",
     "output_type": "stream",
     "text": []
    },
    {
     "name": "stdout",
     "output_type": "stream",
     "text": [
      "[350]\ttrain-mlogloss:0.00484\teval-mlogloss:1.04656\n"
     ]
    },
    {
     "name": "stderr",
     "output_type": "stream",
     "text": [
      "c:\\Users\\abhis\\Downloads\\Documents\\Learner Engagement Project\\venv\\Lib\\site-packages\\xgboost\\core.py:158: UserWarning: [00:44:38] WARNING: C:\\buildkite-agent\\builds\\buildkite-windows-cpu-autoscaling-group-i-08cbc0333d8d4aae1-1\\xgboost\\xgboost-ci-windows\\src\\c_api\\c_api.cc:1374: Saving model in the UBJSON format as default.  You can use file extension: `json`, `ubj` or `deprecated` to choose between formats.\n",
      "  warnings.warn(smsg, UserWarning)\n",
      "\n",
      "\u001b[A                                                                 "
     ]
    },
    {
     "name": "stdout",
     "output_type": "stream",
     "text": [
      "Checkpoint saved at iteration 350\n",
      "[351]\ttrain-mlogloss:0.00481\teval-mlogloss:1.04724\n"
     ]
    },
    {
     "name": "stderr",
     "output_type": "stream",
     "text": []
    },
    {
     "name": "stdout",
     "output_type": "stream",
     "text": [
      "[352]\ttrain-mlogloss:0.00477\teval-mlogloss:1.04812\n"
     ]
    },
    {
     "name": "stderr",
     "output_type": "stream",
     "text": []
    },
    {
     "name": "stdout",
     "output_type": "stream",
     "text": [
      "[353]\ttrain-mlogloss:0.00473\teval-mlogloss:1.04912\n"
     ]
    },
    {
     "name": "stderr",
     "output_type": "stream",
     "text": []
    },
    {
     "name": "stdout",
     "output_type": "stream",
     "text": [
      "[354]\ttrain-mlogloss:0.00470\teval-mlogloss:1.04982\n"
     ]
    },
    {
     "name": "stderr",
     "output_type": "stream",
     "text": []
    },
    {
     "name": "stdout",
     "output_type": "stream",
     "text": [
      "[355]\ttrain-mlogloss:0.00466\teval-mlogloss:1.05020\n"
     ]
    },
    {
     "name": "stderr",
     "output_type": "stream",
     "text": []
    },
    {
     "name": "stdout",
     "output_type": "stream",
     "text": [
      "[356]\ttrain-mlogloss:0.00464\teval-mlogloss:1.05022\n"
     ]
    },
    {
     "name": "stderr",
     "output_type": "stream",
     "text": []
    },
    {
     "name": "stdout",
     "output_type": "stream",
     "text": [
      "[357]\ttrain-mlogloss:0.00460\teval-mlogloss:1.05147\n"
     ]
    },
    {
     "name": "stderr",
     "output_type": "stream",
     "text": []
    },
    {
     "name": "stdout",
     "output_type": "stream",
     "text": [
      "[358]\ttrain-mlogloss:0.00457\teval-mlogloss:1.05223\n"
     ]
    },
    {
     "name": "stderr",
     "output_type": "stream",
     "text": []
    },
    {
     "name": "stdout",
     "output_type": "stream",
     "text": [
      "[359]\ttrain-mlogloss:0.00453\teval-mlogloss:1.05314\n"
     ]
    },
    {
     "name": "stderr",
     "output_type": "stream",
     "text": []
    },
    {
     "name": "stdout",
     "output_type": "stream",
     "text": [
      "[360]\ttrain-mlogloss:0.00451\teval-mlogloss:1.05323\n"
     ]
    },
    {
     "name": "stderr",
     "output_type": "stream",
     "text": []
    },
    {
     "name": "stdout",
     "output_type": "stream",
     "text": [
      "[361]\ttrain-mlogloss:0.00448\teval-mlogloss:1.05364\n"
     ]
    },
    {
     "name": "stderr",
     "output_type": "stream",
     "text": []
    },
    {
     "name": "stdout",
     "output_type": "stream",
     "text": [
      "[362]\ttrain-mlogloss:0.00445\teval-mlogloss:1.05444\n"
     ]
    },
    {
     "name": "stderr",
     "output_type": "stream",
     "text": []
    },
    {
     "name": "stdout",
     "output_type": "stream",
     "text": [
      "[363]\ttrain-mlogloss:0.00442\teval-mlogloss:1.05554\n"
     ]
    },
    {
     "name": "stderr",
     "output_type": "stream",
     "text": []
    },
    {
     "name": "stdout",
     "output_type": "stream",
     "text": [
      "[364]\ttrain-mlogloss:0.00439\teval-mlogloss:1.05673\n"
     ]
    },
    {
     "name": "stderr",
     "output_type": "stream",
     "text": []
    },
    {
     "name": "stdout",
     "output_type": "stream",
     "text": [
      "[365]\ttrain-mlogloss:0.00436\teval-mlogloss:1.05757\n"
     ]
    },
    {
     "name": "stderr",
     "output_type": "stream",
     "text": []
    },
    {
     "name": "stdout",
     "output_type": "stream",
     "text": [
      "[366]\ttrain-mlogloss:0.00432\teval-mlogloss:1.05812\n"
     ]
    },
    {
     "name": "stderr",
     "output_type": "stream",
     "text": []
    },
    {
     "name": "stdout",
     "output_type": "stream",
     "text": [
      "[367]\ttrain-mlogloss:0.00429\teval-mlogloss:1.05946\n"
     ]
    },
    {
     "name": "stderr",
     "output_type": "stream",
     "text": []
    },
    {
     "name": "stdout",
     "output_type": "stream",
     "text": [
      "[368]\ttrain-mlogloss:0.00426\teval-mlogloss:1.06002\n"
     ]
    },
    {
     "name": "stderr",
     "output_type": "stream",
     "text": []
    },
    {
     "name": "stdout",
     "output_type": "stream",
     "text": [
      "[369]\ttrain-mlogloss:0.00424\teval-mlogloss:1.06018\n"
     ]
    },
    {
     "name": "stderr",
     "output_type": "stream",
     "text": []
    },
    {
     "name": "stdout",
     "output_type": "stream",
     "text": [
      "[370]\ttrain-mlogloss:0.00421\teval-mlogloss:1.06051\n"
     ]
    },
    {
     "name": "stderr",
     "output_type": "stream",
     "text": []
    },
    {
     "name": "stdout",
     "output_type": "stream",
     "text": [
      "[371]\ttrain-mlogloss:0.00418\teval-mlogloss:1.06177\n"
     ]
    },
    {
     "name": "stderr",
     "output_type": "stream",
     "text": []
    },
    {
     "name": "stdout",
     "output_type": "stream",
     "text": [
      "[372]\ttrain-mlogloss:0.00415\teval-mlogloss:1.06258\n"
     ]
    },
    {
     "name": "stderr",
     "output_type": "stream",
     "text": []
    },
    {
     "name": "stdout",
     "output_type": "stream",
     "text": [
      "[373]\ttrain-mlogloss:0.00413\teval-mlogloss:1.06290\n"
     ]
    },
    {
     "name": "stderr",
     "output_type": "stream",
     "text": []
    },
    {
     "name": "stdout",
     "output_type": "stream",
     "text": [
      "[374]\ttrain-mlogloss:0.00410\teval-mlogloss:1.06346\n"
     ]
    },
    {
     "name": "stderr",
     "output_type": "stream",
     "text": []
    },
    {
     "name": "stdout",
     "output_type": "stream",
     "text": [
      "[375]\ttrain-mlogloss:0.00407\teval-mlogloss:1.06379\n"
     ]
    },
    {
     "name": "stderr",
     "output_type": "stream",
     "text": []
    },
    {
     "name": "stdout",
     "output_type": "stream",
     "text": [
      "[376]\ttrain-mlogloss:0.00405\teval-mlogloss:1.06471\n"
     ]
    },
    {
     "name": "stderr",
     "output_type": "stream",
     "text": []
    },
    {
     "name": "stdout",
     "output_type": "stream",
     "text": [
      "[377]\ttrain-mlogloss:0.00401\teval-mlogloss:1.06520\n"
     ]
    },
    {
     "name": "stderr",
     "output_type": "stream",
     "text": []
    },
    {
     "name": "stdout",
     "output_type": "stream",
     "text": [
      "[378]\ttrain-mlogloss:0.00400\teval-mlogloss:1.06572\n"
     ]
    },
    {
     "name": "stderr",
     "output_type": "stream",
     "text": []
    },
    {
     "name": "stdout",
     "output_type": "stream",
     "text": [
      "[379]\ttrain-mlogloss:0.00397\teval-mlogloss:1.06618\n"
     ]
    },
    {
     "name": "stderr",
     "output_type": "stream",
     "text": []
    },
    {
     "name": "stdout",
     "output_type": "stream",
     "text": [
      "[380]\ttrain-mlogloss:0.00395\teval-mlogloss:1.06715\n"
     ]
    },
    {
     "name": "stderr",
     "output_type": "stream",
     "text": []
    },
    {
     "name": "stdout",
     "output_type": "stream",
     "text": [
      "[381]\ttrain-mlogloss:0.00392\teval-mlogloss:1.06839\n"
     ]
    },
    {
     "name": "stderr",
     "output_type": "stream",
     "text": []
    },
    {
     "name": "stdout",
     "output_type": "stream",
     "text": [
      "[382]\ttrain-mlogloss:0.00390\teval-mlogloss:1.06895\n"
     ]
    },
    {
     "name": "stderr",
     "output_type": "stream",
     "text": []
    },
    {
     "name": "stdout",
     "output_type": "stream",
     "text": [
      "[383]\ttrain-mlogloss:0.00388\teval-mlogloss:1.06945\n"
     ]
    },
    {
     "name": "stderr",
     "output_type": "stream",
     "text": []
    },
    {
     "name": "stdout",
     "output_type": "stream",
     "text": [
      "[384]\ttrain-mlogloss:0.00386\teval-mlogloss:1.07010\n"
     ]
    },
    {
     "name": "stderr",
     "output_type": "stream",
     "text": []
    },
    {
     "name": "stdout",
     "output_type": "stream",
     "text": [
      "[385]\ttrain-mlogloss:0.00383\teval-mlogloss:1.07051\n"
     ]
    },
    {
     "name": "stderr",
     "output_type": "stream",
     "text": []
    },
    {
     "name": "stdout",
     "output_type": "stream",
     "text": [
      "[386]\ttrain-mlogloss:0.00381\teval-mlogloss:1.07109\n"
     ]
    },
    {
     "name": "stderr",
     "output_type": "stream",
     "text": []
    },
    {
     "name": "stdout",
     "output_type": "stream",
     "text": [
      "[387]\ttrain-mlogloss:0.00378\teval-mlogloss:1.07163\n"
     ]
    },
    {
     "name": "stderr",
     "output_type": "stream",
     "text": []
    },
    {
     "name": "stdout",
     "output_type": "stream",
     "text": [
      "[388]\ttrain-mlogloss:0.00376\teval-mlogloss:1.07216\n"
     ]
    },
    {
     "name": "stderr",
     "output_type": "stream",
     "text": []
    },
    {
     "name": "stdout",
     "output_type": "stream",
     "text": [
      "[389]\ttrain-mlogloss:0.00373\teval-mlogloss:1.07278\n"
     ]
    },
    {
     "name": "stderr",
     "output_type": "stream",
     "text": []
    },
    {
     "name": "stdout",
     "output_type": "stream",
     "text": [
      "[390]\ttrain-mlogloss:0.00371\teval-mlogloss:1.07359\n"
     ]
    },
    {
     "name": "stderr",
     "output_type": "stream",
     "text": []
    },
    {
     "name": "stdout",
     "output_type": "stream",
     "text": [
      "[391]\ttrain-mlogloss:0.00368\teval-mlogloss:1.07417\n"
     ]
    },
    {
     "name": "stderr",
     "output_type": "stream",
     "text": []
    },
    {
     "name": "stdout",
     "output_type": "stream",
     "text": [
      "[392]\ttrain-mlogloss:0.00366\teval-mlogloss:1.07415\n"
     ]
    },
    {
     "name": "stderr",
     "output_type": "stream",
     "text": []
    },
    {
     "name": "stdout",
     "output_type": "stream",
     "text": [
      "[393]\ttrain-mlogloss:0.00364\teval-mlogloss:1.07439\n"
     ]
    },
    {
     "name": "stderr",
     "output_type": "stream",
     "text": []
    },
    {
     "name": "stdout",
     "output_type": "stream",
     "text": [
      "[394]\ttrain-mlogloss:0.00362\teval-mlogloss:1.07495\n"
     ]
    },
    {
     "name": "stderr",
     "output_type": "stream",
     "text": []
    },
    {
     "name": "stdout",
     "output_type": "stream",
     "text": [
      "[395]\ttrain-mlogloss:0.00360\teval-mlogloss:1.07506\n"
     ]
    },
    {
     "name": "stderr",
     "output_type": "stream",
     "text": []
    },
    {
     "name": "stdout",
     "output_type": "stream",
     "text": [
      "[396]\ttrain-mlogloss:0.00358\teval-mlogloss:1.07591\n"
     ]
    },
    {
     "name": "stderr",
     "output_type": "stream",
     "text": []
    },
    {
     "name": "stdout",
     "output_type": "stream",
     "text": [
      "[397]\ttrain-mlogloss:0.00355\teval-mlogloss:1.07669\n"
     ]
    },
    {
     "name": "stderr",
     "output_type": "stream",
     "text": []
    },
    {
     "name": "stdout",
     "output_type": "stream",
     "text": [
      "[398]\ttrain-mlogloss:0.00354\teval-mlogloss:1.07765\n"
     ]
    },
    {
     "name": "stderr",
     "output_type": "stream",
     "text": []
    },
    {
     "name": "stdout",
     "output_type": "stream",
     "text": [
      "[399]\ttrain-mlogloss:0.00352\teval-mlogloss:1.07850\n"
     ]
    },
    {
     "name": "stderr",
     "output_type": "stream",
     "text": []
    },
    {
     "name": "stdout",
     "output_type": "stream",
     "text": [
      "[400]\ttrain-mlogloss:0.00349\teval-mlogloss:1.07838\n"
     ]
    },
    {
     "name": "stderr",
     "output_type": "stream",
     "text": [
      "c:\\Users\\abhis\\Downloads\\Documents\\Learner Engagement Project\\venv\\Lib\\site-packages\\xgboost\\core.py:158: UserWarning: [00:48:06] WARNING: C:\\buildkite-agent\\builds\\buildkite-windows-cpu-autoscaling-group-i-08cbc0333d8d4aae1-1\\xgboost\\xgboost-ci-windows\\src\\c_api\\c_api.cc:1374: Saving model in the UBJSON format as default.  You can use file extension: `json`, `ubj` or `deprecated` to choose between formats.\n",
      "  warnings.warn(smsg, UserWarning)\n",
      "\n",
      "\u001b[A                                                                 "
     ]
    },
    {
     "name": "stdout",
     "output_type": "stream",
     "text": [
      "Checkpoint saved at iteration 400\n",
      "[401]\ttrain-mlogloss:0.00347\teval-mlogloss:1.07865\n"
     ]
    },
    {
     "name": "stderr",
     "output_type": "stream",
     "text": []
    },
    {
     "name": "stdout",
     "output_type": "stream",
     "text": [
      "[402]\ttrain-mlogloss:0.00345\teval-mlogloss:1.07938\n"
     ]
    },
    {
     "name": "stderr",
     "output_type": "stream",
     "text": []
    },
    {
     "name": "stdout",
     "output_type": "stream",
     "text": [
      "[403]\ttrain-mlogloss:0.00343\teval-mlogloss:1.08016\n"
     ]
    },
    {
     "name": "stderr",
     "output_type": "stream",
     "text": []
    },
    {
     "name": "stdout",
     "output_type": "stream",
     "text": [
      "[404]\ttrain-mlogloss:0.00341\teval-mlogloss:1.08027\n"
     ]
    },
    {
     "name": "stderr",
     "output_type": "stream",
     "text": []
    },
    {
     "name": "stdout",
     "output_type": "stream",
     "text": [
      "[405]\ttrain-mlogloss:0.00339\teval-mlogloss:1.08104\n"
     ]
    },
    {
     "name": "stderr",
     "output_type": "stream",
     "text": []
    },
    {
     "name": "stdout",
     "output_type": "stream",
     "text": [
      "[406]\ttrain-mlogloss:0.00337\teval-mlogloss:1.08097\n"
     ]
    },
    {
     "name": "stderr",
     "output_type": "stream",
     "text": []
    },
    {
     "name": "stdout",
     "output_type": "stream",
     "text": [
      "[407]\ttrain-mlogloss:0.00335\teval-mlogloss:1.08147\n"
     ]
    },
    {
     "name": "stderr",
     "output_type": "stream",
     "text": []
    },
    {
     "name": "stdout",
     "output_type": "stream",
     "text": [
      "[408]\ttrain-mlogloss:0.00333\teval-mlogloss:1.08172\n"
     ]
    },
    {
     "name": "stderr",
     "output_type": "stream",
     "text": []
    },
    {
     "name": "stdout",
     "output_type": "stream",
     "text": [
      "[409]\ttrain-mlogloss:0.00331\teval-mlogloss:1.08251\n"
     ]
    },
    {
     "name": "stderr",
     "output_type": "stream",
     "text": []
    },
    {
     "name": "stdout",
     "output_type": "stream",
     "text": [
      "[410]\ttrain-mlogloss:0.00329\teval-mlogloss:1.08271\n"
     ]
    },
    {
     "name": "stderr",
     "output_type": "stream",
     "text": []
    },
    {
     "name": "stdout",
     "output_type": "stream",
     "text": [
      "[411]\ttrain-mlogloss:0.00327\teval-mlogloss:1.08325\n"
     ]
    },
    {
     "name": "stderr",
     "output_type": "stream",
     "text": []
    },
    {
     "name": "stdout",
     "output_type": "stream",
     "text": [
      "[412]\ttrain-mlogloss:0.00325\teval-mlogloss:1.08350\n"
     ]
    },
    {
     "name": "stderr",
     "output_type": "stream",
     "text": []
    },
    {
     "name": "stdout",
     "output_type": "stream",
     "text": [
      "[413]\ttrain-mlogloss:0.00323\teval-mlogloss:1.08441\n"
     ]
    },
    {
     "name": "stderr",
     "output_type": "stream",
     "text": []
    },
    {
     "name": "stdout",
     "output_type": "stream",
     "text": [
      "[414]\ttrain-mlogloss:0.00321\teval-mlogloss:1.08469\n"
     ]
    },
    {
     "name": "stderr",
     "output_type": "stream",
     "text": []
    },
    {
     "name": "stdout",
     "output_type": "stream",
     "text": [
      "[415]\ttrain-mlogloss:0.00319\teval-mlogloss:1.08458\n"
     ]
    },
    {
     "name": "stderr",
     "output_type": "stream",
     "text": []
    },
    {
     "name": "stdout",
     "output_type": "stream",
     "text": [
      "[416]\ttrain-mlogloss:0.00318\teval-mlogloss:1.08481\n"
     ]
    },
    {
     "name": "stderr",
     "output_type": "stream",
     "text": []
    },
    {
     "name": "stdout",
     "output_type": "stream",
     "text": [
      "[417]\ttrain-mlogloss:0.00316\teval-mlogloss:1.08512\n"
     ]
    },
    {
     "name": "stderr",
     "output_type": "stream",
     "text": []
    },
    {
     "name": "stdout",
     "output_type": "stream",
     "text": [
      "[418]\ttrain-mlogloss:0.00314\teval-mlogloss:1.08585\n"
     ]
    },
    {
     "name": "stderr",
     "output_type": "stream",
     "text": []
    },
    {
     "name": "stdout",
     "output_type": "stream",
     "text": [
      "[419]\ttrain-mlogloss:0.00312\teval-mlogloss:1.08593\n"
     ]
    },
    {
     "name": "stderr",
     "output_type": "stream",
     "text": []
    },
    {
     "name": "stdout",
     "output_type": "stream",
     "text": [
      "[420]\ttrain-mlogloss:0.00311\teval-mlogloss:1.08717\n"
     ]
    },
    {
     "name": "stderr",
     "output_type": "stream",
     "text": []
    },
    {
     "name": "stdout",
     "output_type": "stream",
     "text": [
      "[421]\ttrain-mlogloss:0.00309\teval-mlogloss:1.08780\n"
     ]
    },
    {
     "name": "stderr",
     "output_type": "stream",
     "text": []
    },
    {
     "name": "stdout",
     "output_type": "stream",
     "text": [
      "[422]\ttrain-mlogloss:0.00307\teval-mlogloss:1.08847\n"
     ]
    },
    {
     "name": "stderr",
     "output_type": "stream",
     "text": []
    },
    {
     "name": "stdout",
     "output_type": "stream",
     "text": [
      "[423]\ttrain-mlogloss:0.00305\teval-mlogloss:1.08957\n"
     ]
    },
    {
     "name": "stderr",
     "output_type": "stream",
     "text": []
    },
    {
     "name": "stdout",
     "output_type": "stream",
     "text": [
      "[424]\ttrain-mlogloss:0.00303\teval-mlogloss:1.08962\n"
     ]
    },
    {
     "name": "stderr",
     "output_type": "stream",
     "text": []
    },
    {
     "name": "stdout",
     "output_type": "stream",
     "text": [
      "[425]\ttrain-mlogloss:0.00302\teval-mlogloss:1.09080\n"
     ]
    },
    {
     "name": "stderr",
     "output_type": "stream",
     "text": []
    },
    {
     "name": "stdout",
     "output_type": "stream",
     "text": [
      "[426]\ttrain-mlogloss:0.00300\teval-mlogloss:1.09146\n"
     ]
    },
    {
     "name": "stderr",
     "output_type": "stream",
     "text": []
    },
    {
     "name": "stdout",
     "output_type": "stream",
     "text": [
      "[427]\ttrain-mlogloss:0.00298\teval-mlogloss:1.09224\n"
     ]
    },
    {
     "name": "stderr",
     "output_type": "stream",
     "text": []
    },
    {
     "name": "stdout",
     "output_type": "stream",
     "text": [
      "[428]\ttrain-mlogloss:0.00297\teval-mlogloss:1.09279\n"
     ]
    },
    {
     "name": "stderr",
     "output_type": "stream",
     "text": []
    },
    {
     "name": "stdout",
     "output_type": "stream",
     "text": [
      "[429]\ttrain-mlogloss:0.00295\teval-mlogloss:1.09281\n"
     ]
    },
    {
     "name": "stderr",
     "output_type": "stream",
     "text": []
    },
    {
     "name": "stdout",
     "output_type": "stream",
     "text": [
      "[430]\ttrain-mlogloss:0.00293\teval-mlogloss:1.09366\n"
     ]
    },
    {
     "name": "stderr",
     "output_type": "stream",
     "text": []
    },
    {
     "name": "stdout",
     "output_type": "stream",
     "text": [
      "[431]\ttrain-mlogloss:0.00292\teval-mlogloss:1.09431\n"
     ]
    },
    {
     "name": "stderr",
     "output_type": "stream",
     "text": []
    },
    {
     "name": "stdout",
     "output_type": "stream",
     "text": [
      "[432]\ttrain-mlogloss:0.00290\teval-mlogloss:1.09465\n"
     ]
    },
    {
     "name": "stderr",
     "output_type": "stream",
     "text": []
    },
    {
     "name": "stdout",
     "output_type": "stream",
     "text": [
      "[433]\ttrain-mlogloss:0.00289\teval-mlogloss:1.09463\n"
     ]
    },
    {
     "name": "stderr",
     "output_type": "stream",
     "text": []
    },
    {
     "name": "stdout",
     "output_type": "stream",
     "text": [
      "[434]\ttrain-mlogloss:0.00287\teval-mlogloss:1.09497\n"
     ]
    },
    {
     "name": "stderr",
     "output_type": "stream",
     "text": []
    },
    {
     "name": "stdout",
     "output_type": "stream",
     "text": [
      "[435]\ttrain-mlogloss:0.00286\teval-mlogloss:1.09547\n"
     ]
    },
    {
     "name": "stderr",
     "output_type": "stream",
     "text": []
    },
    {
     "name": "stdout",
     "output_type": "stream",
     "text": [
      "[436]\ttrain-mlogloss:0.00284\teval-mlogloss:1.09570\n"
     ]
    },
    {
     "name": "stderr",
     "output_type": "stream",
     "text": []
    },
    {
     "name": "stdout",
     "output_type": "stream",
     "text": [
      "[437]\ttrain-mlogloss:0.00283\teval-mlogloss:1.09655\n"
     ]
    },
    {
     "name": "stderr",
     "output_type": "stream",
     "text": []
    },
    {
     "name": "stdout",
     "output_type": "stream",
     "text": [
      "[438]\ttrain-mlogloss:0.00282\teval-mlogloss:1.09668\n"
     ]
    },
    {
     "name": "stderr",
     "output_type": "stream",
     "text": []
    },
    {
     "name": "stdout",
     "output_type": "stream",
     "text": [
      "[439]\ttrain-mlogloss:0.00280\teval-mlogloss:1.09706\n"
     ]
    },
    {
     "name": "stderr",
     "output_type": "stream",
     "text": []
    },
    {
     "name": "stdout",
     "output_type": "stream",
     "text": [
      "[440]\ttrain-mlogloss:0.00279\teval-mlogloss:1.09728\n"
     ]
    },
    {
     "name": "stderr",
     "output_type": "stream",
     "text": []
    },
    {
     "name": "stdout",
     "output_type": "stream",
     "text": [
      "[441]\ttrain-mlogloss:0.00277\teval-mlogloss:1.09748\n"
     ]
    },
    {
     "name": "stderr",
     "output_type": "stream",
     "text": []
    },
    {
     "name": "stdout",
     "output_type": "stream",
     "text": [
      "[442]\ttrain-mlogloss:0.00276\teval-mlogloss:1.09821\n"
     ]
    },
    {
     "name": "stderr",
     "output_type": "stream",
     "text": []
    },
    {
     "name": "stdout",
     "output_type": "stream",
     "text": [
      "[443]\ttrain-mlogloss:0.00274\teval-mlogloss:1.09891\n"
     ]
    },
    {
     "name": "stderr",
     "output_type": "stream",
     "text": []
    },
    {
     "name": "stdout",
     "output_type": "stream",
     "text": [
      "[444]\ttrain-mlogloss:0.00273\teval-mlogloss:1.09949\n"
     ]
    },
    {
     "name": "stderr",
     "output_type": "stream",
     "text": []
    },
    {
     "name": "stdout",
     "output_type": "stream",
     "text": [
      "[445]\ttrain-mlogloss:0.00272\teval-mlogloss:1.09985\n"
     ]
    },
    {
     "name": "stderr",
     "output_type": "stream",
     "text": []
    },
    {
     "name": "stdout",
     "output_type": "stream",
     "text": [
      "[446]\ttrain-mlogloss:0.00271\teval-mlogloss:1.10124\n"
     ]
    },
    {
     "name": "stderr",
     "output_type": "stream",
     "text": []
    },
    {
     "name": "stdout",
     "output_type": "stream",
     "text": [
      "[447]\ttrain-mlogloss:0.00269\teval-mlogloss:1.10137\n"
     ]
    },
    {
     "name": "stderr",
     "output_type": "stream",
     "text": []
    },
    {
     "name": "stdout",
     "output_type": "stream",
     "text": [
      "[448]\ttrain-mlogloss:0.00268\teval-mlogloss:1.10186\n"
     ]
    },
    {
     "name": "stderr",
     "output_type": "stream",
     "text": []
    },
    {
     "name": "stdout",
     "output_type": "stream",
     "text": [
      "[449]\ttrain-mlogloss:0.00266\teval-mlogloss:1.10223\n"
     ]
    },
    {
     "name": "stderr",
     "output_type": "stream",
     "text": []
    },
    {
     "name": "stdout",
     "output_type": "stream",
     "text": [
      "[450]\ttrain-mlogloss:0.00265\teval-mlogloss:1.10297\n"
     ]
    },
    {
     "name": "stderr",
     "output_type": "stream",
     "text": [
      "c:\\Users\\abhis\\Downloads\\Documents\\Learner Engagement Project\\venv\\Lib\\site-packages\\xgboost\\core.py:158: UserWarning: [00:51:27] WARNING: C:\\buildkite-agent\\builds\\buildkite-windows-cpu-autoscaling-group-i-08cbc0333d8d4aae1-1\\xgboost\\xgboost-ci-windows\\src\\c_api\\c_api.cc:1374: Saving model in the UBJSON format as default.  You can use file extension: `json`, `ubj` or `deprecated` to choose between formats.\n",
      "  warnings.warn(smsg, UserWarning)\n",
      "\n",
      "\u001b[A                                                                 "
     ]
    },
    {
     "name": "stdout",
     "output_type": "stream",
     "text": [
      "Checkpoint saved at iteration 450\n",
      "[451]\ttrain-mlogloss:0.00264\teval-mlogloss:1.10362\n"
     ]
    },
    {
     "name": "stderr",
     "output_type": "stream",
     "text": []
    },
    {
     "name": "stdout",
     "output_type": "stream",
     "text": [
      "[452]\ttrain-mlogloss:0.00263\teval-mlogloss:1.10377\n"
     ]
    },
    {
     "name": "stderr",
     "output_type": "stream",
     "text": []
    },
    {
     "name": "stdout",
     "output_type": "stream",
     "text": [
      "[453]\ttrain-mlogloss:0.00261\teval-mlogloss:1.10413\n"
     ]
    },
    {
     "name": "stderr",
     "output_type": "stream",
     "text": []
    },
    {
     "name": "stdout",
     "output_type": "stream",
     "text": [
      "[454]\ttrain-mlogloss:0.00260\teval-mlogloss:1.10429\n"
     ]
    },
    {
     "name": "stderr",
     "output_type": "stream",
     "text": []
    },
    {
     "name": "stdout",
     "output_type": "stream",
     "text": [
      "[455]\ttrain-mlogloss:0.00259\teval-mlogloss:1.10462\n"
     ]
    },
    {
     "name": "stderr",
     "output_type": "stream",
     "text": []
    },
    {
     "name": "stdout",
     "output_type": "stream",
     "text": [
      "[456]\ttrain-mlogloss:0.00258\teval-mlogloss:1.10508\n"
     ]
    },
    {
     "name": "stderr",
     "output_type": "stream",
     "text": []
    },
    {
     "name": "stdout",
     "output_type": "stream",
     "text": [
      "[457]\ttrain-mlogloss:0.00256\teval-mlogloss:1.10619\n"
     ]
    },
    {
     "name": "stderr",
     "output_type": "stream",
     "text": []
    },
    {
     "name": "stdout",
     "output_type": "stream",
     "text": [
      "[458]\ttrain-mlogloss:0.00255\teval-mlogloss:1.10595\n"
     ]
    },
    {
     "name": "stderr",
     "output_type": "stream",
     "text": []
    },
    {
     "name": "stdout",
     "output_type": "stream",
     "text": [
      "[459]\ttrain-mlogloss:0.00254\teval-mlogloss:1.10640\n"
     ]
    },
    {
     "name": "stderr",
     "output_type": "stream",
     "text": []
    },
    {
     "name": "stdout",
     "output_type": "stream",
     "text": [
      "[460]\ttrain-mlogloss:0.00253\teval-mlogloss:1.10754\n"
     ]
    },
    {
     "name": "stderr",
     "output_type": "stream",
     "text": []
    },
    {
     "name": "stdout",
     "output_type": "stream",
     "text": [
      "[461]\ttrain-mlogloss:0.00252\teval-mlogloss:1.10779\n"
     ]
    },
    {
     "name": "stderr",
     "output_type": "stream",
     "text": []
    },
    {
     "name": "stdout",
     "output_type": "stream",
     "text": [
      "[462]\ttrain-mlogloss:0.00250\teval-mlogloss:1.10808\n"
     ]
    },
    {
     "name": "stderr",
     "output_type": "stream",
     "text": []
    },
    {
     "name": "stdout",
     "output_type": "stream",
     "text": [
      "[463]\ttrain-mlogloss:0.00249\teval-mlogloss:1.10847\n"
     ]
    },
    {
     "name": "stderr",
     "output_type": "stream",
     "text": []
    },
    {
     "name": "stdout",
     "output_type": "stream",
     "text": [
      "[464]\ttrain-mlogloss:0.00248\teval-mlogloss:1.10945\n"
     ]
    },
    {
     "name": "stderr",
     "output_type": "stream",
     "text": []
    },
    {
     "name": "stdout",
     "output_type": "stream",
     "text": [
      "[465]\ttrain-mlogloss:0.00247\teval-mlogloss:1.10954\n"
     ]
    },
    {
     "name": "stderr",
     "output_type": "stream",
     "text": []
    },
    {
     "name": "stdout",
     "output_type": "stream",
     "text": [
      "[466]\ttrain-mlogloss:0.00246\teval-mlogloss:1.10964\n"
     ]
    },
    {
     "name": "stderr",
     "output_type": "stream",
     "text": []
    },
    {
     "name": "stdout",
     "output_type": "stream",
     "text": [
      "[467]\ttrain-mlogloss:0.00245\teval-mlogloss:1.10993\n"
     ]
    },
    {
     "name": "stderr",
     "output_type": "stream",
     "text": []
    },
    {
     "name": "stdout",
     "output_type": "stream",
     "text": [
      "[468]\ttrain-mlogloss:0.00244\teval-mlogloss:1.11047\n"
     ]
    },
    {
     "name": "stderr",
     "output_type": "stream",
     "text": []
    },
    {
     "name": "stdout",
     "output_type": "stream",
     "text": [
      "[469]\ttrain-mlogloss:0.00243\teval-mlogloss:1.11168\n"
     ]
    },
    {
     "name": "stderr",
     "output_type": "stream",
     "text": []
    },
    {
     "name": "stdout",
     "output_type": "stream",
     "text": [
      "[470]\ttrain-mlogloss:0.00242\teval-mlogloss:1.11259\n"
     ]
    },
    {
     "name": "stderr",
     "output_type": "stream",
     "text": []
    },
    {
     "name": "stdout",
     "output_type": "stream",
     "text": [
      "[471]\ttrain-mlogloss:0.00241\teval-mlogloss:1.11281\n"
     ]
    },
    {
     "name": "stderr",
     "output_type": "stream",
     "text": []
    },
    {
     "name": "stdout",
     "output_type": "stream",
     "text": [
      "[472]\ttrain-mlogloss:0.00239\teval-mlogloss:1.11396\n"
     ]
    },
    {
     "name": "stderr",
     "output_type": "stream",
     "text": []
    },
    {
     "name": "stdout",
     "output_type": "stream",
     "text": [
      "[473]\ttrain-mlogloss:0.00239\teval-mlogloss:1.11441\n"
     ]
    },
    {
     "name": "stderr",
     "output_type": "stream",
     "text": []
    },
    {
     "name": "stdout",
     "output_type": "stream",
     "text": [
      "[474]\ttrain-mlogloss:0.00238\teval-mlogloss:1.11496\n"
     ]
    },
    {
     "name": "stderr",
     "output_type": "stream",
     "text": []
    },
    {
     "name": "stdout",
     "output_type": "stream",
     "text": [
      "[475]\ttrain-mlogloss:0.00237\teval-mlogloss:1.11543\n"
     ]
    },
    {
     "name": "stderr",
     "output_type": "stream",
     "text": []
    },
    {
     "name": "stdout",
     "output_type": "stream",
     "text": [
      "[476]\ttrain-mlogloss:0.00236\teval-mlogloss:1.11593\n"
     ]
    },
    {
     "name": "stderr",
     "output_type": "stream",
     "text": []
    },
    {
     "name": "stdout",
     "output_type": "stream",
     "text": [
      "[477]\ttrain-mlogloss:0.00235\teval-mlogloss:1.11629\n"
     ]
    },
    {
     "name": "stderr",
     "output_type": "stream",
     "text": []
    },
    {
     "name": "stdout",
     "output_type": "stream",
     "text": [
      "[478]\ttrain-mlogloss:0.00234\teval-mlogloss:1.11714\n"
     ]
    },
    {
     "name": "stderr",
     "output_type": "stream",
     "text": []
    },
    {
     "name": "stdout",
     "output_type": "stream",
     "text": [
      "[479]\ttrain-mlogloss:0.00233\teval-mlogloss:1.11769\n"
     ]
    },
    {
     "name": "stderr",
     "output_type": "stream",
     "text": []
    },
    {
     "name": "stdout",
     "output_type": "stream",
     "text": [
      "[480]\ttrain-mlogloss:0.00232\teval-mlogloss:1.11820\n"
     ]
    },
    {
     "name": "stderr",
     "output_type": "stream",
     "text": []
    },
    {
     "name": "stdout",
     "output_type": "stream",
     "text": [
      "[481]\ttrain-mlogloss:0.00231\teval-mlogloss:1.11877\n"
     ]
    },
    {
     "name": "stderr",
     "output_type": "stream",
     "text": []
    },
    {
     "name": "stdout",
     "output_type": "stream",
     "text": [
      "[482]\ttrain-mlogloss:0.00230\teval-mlogloss:1.11921\n"
     ]
    },
    {
     "name": "stderr",
     "output_type": "stream",
     "text": []
    },
    {
     "name": "stdout",
     "output_type": "stream",
     "text": [
      "[483]\ttrain-mlogloss:0.00229\teval-mlogloss:1.11970\n"
     ]
    },
    {
     "name": "stderr",
     "output_type": "stream",
     "text": []
    },
    {
     "name": "stdout",
     "output_type": "stream",
     "text": [
      "[484]\ttrain-mlogloss:0.00228\teval-mlogloss:1.11991\n"
     ]
    },
    {
     "name": "stderr",
     "output_type": "stream",
     "text": []
    },
    {
     "name": "stdout",
     "output_type": "stream",
     "text": [
      "[485]\ttrain-mlogloss:0.00227\teval-mlogloss:1.12008\n"
     ]
    },
    {
     "name": "stderr",
     "output_type": "stream",
     "text": []
    },
    {
     "name": "stdout",
     "output_type": "stream",
     "text": [
      "[486]\ttrain-mlogloss:0.00226\teval-mlogloss:1.12000\n"
     ]
    },
    {
     "name": "stderr",
     "output_type": "stream",
     "text": []
    },
    {
     "name": "stdout",
     "output_type": "stream",
     "text": [
      "[487]\ttrain-mlogloss:0.00225\teval-mlogloss:1.12048\n"
     ]
    },
    {
     "name": "stderr",
     "output_type": "stream",
     "text": []
    },
    {
     "name": "stdout",
     "output_type": "stream",
     "text": [
      "[488]\ttrain-mlogloss:0.00224\teval-mlogloss:1.12023\n"
     ]
    },
    {
     "name": "stderr",
     "output_type": "stream",
     "text": []
    },
    {
     "name": "stdout",
     "output_type": "stream",
     "text": [
      "[489]\ttrain-mlogloss:0.00223\teval-mlogloss:1.12075\n"
     ]
    },
    {
     "name": "stderr",
     "output_type": "stream",
     "text": []
    },
    {
     "name": "stdout",
     "output_type": "stream",
     "text": [
      "[490]\ttrain-mlogloss:0.00222\teval-mlogloss:1.12129\n"
     ]
    },
    {
     "name": "stderr",
     "output_type": "stream",
     "text": []
    },
    {
     "name": "stdout",
     "output_type": "stream",
     "text": [
      "[491]\ttrain-mlogloss:0.00221\teval-mlogloss:1.12169\n"
     ]
    },
    {
     "name": "stderr",
     "output_type": "stream",
     "text": []
    },
    {
     "name": "stdout",
     "output_type": "stream",
     "text": [
      "[492]\ttrain-mlogloss:0.00220\teval-mlogloss:1.12245\n"
     ]
    },
    {
     "name": "stderr",
     "output_type": "stream",
     "text": []
    },
    {
     "name": "stdout",
     "output_type": "stream",
     "text": [
      "[493]\ttrain-mlogloss:0.00220\teval-mlogloss:1.12324\n"
     ]
    },
    {
     "name": "stderr",
     "output_type": "stream",
     "text": []
    },
    {
     "name": "stdout",
     "output_type": "stream",
     "text": [
      "[494]\ttrain-mlogloss:0.00219\teval-mlogloss:1.12360\n"
     ]
    },
    {
     "name": "stderr",
     "output_type": "stream",
     "text": []
    },
    {
     "name": "stdout",
     "output_type": "stream",
     "text": [
      "[495]\ttrain-mlogloss:0.00218\teval-mlogloss:1.12399\n"
     ]
    },
    {
     "name": "stderr",
     "output_type": "stream",
     "text": []
    },
    {
     "name": "stdout",
     "output_type": "stream",
     "text": [
      "[496]\ttrain-mlogloss:0.00217\teval-mlogloss:1.12442\n"
     ]
    },
    {
     "name": "stderr",
     "output_type": "stream",
     "text": []
    },
    {
     "name": "stdout",
     "output_type": "stream",
     "text": [
      "[497]\ttrain-mlogloss:0.00216\teval-mlogloss:1.12482\n"
     ]
    },
    {
     "name": "stderr",
     "output_type": "stream",
     "text": []
    },
    {
     "name": "stdout",
     "output_type": "stream",
     "text": [
      "[498]\ttrain-mlogloss:0.00215\teval-mlogloss:1.12563\n"
     ]
    },
    {
     "name": "stderr",
     "output_type": "stream",
     "text": []
    },
    {
     "name": "stdout",
     "output_type": "stream",
     "text": [
      "[499]\ttrain-mlogloss:0.00214\teval-mlogloss:1.12614\n"
     ]
    },
    {
     "name": "stderr",
     "output_type": "stream",
     "text": [
      "Final Training: 100%|██████████| 500/500 [39:15<00:00,  4.71s/round]"
     ]
    },
    {
     "name": "stdout",
     "output_type": "stream",
     "text": [
      "Final model saved at C:\\Users\\abhis\\Downloads\\Documents\\Learner Engagement Project\\models\\final_model.model\n"
     ]
    },
    {
     "name": "stderr",
     "output_type": "stream",
     "text": [
      "\n",
      "c:\\Users\\abhis\\Downloads\\Documents\\Learner Engagement Project\\venv\\Lib\\site-packages\\xgboost\\core.py:158: UserWarning: [00:54:49] WARNING: C:\\buildkite-agent\\builds\\buildkite-windows-cpu-autoscaling-group-i-08cbc0333d8d4aae1-1\\xgboost\\xgboost-ci-windows\\src\\c_api\\c_api.cc:1374: Saving model in the UBJSON format as default.  You can use file extension: `json`, `ubj` or `deprecated` to choose between formats.\n",
      "  warnings.warn(smsg, UserWarning)\n"
     ]
    }
   ],
   "source": [
    "X = np.array(X_features)\n",
    "y = np.array(y_labels)\n",
    "\n",
    "# Split data into training and validation sets\n",
    "X_tr, X_val, y_tr, y_val = train_test_split(X, y, test_size=0.2, random_state=42)\n",
    "\n",
    "# Define hyperparameter grid for XGBoost classifier\n",
    "param_grid = {\n",
    "    'max_depth': [3, 5, 7],\n",
    "    'learning_rate': [0.01, 0.1, 0.2],\n",
    "    'n_estimators': [50, 100, 200]\n",
    "}\n",
    "\n",
    "# Check for an existing checkpoint to resume grid search\n",
    "if CHECKPOINT_FILE.exists():\n",
    "    with open(CHECKPOINT_FILE, \"r\") as f:\n",
    "        checkpoint = json.load(f)\n",
    "    best_params = checkpoint.get(\"best_params\", None)\n",
    "    best_score = checkpoint.get(\"best_score\", 0)\n",
    "    start_combo = checkpoint.get(\"last_index\", 0)\n",
    "    tqdm.write(f\"Resuming grid search from index {start_combo} with best score so far: {best_score}\")\n",
    "else:\n",
    "    best_params = None\n",
    "    best_score = 0\n",
    "    start_combo = 0\n",
    "\n",
    "# Generate all hyperparameter combinations\n",
    "param_combinations = list(itertools.product(param_grid[\"max_depth\"],\n",
    "                                            param_grid[\"learning_rate\"],\n",
    "                                            param_grid[\"n_estimators\"]))\n",
    "tqdm.write(f\"Total hyperparameter combinations: {len(param_combinations)}\")\n",
    "\n",
    "# Manual grid search loop with checkpointing and progress bar\n",
    "pbar = tqdm(total=len(param_combinations), initial=start_combo, unit=\"combo\", desc=\"Grid Search\")\n",
    "for i, (max_depth, learning_rate, n_estimators) in enumerate(param_combinations):\n",
    "    if i < start_combo:\n",
    "        pbar.update(1)\n",
    "        continue  # Skip combinations already processed\n",
    "    \n",
    "    tqdm.write(f\"\\nTraining combination {i+1}/{len(param_combinations)}: max_depth={max_depth}, learning_rate={learning_rate}, n_estimators={n_estimators}\")\n",
    "    \n",
    "    model = xgb.XGBClassifier(objective='multi:softmax', num_class=4,\n",
    "                              max_depth=max_depth,\n",
    "                              learning_rate=learning_rate,\n",
    "                              n_estimators=n_estimators,\n",
    "                              use_label_encoder=False,\n",
    "                              eval_metric=\"mlogloss\",\n",
    "                              random_state=42)\n",
    "    \n",
    "    model.fit(X_tr, y_tr)\n",
    "    preds = model.predict(X_val)\n",
    "    acc = accuracy_score(y_val, preds)\n",
    "    tqdm.write(f\"Validation Accuracy: {acc:.4f}\")\n",
    "    \n",
    "    # Update best model if current combination is better\n",
    "    if acc > best_score:\n",
    "        best_score = acc\n",
    "        best_params = {\"max_depth\": max_depth,\n",
    "                       \"learning_rate\": learning_rate,\n",
    "                       \"n_estimators\": n_estimators}\n",
    "        # Save the best model\n",
    "        model.save_model(str(FINAL_MODEL_PATH))\n",
    "        tqdm.write(f\"New best model saved with accuracy: {best_score:.4f}\")\n",
    "    \n",
    "    # Save checkpoint progress\n",
    "    checkpoint_data = {\n",
    "        \"last_index\": i+1,\n",
    "        \"best_params\": best_params,\n",
    "        \"best_score\": best_score\n",
    "    }\n",
    "    with open(CHECKPOINT_FILE, \"w\") as f:\n",
    "        json.dump(checkpoint_data, f)\n",
    "    tqdm.write(f\"Checkpoint updated: {checkpoint_data}\")\n",
    "    \n",
    "    pbar.update(1)\n",
    "pbar.close()\n",
    "\n",
    "tqdm.write(\"\\nGrid search complete.\")\n",
    "tqdm.write(f\"Best Hyperparameters: {best_params} with Validation Accuracy: {best_score:.4f}\")\n",
    "\n",
    "# Final Training with Checkpointing using xgb.train\n",
    "if best_params is None:\n",
    "    print(\"No valid hyperparameters were found during grid search. Exiting final training.\")\n",
    "else:\n",
    "    # Convert training and validation sets to DMatrix format for xgb.train\n",
    "    dtrain = xgb.DMatrix(X_tr, label=y_tr)\n",
    "    dval = xgb.DMatrix(X_val, label=y_val)\n",
    "    \n",
    "    # Map the best hyperparameters to xgb.train parameters (note: use 'eta' instead of 'learning_rate')\n",
    "    params = {\n",
    "        'max_depth': best_params['max_depth'],\n",
    "        'eta': best_params['learning_rate'],\n",
    "        'objective': 'multi:softmax',\n",
    "        'num_class': 4,\n",
    "        'eval_metric': 'mlogloss'\n",
    "    }\n",
    "    \n",
    "    num_boost_round = 500  # Total boosting rounds\n",
    "    watchlist = [(dtrain, 'train'), (dval, 'eval')]\n",
    "    checkpoint_dir = MODEL_DIR / \"final_training_checkpoints\"\n",
    "    os.makedirs(checkpoint_dir, exist_ok=True)\n",
    "    \n",
    "    # Create a tqdm progress bar for final training\n",
    "    pbar_train = tqdm(total=num_boost_round, unit=\"round\", desc=\"Final Training\")\n",
    "    \n",
    "    # Use our custom callback here\n",
    "    checkpoint_cb = CheckpointCallback(pbar_train, checkpoint_dir)\n",
    "    \n",
    "    bst = xgb.train(\n",
    "        params,\n",
    "        dtrain,\n",
    "        num_boost_round=num_boost_round,\n",
    "        evals=watchlist,\n",
    "        callbacks=[checkpoint_cb]\n",
    "    )\n",
    "    pbar_train.close()\n",
    "    \n",
    "    final_model_path = MODEL_DIR / \"final_model.model\"\n",
    "    bst.save_model(str(final_model_path))\n",
    "    print(f\"Final model saved at {final_model_path}\")"
   ]
  },
  {
   "cell_type": "markdown",
   "metadata": {},
   "source": [
    "##### **Train other categories using the same hyperparameters for engagament**\n"
   ]
  },
  {
   "cell_type": "code",
   "execution_count": 17,
   "metadata": {},
   "outputs": [
    {
     "name": "stdout",
     "output_type": "stream",
     "text": [
      "# --- Train Final Models for Multiple Metrics Using the Same Hyperparameters ---\n",
      "\n",
      "Using already trained Engagement model from C:\\Users\\abhis\\Downloads\\Documents\\Learner Engagement Project\\models\\final_model.model\n",
      "\n",
      "Training final model for Boredom...\n"
     ]
    },
    {
     "name": "stderr",
     "output_type": "stream",
     "text": []
    },
    {
     "name": "stdout",
     "output_type": "stream",
     "text": [
      "[0]\ttrain-mlogloss:1.27975\teval-mlogloss:1.31578\n"
     ]
    },
    {
     "name": "stderr",
     "output_type": "stream",
     "text": []
    },
    {
     "name": "stdout",
     "output_type": "stream",
     "text": [
      "[1]\ttrain-mlogloss:1.19461\teval-mlogloss:1.26778\n"
     ]
    },
    {
     "name": "stderr",
     "output_type": "stream",
     "text": []
    },
    {
     "name": "stdout",
     "output_type": "stream",
     "text": [
      "[2]\ttrain-mlogloss:1.12371\teval-mlogloss:1.22972\n"
     ]
    },
    {
     "name": "stderr",
     "output_type": "stream",
     "text": []
    },
    {
     "name": "stdout",
     "output_type": "stream",
     "text": [
      "[3]\ttrain-mlogloss:1.06782\teval-mlogloss:1.19896\n"
     ]
    },
    {
     "name": "stderr",
     "output_type": "stream",
     "text": []
    },
    {
     "name": "stdout",
     "output_type": "stream",
     "text": [
      "[4]\ttrain-mlogloss:1.01692\teval-mlogloss:1.17365\n"
     ]
    },
    {
     "name": "stderr",
     "output_type": "stream",
     "text": []
    },
    {
     "name": "stdout",
     "output_type": "stream",
     "text": [
      "[5]\ttrain-mlogloss:0.97265\teval-mlogloss:1.15952\n"
     ]
    },
    {
     "name": "stderr",
     "output_type": "stream",
     "text": []
    },
    {
     "name": "stdout",
     "output_type": "stream",
     "text": [
      "[6]\ttrain-mlogloss:0.93779\teval-mlogloss:1.14468\n"
     ]
    },
    {
     "name": "stderr",
     "output_type": "stream",
     "text": []
    },
    {
     "name": "stdout",
     "output_type": "stream",
     "text": [
      "[7]\ttrain-mlogloss:0.90618\teval-mlogloss:1.13154\n"
     ]
    },
    {
     "name": "stderr",
     "output_type": "stream",
     "text": []
    },
    {
     "name": "stdout",
     "output_type": "stream",
     "text": [
      "[8]\ttrain-mlogloss:0.87478\teval-mlogloss:1.12018\n"
     ]
    },
    {
     "name": "stderr",
     "output_type": "stream",
     "text": []
    },
    {
     "name": "stdout",
     "output_type": "stream",
     "text": [
      "[9]\ttrain-mlogloss:0.84735\teval-mlogloss:1.11062\n"
     ]
    },
    {
     "name": "stderr",
     "output_type": "stream",
     "text": []
    },
    {
     "name": "stdout",
     "output_type": "stream",
     "text": [
      "[10]\ttrain-mlogloss:0.81780\teval-mlogloss:1.10430\n"
     ]
    },
    {
     "name": "stderr",
     "output_type": "stream",
     "text": []
    },
    {
     "name": "stdout",
     "output_type": "stream",
     "text": [
      "[11]\ttrain-mlogloss:0.79338\teval-mlogloss:1.09650\n"
     ]
    },
    {
     "name": "stderr",
     "output_type": "stream",
     "text": []
    },
    {
     "name": "stdout",
     "output_type": "stream",
     "text": [
      "[12]\ttrain-mlogloss:0.77139\teval-mlogloss:1.09029\n"
     ]
    },
    {
     "name": "stderr",
     "output_type": "stream",
     "text": []
    },
    {
     "name": "stdout",
     "output_type": "stream",
     "text": [
      "[13]\ttrain-mlogloss:0.75281\teval-mlogloss:1.08799\n"
     ]
    },
    {
     "name": "stderr",
     "output_type": "stream",
     "text": []
    },
    {
     "name": "stdout",
     "output_type": "stream",
     "text": [
      "[14]\ttrain-mlogloss:0.73176\teval-mlogloss:1.08718\n"
     ]
    },
    {
     "name": "stderr",
     "output_type": "stream",
     "text": []
    },
    {
     "name": "stdout",
     "output_type": "stream",
     "text": [
      "[15]\ttrain-mlogloss:0.71722\teval-mlogloss:1.08423\n"
     ]
    },
    {
     "name": "stderr",
     "output_type": "stream",
     "text": []
    },
    {
     "name": "stdout",
     "output_type": "stream",
     "text": [
      "[16]\ttrain-mlogloss:0.70355\teval-mlogloss:1.08559\n"
     ]
    },
    {
     "name": "stderr",
     "output_type": "stream",
     "text": []
    },
    {
     "name": "stdout",
     "output_type": "stream",
     "text": [
      "[17]\ttrain-mlogloss:0.68608\teval-mlogloss:1.08401\n"
     ]
    },
    {
     "name": "stderr",
     "output_type": "stream",
     "text": []
    },
    {
     "name": "stdout",
     "output_type": "stream",
     "text": [
      "[18]\ttrain-mlogloss:0.67170\teval-mlogloss:1.08411\n"
     ]
    },
    {
     "name": "stderr",
     "output_type": "stream",
     "text": []
    },
    {
     "name": "stdout",
     "output_type": "stream",
     "text": [
      "[19]\ttrain-mlogloss:0.65880\teval-mlogloss:1.08309\n"
     ]
    },
    {
     "name": "stderr",
     "output_type": "stream",
     "text": []
    },
    {
     "name": "stdout",
     "output_type": "stream",
     "text": [
      "[20]\ttrain-mlogloss:0.64367\teval-mlogloss:1.08089\n"
     ]
    },
    {
     "name": "stderr",
     "output_type": "stream",
     "text": []
    },
    {
     "name": "stdout",
     "output_type": "stream",
     "text": [
      "[21]\ttrain-mlogloss:0.63239\teval-mlogloss:1.08115\n"
     ]
    },
    {
     "name": "stderr",
     "output_type": "stream",
     "text": []
    },
    {
     "name": "stdout",
     "output_type": "stream",
     "text": [
      "[22]\ttrain-mlogloss:0.61822\teval-mlogloss:1.08342\n"
     ]
    },
    {
     "name": "stderr",
     "output_type": "stream",
     "text": []
    },
    {
     "name": "stdout",
     "output_type": "stream",
     "text": [
      "[23]\ttrain-mlogloss:0.60443\teval-mlogloss:1.08598\n"
     ]
    },
    {
     "name": "stderr",
     "output_type": "stream",
     "text": []
    },
    {
     "name": "stdout",
     "output_type": "stream",
     "text": [
      "[24]\ttrain-mlogloss:0.59572\teval-mlogloss:1.08741\n"
     ]
    },
    {
     "name": "stderr",
     "output_type": "stream",
     "text": []
    },
    {
     "name": "stdout",
     "output_type": "stream",
     "text": [
      "[25]\ttrain-mlogloss:0.58816\teval-mlogloss:1.08770\n"
     ]
    },
    {
     "name": "stderr",
     "output_type": "stream",
     "text": []
    },
    {
     "name": "stdout",
     "output_type": "stream",
     "text": [
      "[26]\ttrain-mlogloss:0.58095\teval-mlogloss:1.08850\n"
     ]
    },
    {
     "name": "stderr",
     "output_type": "stream",
     "text": []
    },
    {
     "name": "stdout",
     "output_type": "stream",
     "text": [
      "[27]\ttrain-mlogloss:0.57103\teval-mlogloss:1.09115\n"
     ]
    },
    {
     "name": "stderr",
     "output_type": "stream",
     "text": []
    },
    {
     "name": "stdout",
     "output_type": "stream",
     "text": [
      "[28]\ttrain-mlogloss:0.56112\teval-mlogloss:1.09248\n"
     ]
    },
    {
     "name": "stderr",
     "output_type": "stream",
     "text": []
    },
    {
     "name": "stdout",
     "output_type": "stream",
     "text": [
      "[29]\ttrain-mlogloss:0.55393\teval-mlogloss:1.09530\n"
     ]
    },
    {
     "name": "stderr",
     "output_type": "stream",
     "text": []
    },
    {
     "name": "stdout",
     "output_type": "stream",
     "text": [
      "[30]\ttrain-mlogloss:0.54343\teval-mlogloss:1.09756\n"
     ]
    },
    {
     "name": "stderr",
     "output_type": "stream",
     "text": []
    },
    {
     "name": "stdout",
     "output_type": "stream",
     "text": [
      "[31]\ttrain-mlogloss:0.53849\teval-mlogloss:1.09803\n"
     ]
    },
    {
     "name": "stderr",
     "output_type": "stream",
     "text": []
    },
    {
     "name": "stdout",
     "output_type": "stream",
     "text": [
      "[32]\ttrain-mlogloss:0.52833\teval-mlogloss:1.10052\n"
     ]
    },
    {
     "name": "stderr",
     "output_type": "stream",
     "text": []
    },
    {
     "name": "stdout",
     "output_type": "stream",
     "text": [
      "[33]\ttrain-mlogloss:0.52270\teval-mlogloss:1.10218\n"
     ]
    },
    {
     "name": "stderr",
     "output_type": "stream",
     "text": []
    },
    {
     "name": "stdout",
     "output_type": "stream",
     "text": [
      "[34]\ttrain-mlogloss:0.51440\teval-mlogloss:1.10484\n"
     ]
    },
    {
     "name": "stderr",
     "output_type": "stream",
     "text": []
    },
    {
     "name": "stdout",
     "output_type": "stream",
     "text": [
      "[35]\ttrain-mlogloss:0.50841\teval-mlogloss:1.10554\n"
     ]
    },
    {
     "name": "stderr",
     "output_type": "stream",
     "text": []
    },
    {
     "name": "stdout",
     "output_type": "stream",
     "text": [
      "[36]\ttrain-mlogloss:0.49937\teval-mlogloss:1.10784\n"
     ]
    },
    {
     "name": "stderr",
     "output_type": "stream",
     "text": []
    },
    {
     "name": "stdout",
     "output_type": "stream",
     "text": [
      "[37]\ttrain-mlogloss:0.49481\teval-mlogloss:1.10913\n"
     ]
    },
    {
     "name": "stderr",
     "output_type": "stream",
     "text": []
    },
    {
     "name": "stdout",
     "output_type": "stream",
     "text": [
      "[38]\ttrain-mlogloss:0.48948\teval-mlogloss:1.11074\n"
     ]
    },
    {
     "name": "stderr",
     "output_type": "stream",
     "text": []
    },
    {
     "name": "stdout",
     "output_type": "stream",
     "text": [
      "[39]\ttrain-mlogloss:0.48236\teval-mlogloss:1.11329\n"
     ]
    },
    {
     "name": "stderr",
     "output_type": "stream",
     "text": []
    },
    {
     "name": "stdout",
     "output_type": "stream",
     "text": [
      "[40]\ttrain-mlogloss:0.47453\teval-mlogloss:1.11498\n"
     ]
    },
    {
     "name": "stderr",
     "output_type": "stream",
     "text": []
    },
    {
     "name": "stdout",
     "output_type": "stream",
     "text": [
      "[41]\ttrain-mlogloss:0.46688\teval-mlogloss:1.11999\n"
     ]
    },
    {
     "name": "stderr",
     "output_type": "stream",
     "text": []
    },
    {
     "name": "stdout",
     "output_type": "stream",
     "text": [
      "[42]\ttrain-mlogloss:0.46151\teval-mlogloss:1.12162\n"
     ]
    },
    {
     "name": "stderr",
     "output_type": "stream",
     "text": []
    },
    {
     "name": "stdout",
     "output_type": "stream",
     "text": [
      "[43]\ttrain-mlogloss:0.45702\teval-mlogloss:1.12331\n"
     ]
    },
    {
     "name": "stderr",
     "output_type": "stream",
     "text": []
    },
    {
     "name": "stdout",
     "output_type": "stream",
     "text": [
      "[44]\ttrain-mlogloss:0.45089\teval-mlogloss:1.12551\n"
     ]
    },
    {
     "name": "stderr",
     "output_type": "stream",
     "text": []
    },
    {
     "name": "stdout",
     "output_type": "stream",
     "text": [
      "[45]\ttrain-mlogloss:0.44426\teval-mlogloss:1.12722\n"
     ]
    },
    {
     "name": "stderr",
     "output_type": "stream",
     "text": []
    },
    {
     "name": "stdout",
     "output_type": "stream",
     "text": [
      "[46]\ttrain-mlogloss:0.43731\teval-mlogloss:1.13087\n"
     ]
    },
    {
     "name": "stderr",
     "output_type": "stream",
     "text": []
    },
    {
     "name": "stdout",
     "output_type": "stream",
     "text": [
      "[47]\ttrain-mlogloss:0.43307\teval-mlogloss:1.13241\n"
     ]
    },
    {
     "name": "stderr",
     "output_type": "stream",
     "text": []
    },
    {
     "name": "stdout",
     "output_type": "stream",
     "text": [
      "[48]\ttrain-mlogloss:0.42728\teval-mlogloss:1.13328\n"
     ]
    },
    {
     "name": "stderr",
     "output_type": "stream",
     "text": []
    },
    {
     "name": "stdout",
     "output_type": "stream",
     "text": [
      "[49]\ttrain-mlogloss:0.42245\teval-mlogloss:1.13413\n"
     ]
    },
    {
     "name": "stderr",
     "output_type": "stream",
     "text": [
      "c:\\Users\\abhis\\Downloads\\Documents\\Learner Engagement Project\\venv\\Lib\\site-packages\\xgboost\\core.py:158: UserWarning: [01:09:33] WARNING: C:\\buildkite-agent\\builds\\buildkite-windows-cpu-autoscaling-group-i-08cbc0333d8d4aae1-1\\xgboost\\xgboost-ci-windows\\src\\c_api\\c_api.cc:1374: Saving model in the UBJSON format as default.  You can use file extension: `json`, `ubj` or `deprecated` to choose between formats.\n",
      "  warnings.warn(smsg, UserWarning)\n",
      "                                                                     \n",
      "Final Training Engagement:   0%|          | 0/500 [11:47<?, ?round/s]      "
     ]
    },
    {
     "name": "stdout",
     "output_type": "stream",
     "text": [
      "Checkpoint saved at iteration 50\n",
      "[50]\ttrain-mlogloss:0.41649\teval-mlogloss:1.13597\n"
     ]
    },
    {
     "name": "stderr",
     "output_type": "stream",
     "text": []
    },
    {
     "name": "stdout",
     "output_type": "stream",
     "text": [
      "[51]\ttrain-mlogloss:0.40912\teval-mlogloss:1.13966\n"
     ]
    },
    {
     "name": "stderr",
     "output_type": "stream",
     "text": []
    },
    {
     "name": "stdout",
     "output_type": "stream",
     "text": [
      "[52]\ttrain-mlogloss:0.40307\teval-mlogloss:1.14090\n"
     ]
    },
    {
     "name": "stderr",
     "output_type": "stream",
     "text": []
    },
    {
     "name": "stdout",
     "output_type": "stream",
     "text": [
      "[53]\ttrain-mlogloss:0.39824\teval-mlogloss:1.14339\n"
     ]
    },
    {
     "name": "stderr",
     "output_type": "stream",
     "text": []
    },
    {
     "name": "stdout",
     "output_type": "stream",
     "text": [
      "[54]\ttrain-mlogloss:0.39497\teval-mlogloss:1.14538\n"
     ]
    },
    {
     "name": "stderr",
     "output_type": "stream",
     "text": []
    },
    {
     "name": "stdout",
     "output_type": "stream",
     "text": [
      "[55]\ttrain-mlogloss:0.39078\teval-mlogloss:1.14767\n"
     ]
    },
    {
     "name": "stderr",
     "output_type": "stream",
     "text": []
    },
    {
     "name": "stdout",
     "output_type": "stream",
     "text": [
      "[56]\ttrain-mlogloss:0.38655\teval-mlogloss:1.14973\n"
     ]
    },
    {
     "name": "stderr",
     "output_type": "stream",
     "text": []
    },
    {
     "name": "stdout",
     "output_type": "stream",
     "text": [
      "[57]\ttrain-mlogloss:0.38108\teval-mlogloss:1.15138\n"
     ]
    },
    {
     "name": "stderr",
     "output_type": "stream",
     "text": []
    },
    {
     "name": "stdout",
     "output_type": "stream",
     "text": [
      "[58]\ttrain-mlogloss:0.37539\teval-mlogloss:1.15146\n"
     ]
    },
    {
     "name": "stderr",
     "output_type": "stream",
     "text": []
    },
    {
     "name": "stdout",
     "output_type": "stream",
     "text": [
      "[59]\ttrain-mlogloss:0.37166\teval-mlogloss:1.15387\n"
     ]
    },
    {
     "name": "stderr",
     "output_type": "stream",
     "text": []
    },
    {
     "name": "stdout",
     "output_type": "stream",
     "text": [
      "[60]\ttrain-mlogloss:0.36875\teval-mlogloss:1.15500\n"
     ]
    },
    {
     "name": "stderr",
     "output_type": "stream",
     "text": []
    },
    {
     "name": "stdout",
     "output_type": "stream",
     "text": [
      "[61]\ttrain-mlogloss:0.36537\teval-mlogloss:1.15710\n"
     ]
    },
    {
     "name": "stderr",
     "output_type": "stream",
     "text": []
    },
    {
     "name": "stdout",
     "output_type": "stream",
     "text": [
      "[62]\ttrain-mlogloss:0.36110\teval-mlogloss:1.15923\n"
     ]
    },
    {
     "name": "stderr",
     "output_type": "stream",
     "text": []
    },
    {
     "name": "stdout",
     "output_type": "stream",
     "text": [
      "[63]\ttrain-mlogloss:0.35790\teval-mlogloss:1.16008\n"
     ]
    },
    {
     "name": "stderr",
     "output_type": "stream",
     "text": []
    },
    {
     "name": "stdout",
     "output_type": "stream",
     "text": [
      "[64]\ttrain-mlogloss:0.35439\teval-mlogloss:1.16291\n"
     ]
    },
    {
     "name": "stderr",
     "output_type": "stream",
     "text": []
    },
    {
     "name": "stdout",
     "output_type": "stream",
     "text": [
      "[65]\ttrain-mlogloss:0.35133\teval-mlogloss:1.16389\n"
     ]
    },
    {
     "name": "stderr",
     "output_type": "stream",
     "text": []
    },
    {
     "name": "stdout",
     "output_type": "stream",
     "text": [
      "[66]\ttrain-mlogloss:0.34634\teval-mlogloss:1.16601\n"
     ]
    },
    {
     "name": "stderr",
     "output_type": "stream",
     "text": []
    },
    {
     "name": "stdout",
     "output_type": "stream",
     "text": [
      "[67]\ttrain-mlogloss:0.34317\teval-mlogloss:1.16643\n"
     ]
    },
    {
     "name": "stderr",
     "output_type": "stream",
     "text": []
    },
    {
     "name": "stdout",
     "output_type": "stream",
     "text": [
      "[68]\ttrain-mlogloss:0.33927\teval-mlogloss:1.16917\n"
     ]
    },
    {
     "name": "stderr",
     "output_type": "stream",
     "text": []
    },
    {
     "name": "stdout",
     "output_type": "stream",
     "text": [
      "[69]\ttrain-mlogloss:0.33456\teval-mlogloss:1.17169\n"
     ]
    },
    {
     "name": "stderr",
     "output_type": "stream",
     "text": []
    },
    {
     "name": "stdout",
     "output_type": "stream",
     "text": [
      "[70]\ttrain-mlogloss:0.32969\teval-mlogloss:1.17506\n"
     ]
    },
    {
     "name": "stderr",
     "output_type": "stream",
     "text": []
    },
    {
     "name": "stdout",
     "output_type": "stream",
     "text": [
      "[71]\ttrain-mlogloss:0.32686\teval-mlogloss:1.17668\n"
     ]
    },
    {
     "name": "stderr",
     "output_type": "stream",
     "text": []
    },
    {
     "name": "stdout",
     "output_type": "stream",
     "text": [
      "[72]\ttrain-mlogloss:0.32186\teval-mlogloss:1.17995\n"
     ]
    },
    {
     "name": "stderr",
     "output_type": "stream",
     "text": []
    },
    {
     "name": "stdout",
     "output_type": "stream",
     "text": [
      "[73]\ttrain-mlogloss:0.31787\teval-mlogloss:1.18250\n"
     ]
    },
    {
     "name": "stderr",
     "output_type": "stream",
     "text": []
    },
    {
     "name": "stdout",
     "output_type": "stream",
     "text": [
      "[74]\ttrain-mlogloss:0.31434\teval-mlogloss:1.18462\n"
     ]
    },
    {
     "name": "stderr",
     "output_type": "stream",
     "text": []
    },
    {
     "name": "stdout",
     "output_type": "stream",
     "text": [
      "[75]\ttrain-mlogloss:0.30955\teval-mlogloss:1.18759\n"
     ]
    },
    {
     "name": "stderr",
     "output_type": "stream",
     "text": []
    },
    {
     "name": "stdout",
     "output_type": "stream",
     "text": [
      "[76]\ttrain-mlogloss:0.30608\teval-mlogloss:1.18993\n"
     ]
    },
    {
     "name": "stderr",
     "output_type": "stream",
     "text": []
    },
    {
     "name": "stdout",
     "output_type": "stream",
     "text": [
      "[77]\ttrain-mlogloss:0.30274\teval-mlogloss:1.19157\n"
     ]
    },
    {
     "name": "stderr",
     "output_type": "stream",
     "text": []
    },
    {
     "name": "stdout",
     "output_type": "stream",
     "text": [
      "[78]\ttrain-mlogloss:0.30046\teval-mlogloss:1.19210\n"
     ]
    },
    {
     "name": "stderr",
     "output_type": "stream",
     "text": []
    },
    {
     "name": "stdout",
     "output_type": "stream",
     "text": [
      "[79]\ttrain-mlogloss:0.29675\teval-mlogloss:1.19289\n"
     ]
    },
    {
     "name": "stderr",
     "output_type": "stream",
     "text": []
    },
    {
     "name": "stdout",
     "output_type": "stream",
     "text": [
      "[80]\ttrain-mlogloss:0.29380\teval-mlogloss:1.19386\n"
     ]
    },
    {
     "name": "stderr",
     "output_type": "stream",
     "text": []
    },
    {
     "name": "stdout",
     "output_type": "stream",
     "text": [
      "[81]\ttrain-mlogloss:0.29070\teval-mlogloss:1.19517\n"
     ]
    },
    {
     "name": "stderr",
     "output_type": "stream",
     "text": []
    },
    {
     "name": "stdout",
     "output_type": "stream",
     "text": [
      "[82]\ttrain-mlogloss:0.28675\teval-mlogloss:1.19834\n"
     ]
    },
    {
     "name": "stderr",
     "output_type": "stream",
     "text": []
    },
    {
     "name": "stdout",
     "output_type": "stream",
     "text": [
      "[83]\ttrain-mlogloss:0.28330\teval-mlogloss:1.19995\n"
     ]
    },
    {
     "name": "stderr",
     "output_type": "stream",
     "text": []
    },
    {
     "name": "stdout",
     "output_type": "stream",
     "text": [
      "[84]\ttrain-mlogloss:0.28038\teval-mlogloss:1.20157\n"
     ]
    },
    {
     "name": "stderr",
     "output_type": "stream",
     "text": []
    },
    {
     "name": "stdout",
     "output_type": "stream",
     "text": [
      "[85]\ttrain-mlogloss:0.27758\teval-mlogloss:1.20431\n"
     ]
    },
    {
     "name": "stderr",
     "output_type": "stream",
     "text": []
    },
    {
     "name": "stdout",
     "output_type": "stream",
     "text": [
      "[86]\ttrain-mlogloss:0.27388\teval-mlogloss:1.20751\n"
     ]
    },
    {
     "name": "stderr",
     "output_type": "stream",
     "text": []
    },
    {
     "name": "stdout",
     "output_type": "stream",
     "text": [
      "[87]\ttrain-mlogloss:0.27044\teval-mlogloss:1.20914\n"
     ]
    },
    {
     "name": "stderr",
     "output_type": "stream",
     "text": []
    },
    {
     "name": "stdout",
     "output_type": "stream",
     "text": [
      "[88]\ttrain-mlogloss:0.26780\teval-mlogloss:1.21059\n"
     ]
    },
    {
     "name": "stderr",
     "output_type": "stream",
     "text": []
    },
    {
     "name": "stdout",
     "output_type": "stream",
     "text": [
      "[89]\ttrain-mlogloss:0.26520\teval-mlogloss:1.21115\n"
     ]
    },
    {
     "name": "stderr",
     "output_type": "stream",
     "text": []
    },
    {
     "name": "stdout",
     "output_type": "stream",
     "text": [
      "[90]\ttrain-mlogloss:0.26392\teval-mlogloss:1.21194\n"
     ]
    },
    {
     "name": "stderr",
     "output_type": "stream",
     "text": []
    },
    {
     "name": "stdout",
     "output_type": "stream",
     "text": [
      "[91]\ttrain-mlogloss:0.26193\teval-mlogloss:1.21448\n"
     ]
    },
    {
     "name": "stderr",
     "output_type": "stream",
     "text": []
    },
    {
     "name": "stdout",
     "output_type": "stream",
     "text": [
      "[92]\ttrain-mlogloss:0.25940\teval-mlogloss:1.21624\n"
     ]
    },
    {
     "name": "stderr",
     "output_type": "stream",
     "text": []
    },
    {
     "name": "stdout",
     "output_type": "stream",
     "text": [
      "[93]\ttrain-mlogloss:0.25770\teval-mlogloss:1.21729\n"
     ]
    },
    {
     "name": "stderr",
     "output_type": "stream",
     "text": []
    },
    {
     "name": "stdout",
     "output_type": "stream",
     "text": [
      "[94]\ttrain-mlogloss:0.25588\teval-mlogloss:1.21836\n"
     ]
    },
    {
     "name": "stderr",
     "output_type": "stream",
     "text": []
    },
    {
     "name": "stdout",
     "output_type": "stream",
     "text": [
      "[95]\ttrain-mlogloss:0.25376\teval-mlogloss:1.22025\n"
     ]
    },
    {
     "name": "stderr",
     "output_type": "stream",
     "text": []
    },
    {
     "name": "stdout",
     "output_type": "stream",
     "text": [
      "[96]\ttrain-mlogloss:0.25037\teval-mlogloss:1.22208\n"
     ]
    },
    {
     "name": "stderr",
     "output_type": "stream",
     "text": []
    },
    {
     "name": "stdout",
     "output_type": "stream",
     "text": [
      "[97]\ttrain-mlogloss:0.24782\teval-mlogloss:1.22573\n"
     ]
    },
    {
     "name": "stderr",
     "output_type": "stream",
     "text": []
    },
    {
     "name": "stdout",
     "output_type": "stream",
     "text": [
      "[98]\ttrain-mlogloss:0.24516\teval-mlogloss:1.22835\n"
     ]
    },
    {
     "name": "stderr",
     "output_type": "stream",
     "text": []
    },
    {
     "name": "stdout",
     "output_type": "stream",
     "text": [
      "[99]\ttrain-mlogloss:0.24332\teval-mlogloss:1.23007\n"
     ]
    },
    {
     "name": "stderr",
     "output_type": "stream",
     "text": [
      "c:\\Users\\abhis\\Downloads\\Documents\\Learner Engagement Project\\venv\\Lib\\site-packages\\xgboost\\core.py:158: UserWarning: [01:14:09] WARNING: C:\\buildkite-agent\\builds\\buildkite-windows-cpu-autoscaling-group-i-08cbc0333d8d4aae1-1\\xgboost\\xgboost-ci-windows\\src\\c_api\\c_api.cc:1374: Saving model in the UBJSON format as default.  You can use file extension: `json`, `ubj` or `deprecated` to choose between formats.\n",
      "  warnings.warn(smsg, UserWarning)\n",
      "                                                                     \n",
      "Final Training Engagement:   0%|          | 0/500 [16:23<?, ?round/s]       "
     ]
    },
    {
     "name": "stdout",
     "output_type": "stream",
     "text": [
      "Checkpoint saved at iteration 100\n",
      "[100]\ttrain-mlogloss:0.24051\teval-mlogloss:1.23327\n"
     ]
    },
    {
     "name": "stderr",
     "output_type": "stream",
     "text": []
    },
    {
     "name": "stdout",
     "output_type": "stream",
     "text": [
      "[101]\ttrain-mlogloss:0.23813\teval-mlogloss:1.23508\n"
     ]
    },
    {
     "name": "stderr",
     "output_type": "stream",
     "text": []
    },
    {
     "name": "stdout",
     "output_type": "stream",
     "text": [
      "[102]\ttrain-mlogloss:0.23553\teval-mlogloss:1.23739\n"
     ]
    },
    {
     "name": "stderr",
     "output_type": "stream",
     "text": []
    },
    {
     "name": "stdout",
     "output_type": "stream",
     "text": [
      "[103]\ttrain-mlogloss:0.23350\teval-mlogloss:1.23983\n"
     ]
    },
    {
     "name": "stderr",
     "output_type": "stream",
     "text": []
    },
    {
     "name": "stdout",
     "output_type": "stream",
     "text": [
      "[104]\ttrain-mlogloss:0.23163\teval-mlogloss:1.24237\n"
     ]
    },
    {
     "name": "stderr",
     "output_type": "stream",
     "text": []
    },
    {
     "name": "stdout",
     "output_type": "stream",
     "text": [
      "[105]\ttrain-mlogloss:0.22969\teval-mlogloss:1.24462\n"
     ]
    },
    {
     "name": "stderr",
     "output_type": "stream",
     "text": []
    },
    {
     "name": "stdout",
     "output_type": "stream",
     "text": [
      "[106]\ttrain-mlogloss:0.22739\teval-mlogloss:1.24657\n"
     ]
    },
    {
     "name": "stderr",
     "output_type": "stream",
     "text": []
    },
    {
     "name": "stdout",
     "output_type": "stream",
     "text": [
      "[107]\ttrain-mlogloss:0.22484\teval-mlogloss:1.24943\n"
     ]
    },
    {
     "name": "stderr",
     "output_type": "stream",
     "text": []
    },
    {
     "name": "stdout",
     "output_type": "stream",
     "text": [
      "[108]\ttrain-mlogloss:0.22272\teval-mlogloss:1.25108\n"
     ]
    },
    {
     "name": "stderr",
     "output_type": "stream",
     "text": []
    },
    {
     "name": "stdout",
     "output_type": "stream",
     "text": [
      "[109]\ttrain-mlogloss:0.22000\teval-mlogloss:1.25275\n"
     ]
    },
    {
     "name": "stderr",
     "output_type": "stream",
     "text": []
    },
    {
     "name": "stdout",
     "output_type": "stream",
     "text": [
      "[110]\ttrain-mlogloss:0.21819\teval-mlogloss:1.25626\n"
     ]
    },
    {
     "name": "stderr",
     "output_type": "stream",
     "text": []
    },
    {
     "name": "stdout",
     "output_type": "stream",
     "text": [
      "[111]\ttrain-mlogloss:0.21601\teval-mlogloss:1.25863\n"
     ]
    },
    {
     "name": "stderr",
     "output_type": "stream",
     "text": []
    },
    {
     "name": "stdout",
     "output_type": "stream",
     "text": [
      "[112]\ttrain-mlogloss:0.21443\teval-mlogloss:1.25903\n"
     ]
    },
    {
     "name": "stderr",
     "output_type": "stream",
     "text": []
    },
    {
     "name": "stdout",
     "output_type": "stream",
     "text": [
      "[113]\ttrain-mlogloss:0.21299\teval-mlogloss:1.26004\n"
     ]
    },
    {
     "name": "stderr",
     "output_type": "stream",
     "text": []
    },
    {
     "name": "stdout",
     "output_type": "stream",
     "text": [
      "[114]\ttrain-mlogloss:0.21107\teval-mlogloss:1.26215\n"
     ]
    },
    {
     "name": "stderr",
     "output_type": "stream",
     "text": []
    },
    {
     "name": "stdout",
     "output_type": "stream",
     "text": [
      "[115]\ttrain-mlogloss:0.20963\teval-mlogloss:1.26317\n"
     ]
    },
    {
     "name": "stderr",
     "output_type": "stream",
     "text": []
    },
    {
     "name": "stdout",
     "output_type": "stream",
     "text": [
      "[116]\ttrain-mlogloss:0.20838\teval-mlogloss:1.26595\n"
     ]
    },
    {
     "name": "stderr",
     "output_type": "stream",
     "text": []
    },
    {
     "name": "stdout",
     "output_type": "stream",
     "text": [
      "[117]\ttrain-mlogloss:0.20723\teval-mlogloss:1.26808\n"
     ]
    },
    {
     "name": "stderr",
     "output_type": "stream",
     "text": []
    },
    {
     "name": "stdout",
     "output_type": "stream",
     "text": [
      "[118]\ttrain-mlogloss:0.20518\teval-mlogloss:1.27030\n"
     ]
    },
    {
     "name": "stderr",
     "output_type": "stream",
     "text": []
    },
    {
     "name": "stdout",
     "output_type": "stream",
     "text": [
      "[119]\ttrain-mlogloss:0.20337\teval-mlogloss:1.27321\n"
     ]
    },
    {
     "name": "stderr",
     "output_type": "stream",
     "text": []
    },
    {
     "name": "stdout",
     "output_type": "stream",
     "text": [
      "[120]\ttrain-mlogloss:0.20129\teval-mlogloss:1.27447\n"
     ]
    },
    {
     "name": "stderr",
     "output_type": "stream",
     "text": []
    },
    {
     "name": "stdout",
     "output_type": "stream",
     "text": [
      "[121]\ttrain-mlogloss:0.19938\teval-mlogloss:1.27556\n"
     ]
    },
    {
     "name": "stderr",
     "output_type": "stream",
     "text": []
    },
    {
     "name": "stdout",
     "output_type": "stream",
     "text": [
      "[122]\ttrain-mlogloss:0.19729\teval-mlogloss:1.27647\n"
     ]
    },
    {
     "name": "stderr",
     "output_type": "stream",
     "text": []
    },
    {
     "name": "stdout",
     "output_type": "stream",
     "text": [
      "[123]\ttrain-mlogloss:0.19567\teval-mlogloss:1.27773\n"
     ]
    },
    {
     "name": "stderr",
     "output_type": "stream",
     "text": []
    },
    {
     "name": "stdout",
     "output_type": "stream",
     "text": [
      "[124]\ttrain-mlogloss:0.19482\teval-mlogloss:1.27816\n"
     ]
    },
    {
     "name": "stderr",
     "output_type": "stream",
     "text": []
    },
    {
     "name": "stdout",
     "output_type": "stream",
     "text": [
      "[125]\ttrain-mlogloss:0.19319\teval-mlogloss:1.28070\n"
     ]
    },
    {
     "name": "stderr",
     "output_type": "stream",
     "text": []
    },
    {
     "name": "stdout",
     "output_type": "stream",
     "text": [
      "[126]\ttrain-mlogloss:0.19155\teval-mlogloss:1.28243\n"
     ]
    },
    {
     "name": "stderr",
     "output_type": "stream",
     "text": []
    },
    {
     "name": "stdout",
     "output_type": "stream",
     "text": [
      "[127]\ttrain-mlogloss:0.19028\teval-mlogloss:1.28417\n"
     ]
    },
    {
     "name": "stderr",
     "output_type": "stream",
     "text": []
    },
    {
     "name": "stdout",
     "output_type": "stream",
     "text": [
      "[128]\ttrain-mlogloss:0.18895\teval-mlogloss:1.28538\n"
     ]
    },
    {
     "name": "stderr",
     "output_type": "stream",
     "text": []
    },
    {
     "name": "stdout",
     "output_type": "stream",
     "text": [
      "[129]\ttrain-mlogloss:0.18715\teval-mlogloss:1.28814\n"
     ]
    },
    {
     "name": "stderr",
     "output_type": "stream",
     "text": []
    },
    {
     "name": "stdout",
     "output_type": "stream",
     "text": [
      "[130]\ttrain-mlogloss:0.18555\teval-mlogloss:1.29053\n"
     ]
    },
    {
     "name": "stderr",
     "output_type": "stream",
     "text": []
    },
    {
     "name": "stdout",
     "output_type": "stream",
     "text": [
      "[131]\ttrain-mlogloss:0.18457\teval-mlogloss:1.29219\n"
     ]
    },
    {
     "name": "stderr",
     "output_type": "stream",
     "text": []
    },
    {
     "name": "stdout",
     "output_type": "stream",
     "text": [
      "[132]\ttrain-mlogloss:0.18326\teval-mlogloss:1.29421\n"
     ]
    },
    {
     "name": "stderr",
     "output_type": "stream",
     "text": []
    },
    {
     "name": "stdout",
     "output_type": "stream",
     "text": [
      "[133]\ttrain-mlogloss:0.18222\teval-mlogloss:1.29591\n"
     ]
    },
    {
     "name": "stderr",
     "output_type": "stream",
     "text": []
    },
    {
     "name": "stdout",
     "output_type": "stream",
     "text": [
      "[134]\ttrain-mlogloss:0.18126\teval-mlogloss:1.29680\n"
     ]
    },
    {
     "name": "stderr",
     "output_type": "stream",
     "text": []
    },
    {
     "name": "stdout",
     "output_type": "stream",
     "text": [
      "[135]\ttrain-mlogloss:0.17997\teval-mlogloss:1.29785\n"
     ]
    },
    {
     "name": "stderr",
     "output_type": "stream",
     "text": []
    },
    {
     "name": "stdout",
     "output_type": "stream",
     "text": [
      "[136]\ttrain-mlogloss:0.17865\teval-mlogloss:1.29882\n"
     ]
    },
    {
     "name": "stderr",
     "output_type": "stream",
     "text": []
    },
    {
     "name": "stdout",
     "output_type": "stream",
     "text": [
      "[137]\ttrain-mlogloss:0.17763\teval-mlogloss:1.30070\n"
     ]
    },
    {
     "name": "stderr",
     "output_type": "stream",
     "text": []
    },
    {
     "name": "stdout",
     "output_type": "stream",
     "text": [
      "[138]\ttrain-mlogloss:0.17651\teval-mlogloss:1.30255\n"
     ]
    },
    {
     "name": "stderr",
     "output_type": "stream",
     "text": []
    },
    {
     "name": "stdout",
     "output_type": "stream",
     "text": [
      "[139]\ttrain-mlogloss:0.17513\teval-mlogloss:1.30448\n"
     ]
    },
    {
     "name": "stderr",
     "output_type": "stream",
     "text": []
    },
    {
     "name": "stdout",
     "output_type": "stream",
     "text": [
      "[140]\ttrain-mlogloss:0.17398\teval-mlogloss:1.30518\n"
     ]
    },
    {
     "name": "stderr",
     "output_type": "stream",
     "text": []
    },
    {
     "name": "stdout",
     "output_type": "stream",
     "text": [
      "[141]\ttrain-mlogloss:0.17220\teval-mlogloss:1.30741\n"
     ]
    },
    {
     "name": "stderr",
     "output_type": "stream",
     "text": []
    },
    {
     "name": "stdout",
     "output_type": "stream",
     "text": [
      "[142]\ttrain-mlogloss:0.17086\teval-mlogloss:1.30963\n"
     ]
    },
    {
     "name": "stderr",
     "output_type": "stream",
     "text": []
    },
    {
     "name": "stdout",
     "output_type": "stream",
     "text": [
      "[143]\ttrain-mlogloss:0.17008\teval-mlogloss:1.31121\n"
     ]
    },
    {
     "name": "stderr",
     "output_type": "stream",
     "text": []
    },
    {
     "name": "stdout",
     "output_type": "stream",
     "text": [
      "[144]\ttrain-mlogloss:0.16891\teval-mlogloss:1.31198\n"
     ]
    },
    {
     "name": "stderr",
     "output_type": "stream",
     "text": []
    },
    {
     "name": "stdout",
     "output_type": "stream",
     "text": [
      "[145]\ttrain-mlogloss:0.16788\teval-mlogloss:1.31447\n"
     ]
    },
    {
     "name": "stderr",
     "output_type": "stream",
     "text": []
    },
    {
     "name": "stdout",
     "output_type": "stream",
     "text": [
      "[146]\ttrain-mlogloss:0.16683\teval-mlogloss:1.31652\n"
     ]
    },
    {
     "name": "stderr",
     "output_type": "stream",
     "text": []
    },
    {
     "name": "stdout",
     "output_type": "stream",
     "text": [
      "[147]\ttrain-mlogloss:0.16536\teval-mlogloss:1.32008\n"
     ]
    },
    {
     "name": "stderr",
     "output_type": "stream",
     "text": []
    },
    {
     "name": "stdout",
     "output_type": "stream",
     "text": [
      "[148]\ttrain-mlogloss:0.16442\teval-mlogloss:1.32183\n"
     ]
    },
    {
     "name": "stderr",
     "output_type": "stream",
     "text": []
    },
    {
     "name": "stdout",
     "output_type": "stream",
     "text": [
      "[149]\ttrain-mlogloss:0.16348\teval-mlogloss:1.32326\n"
     ]
    },
    {
     "name": "stderr",
     "output_type": "stream",
     "text": [
      "c:\\Users\\abhis\\Downloads\\Documents\\Learner Engagement Project\\venv\\Lib\\site-packages\\xgboost\\core.py:158: UserWarning: [01:18:33] WARNING: C:\\buildkite-agent\\builds\\buildkite-windows-cpu-autoscaling-group-i-08cbc0333d8d4aae1-1\\xgboost\\xgboost-ci-windows\\src\\c_api\\c_api.cc:1374: Saving model in the UBJSON format as default.  You can use file extension: `json`, `ubj` or `deprecated` to choose between formats.\n",
      "  warnings.warn(smsg, UserWarning)\n",
      "                                                                     \n",
      "Final Training Engagement:   0%|          | 0/500 [20:46<?, ?round/s]       "
     ]
    },
    {
     "name": "stdout",
     "output_type": "stream",
     "text": [
      "Checkpoint saved at iteration 150\n",
      "[150]\ttrain-mlogloss:0.16247\teval-mlogloss:1.32571\n"
     ]
    },
    {
     "name": "stderr",
     "output_type": "stream",
     "text": []
    },
    {
     "name": "stdout",
     "output_type": "stream",
     "text": [
      "[151]\ttrain-mlogloss:0.16162\teval-mlogloss:1.32738\n"
     ]
    },
    {
     "name": "stderr",
     "output_type": "stream",
     "text": []
    },
    {
     "name": "stdout",
     "output_type": "stream",
     "text": [
      "[152]\ttrain-mlogloss:0.16032\teval-mlogloss:1.33048\n"
     ]
    },
    {
     "name": "stderr",
     "output_type": "stream",
     "text": []
    },
    {
     "name": "stdout",
     "output_type": "stream",
     "text": [
      "[153]\ttrain-mlogloss:0.15974\teval-mlogloss:1.33210\n"
     ]
    },
    {
     "name": "stderr",
     "output_type": "stream",
     "text": []
    },
    {
     "name": "stdout",
     "output_type": "stream",
     "text": [
      "[154]\ttrain-mlogloss:0.15883\teval-mlogloss:1.33464\n"
     ]
    },
    {
     "name": "stderr",
     "output_type": "stream",
     "text": []
    },
    {
     "name": "stdout",
     "output_type": "stream",
     "text": [
      "[155]\ttrain-mlogloss:0.15762\teval-mlogloss:1.33616\n"
     ]
    },
    {
     "name": "stderr",
     "output_type": "stream",
     "text": []
    },
    {
     "name": "stdout",
     "output_type": "stream",
     "text": [
      "[156]\ttrain-mlogloss:0.15659\teval-mlogloss:1.33910\n"
     ]
    },
    {
     "name": "stderr",
     "output_type": "stream",
     "text": []
    },
    {
     "name": "stdout",
     "output_type": "stream",
     "text": [
      "[157]\ttrain-mlogloss:0.15565\teval-mlogloss:1.33949\n"
     ]
    },
    {
     "name": "stderr",
     "output_type": "stream",
     "text": []
    },
    {
     "name": "stdout",
     "output_type": "stream",
     "text": [
      "[158]\ttrain-mlogloss:0.15465\teval-mlogloss:1.34034\n"
     ]
    },
    {
     "name": "stderr",
     "output_type": "stream",
     "text": []
    },
    {
     "name": "stdout",
     "output_type": "stream",
     "text": [
      "[159]\ttrain-mlogloss:0.15362\teval-mlogloss:1.34192\n"
     ]
    },
    {
     "name": "stderr",
     "output_type": "stream",
     "text": []
    },
    {
     "name": "stdout",
     "output_type": "stream",
     "text": [
      "[160]\ttrain-mlogloss:0.15269\teval-mlogloss:1.34472\n"
     ]
    },
    {
     "name": "stderr",
     "output_type": "stream",
     "text": []
    },
    {
     "name": "stdout",
     "output_type": "stream",
     "text": [
      "[161]\ttrain-mlogloss:0.15148\teval-mlogloss:1.34660\n"
     ]
    },
    {
     "name": "stderr",
     "output_type": "stream",
     "text": []
    },
    {
     "name": "stdout",
     "output_type": "stream",
     "text": [
      "[162]\ttrain-mlogloss:0.15043\teval-mlogloss:1.34974\n"
     ]
    },
    {
     "name": "stderr",
     "output_type": "stream",
     "text": []
    },
    {
     "name": "stdout",
     "output_type": "stream",
     "text": [
      "[163]\ttrain-mlogloss:0.14965\teval-mlogloss:1.35274\n"
     ]
    },
    {
     "name": "stderr",
     "output_type": "stream",
     "text": []
    },
    {
     "name": "stdout",
     "output_type": "stream",
     "text": [
      "[164]\ttrain-mlogloss:0.14872\teval-mlogloss:1.35459\n"
     ]
    },
    {
     "name": "stderr",
     "output_type": "stream",
     "text": []
    },
    {
     "name": "stdout",
     "output_type": "stream",
     "text": [
      "[165]\ttrain-mlogloss:0.14788\teval-mlogloss:1.35634\n"
     ]
    },
    {
     "name": "stderr",
     "output_type": "stream",
     "text": []
    },
    {
     "name": "stdout",
     "output_type": "stream",
     "text": [
      "[166]\ttrain-mlogloss:0.14716\teval-mlogloss:1.35815\n"
     ]
    },
    {
     "name": "stderr",
     "output_type": "stream",
     "text": []
    },
    {
     "name": "stdout",
     "output_type": "stream",
     "text": [
      "[167]\ttrain-mlogloss:0.14637\teval-mlogloss:1.35960\n"
     ]
    },
    {
     "name": "stderr",
     "output_type": "stream",
     "text": []
    },
    {
     "name": "stdout",
     "output_type": "stream",
     "text": [
      "[168]\ttrain-mlogloss:0.14529\teval-mlogloss:1.36168\n"
     ]
    },
    {
     "name": "stderr",
     "output_type": "stream",
     "text": []
    },
    {
     "name": "stdout",
     "output_type": "stream",
     "text": [
      "[169]\ttrain-mlogloss:0.14468\teval-mlogloss:1.36340\n"
     ]
    },
    {
     "name": "stderr",
     "output_type": "stream",
     "text": []
    },
    {
     "name": "stdout",
     "output_type": "stream",
     "text": [
      "[170]\ttrain-mlogloss:0.14390\teval-mlogloss:1.36590\n"
     ]
    },
    {
     "name": "stderr",
     "output_type": "stream",
     "text": []
    },
    {
     "name": "stdout",
     "output_type": "stream",
     "text": [
      "[171]\ttrain-mlogloss:0.14318\teval-mlogloss:1.36789\n"
     ]
    },
    {
     "name": "stderr",
     "output_type": "stream",
     "text": []
    },
    {
     "name": "stdout",
     "output_type": "stream",
     "text": [
      "[172]\ttrain-mlogloss:0.14238\teval-mlogloss:1.36948\n"
     ]
    },
    {
     "name": "stderr",
     "output_type": "stream",
     "text": []
    },
    {
     "name": "stdout",
     "output_type": "stream",
     "text": [
      "[173]\ttrain-mlogloss:0.14157\teval-mlogloss:1.37135\n"
     ]
    },
    {
     "name": "stderr",
     "output_type": "stream",
     "text": []
    },
    {
     "name": "stdout",
     "output_type": "stream",
     "text": [
      "[174]\ttrain-mlogloss:0.14060\teval-mlogloss:1.37358\n"
     ]
    },
    {
     "name": "stderr",
     "output_type": "stream",
     "text": []
    },
    {
     "name": "stdout",
     "output_type": "stream",
     "text": [
      "[175]\ttrain-mlogloss:0.13969\teval-mlogloss:1.37661\n"
     ]
    },
    {
     "name": "stderr",
     "output_type": "stream",
     "text": []
    },
    {
     "name": "stdout",
     "output_type": "stream",
     "text": [
      "[176]\ttrain-mlogloss:0.13907\teval-mlogloss:1.37898\n"
     ]
    },
    {
     "name": "stderr",
     "output_type": "stream",
     "text": []
    },
    {
     "name": "stdout",
     "output_type": "stream",
     "text": [
      "[177]\ttrain-mlogloss:0.13833\teval-mlogloss:1.38130\n"
     ]
    },
    {
     "name": "stderr",
     "output_type": "stream",
     "text": []
    },
    {
     "name": "stdout",
     "output_type": "stream",
     "text": [
      "[178]\ttrain-mlogloss:0.13775\teval-mlogloss:1.38311\n"
     ]
    },
    {
     "name": "stderr",
     "output_type": "stream",
     "text": []
    },
    {
     "name": "stdout",
     "output_type": "stream",
     "text": [
      "[179]\ttrain-mlogloss:0.13698\teval-mlogloss:1.38549\n"
     ]
    },
    {
     "name": "stderr",
     "output_type": "stream",
     "text": []
    },
    {
     "name": "stdout",
     "output_type": "stream",
     "text": [
      "[180]\ttrain-mlogloss:0.13604\teval-mlogloss:1.38759\n"
     ]
    },
    {
     "name": "stderr",
     "output_type": "stream",
     "text": []
    },
    {
     "name": "stdout",
     "output_type": "stream",
     "text": [
      "[181]\ttrain-mlogloss:0.13541\teval-mlogloss:1.39018\n"
     ]
    },
    {
     "name": "stderr",
     "output_type": "stream",
     "text": []
    },
    {
     "name": "stdout",
     "output_type": "stream",
     "text": [
      "[182]\ttrain-mlogloss:0.13470\teval-mlogloss:1.39205\n"
     ]
    },
    {
     "name": "stderr",
     "output_type": "stream",
     "text": []
    },
    {
     "name": "stdout",
     "output_type": "stream",
     "text": [
      "[183]\ttrain-mlogloss:0.13421\teval-mlogloss:1.39241\n"
     ]
    },
    {
     "name": "stderr",
     "output_type": "stream",
     "text": []
    },
    {
     "name": "stdout",
     "output_type": "stream",
     "text": [
      "[184]\ttrain-mlogloss:0.13343\teval-mlogloss:1.39453\n"
     ]
    },
    {
     "name": "stderr",
     "output_type": "stream",
     "text": []
    },
    {
     "name": "stdout",
     "output_type": "stream",
     "text": [
      "[185]\ttrain-mlogloss:0.13289\teval-mlogloss:1.39634\n"
     ]
    },
    {
     "name": "stderr",
     "output_type": "stream",
     "text": []
    },
    {
     "name": "stdout",
     "output_type": "stream",
     "text": [
      "[186]\ttrain-mlogloss:0.13243\teval-mlogloss:1.39791\n"
     ]
    },
    {
     "name": "stderr",
     "output_type": "stream",
     "text": []
    },
    {
     "name": "stdout",
     "output_type": "stream",
     "text": [
      "[187]\ttrain-mlogloss:0.13175\teval-mlogloss:1.40002\n"
     ]
    },
    {
     "name": "stderr",
     "output_type": "stream",
     "text": []
    },
    {
     "name": "stdout",
     "output_type": "stream",
     "text": [
      "[188]\ttrain-mlogloss:0.13090\teval-mlogloss:1.40099\n"
     ]
    },
    {
     "name": "stderr",
     "output_type": "stream",
     "text": []
    },
    {
     "name": "stdout",
     "output_type": "stream",
     "text": [
      "[189]\ttrain-mlogloss:0.13044\teval-mlogloss:1.40187\n"
     ]
    },
    {
     "name": "stderr",
     "output_type": "stream",
     "text": []
    },
    {
     "name": "stdout",
     "output_type": "stream",
     "text": [
      "[190]\ttrain-mlogloss:0.12992\teval-mlogloss:1.40316\n"
     ]
    },
    {
     "name": "stderr",
     "output_type": "stream",
     "text": []
    },
    {
     "name": "stdout",
     "output_type": "stream",
     "text": [
      "[191]\ttrain-mlogloss:0.12938\teval-mlogloss:1.40492\n"
     ]
    },
    {
     "name": "stderr",
     "output_type": "stream",
     "text": []
    },
    {
     "name": "stdout",
     "output_type": "stream",
     "text": [
      "[192]\ttrain-mlogloss:0.12886\teval-mlogloss:1.40678\n"
     ]
    },
    {
     "name": "stderr",
     "output_type": "stream",
     "text": []
    },
    {
     "name": "stdout",
     "output_type": "stream",
     "text": [
      "[193]\ttrain-mlogloss:0.12845\teval-mlogloss:1.40887\n"
     ]
    },
    {
     "name": "stderr",
     "output_type": "stream",
     "text": []
    },
    {
     "name": "stdout",
     "output_type": "stream",
     "text": [
      "[194]\ttrain-mlogloss:0.12774\teval-mlogloss:1.41107\n"
     ]
    },
    {
     "name": "stderr",
     "output_type": "stream",
     "text": []
    },
    {
     "name": "stdout",
     "output_type": "stream",
     "text": [
      "[195]\ttrain-mlogloss:0.12728\teval-mlogloss:1.41261\n"
     ]
    },
    {
     "name": "stderr",
     "output_type": "stream",
     "text": []
    },
    {
     "name": "stdout",
     "output_type": "stream",
     "text": [
      "[196]\ttrain-mlogloss:0.12652\teval-mlogloss:1.41618\n"
     ]
    },
    {
     "name": "stderr",
     "output_type": "stream",
     "text": []
    },
    {
     "name": "stdout",
     "output_type": "stream",
     "text": [
      "[197]\ttrain-mlogloss:0.12586\teval-mlogloss:1.41853\n"
     ]
    },
    {
     "name": "stderr",
     "output_type": "stream",
     "text": []
    },
    {
     "name": "stdout",
     "output_type": "stream",
     "text": [
      "[198]\ttrain-mlogloss:0.12539\teval-mlogloss:1.42046\n"
     ]
    },
    {
     "name": "stderr",
     "output_type": "stream",
     "text": []
    },
    {
     "name": "stdout",
     "output_type": "stream",
     "text": [
      "[199]\ttrain-mlogloss:0.12487\teval-mlogloss:1.42200\n"
     ]
    },
    {
     "name": "stderr",
     "output_type": "stream",
     "text": [
      "c:\\Users\\abhis\\Downloads\\Documents\\Learner Engagement Project\\venv\\Lib\\site-packages\\xgboost\\core.py:158: UserWarning: [01:22:47] WARNING: C:\\buildkite-agent\\builds\\buildkite-windows-cpu-autoscaling-group-i-08cbc0333d8d4aae1-1\\xgboost\\xgboost-ci-windows\\src\\c_api\\c_api.cc:1374: Saving model in the UBJSON format as default.  You can use file extension: `json`, `ubj` or `deprecated` to choose between formats.\n",
      "  warnings.warn(smsg, UserWarning)\n",
      "                                                                     \n",
      "Final Training Engagement:   0%|          | 0/500 [25:01<?, ?round/s]       "
     ]
    },
    {
     "name": "stdout",
     "output_type": "stream",
     "text": [
      "Checkpoint saved at iteration 200\n",
      "[200]\ttrain-mlogloss:0.12416\teval-mlogloss:1.42526\n"
     ]
    },
    {
     "name": "stderr",
     "output_type": "stream",
     "text": []
    },
    {
     "name": "stdout",
     "output_type": "stream",
     "text": [
      "[201]\ttrain-mlogloss:0.12377\teval-mlogloss:1.42653\n"
     ]
    },
    {
     "name": "stderr",
     "output_type": "stream",
     "text": []
    },
    {
     "name": "stdout",
     "output_type": "stream",
     "text": [
      "[202]\ttrain-mlogloss:0.12331\teval-mlogloss:1.42828\n"
     ]
    },
    {
     "name": "stderr",
     "output_type": "stream",
     "text": []
    },
    {
     "name": "stdout",
     "output_type": "stream",
     "text": [
      "[203]\ttrain-mlogloss:0.12289\teval-mlogloss:1.43058\n"
     ]
    },
    {
     "name": "stderr",
     "output_type": "stream",
     "text": []
    },
    {
     "name": "stdout",
     "output_type": "stream",
     "text": [
      "[204]\ttrain-mlogloss:0.12253\teval-mlogloss:1.43183\n"
     ]
    },
    {
     "name": "stderr",
     "output_type": "stream",
     "text": []
    },
    {
     "name": "stdout",
     "output_type": "stream",
     "text": [
      "[205]\ttrain-mlogloss:0.12191\teval-mlogloss:1.43415\n"
     ]
    },
    {
     "name": "stderr",
     "output_type": "stream",
     "text": []
    },
    {
     "name": "stdout",
     "output_type": "stream",
     "text": [
      "[206]\ttrain-mlogloss:0.12161\teval-mlogloss:1.43582\n"
     ]
    },
    {
     "name": "stderr",
     "output_type": "stream",
     "text": []
    },
    {
     "name": "stdout",
     "output_type": "stream",
     "text": [
      "[207]\ttrain-mlogloss:0.12111\teval-mlogloss:1.43768\n"
     ]
    },
    {
     "name": "stderr",
     "output_type": "stream",
     "text": []
    },
    {
     "name": "stdout",
     "output_type": "stream",
     "text": [
      "[208]\ttrain-mlogloss:0.12064\teval-mlogloss:1.43886\n"
     ]
    },
    {
     "name": "stderr",
     "output_type": "stream",
     "text": []
    },
    {
     "name": "stdout",
     "output_type": "stream",
     "text": [
      "[209]\ttrain-mlogloss:0.12017\teval-mlogloss:1.44080\n"
     ]
    },
    {
     "name": "stderr",
     "output_type": "stream",
     "text": []
    },
    {
     "name": "stdout",
     "output_type": "stream",
     "text": [
      "[210]\ttrain-mlogloss:0.11987\teval-mlogloss:1.44253\n"
     ]
    },
    {
     "name": "stderr",
     "output_type": "stream",
     "text": []
    },
    {
     "name": "stdout",
     "output_type": "stream",
     "text": [
      "[211]\ttrain-mlogloss:0.11935\teval-mlogloss:1.44445\n"
     ]
    },
    {
     "name": "stderr",
     "output_type": "stream",
     "text": []
    },
    {
     "name": "stdout",
     "output_type": "stream",
     "text": [
      "[212]\ttrain-mlogloss:0.11890\teval-mlogloss:1.44571\n"
     ]
    },
    {
     "name": "stderr",
     "output_type": "stream",
     "text": []
    },
    {
     "name": "stdout",
     "output_type": "stream",
     "text": [
      "[213]\ttrain-mlogloss:0.11838\teval-mlogloss:1.44756\n"
     ]
    },
    {
     "name": "stderr",
     "output_type": "stream",
     "text": []
    },
    {
     "name": "stdout",
     "output_type": "stream",
     "text": [
      "[214]\ttrain-mlogloss:0.11799\teval-mlogloss:1.44884\n"
     ]
    },
    {
     "name": "stderr",
     "output_type": "stream",
     "text": []
    },
    {
     "name": "stdout",
     "output_type": "stream",
     "text": [
      "[215]\ttrain-mlogloss:0.11766\teval-mlogloss:1.45011\n"
     ]
    },
    {
     "name": "stderr",
     "output_type": "stream",
     "text": []
    },
    {
     "name": "stdout",
     "output_type": "stream",
     "text": [
      "[216]\ttrain-mlogloss:0.11737\teval-mlogloss:1.45173\n"
     ]
    },
    {
     "name": "stderr",
     "output_type": "stream",
     "text": []
    },
    {
     "name": "stdout",
     "output_type": "stream",
     "text": [
      "[217]\ttrain-mlogloss:0.11684\teval-mlogloss:1.45416\n"
     ]
    },
    {
     "name": "stderr",
     "output_type": "stream",
     "text": []
    },
    {
     "name": "stdout",
     "output_type": "stream",
     "text": [
      "[218]\ttrain-mlogloss:0.11655\teval-mlogloss:1.45469\n"
     ]
    },
    {
     "name": "stderr",
     "output_type": "stream",
     "text": []
    },
    {
     "name": "stdout",
     "output_type": "stream",
     "text": [
      "[219]\ttrain-mlogloss:0.11612\teval-mlogloss:1.45725\n"
     ]
    },
    {
     "name": "stderr",
     "output_type": "stream",
     "text": []
    },
    {
     "name": "stdout",
     "output_type": "stream",
     "text": [
      "[220]\ttrain-mlogloss:0.11568\teval-mlogloss:1.45798\n"
     ]
    },
    {
     "name": "stderr",
     "output_type": "stream",
     "text": []
    },
    {
     "name": "stdout",
     "output_type": "stream",
     "text": [
      "[221]\ttrain-mlogloss:0.11541\teval-mlogloss:1.45934\n"
     ]
    },
    {
     "name": "stderr",
     "output_type": "stream",
     "text": []
    },
    {
     "name": "stdout",
     "output_type": "stream",
     "text": [
      "[222]\ttrain-mlogloss:0.11502\teval-mlogloss:1.46158\n"
     ]
    },
    {
     "name": "stderr",
     "output_type": "stream",
     "text": []
    },
    {
     "name": "stdout",
     "output_type": "stream",
     "text": [
      "[223]\ttrain-mlogloss:0.11454\teval-mlogloss:1.46282\n"
     ]
    },
    {
     "name": "stderr",
     "output_type": "stream",
     "text": []
    },
    {
     "name": "stdout",
     "output_type": "stream",
     "text": [
      "[224]\ttrain-mlogloss:0.11429\teval-mlogloss:1.46305\n"
     ]
    },
    {
     "name": "stderr",
     "output_type": "stream",
     "text": []
    },
    {
     "name": "stdout",
     "output_type": "stream",
     "text": [
      "[225]\ttrain-mlogloss:0.11386\teval-mlogloss:1.46506\n"
     ]
    },
    {
     "name": "stderr",
     "output_type": "stream",
     "text": []
    },
    {
     "name": "stdout",
     "output_type": "stream",
     "text": [
      "[226]\ttrain-mlogloss:0.11350\teval-mlogloss:1.46579\n"
     ]
    },
    {
     "name": "stderr",
     "output_type": "stream",
     "text": []
    },
    {
     "name": "stdout",
     "output_type": "stream",
     "text": [
      "[227]\ttrain-mlogloss:0.11309\teval-mlogloss:1.46758\n"
     ]
    },
    {
     "name": "stderr",
     "output_type": "stream",
     "text": []
    },
    {
     "name": "stdout",
     "output_type": "stream",
     "text": [
      "[228]\ttrain-mlogloss:0.11279\teval-mlogloss:1.46916\n"
     ]
    },
    {
     "name": "stderr",
     "output_type": "stream",
     "text": []
    },
    {
     "name": "stdout",
     "output_type": "stream",
     "text": [
      "[229]\ttrain-mlogloss:0.11243\teval-mlogloss:1.47061\n"
     ]
    },
    {
     "name": "stderr",
     "output_type": "stream",
     "text": []
    },
    {
     "name": "stdout",
     "output_type": "stream",
     "text": [
      "[230]\ttrain-mlogloss:0.11209\teval-mlogloss:1.47273\n"
     ]
    },
    {
     "name": "stderr",
     "output_type": "stream",
     "text": []
    },
    {
     "name": "stdout",
     "output_type": "stream",
     "text": [
      "[231]\ttrain-mlogloss:0.11171\teval-mlogloss:1.47380\n"
     ]
    },
    {
     "name": "stderr",
     "output_type": "stream",
     "text": []
    },
    {
     "name": "stdout",
     "output_type": "stream",
     "text": [
      "[232]\ttrain-mlogloss:0.11139\teval-mlogloss:1.47501\n"
     ]
    },
    {
     "name": "stderr",
     "output_type": "stream",
     "text": []
    },
    {
     "name": "stdout",
     "output_type": "stream",
     "text": [
      "[233]\ttrain-mlogloss:0.11105\teval-mlogloss:1.47815\n"
     ]
    },
    {
     "name": "stderr",
     "output_type": "stream",
     "text": []
    },
    {
     "name": "stdout",
     "output_type": "stream",
     "text": [
      "[234]\ttrain-mlogloss:0.11056\teval-mlogloss:1.48077\n"
     ]
    },
    {
     "name": "stderr",
     "output_type": "stream",
     "text": []
    },
    {
     "name": "stdout",
     "output_type": "stream",
     "text": [
      "[235]\ttrain-mlogloss:0.11022\teval-mlogloss:1.48168\n"
     ]
    },
    {
     "name": "stderr",
     "output_type": "stream",
     "text": []
    },
    {
     "name": "stdout",
     "output_type": "stream",
     "text": [
      "[236]\ttrain-mlogloss:0.10987\teval-mlogloss:1.48331\n"
     ]
    },
    {
     "name": "stderr",
     "output_type": "stream",
     "text": []
    },
    {
     "name": "stdout",
     "output_type": "stream",
     "text": [
      "[237]\ttrain-mlogloss:0.10957\teval-mlogloss:1.48545\n"
     ]
    },
    {
     "name": "stderr",
     "output_type": "stream",
     "text": []
    },
    {
     "name": "stdout",
     "output_type": "stream",
     "text": [
      "[238]\ttrain-mlogloss:0.10925\teval-mlogloss:1.48795\n"
     ]
    },
    {
     "name": "stderr",
     "output_type": "stream",
     "text": []
    },
    {
     "name": "stdout",
     "output_type": "stream",
     "text": [
      "[239]\ttrain-mlogloss:0.10897\teval-mlogloss:1.48994\n"
     ]
    },
    {
     "name": "stderr",
     "output_type": "stream",
     "text": []
    },
    {
     "name": "stdout",
     "output_type": "stream",
     "text": [
      "[240]\ttrain-mlogloss:0.10864\teval-mlogloss:1.49160\n"
     ]
    },
    {
     "name": "stderr",
     "output_type": "stream",
     "text": []
    },
    {
     "name": "stdout",
     "output_type": "stream",
     "text": [
      "[241]\ttrain-mlogloss:0.10836\teval-mlogloss:1.49367\n"
     ]
    },
    {
     "name": "stderr",
     "output_type": "stream",
     "text": []
    },
    {
     "name": "stdout",
     "output_type": "stream",
     "text": [
      "[242]\ttrain-mlogloss:0.10809\teval-mlogloss:1.49556\n"
     ]
    },
    {
     "name": "stderr",
     "output_type": "stream",
     "text": []
    },
    {
     "name": "stdout",
     "output_type": "stream",
     "text": [
      "[243]\ttrain-mlogloss:0.10774\teval-mlogloss:1.49749\n"
     ]
    },
    {
     "name": "stderr",
     "output_type": "stream",
     "text": []
    },
    {
     "name": "stdout",
     "output_type": "stream",
     "text": [
      "[244]\ttrain-mlogloss:0.10747\teval-mlogloss:1.50058\n"
     ]
    },
    {
     "name": "stderr",
     "output_type": "stream",
     "text": []
    },
    {
     "name": "stdout",
     "output_type": "stream",
     "text": [
      "[245]\ttrain-mlogloss:0.10712\teval-mlogloss:1.50141\n"
     ]
    },
    {
     "name": "stderr",
     "output_type": "stream",
     "text": []
    },
    {
     "name": "stdout",
     "output_type": "stream",
     "text": [
      "[246]\ttrain-mlogloss:0.10693\teval-mlogloss:1.50215\n"
     ]
    },
    {
     "name": "stderr",
     "output_type": "stream",
     "text": []
    },
    {
     "name": "stdout",
     "output_type": "stream",
     "text": [
      "[247]\ttrain-mlogloss:0.10658\teval-mlogloss:1.50396\n"
     ]
    },
    {
     "name": "stderr",
     "output_type": "stream",
     "text": []
    },
    {
     "name": "stdout",
     "output_type": "stream",
     "text": [
      "[248]\ttrain-mlogloss:0.10638\teval-mlogloss:1.50487\n"
     ]
    },
    {
     "name": "stderr",
     "output_type": "stream",
     "text": []
    },
    {
     "name": "stdout",
     "output_type": "stream",
     "text": [
      "[249]\ttrain-mlogloss:0.10614\teval-mlogloss:1.50512\n"
     ]
    },
    {
     "name": "stderr",
     "output_type": "stream",
     "text": [
      "c:\\Users\\abhis\\Downloads\\Documents\\Learner Engagement Project\\venv\\Lib\\site-packages\\xgboost\\core.py:158: UserWarning: [01:26:55] WARNING: C:\\buildkite-agent\\builds\\buildkite-windows-cpu-autoscaling-group-i-08cbc0333d8d4aae1-1\\xgboost\\xgboost-ci-windows\\src\\c_api\\c_api.cc:1374: Saving model in the UBJSON format as default.  You can use file extension: `json`, `ubj` or `deprecated` to choose between formats.\n",
      "  warnings.warn(smsg, UserWarning)\n",
      "                                                                     \n",
      "Final Training Engagement:   0%|          | 0/500 [29:08<?, ?round/s]       "
     ]
    },
    {
     "name": "stdout",
     "output_type": "stream",
     "text": [
      "Checkpoint saved at iteration 250\n",
      "[250]\ttrain-mlogloss:0.10592\teval-mlogloss:1.50720\n"
     ]
    },
    {
     "name": "stderr",
     "output_type": "stream",
     "text": []
    },
    {
     "name": "stdout",
     "output_type": "stream",
     "text": [
      "[251]\ttrain-mlogloss:0.10562\teval-mlogloss:1.50825\n"
     ]
    },
    {
     "name": "stderr",
     "output_type": "stream",
     "text": []
    },
    {
     "name": "stdout",
     "output_type": "stream",
     "text": [
      "[252]\ttrain-mlogloss:0.10535\teval-mlogloss:1.50971\n"
     ]
    },
    {
     "name": "stderr",
     "output_type": "stream",
     "text": []
    },
    {
     "name": "stdout",
     "output_type": "stream",
     "text": [
      "[253]\ttrain-mlogloss:0.10509\teval-mlogloss:1.51102\n"
     ]
    },
    {
     "name": "stderr",
     "output_type": "stream",
     "text": []
    },
    {
     "name": "stdout",
     "output_type": "stream",
     "text": [
      "[254]\ttrain-mlogloss:0.10484\teval-mlogloss:1.51316\n"
     ]
    },
    {
     "name": "stderr",
     "output_type": "stream",
     "text": []
    },
    {
     "name": "stdout",
     "output_type": "stream",
     "text": [
      "[255]\ttrain-mlogloss:0.10457\teval-mlogloss:1.51401\n"
     ]
    },
    {
     "name": "stderr",
     "output_type": "stream",
     "text": []
    },
    {
     "name": "stdout",
     "output_type": "stream",
     "text": [
      "[256]\ttrain-mlogloss:0.10430\teval-mlogloss:1.51506\n"
     ]
    },
    {
     "name": "stderr",
     "output_type": "stream",
     "text": []
    },
    {
     "name": "stdout",
     "output_type": "stream",
     "text": [
      "[257]\ttrain-mlogloss:0.10415\teval-mlogloss:1.51622\n"
     ]
    },
    {
     "name": "stderr",
     "output_type": "stream",
     "text": []
    },
    {
     "name": "stdout",
     "output_type": "stream",
     "text": [
      "[258]\ttrain-mlogloss:0.10390\teval-mlogloss:1.51818\n"
     ]
    },
    {
     "name": "stderr",
     "output_type": "stream",
     "text": []
    },
    {
     "name": "stdout",
     "output_type": "stream",
     "text": [
      "[259]\ttrain-mlogloss:0.10367\teval-mlogloss:1.52043\n"
     ]
    },
    {
     "name": "stderr",
     "output_type": "stream",
     "text": []
    },
    {
     "name": "stdout",
     "output_type": "stream",
     "text": [
      "[260]\ttrain-mlogloss:0.10345\teval-mlogloss:1.52120\n"
     ]
    },
    {
     "name": "stderr",
     "output_type": "stream",
     "text": []
    },
    {
     "name": "stdout",
     "output_type": "stream",
     "text": [
      "[261]\ttrain-mlogloss:0.10329\teval-mlogloss:1.52177\n"
     ]
    },
    {
     "name": "stderr",
     "output_type": "stream",
     "text": []
    },
    {
     "name": "stdout",
     "output_type": "stream",
     "text": [
      "[262]\ttrain-mlogloss:0.10300\teval-mlogloss:1.52296\n"
     ]
    },
    {
     "name": "stderr",
     "output_type": "stream",
     "text": []
    },
    {
     "name": "stdout",
     "output_type": "stream",
     "text": [
      "[263]\ttrain-mlogloss:0.10279\teval-mlogloss:1.52472\n"
     ]
    },
    {
     "name": "stderr",
     "output_type": "stream",
     "text": []
    },
    {
     "name": "stdout",
     "output_type": "stream",
     "text": [
      "[264]\ttrain-mlogloss:0.10252\teval-mlogloss:1.52628\n"
     ]
    },
    {
     "name": "stderr",
     "output_type": "stream",
     "text": []
    },
    {
     "name": "stdout",
     "output_type": "stream",
     "text": [
      "[265]\ttrain-mlogloss:0.10236\teval-mlogloss:1.52722\n"
     ]
    },
    {
     "name": "stderr",
     "output_type": "stream",
     "text": []
    },
    {
     "name": "stdout",
     "output_type": "stream",
     "text": [
      "[266]\ttrain-mlogloss:0.10218\teval-mlogloss:1.52794\n"
     ]
    },
    {
     "name": "stderr",
     "output_type": "stream",
     "text": []
    },
    {
     "name": "stdout",
     "output_type": "stream",
     "text": [
      "[267]\ttrain-mlogloss:0.10207\teval-mlogloss:1.52870\n"
     ]
    },
    {
     "name": "stderr",
     "output_type": "stream",
     "text": []
    },
    {
     "name": "stdout",
     "output_type": "stream",
     "text": [
      "[268]\ttrain-mlogloss:0.10174\teval-mlogloss:1.53068\n"
     ]
    },
    {
     "name": "stderr",
     "output_type": "stream",
     "text": []
    },
    {
     "name": "stdout",
     "output_type": "stream",
     "text": [
      "[269]\ttrain-mlogloss:0.10160\teval-mlogloss:1.53249\n"
     ]
    },
    {
     "name": "stderr",
     "output_type": "stream",
     "text": []
    },
    {
     "name": "stdout",
     "output_type": "stream",
     "text": [
      "[270]\ttrain-mlogloss:0.10141\teval-mlogloss:1.53407\n"
     ]
    },
    {
     "name": "stderr",
     "output_type": "stream",
     "text": []
    },
    {
     "name": "stdout",
     "output_type": "stream",
     "text": [
      "[271]\ttrain-mlogloss:0.10126\teval-mlogloss:1.53465\n"
     ]
    },
    {
     "name": "stderr",
     "output_type": "stream",
     "text": []
    },
    {
     "name": "stdout",
     "output_type": "stream",
     "text": [
      "[272]\ttrain-mlogloss:0.10110\teval-mlogloss:1.53526\n"
     ]
    },
    {
     "name": "stderr",
     "output_type": "stream",
     "text": []
    },
    {
     "name": "stdout",
     "output_type": "stream",
     "text": [
      "[273]\ttrain-mlogloss:0.10083\teval-mlogloss:1.53702\n"
     ]
    },
    {
     "name": "stderr",
     "output_type": "stream",
     "text": []
    },
    {
     "name": "stdout",
     "output_type": "stream",
     "text": [
      "[274]\ttrain-mlogloss:0.10067\teval-mlogloss:1.53852\n"
     ]
    },
    {
     "name": "stderr",
     "output_type": "stream",
     "text": []
    },
    {
     "name": "stdout",
     "output_type": "stream",
     "text": [
      "[275]\ttrain-mlogloss:0.10046\teval-mlogloss:1.54100\n"
     ]
    },
    {
     "name": "stderr",
     "output_type": "stream",
     "text": []
    },
    {
     "name": "stdout",
     "output_type": "stream",
     "text": [
      "[276]\ttrain-mlogloss:0.10034\teval-mlogloss:1.54162\n"
     ]
    },
    {
     "name": "stderr",
     "output_type": "stream",
     "text": []
    },
    {
     "name": "stdout",
     "output_type": "stream",
     "text": [
      "[277]\ttrain-mlogloss:0.10010\teval-mlogloss:1.54405\n"
     ]
    },
    {
     "name": "stderr",
     "output_type": "stream",
     "text": []
    },
    {
     "name": "stdout",
     "output_type": "stream",
     "text": [
      "[278]\ttrain-mlogloss:0.09989\teval-mlogloss:1.54624\n"
     ]
    },
    {
     "name": "stderr",
     "output_type": "stream",
     "text": []
    },
    {
     "name": "stdout",
     "output_type": "stream",
     "text": [
      "[279]\ttrain-mlogloss:0.09966\teval-mlogloss:1.54774\n"
     ]
    },
    {
     "name": "stderr",
     "output_type": "stream",
     "text": []
    },
    {
     "name": "stdout",
     "output_type": "stream",
     "text": [
      "[280]\ttrain-mlogloss:0.09947\teval-mlogloss:1.55001\n"
     ]
    },
    {
     "name": "stderr",
     "output_type": "stream",
     "text": []
    },
    {
     "name": "stdout",
     "output_type": "stream",
     "text": [
      "[281]\ttrain-mlogloss:0.09927\teval-mlogloss:1.55113\n"
     ]
    },
    {
     "name": "stderr",
     "output_type": "stream",
     "text": []
    },
    {
     "name": "stdout",
     "output_type": "stream",
     "text": [
      "[282]\ttrain-mlogloss:0.09911\teval-mlogloss:1.55309\n"
     ]
    },
    {
     "name": "stderr",
     "output_type": "stream",
     "text": []
    },
    {
     "name": "stdout",
     "output_type": "stream",
     "text": [
      "[283]\ttrain-mlogloss:0.09890\teval-mlogloss:1.55465\n"
     ]
    },
    {
     "name": "stderr",
     "output_type": "stream",
     "text": []
    },
    {
     "name": "stdout",
     "output_type": "stream",
     "text": [
      "[284]\ttrain-mlogloss:0.09875\teval-mlogloss:1.55607\n"
     ]
    },
    {
     "name": "stderr",
     "output_type": "stream",
     "text": []
    },
    {
     "name": "stdout",
     "output_type": "stream",
     "text": [
      "[285]\ttrain-mlogloss:0.09859\teval-mlogloss:1.55692\n"
     ]
    },
    {
     "name": "stderr",
     "output_type": "stream",
     "text": []
    },
    {
     "name": "stdout",
     "output_type": "stream",
     "text": [
      "[286]\ttrain-mlogloss:0.09843\teval-mlogloss:1.55958\n"
     ]
    },
    {
     "name": "stderr",
     "output_type": "stream",
     "text": []
    },
    {
     "name": "stdout",
     "output_type": "stream",
     "text": [
      "[287]\ttrain-mlogloss:0.09831\teval-mlogloss:1.56017\n"
     ]
    },
    {
     "name": "stderr",
     "output_type": "stream",
     "text": []
    },
    {
     "name": "stdout",
     "output_type": "stream",
     "text": [
      "[288]\ttrain-mlogloss:0.09816\teval-mlogloss:1.56174\n"
     ]
    },
    {
     "name": "stderr",
     "output_type": "stream",
     "text": []
    },
    {
     "name": "stdout",
     "output_type": "stream",
     "text": [
      "[289]\ttrain-mlogloss:0.09799\teval-mlogloss:1.56388\n"
     ]
    },
    {
     "name": "stderr",
     "output_type": "stream",
     "text": []
    },
    {
     "name": "stdout",
     "output_type": "stream",
     "text": [
      "[290]\ttrain-mlogloss:0.09783\teval-mlogloss:1.56571\n"
     ]
    },
    {
     "name": "stderr",
     "output_type": "stream",
     "text": []
    },
    {
     "name": "stdout",
     "output_type": "stream",
     "text": [
      "[291]\ttrain-mlogloss:0.09763\teval-mlogloss:1.56747\n"
     ]
    },
    {
     "name": "stderr",
     "output_type": "stream",
     "text": []
    },
    {
     "name": "stdout",
     "output_type": "stream",
     "text": [
      "[292]\ttrain-mlogloss:0.09747\teval-mlogloss:1.56829\n"
     ]
    },
    {
     "name": "stderr",
     "output_type": "stream",
     "text": []
    },
    {
     "name": "stdout",
     "output_type": "stream",
     "text": [
      "[293]\ttrain-mlogloss:0.09730\teval-mlogloss:1.56993\n"
     ]
    },
    {
     "name": "stderr",
     "output_type": "stream",
     "text": []
    },
    {
     "name": "stdout",
     "output_type": "stream",
     "text": [
      "[294]\ttrain-mlogloss:0.09707\teval-mlogloss:1.57066\n"
     ]
    },
    {
     "name": "stderr",
     "output_type": "stream",
     "text": []
    },
    {
     "name": "stdout",
     "output_type": "stream",
     "text": [
      "[295]\ttrain-mlogloss:0.09691\teval-mlogloss:1.57175\n"
     ]
    },
    {
     "name": "stderr",
     "output_type": "stream",
     "text": []
    },
    {
     "name": "stdout",
     "output_type": "stream",
     "text": [
      "[296]\ttrain-mlogloss:0.09675\teval-mlogloss:1.57362\n"
     ]
    },
    {
     "name": "stderr",
     "output_type": "stream",
     "text": []
    },
    {
     "name": "stdout",
     "output_type": "stream",
     "text": [
      "[297]\ttrain-mlogloss:0.09659\teval-mlogloss:1.57425\n"
     ]
    },
    {
     "name": "stderr",
     "output_type": "stream",
     "text": []
    },
    {
     "name": "stdout",
     "output_type": "stream",
     "text": [
      "[298]\ttrain-mlogloss:0.09645\teval-mlogloss:1.57519\n"
     ]
    },
    {
     "name": "stderr",
     "output_type": "stream",
     "text": []
    },
    {
     "name": "stdout",
     "output_type": "stream",
     "text": [
      "[299]\ttrain-mlogloss:0.09633\teval-mlogloss:1.57582\n"
     ]
    },
    {
     "name": "stderr",
     "output_type": "stream",
     "text": [
      "c:\\Users\\abhis\\Downloads\\Documents\\Learner Engagement Project\\venv\\Lib\\site-packages\\xgboost\\core.py:158: UserWarning: [01:30:55] WARNING: C:\\buildkite-agent\\builds\\buildkite-windows-cpu-autoscaling-group-i-08cbc0333d8d4aae1-1\\xgboost\\xgboost-ci-windows\\src\\c_api\\c_api.cc:1374: Saving model in the UBJSON format as default.  You can use file extension: `json`, `ubj` or `deprecated` to choose between formats.\n",
      "  warnings.warn(smsg, UserWarning)\n",
      "                                                                     \n",
      "Final Training Engagement:   0%|          | 0/500 [33:08<?, ?round/s]       "
     ]
    },
    {
     "name": "stdout",
     "output_type": "stream",
     "text": [
      "Checkpoint saved at iteration 300\n",
      "[300]\ttrain-mlogloss:0.09619\teval-mlogloss:1.57751\n"
     ]
    },
    {
     "name": "stderr",
     "output_type": "stream",
     "text": []
    },
    {
     "name": "stdout",
     "output_type": "stream",
     "text": [
      "[301]\ttrain-mlogloss:0.09605\teval-mlogloss:1.57872\n"
     ]
    },
    {
     "name": "stderr",
     "output_type": "stream",
     "text": []
    },
    {
     "name": "stdout",
     "output_type": "stream",
     "text": [
      "[302]\ttrain-mlogloss:0.09586\teval-mlogloss:1.57956\n"
     ]
    },
    {
     "name": "stderr",
     "output_type": "stream",
     "text": []
    },
    {
     "name": "stdout",
     "output_type": "stream",
     "text": [
      "[303]\ttrain-mlogloss:0.09572\teval-mlogloss:1.58124\n"
     ]
    },
    {
     "name": "stderr",
     "output_type": "stream",
     "text": []
    },
    {
     "name": "stdout",
     "output_type": "stream",
     "text": [
      "[304]\ttrain-mlogloss:0.09558\teval-mlogloss:1.58251\n"
     ]
    },
    {
     "name": "stderr",
     "output_type": "stream",
     "text": []
    },
    {
     "name": "stdout",
     "output_type": "stream",
     "text": [
      "[305]\ttrain-mlogloss:0.09543\teval-mlogloss:1.58386\n"
     ]
    },
    {
     "name": "stderr",
     "output_type": "stream",
     "text": []
    },
    {
     "name": "stdout",
     "output_type": "stream",
     "text": [
      "[306]\ttrain-mlogloss:0.09529\teval-mlogloss:1.58666\n"
     ]
    },
    {
     "name": "stderr",
     "output_type": "stream",
     "text": []
    },
    {
     "name": "stdout",
     "output_type": "stream",
     "text": [
      "[307]\ttrain-mlogloss:0.09513\teval-mlogloss:1.58833\n"
     ]
    },
    {
     "name": "stderr",
     "output_type": "stream",
     "text": []
    },
    {
     "name": "stdout",
     "output_type": "stream",
     "text": [
      "[308]\ttrain-mlogloss:0.09497\teval-mlogloss:1.58979\n"
     ]
    },
    {
     "name": "stderr",
     "output_type": "stream",
     "text": []
    },
    {
     "name": "stdout",
     "output_type": "stream",
     "text": [
      "[309]\ttrain-mlogloss:0.09487\teval-mlogloss:1.59059\n"
     ]
    },
    {
     "name": "stderr",
     "output_type": "stream",
     "text": []
    },
    {
     "name": "stdout",
     "output_type": "stream",
     "text": [
      "[310]\ttrain-mlogloss:0.09475\teval-mlogloss:1.59130\n"
     ]
    },
    {
     "name": "stderr",
     "output_type": "stream",
     "text": []
    },
    {
     "name": "stdout",
     "output_type": "stream",
     "text": [
      "[311]\ttrain-mlogloss:0.09461\teval-mlogloss:1.59225\n"
     ]
    },
    {
     "name": "stderr",
     "output_type": "stream",
     "text": []
    },
    {
     "name": "stdout",
     "output_type": "stream",
     "text": [
      "[312]\ttrain-mlogloss:0.09447\teval-mlogloss:1.59243\n"
     ]
    },
    {
     "name": "stderr",
     "output_type": "stream",
     "text": []
    },
    {
     "name": "stdout",
     "output_type": "stream",
     "text": [
      "[313]\ttrain-mlogloss:0.09436\teval-mlogloss:1.59396\n"
     ]
    },
    {
     "name": "stderr",
     "output_type": "stream",
     "text": []
    },
    {
     "name": "stdout",
     "output_type": "stream",
     "text": [
      "[314]\ttrain-mlogloss:0.09425\teval-mlogloss:1.59467\n"
     ]
    },
    {
     "name": "stderr",
     "output_type": "stream",
     "text": []
    },
    {
     "name": "stdout",
     "output_type": "stream",
     "text": [
      "[315]\ttrain-mlogloss:0.09410\teval-mlogloss:1.59672\n"
     ]
    },
    {
     "name": "stderr",
     "output_type": "stream",
     "text": []
    },
    {
     "name": "stdout",
     "output_type": "stream",
     "text": [
      "[316]\ttrain-mlogloss:0.09398\teval-mlogloss:1.59754\n"
     ]
    },
    {
     "name": "stderr",
     "output_type": "stream",
     "text": []
    },
    {
     "name": "stdout",
     "output_type": "stream",
     "text": [
      "[317]\ttrain-mlogloss:0.09385\teval-mlogloss:1.59768\n"
     ]
    },
    {
     "name": "stderr",
     "output_type": "stream",
     "text": []
    },
    {
     "name": "stdout",
     "output_type": "stream",
     "text": [
      "[318]\ttrain-mlogloss:0.09374\teval-mlogloss:1.59922\n"
     ]
    },
    {
     "name": "stderr",
     "output_type": "stream",
     "text": []
    },
    {
     "name": "stdout",
     "output_type": "stream",
     "text": [
      "[319]\ttrain-mlogloss:0.09357\teval-mlogloss:1.60050\n"
     ]
    },
    {
     "name": "stderr",
     "output_type": "stream",
     "text": []
    },
    {
     "name": "stdout",
     "output_type": "stream",
     "text": [
      "[320]\ttrain-mlogloss:0.09343\teval-mlogloss:1.60166\n"
     ]
    },
    {
     "name": "stderr",
     "output_type": "stream",
     "text": []
    },
    {
     "name": "stdout",
     "output_type": "stream",
     "text": [
      "[321]\ttrain-mlogloss:0.09332\teval-mlogloss:1.60259\n"
     ]
    },
    {
     "name": "stderr",
     "output_type": "stream",
     "text": []
    },
    {
     "name": "stdout",
     "output_type": "stream",
     "text": [
      "[322]\ttrain-mlogloss:0.09323\teval-mlogloss:1.60391\n"
     ]
    },
    {
     "name": "stderr",
     "output_type": "stream",
     "text": []
    },
    {
     "name": "stdout",
     "output_type": "stream",
     "text": [
      "[323]\ttrain-mlogloss:0.09303\teval-mlogloss:1.60538\n"
     ]
    },
    {
     "name": "stderr",
     "output_type": "stream",
     "text": []
    },
    {
     "name": "stdout",
     "output_type": "stream",
     "text": [
      "[324]\ttrain-mlogloss:0.09290\teval-mlogloss:1.60716\n"
     ]
    },
    {
     "name": "stderr",
     "output_type": "stream",
     "text": []
    },
    {
     "name": "stdout",
     "output_type": "stream",
     "text": [
      "[325]\ttrain-mlogloss:0.09279\teval-mlogloss:1.60827\n"
     ]
    },
    {
     "name": "stderr",
     "output_type": "stream",
     "text": []
    },
    {
     "name": "stdout",
     "output_type": "stream",
     "text": [
      "[326]\ttrain-mlogloss:0.09268\teval-mlogloss:1.61012\n"
     ]
    },
    {
     "name": "stderr",
     "output_type": "stream",
     "text": []
    },
    {
     "name": "stdout",
     "output_type": "stream",
     "text": [
      "[327]\ttrain-mlogloss:0.09258\teval-mlogloss:1.61126\n"
     ]
    },
    {
     "name": "stderr",
     "output_type": "stream",
     "text": []
    },
    {
     "name": "stdout",
     "output_type": "stream",
     "text": [
      "[328]\ttrain-mlogloss:0.09248\teval-mlogloss:1.61234\n"
     ]
    },
    {
     "name": "stderr",
     "output_type": "stream",
     "text": []
    },
    {
     "name": "stdout",
     "output_type": "stream",
     "text": [
      "[329]\ttrain-mlogloss:0.09235\teval-mlogloss:1.61479\n"
     ]
    },
    {
     "name": "stderr",
     "output_type": "stream",
     "text": []
    },
    {
     "name": "stdout",
     "output_type": "stream",
     "text": [
      "[330]\ttrain-mlogloss:0.09226\teval-mlogloss:1.61570\n"
     ]
    },
    {
     "name": "stderr",
     "output_type": "stream",
     "text": []
    },
    {
     "name": "stdout",
     "output_type": "stream",
     "text": [
      "[331]\ttrain-mlogloss:0.09219\teval-mlogloss:1.61664\n"
     ]
    },
    {
     "name": "stderr",
     "output_type": "stream",
     "text": []
    },
    {
     "name": "stdout",
     "output_type": "stream",
     "text": [
      "[332]\ttrain-mlogloss:0.09214\teval-mlogloss:1.61755\n"
     ]
    },
    {
     "name": "stderr",
     "output_type": "stream",
     "text": []
    },
    {
     "name": "stdout",
     "output_type": "stream",
     "text": [
      "[333]\ttrain-mlogloss:0.09200\teval-mlogloss:1.61740\n"
     ]
    },
    {
     "name": "stderr",
     "output_type": "stream",
     "text": []
    },
    {
     "name": "stdout",
     "output_type": "stream",
     "text": [
      "[334]\ttrain-mlogloss:0.09187\teval-mlogloss:1.61907\n"
     ]
    },
    {
     "name": "stderr",
     "output_type": "stream",
     "text": []
    },
    {
     "name": "stdout",
     "output_type": "stream",
     "text": [
      "[335]\ttrain-mlogloss:0.09175\teval-mlogloss:1.62063\n"
     ]
    },
    {
     "name": "stderr",
     "output_type": "stream",
     "text": []
    },
    {
     "name": "stdout",
     "output_type": "stream",
     "text": [
      "[336]\ttrain-mlogloss:0.09160\teval-mlogloss:1.62190\n"
     ]
    },
    {
     "name": "stderr",
     "output_type": "stream",
     "text": []
    },
    {
     "name": "stdout",
     "output_type": "stream",
     "text": [
      "[337]\ttrain-mlogloss:0.09153\teval-mlogloss:1.62305\n"
     ]
    },
    {
     "name": "stderr",
     "output_type": "stream",
     "text": []
    },
    {
     "name": "stdout",
     "output_type": "stream",
     "text": [
      "[338]\ttrain-mlogloss:0.09145\teval-mlogloss:1.62380\n"
     ]
    },
    {
     "name": "stderr",
     "output_type": "stream",
     "text": []
    },
    {
     "name": "stdout",
     "output_type": "stream",
     "text": [
      "[339]\ttrain-mlogloss:0.09137\teval-mlogloss:1.62458\n"
     ]
    },
    {
     "name": "stderr",
     "output_type": "stream",
     "text": []
    },
    {
     "name": "stdout",
     "output_type": "stream",
     "text": [
      "[340]\ttrain-mlogloss:0.09129\teval-mlogloss:1.62605\n"
     ]
    },
    {
     "name": "stderr",
     "output_type": "stream",
     "text": []
    },
    {
     "name": "stdout",
     "output_type": "stream",
     "text": [
      "[341]\ttrain-mlogloss:0.09122\teval-mlogloss:1.62641\n"
     ]
    },
    {
     "name": "stderr",
     "output_type": "stream",
     "text": []
    },
    {
     "name": "stdout",
     "output_type": "stream",
     "text": [
      "[342]\ttrain-mlogloss:0.09115\teval-mlogloss:1.62725\n"
     ]
    },
    {
     "name": "stderr",
     "output_type": "stream",
     "text": []
    },
    {
     "name": "stdout",
     "output_type": "stream",
     "text": [
      "[343]\ttrain-mlogloss:0.09106\teval-mlogloss:1.62837\n"
     ]
    },
    {
     "name": "stderr",
     "output_type": "stream",
     "text": []
    },
    {
     "name": "stdout",
     "output_type": "stream",
     "text": [
      "[344]\ttrain-mlogloss:0.09098\teval-mlogloss:1.63016\n"
     ]
    },
    {
     "name": "stderr",
     "output_type": "stream",
     "text": []
    },
    {
     "name": "stdout",
     "output_type": "stream",
     "text": [
      "[345]\ttrain-mlogloss:0.09088\teval-mlogloss:1.63183\n"
     ]
    },
    {
     "name": "stderr",
     "output_type": "stream",
     "text": []
    },
    {
     "name": "stdout",
     "output_type": "stream",
     "text": [
      "[346]\ttrain-mlogloss:0.09075\teval-mlogloss:1.63367\n"
     ]
    },
    {
     "name": "stderr",
     "output_type": "stream",
     "text": []
    },
    {
     "name": "stdout",
     "output_type": "stream",
     "text": [
      "[347]\ttrain-mlogloss:0.09068\teval-mlogloss:1.63508\n"
     ]
    },
    {
     "name": "stderr",
     "output_type": "stream",
     "text": []
    },
    {
     "name": "stdout",
     "output_type": "stream",
     "text": [
      "[348]\ttrain-mlogloss:0.09059\teval-mlogloss:1.63579\n"
     ]
    },
    {
     "name": "stderr",
     "output_type": "stream",
     "text": []
    },
    {
     "name": "stdout",
     "output_type": "stream",
     "text": [
      "[349]\ttrain-mlogloss:0.09050\teval-mlogloss:1.63716\n"
     ]
    },
    {
     "name": "stderr",
     "output_type": "stream",
     "text": [
      "c:\\Users\\abhis\\Downloads\\Documents\\Learner Engagement Project\\venv\\Lib\\site-packages\\xgboost\\core.py:158: UserWarning: [01:34:54] WARNING: C:\\buildkite-agent\\builds\\buildkite-windows-cpu-autoscaling-group-i-08cbc0333d8d4aae1-1\\xgboost\\xgboost-ci-windows\\src\\c_api\\c_api.cc:1374: Saving model in the UBJSON format as default.  You can use file extension: `json`, `ubj` or `deprecated` to choose between formats.\n",
      "  warnings.warn(smsg, UserWarning)\n",
      "                                                                     \n",
      "Final Training Engagement:   0%|          | 0/500 [37:08<?, ?round/s]       "
     ]
    },
    {
     "name": "stdout",
     "output_type": "stream",
     "text": [
      "Checkpoint saved at iteration 350\n",
      "[350]\ttrain-mlogloss:0.09040\teval-mlogloss:1.63816\n"
     ]
    },
    {
     "name": "stderr",
     "output_type": "stream",
     "text": []
    },
    {
     "name": "stdout",
     "output_type": "stream",
     "text": [
      "[351]\ttrain-mlogloss:0.09032\teval-mlogloss:1.63894\n"
     ]
    },
    {
     "name": "stderr",
     "output_type": "stream",
     "text": []
    },
    {
     "name": "stdout",
     "output_type": "stream",
     "text": [
      "[352]\ttrain-mlogloss:0.09025\teval-mlogloss:1.64013\n"
     ]
    },
    {
     "name": "stderr",
     "output_type": "stream",
     "text": []
    },
    {
     "name": "stdout",
     "output_type": "stream",
     "text": [
      "[353]\ttrain-mlogloss:0.09018\teval-mlogloss:1.64095\n"
     ]
    },
    {
     "name": "stderr",
     "output_type": "stream",
     "text": []
    },
    {
     "name": "stdout",
     "output_type": "stream",
     "text": [
      "[354]\ttrain-mlogloss:0.09010\teval-mlogloss:1.64181\n"
     ]
    },
    {
     "name": "stderr",
     "output_type": "stream",
     "text": []
    },
    {
     "name": "stdout",
     "output_type": "stream",
     "text": [
      "[355]\ttrain-mlogloss:0.09003\teval-mlogloss:1.64292\n"
     ]
    },
    {
     "name": "stderr",
     "output_type": "stream",
     "text": []
    },
    {
     "name": "stdout",
     "output_type": "stream",
     "text": [
      "[356]\ttrain-mlogloss:0.08995\teval-mlogloss:1.64363\n"
     ]
    },
    {
     "name": "stderr",
     "output_type": "stream",
     "text": []
    },
    {
     "name": "stdout",
     "output_type": "stream",
     "text": [
      "[357]\ttrain-mlogloss:0.08986\teval-mlogloss:1.64512\n"
     ]
    },
    {
     "name": "stderr",
     "output_type": "stream",
     "text": []
    },
    {
     "name": "stdout",
     "output_type": "stream",
     "text": [
      "[358]\ttrain-mlogloss:0.08977\teval-mlogloss:1.64641\n"
     ]
    },
    {
     "name": "stderr",
     "output_type": "stream",
     "text": []
    },
    {
     "name": "stdout",
     "output_type": "stream",
     "text": [
      "[359]\ttrain-mlogloss:0.08968\teval-mlogloss:1.64838\n"
     ]
    },
    {
     "name": "stderr",
     "output_type": "stream",
     "text": []
    },
    {
     "name": "stdout",
     "output_type": "stream",
     "text": [
      "[360]\ttrain-mlogloss:0.08961\teval-mlogloss:1.64903\n"
     ]
    },
    {
     "name": "stderr",
     "output_type": "stream",
     "text": []
    },
    {
     "name": "stdout",
     "output_type": "stream",
     "text": [
      "[361]\ttrain-mlogloss:0.08952\teval-mlogloss:1.65009\n"
     ]
    },
    {
     "name": "stderr",
     "output_type": "stream",
     "text": []
    },
    {
     "name": "stdout",
     "output_type": "stream",
     "text": [
      "[362]\ttrain-mlogloss:0.08945\teval-mlogloss:1.65081\n"
     ]
    },
    {
     "name": "stderr",
     "output_type": "stream",
     "text": []
    },
    {
     "name": "stdout",
     "output_type": "stream",
     "text": [
      "[363]\ttrain-mlogloss:0.08938\teval-mlogloss:1.65115\n"
     ]
    },
    {
     "name": "stderr",
     "output_type": "stream",
     "text": []
    },
    {
     "name": "stdout",
     "output_type": "stream",
     "text": [
      "[364]\ttrain-mlogloss:0.08933\teval-mlogloss:1.65221\n"
     ]
    },
    {
     "name": "stderr",
     "output_type": "stream",
     "text": []
    },
    {
     "name": "stdout",
     "output_type": "stream",
     "text": [
      "[365]\ttrain-mlogloss:0.08924\teval-mlogloss:1.65345\n"
     ]
    },
    {
     "name": "stderr",
     "output_type": "stream",
     "text": []
    },
    {
     "name": "stdout",
     "output_type": "stream",
     "text": [
      "[366]\ttrain-mlogloss:0.08917\teval-mlogloss:1.65422\n"
     ]
    },
    {
     "name": "stderr",
     "output_type": "stream",
     "text": []
    },
    {
     "name": "stdout",
     "output_type": "stream",
     "text": [
      "[367]\ttrain-mlogloss:0.08909\teval-mlogloss:1.65574\n"
     ]
    },
    {
     "name": "stderr",
     "output_type": "stream",
     "text": []
    },
    {
     "name": "stdout",
     "output_type": "stream",
     "text": [
      "[368]\ttrain-mlogloss:0.08901\teval-mlogloss:1.65698\n"
     ]
    },
    {
     "name": "stderr",
     "output_type": "stream",
     "text": []
    },
    {
     "name": "stdout",
     "output_type": "stream",
     "text": [
      "[369]\ttrain-mlogloss:0.08892\teval-mlogloss:1.65815\n"
     ]
    },
    {
     "name": "stderr",
     "output_type": "stream",
     "text": []
    },
    {
     "name": "stdout",
     "output_type": "stream",
     "text": [
      "[370]\ttrain-mlogloss:0.08884\teval-mlogloss:1.65978\n"
     ]
    },
    {
     "name": "stderr",
     "output_type": "stream",
     "text": []
    },
    {
     "name": "stdout",
     "output_type": "stream",
     "text": [
      "[371]\ttrain-mlogloss:0.08877\teval-mlogloss:1.66079\n"
     ]
    },
    {
     "name": "stderr",
     "output_type": "stream",
     "text": []
    },
    {
     "name": "stdout",
     "output_type": "stream",
     "text": [
      "[372]\ttrain-mlogloss:0.08869\teval-mlogloss:1.66217\n"
     ]
    },
    {
     "name": "stderr",
     "output_type": "stream",
     "text": []
    },
    {
     "name": "stdout",
     "output_type": "stream",
     "text": [
      "[373]\ttrain-mlogloss:0.08860\teval-mlogloss:1.66364\n"
     ]
    },
    {
     "name": "stderr",
     "output_type": "stream",
     "text": []
    },
    {
     "name": "stdout",
     "output_type": "stream",
     "text": [
      "[374]\ttrain-mlogloss:0.08854\teval-mlogloss:1.66468\n"
     ]
    },
    {
     "name": "stderr",
     "output_type": "stream",
     "text": []
    },
    {
     "name": "stdout",
     "output_type": "stream",
     "text": [
      "[375]\ttrain-mlogloss:0.08846\teval-mlogloss:1.66549\n"
     ]
    },
    {
     "name": "stderr",
     "output_type": "stream",
     "text": []
    },
    {
     "name": "stdout",
     "output_type": "stream",
     "text": [
      "[376]\ttrain-mlogloss:0.08837\teval-mlogloss:1.66777\n"
     ]
    },
    {
     "name": "stderr",
     "output_type": "stream",
     "text": []
    },
    {
     "name": "stdout",
     "output_type": "stream",
     "text": [
      "[377]\ttrain-mlogloss:0.08831\teval-mlogloss:1.66905\n"
     ]
    },
    {
     "name": "stderr",
     "output_type": "stream",
     "text": []
    },
    {
     "name": "stdout",
     "output_type": "stream",
     "text": [
      "[378]\ttrain-mlogloss:0.08824\teval-mlogloss:1.67025\n"
     ]
    },
    {
     "name": "stderr",
     "output_type": "stream",
     "text": []
    },
    {
     "name": "stdout",
     "output_type": "stream",
     "text": [
      "[379]\ttrain-mlogloss:0.08817\teval-mlogloss:1.67064\n"
     ]
    },
    {
     "name": "stderr",
     "output_type": "stream",
     "text": []
    },
    {
     "name": "stdout",
     "output_type": "stream",
     "text": [
      "[380]\ttrain-mlogloss:0.08810\teval-mlogloss:1.67180\n"
     ]
    },
    {
     "name": "stderr",
     "output_type": "stream",
     "text": []
    },
    {
     "name": "stdout",
     "output_type": "stream",
     "text": [
      "[381]\ttrain-mlogloss:0.08805\teval-mlogloss:1.67264\n"
     ]
    },
    {
     "name": "stderr",
     "output_type": "stream",
     "text": []
    },
    {
     "name": "stdout",
     "output_type": "stream",
     "text": [
      "[382]\ttrain-mlogloss:0.08798\teval-mlogloss:1.67398\n"
     ]
    },
    {
     "name": "stderr",
     "output_type": "stream",
     "text": []
    },
    {
     "name": "stdout",
     "output_type": "stream",
     "text": [
      "[383]\ttrain-mlogloss:0.08792\teval-mlogloss:1.67500\n"
     ]
    },
    {
     "name": "stderr",
     "output_type": "stream",
     "text": []
    },
    {
     "name": "stdout",
     "output_type": "stream",
     "text": [
      "[384]\ttrain-mlogloss:0.08785\teval-mlogloss:1.67606\n"
     ]
    },
    {
     "name": "stderr",
     "output_type": "stream",
     "text": []
    },
    {
     "name": "stdout",
     "output_type": "stream",
     "text": [
      "[385]\ttrain-mlogloss:0.08777\teval-mlogloss:1.67827\n"
     ]
    },
    {
     "name": "stderr",
     "output_type": "stream",
     "text": []
    },
    {
     "name": "stdout",
     "output_type": "stream",
     "text": [
      "[386]\ttrain-mlogloss:0.08773\teval-mlogloss:1.67910\n"
     ]
    },
    {
     "name": "stderr",
     "output_type": "stream",
     "text": []
    },
    {
     "name": "stdout",
     "output_type": "stream",
     "text": [
      "[387]\ttrain-mlogloss:0.08768\teval-mlogloss:1.67984\n"
     ]
    },
    {
     "name": "stderr",
     "output_type": "stream",
     "text": []
    },
    {
     "name": "stdout",
     "output_type": "stream",
     "text": [
      "[388]\ttrain-mlogloss:0.08760\teval-mlogloss:1.68035\n"
     ]
    },
    {
     "name": "stderr",
     "output_type": "stream",
     "text": []
    },
    {
     "name": "stdout",
     "output_type": "stream",
     "text": [
      "[389]\ttrain-mlogloss:0.08754\teval-mlogloss:1.68180\n"
     ]
    },
    {
     "name": "stderr",
     "output_type": "stream",
     "text": []
    },
    {
     "name": "stdout",
     "output_type": "stream",
     "text": [
      "[390]\ttrain-mlogloss:0.08749\teval-mlogloss:1.68299\n"
     ]
    },
    {
     "name": "stderr",
     "output_type": "stream",
     "text": []
    },
    {
     "name": "stdout",
     "output_type": "stream",
     "text": [
      "[391]\ttrain-mlogloss:0.08742\teval-mlogloss:1.68477\n"
     ]
    },
    {
     "name": "stderr",
     "output_type": "stream",
     "text": []
    },
    {
     "name": "stdout",
     "output_type": "stream",
     "text": [
      "[392]\ttrain-mlogloss:0.08738\teval-mlogloss:1.68594\n"
     ]
    },
    {
     "name": "stderr",
     "output_type": "stream",
     "text": []
    },
    {
     "name": "stdout",
     "output_type": "stream",
     "text": [
      "[393]\ttrain-mlogloss:0.08732\teval-mlogloss:1.68685\n"
     ]
    },
    {
     "name": "stderr",
     "output_type": "stream",
     "text": []
    },
    {
     "name": "stdout",
     "output_type": "stream",
     "text": [
      "[394]\ttrain-mlogloss:0.08726\teval-mlogloss:1.68793\n"
     ]
    },
    {
     "name": "stderr",
     "output_type": "stream",
     "text": []
    },
    {
     "name": "stdout",
     "output_type": "stream",
     "text": [
      "[395]\ttrain-mlogloss:0.08719\teval-mlogloss:1.68851\n"
     ]
    },
    {
     "name": "stderr",
     "output_type": "stream",
     "text": []
    },
    {
     "name": "stdout",
     "output_type": "stream",
     "text": [
      "[396]\ttrain-mlogloss:0.08713\teval-mlogloss:1.68907\n"
     ]
    },
    {
     "name": "stderr",
     "output_type": "stream",
     "text": []
    },
    {
     "name": "stdout",
     "output_type": "stream",
     "text": [
      "[397]\ttrain-mlogloss:0.08708\teval-mlogloss:1.68939\n"
     ]
    },
    {
     "name": "stderr",
     "output_type": "stream",
     "text": []
    },
    {
     "name": "stdout",
     "output_type": "stream",
     "text": [
      "[398]\ttrain-mlogloss:0.08703\teval-mlogloss:1.69027\n"
     ]
    },
    {
     "name": "stderr",
     "output_type": "stream",
     "text": []
    },
    {
     "name": "stdout",
     "output_type": "stream",
     "text": [
      "[399]\ttrain-mlogloss:0.08699\teval-mlogloss:1.69190\n"
     ]
    },
    {
     "name": "stderr",
     "output_type": "stream",
     "text": [
      "c:\\Users\\abhis\\Downloads\\Documents\\Learner Engagement Project\\venv\\Lib\\site-packages\\xgboost\\core.py:158: UserWarning: [01:38:51] WARNING: C:\\buildkite-agent\\builds\\buildkite-windows-cpu-autoscaling-group-i-08cbc0333d8d4aae1-1\\xgboost\\xgboost-ci-windows\\src\\c_api\\c_api.cc:1374: Saving model in the UBJSON format as default.  You can use file extension: `json`, `ubj` or `deprecated` to choose between formats.\n",
      "  warnings.warn(smsg, UserWarning)\n",
      "                                                                     \n",
      "Final Training Engagement:   0%|          | 0/500 [41:05<?, ?round/s]       "
     ]
    },
    {
     "name": "stdout",
     "output_type": "stream",
     "text": [
      "Checkpoint saved at iteration 400\n",
      "[400]\ttrain-mlogloss:0.08695\teval-mlogloss:1.69280\n"
     ]
    },
    {
     "name": "stderr",
     "output_type": "stream",
     "text": []
    },
    {
     "name": "stdout",
     "output_type": "stream",
     "text": [
      "[401]\ttrain-mlogloss:0.08690\teval-mlogloss:1.69424\n"
     ]
    },
    {
     "name": "stderr",
     "output_type": "stream",
     "text": []
    },
    {
     "name": "stdout",
     "output_type": "stream",
     "text": [
      "[402]\ttrain-mlogloss:0.08686\teval-mlogloss:1.69532\n"
     ]
    },
    {
     "name": "stderr",
     "output_type": "stream",
     "text": []
    },
    {
     "name": "stdout",
     "output_type": "stream",
     "text": [
      "[403]\ttrain-mlogloss:0.08681\teval-mlogloss:1.69550\n"
     ]
    },
    {
     "name": "stderr",
     "output_type": "stream",
     "text": []
    },
    {
     "name": "stdout",
     "output_type": "stream",
     "text": [
      "[404]\ttrain-mlogloss:0.08677\teval-mlogloss:1.69560\n"
     ]
    },
    {
     "name": "stderr",
     "output_type": "stream",
     "text": []
    },
    {
     "name": "stdout",
     "output_type": "stream",
     "text": [
      "[405]\ttrain-mlogloss:0.08671\teval-mlogloss:1.69775\n"
     ]
    },
    {
     "name": "stderr",
     "output_type": "stream",
     "text": []
    },
    {
     "name": "stdout",
     "output_type": "stream",
     "text": [
      "[406]\ttrain-mlogloss:0.08667\teval-mlogloss:1.69936\n"
     ]
    },
    {
     "name": "stderr",
     "output_type": "stream",
     "text": []
    },
    {
     "name": "stdout",
     "output_type": "stream",
     "text": [
      "[407]\ttrain-mlogloss:0.08661\teval-mlogloss:1.69916\n"
     ]
    },
    {
     "name": "stderr",
     "output_type": "stream",
     "text": []
    },
    {
     "name": "stdout",
     "output_type": "stream",
     "text": [
      "[408]\ttrain-mlogloss:0.08654\teval-mlogloss:1.70048\n"
     ]
    },
    {
     "name": "stderr",
     "output_type": "stream",
     "text": []
    },
    {
     "name": "stdout",
     "output_type": "stream",
     "text": [
      "[409]\ttrain-mlogloss:0.08649\teval-mlogloss:1.70197\n"
     ]
    },
    {
     "name": "stderr",
     "output_type": "stream",
     "text": []
    },
    {
     "name": "stdout",
     "output_type": "stream",
     "text": [
      "[410]\ttrain-mlogloss:0.08645\teval-mlogloss:1.70292\n"
     ]
    },
    {
     "name": "stderr",
     "output_type": "stream",
     "text": []
    },
    {
     "name": "stdout",
     "output_type": "stream",
     "text": [
      "[411]\ttrain-mlogloss:0.08640\teval-mlogloss:1.70393\n"
     ]
    },
    {
     "name": "stderr",
     "output_type": "stream",
     "text": []
    },
    {
     "name": "stdout",
     "output_type": "stream",
     "text": [
      "[412]\ttrain-mlogloss:0.08637\teval-mlogloss:1.70498\n"
     ]
    },
    {
     "name": "stderr",
     "output_type": "stream",
     "text": []
    },
    {
     "name": "stdout",
     "output_type": "stream",
     "text": [
      "[413]\ttrain-mlogloss:0.08634\teval-mlogloss:1.70547\n"
     ]
    },
    {
     "name": "stderr",
     "output_type": "stream",
     "text": []
    },
    {
     "name": "stdout",
     "output_type": "stream",
     "text": [
      "[414]\ttrain-mlogloss:0.08629\teval-mlogloss:1.70633\n"
     ]
    },
    {
     "name": "stderr",
     "output_type": "stream",
     "text": []
    },
    {
     "name": "stdout",
     "output_type": "stream",
     "text": [
      "[415]\ttrain-mlogloss:0.08622\teval-mlogloss:1.70792\n"
     ]
    },
    {
     "name": "stderr",
     "output_type": "stream",
     "text": []
    },
    {
     "name": "stdout",
     "output_type": "stream",
     "text": [
      "[416]\ttrain-mlogloss:0.08616\teval-mlogloss:1.70890\n"
     ]
    },
    {
     "name": "stderr",
     "output_type": "stream",
     "text": []
    },
    {
     "name": "stdout",
     "output_type": "stream",
     "text": [
      "[417]\ttrain-mlogloss:0.08611\teval-mlogloss:1.71063\n"
     ]
    },
    {
     "name": "stderr",
     "output_type": "stream",
     "text": []
    },
    {
     "name": "stdout",
     "output_type": "stream",
     "text": [
      "[418]\ttrain-mlogloss:0.08606\teval-mlogloss:1.71146\n"
     ]
    },
    {
     "name": "stderr",
     "output_type": "stream",
     "text": []
    },
    {
     "name": "stdout",
     "output_type": "stream",
     "text": [
      "[419]\ttrain-mlogloss:0.08601\teval-mlogloss:1.71313\n"
     ]
    },
    {
     "name": "stderr",
     "output_type": "stream",
     "text": []
    },
    {
     "name": "stdout",
     "output_type": "stream",
     "text": [
      "[420]\ttrain-mlogloss:0.08597\teval-mlogloss:1.71358\n"
     ]
    },
    {
     "name": "stderr",
     "output_type": "stream",
     "text": []
    },
    {
     "name": "stdout",
     "output_type": "stream",
     "text": [
      "[421]\ttrain-mlogloss:0.08593\teval-mlogloss:1.71481\n"
     ]
    },
    {
     "name": "stderr",
     "output_type": "stream",
     "text": []
    },
    {
     "name": "stdout",
     "output_type": "stream",
     "text": [
      "[422]\ttrain-mlogloss:0.08590\teval-mlogloss:1.71597\n"
     ]
    },
    {
     "name": "stderr",
     "output_type": "stream",
     "text": []
    },
    {
     "name": "stdout",
     "output_type": "stream",
     "text": [
      "[423]\ttrain-mlogloss:0.08587\teval-mlogloss:1.71703\n"
     ]
    },
    {
     "name": "stderr",
     "output_type": "stream",
     "text": []
    },
    {
     "name": "stdout",
     "output_type": "stream",
     "text": [
      "[424]\ttrain-mlogloss:0.08582\teval-mlogloss:1.71802\n"
     ]
    },
    {
     "name": "stderr",
     "output_type": "stream",
     "text": []
    },
    {
     "name": "stdout",
     "output_type": "stream",
     "text": [
      "[425]\ttrain-mlogloss:0.08578\teval-mlogloss:1.71896\n"
     ]
    },
    {
     "name": "stderr",
     "output_type": "stream",
     "text": []
    },
    {
     "name": "stdout",
     "output_type": "stream",
     "text": [
      "[426]\ttrain-mlogloss:0.08573\teval-mlogloss:1.71986\n"
     ]
    },
    {
     "name": "stderr",
     "output_type": "stream",
     "text": []
    },
    {
     "name": "stdout",
     "output_type": "stream",
     "text": [
      "[427]\ttrain-mlogloss:0.08569\teval-mlogloss:1.72137\n"
     ]
    },
    {
     "name": "stderr",
     "output_type": "stream",
     "text": []
    },
    {
     "name": "stdout",
     "output_type": "stream",
     "text": [
      "[428]\ttrain-mlogloss:0.08566\teval-mlogloss:1.72143\n"
     ]
    },
    {
     "name": "stderr",
     "output_type": "stream",
     "text": []
    },
    {
     "name": "stdout",
     "output_type": "stream",
     "text": [
      "[429]\ttrain-mlogloss:0.08563\teval-mlogloss:1.72260\n"
     ]
    },
    {
     "name": "stderr",
     "output_type": "stream",
     "text": []
    },
    {
     "name": "stdout",
     "output_type": "stream",
     "text": [
      "[430]\ttrain-mlogloss:0.08560\teval-mlogloss:1.72353\n"
     ]
    },
    {
     "name": "stderr",
     "output_type": "stream",
     "text": []
    },
    {
     "name": "stdout",
     "output_type": "stream",
     "text": [
      "[431]\ttrain-mlogloss:0.08556\teval-mlogloss:1.72416\n"
     ]
    },
    {
     "name": "stderr",
     "output_type": "stream",
     "text": []
    },
    {
     "name": "stdout",
     "output_type": "stream",
     "text": [
      "[432]\ttrain-mlogloss:0.08551\teval-mlogloss:1.72556\n"
     ]
    },
    {
     "name": "stderr",
     "output_type": "stream",
     "text": []
    },
    {
     "name": "stdout",
     "output_type": "stream",
     "text": [
      "[433]\ttrain-mlogloss:0.08547\teval-mlogloss:1.72670\n"
     ]
    },
    {
     "name": "stderr",
     "output_type": "stream",
     "text": []
    },
    {
     "name": "stdout",
     "output_type": "stream",
     "text": [
      "[434]\ttrain-mlogloss:0.08542\teval-mlogloss:1.72794\n"
     ]
    },
    {
     "name": "stderr",
     "output_type": "stream",
     "text": []
    },
    {
     "name": "stdout",
     "output_type": "stream",
     "text": [
      "[435]\ttrain-mlogloss:0.08539\teval-mlogloss:1.72816\n"
     ]
    },
    {
     "name": "stderr",
     "output_type": "stream",
     "text": []
    },
    {
     "name": "stdout",
     "output_type": "stream",
     "text": [
      "[436]\ttrain-mlogloss:0.08535\teval-mlogloss:1.72930\n"
     ]
    },
    {
     "name": "stderr",
     "output_type": "stream",
     "text": []
    },
    {
     "name": "stdout",
     "output_type": "stream",
     "text": [
      "[437]\ttrain-mlogloss:0.08532\teval-mlogloss:1.73001\n"
     ]
    },
    {
     "name": "stderr",
     "output_type": "stream",
     "text": []
    },
    {
     "name": "stdout",
     "output_type": "stream",
     "text": [
      "[438]\ttrain-mlogloss:0.08529\teval-mlogloss:1.73078\n"
     ]
    },
    {
     "name": "stderr",
     "output_type": "stream",
     "text": []
    },
    {
     "name": "stdout",
     "output_type": "stream",
     "text": [
      "[439]\ttrain-mlogloss:0.08525\teval-mlogloss:1.73160\n"
     ]
    },
    {
     "name": "stderr",
     "output_type": "stream",
     "text": []
    },
    {
     "name": "stdout",
     "output_type": "stream",
     "text": [
      "[440]\ttrain-mlogloss:0.08522\teval-mlogloss:1.73260\n"
     ]
    },
    {
     "name": "stderr",
     "output_type": "stream",
     "text": []
    },
    {
     "name": "stdout",
     "output_type": "stream",
     "text": [
      "[441]\ttrain-mlogloss:0.08518\teval-mlogloss:1.73364\n"
     ]
    },
    {
     "name": "stderr",
     "output_type": "stream",
     "text": []
    },
    {
     "name": "stdout",
     "output_type": "stream",
     "text": [
      "[442]\ttrain-mlogloss:0.08516\teval-mlogloss:1.73448\n"
     ]
    },
    {
     "name": "stderr",
     "output_type": "stream",
     "text": []
    },
    {
     "name": "stdout",
     "output_type": "stream",
     "text": [
      "[443]\ttrain-mlogloss:0.08513\teval-mlogloss:1.73432\n"
     ]
    },
    {
     "name": "stderr",
     "output_type": "stream",
     "text": []
    },
    {
     "name": "stdout",
     "output_type": "stream",
     "text": [
      "[444]\ttrain-mlogloss:0.08510\teval-mlogloss:1.73505\n"
     ]
    },
    {
     "name": "stderr",
     "output_type": "stream",
     "text": []
    },
    {
     "name": "stdout",
     "output_type": "stream",
     "text": [
      "[445]\ttrain-mlogloss:0.08506\teval-mlogloss:1.73589\n"
     ]
    },
    {
     "name": "stderr",
     "output_type": "stream",
     "text": []
    },
    {
     "name": "stdout",
     "output_type": "stream",
     "text": [
      "[446]\ttrain-mlogloss:0.08503\teval-mlogloss:1.73634\n"
     ]
    },
    {
     "name": "stderr",
     "output_type": "stream",
     "text": []
    },
    {
     "name": "stdout",
     "output_type": "stream",
     "text": [
      "[447]\ttrain-mlogloss:0.08501\teval-mlogloss:1.73672\n"
     ]
    },
    {
     "name": "stderr",
     "output_type": "stream",
     "text": []
    },
    {
     "name": "stdout",
     "output_type": "stream",
     "text": [
      "[448]\ttrain-mlogloss:0.08498\teval-mlogloss:1.73787\n"
     ]
    },
    {
     "name": "stderr",
     "output_type": "stream",
     "text": []
    },
    {
     "name": "stdout",
     "output_type": "stream",
     "text": [
      "[449]\ttrain-mlogloss:0.08495\teval-mlogloss:1.73854\n"
     ]
    },
    {
     "name": "stderr",
     "output_type": "stream",
     "text": [
      "c:\\Users\\abhis\\Downloads\\Documents\\Learner Engagement Project\\venv\\Lib\\site-packages\\xgboost\\core.py:158: UserWarning: [01:42:41] WARNING: C:\\buildkite-agent\\builds\\buildkite-windows-cpu-autoscaling-group-i-08cbc0333d8d4aae1-1\\xgboost\\xgboost-ci-windows\\src\\c_api\\c_api.cc:1374: Saving model in the UBJSON format as default.  You can use file extension: `json`, `ubj` or `deprecated` to choose between formats.\n",
      "  warnings.warn(smsg, UserWarning)\n",
      "                                                                     \n",
      "Final Training Engagement:   0%|          | 0/500 [44:55<?, ?round/s]       "
     ]
    },
    {
     "name": "stdout",
     "output_type": "stream",
     "text": [
      "Checkpoint saved at iteration 450\n",
      "[450]\ttrain-mlogloss:0.08492\teval-mlogloss:1.73879\n"
     ]
    },
    {
     "name": "stderr",
     "output_type": "stream",
     "text": []
    },
    {
     "name": "stdout",
     "output_type": "stream",
     "text": [
      "[451]\ttrain-mlogloss:0.08490\teval-mlogloss:1.73929\n"
     ]
    },
    {
     "name": "stderr",
     "output_type": "stream",
     "text": []
    },
    {
     "name": "stdout",
     "output_type": "stream",
     "text": [
      "[452]\ttrain-mlogloss:0.08486\teval-mlogloss:1.74002\n"
     ]
    },
    {
     "name": "stderr",
     "output_type": "stream",
     "text": []
    },
    {
     "name": "stdout",
     "output_type": "stream",
     "text": [
      "[453]\ttrain-mlogloss:0.08482\teval-mlogloss:1.74107\n"
     ]
    },
    {
     "name": "stderr",
     "output_type": "stream",
     "text": []
    },
    {
     "name": "stdout",
     "output_type": "stream",
     "text": [
      "[454]\ttrain-mlogloss:0.08478\teval-mlogloss:1.74268\n"
     ]
    },
    {
     "name": "stderr",
     "output_type": "stream",
     "text": []
    },
    {
     "name": "stdout",
     "output_type": "stream",
     "text": [
      "[455]\ttrain-mlogloss:0.08475\teval-mlogloss:1.74361\n"
     ]
    },
    {
     "name": "stderr",
     "output_type": "stream",
     "text": []
    },
    {
     "name": "stdout",
     "output_type": "stream",
     "text": [
      "[456]\ttrain-mlogloss:0.08473\teval-mlogloss:1.74440\n"
     ]
    },
    {
     "name": "stderr",
     "output_type": "stream",
     "text": []
    },
    {
     "name": "stdout",
     "output_type": "stream",
     "text": [
      "[457]\ttrain-mlogloss:0.08470\teval-mlogloss:1.74498\n"
     ]
    },
    {
     "name": "stderr",
     "output_type": "stream",
     "text": []
    },
    {
     "name": "stdout",
     "output_type": "stream",
     "text": [
      "[458]\ttrain-mlogloss:0.08465\teval-mlogloss:1.74643\n"
     ]
    },
    {
     "name": "stderr",
     "output_type": "stream",
     "text": []
    },
    {
     "name": "stdout",
     "output_type": "stream",
     "text": [
      "[459]\ttrain-mlogloss:0.08462\teval-mlogloss:1.74687\n"
     ]
    },
    {
     "name": "stderr",
     "output_type": "stream",
     "text": []
    },
    {
     "name": "stdout",
     "output_type": "stream",
     "text": [
      "[460]\ttrain-mlogloss:0.08459\teval-mlogloss:1.74706\n"
     ]
    },
    {
     "name": "stderr",
     "output_type": "stream",
     "text": []
    },
    {
     "name": "stdout",
     "output_type": "stream",
     "text": [
      "[461]\ttrain-mlogloss:0.08457\teval-mlogloss:1.74798\n"
     ]
    },
    {
     "name": "stderr",
     "output_type": "stream",
     "text": []
    },
    {
     "name": "stdout",
     "output_type": "stream",
     "text": [
      "[462]\ttrain-mlogloss:0.08455\teval-mlogloss:1.74869\n"
     ]
    },
    {
     "name": "stderr",
     "output_type": "stream",
     "text": []
    },
    {
     "name": "stdout",
     "output_type": "stream",
     "text": [
      "[463]\ttrain-mlogloss:0.08453\teval-mlogloss:1.74869\n"
     ]
    },
    {
     "name": "stderr",
     "output_type": "stream",
     "text": []
    },
    {
     "name": "stdout",
     "output_type": "stream",
     "text": [
      "[464]\ttrain-mlogloss:0.08449\teval-mlogloss:1.74988\n"
     ]
    },
    {
     "name": "stderr",
     "output_type": "stream",
     "text": []
    },
    {
     "name": "stdout",
     "output_type": "stream",
     "text": [
      "[465]\ttrain-mlogloss:0.08447\teval-mlogloss:1.75051\n"
     ]
    },
    {
     "name": "stderr",
     "output_type": "stream",
     "text": []
    },
    {
     "name": "stdout",
     "output_type": "stream",
     "text": [
      "[466]\ttrain-mlogloss:0.08444\teval-mlogloss:1.75115\n"
     ]
    },
    {
     "name": "stderr",
     "output_type": "stream",
     "text": []
    },
    {
     "name": "stdout",
     "output_type": "stream",
     "text": [
      "[467]\ttrain-mlogloss:0.08441\teval-mlogloss:1.75215\n"
     ]
    },
    {
     "name": "stderr",
     "output_type": "stream",
     "text": []
    },
    {
     "name": "stdout",
     "output_type": "stream",
     "text": [
      "[468]\ttrain-mlogloss:0.08437\teval-mlogloss:1.75366\n"
     ]
    },
    {
     "name": "stderr",
     "output_type": "stream",
     "text": []
    },
    {
     "name": "stdout",
     "output_type": "stream",
     "text": [
      "[469]\ttrain-mlogloss:0.08434\teval-mlogloss:1.75450\n"
     ]
    },
    {
     "name": "stderr",
     "output_type": "stream",
     "text": []
    },
    {
     "name": "stdout",
     "output_type": "stream",
     "text": [
      "[470]\ttrain-mlogloss:0.08432\teval-mlogloss:1.75575\n"
     ]
    },
    {
     "name": "stderr",
     "output_type": "stream",
     "text": []
    },
    {
     "name": "stdout",
     "output_type": "stream",
     "text": [
      "[471]\ttrain-mlogloss:0.08429\teval-mlogloss:1.75686\n"
     ]
    },
    {
     "name": "stderr",
     "output_type": "stream",
     "text": []
    },
    {
     "name": "stdout",
     "output_type": "stream",
     "text": [
      "[472]\ttrain-mlogloss:0.08426\teval-mlogloss:1.75765\n"
     ]
    },
    {
     "name": "stderr",
     "output_type": "stream",
     "text": []
    },
    {
     "name": "stdout",
     "output_type": "stream",
     "text": [
      "[473]\ttrain-mlogloss:0.08423\teval-mlogloss:1.75864\n"
     ]
    },
    {
     "name": "stderr",
     "output_type": "stream",
     "text": []
    },
    {
     "name": "stdout",
     "output_type": "stream",
     "text": [
      "[474]\ttrain-mlogloss:0.08420\teval-mlogloss:1.75893\n"
     ]
    },
    {
     "name": "stderr",
     "output_type": "stream",
     "text": []
    },
    {
     "name": "stdout",
     "output_type": "stream",
     "text": [
      "[475]\ttrain-mlogloss:0.08417\teval-mlogloss:1.75991\n"
     ]
    },
    {
     "name": "stderr",
     "output_type": "stream",
     "text": []
    },
    {
     "name": "stdout",
     "output_type": "stream",
     "text": [
      "[476]\ttrain-mlogloss:0.08415\teval-mlogloss:1.76062\n"
     ]
    },
    {
     "name": "stderr",
     "output_type": "stream",
     "text": []
    },
    {
     "name": "stdout",
     "output_type": "stream",
     "text": [
      "[477]\ttrain-mlogloss:0.08413\teval-mlogloss:1.76114\n"
     ]
    },
    {
     "name": "stderr",
     "output_type": "stream",
     "text": []
    },
    {
     "name": "stdout",
     "output_type": "stream",
     "text": [
      "[478]\ttrain-mlogloss:0.08410\teval-mlogloss:1.76246\n"
     ]
    },
    {
     "name": "stderr",
     "output_type": "stream",
     "text": []
    },
    {
     "name": "stdout",
     "output_type": "stream",
     "text": [
      "[479]\ttrain-mlogloss:0.08407\teval-mlogloss:1.76316\n"
     ]
    },
    {
     "name": "stderr",
     "output_type": "stream",
     "text": []
    },
    {
     "name": "stdout",
     "output_type": "stream",
     "text": [
      "[480]\ttrain-mlogloss:0.08405\teval-mlogloss:1.76399\n"
     ]
    },
    {
     "name": "stderr",
     "output_type": "stream",
     "text": []
    },
    {
     "name": "stdout",
     "output_type": "stream",
     "text": [
      "[481]\ttrain-mlogloss:0.08402\teval-mlogloss:1.76490\n"
     ]
    },
    {
     "name": "stderr",
     "output_type": "stream",
     "text": []
    },
    {
     "name": "stdout",
     "output_type": "stream",
     "text": [
      "[482]\ttrain-mlogloss:0.08399\teval-mlogloss:1.76612\n"
     ]
    },
    {
     "name": "stderr",
     "output_type": "stream",
     "text": []
    },
    {
     "name": "stdout",
     "output_type": "stream",
     "text": [
      "[483]\ttrain-mlogloss:0.08397\teval-mlogloss:1.76723\n"
     ]
    },
    {
     "name": "stderr",
     "output_type": "stream",
     "text": []
    },
    {
     "name": "stdout",
     "output_type": "stream",
     "text": [
      "[484]\ttrain-mlogloss:0.08395\teval-mlogloss:1.76799\n"
     ]
    },
    {
     "name": "stderr",
     "output_type": "stream",
     "text": []
    },
    {
     "name": "stdout",
     "output_type": "stream",
     "text": [
      "[485]\ttrain-mlogloss:0.08392\teval-mlogloss:1.76875\n"
     ]
    },
    {
     "name": "stderr",
     "output_type": "stream",
     "text": []
    },
    {
     "name": "stdout",
     "output_type": "stream",
     "text": [
      "[486]\ttrain-mlogloss:0.08390\teval-mlogloss:1.76937\n"
     ]
    },
    {
     "name": "stderr",
     "output_type": "stream",
     "text": []
    },
    {
     "name": "stdout",
     "output_type": "stream",
     "text": [
      "[487]\ttrain-mlogloss:0.08388\teval-mlogloss:1.77010\n"
     ]
    },
    {
     "name": "stderr",
     "output_type": "stream",
     "text": []
    },
    {
     "name": "stdout",
     "output_type": "stream",
     "text": [
      "[488]\ttrain-mlogloss:0.08385\teval-mlogloss:1.77065\n"
     ]
    },
    {
     "name": "stderr",
     "output_type": "stream",
     "text": []
    },
    {
     "name": "stdout",
     "output_type": "stream",
     "text": [
      "[489]\ttrain-mlogloss:0.08383\teval-mlogloss:1.77170\n"
     ]
    },
    {
     "name": "stderr",
     "output_type": "stream",
     "text": []
    },
    {
     "name": "stdout",
     "output_type": "stream",
     "text": [
      "[490]\ttrain-mlogloss:0.08380\teval-mlogloss:1.77258\n"
     ]
    },
    {
     "name": "stderr",
     "output_type": "stream",
     "text": []
    },
    {
     "name": "stdout",
     "output_type": "stream",
     "text": [
      "[491]\ttrain-mlogloss:0.08377\teval-mlogloss:1.77380\n"
     ]
    },
    {
     "name": "stderr",
     "output_type": "stream",
     "text": []
    },
    {
     "name": "stdout",
     "output_type": "stream",
     "text": [
      "[492]\ttrain-mlogloss:0.08374\teval-mlogloss:1.77448\n"
     ]
    },
    {
     "name": "stderr",
     "output_type": "stream",
     "text": []
    },
    {
     "name": "stdout",
     "output_type": "stream",
     "text": [
      "[493]\ttrain-mlogloss:0.08372\teval-mlogloss:1.77505\n"
     ]
    },
    {
     "name": "stderr",
     "output_type": "stream",
     "text": []
    },
    {
     "name": "stdout",
     "output_type": "stream",
     "text": [
      "[494]\ttrain-mlogloss:0.08370\teval-mlogloss:1.77568\n"
     ]
    },
    {
     "name": "stderr",
     "output_type": "stream",
     "text": []
    },
    {
     "name": "stdout",
     "output_type": "stream",
     "text": [
      "[495]\ttrain-mlogloss:0.08368\teval-mlogloss:1.77684\n"
     ]
    },
    {
     "name": "stderr",
     "output_type": "stream",
     "text": []
    },
    {
     "name": "stdout",
     "output_type": "stream",
     "text": [
      "[496]\ttrain-mlogloss:0.08366\teval-mlogloss:1.77741\n"
     ]
    },
    {
     "name": "stderr",
     "output_type": "stream",
     "text": []
    },
    {
     "name": "stdout",
     "output_type": "stream",
     "text": [
      "[497]\ttrain-mlogloss:0.08363\teval-mlogloss:1.77862\n"
     ]
    },
    {
     "name": "stderr",
     "output_type": "stream",
     "text": []
    },
    {
     "name": "stdout",
     "output_type": "stream",
     "text": [
      "[498]\ttrain-mlogloss:0.08360\teval-mlogloss:1.77974\n"
     ]
    },
    {
     "name": "stderr",
     "output_type": "stream",
     "text": []
    },
    {
     "name": "stdout",
     "output_type": "stream",
     "text": [
      "[499]\ttrain-mlogloss:0.08358\teval-mlogloss:1.77985\n"
     ]
    },
    {
     "name": "stderr",
     "output_type": "stream",
     "text": [
      "c:\\Users\\abhis\\Downloads\\Documents\\Learner Engagement Project\\venv\\Lib\\site-packages\\xgboost\\core.py:158: UserWarning: [01:46:24] WARNING: C:\\buildkite-agent\\builds\\buildkite-windows-cpu-autoscaling-group-i-08cbc0333d8d4aae1-1\\xgboost\\xgboost-ci-windows\\src\\c_api\\c_api.cc:1374: Saving model in the UBJSON format as default.  You can use file extension: `json`, `ubj` or `deprecated` to choose between formats.\n",
      "  warnings.warn(smsg, UserWarning)\n",
      "                                                                     \n",
      "Final Training Engagement:   0%|          | 0/500 [48:38<?, ?round/s]       "
     ]
    },
    {
     "name": "stdout",
     "output_type": "stream",
     "text": [
      "Checkpoint saved at iteration 500\n"
     ]
    },
    {
     "name": "stderr",
     "output_type": "stream",
     "text": [
      "Final Training Boredom: 100%|██████████| 500/500 [41:57<00:00,  5.03s/round]\n"
     ]
    },
    {
     "name": "stdout",
     "output_type": "stream",
     "text": [
      "Final model for Boredom saved at C:\\Users\\abhis\\Downloads\\Documents\\Learner Engagement Project\\models\\final_model_Boredom.model\n",
      "\n",
      "Training final model for Confusion...\n"
     ]
    },
    {
     "name": "stderr",
     "output_type": "stream",
     "text": []
    },
    {
     "name": "stdout",
     "output_type": "stream",
     "text": [
      "[0]\ttrain-mlogloss:1.21257\teval-mlogloss:1.24313\n"
     ]
    },
    {
     "name": "stderr",
     "output_type": "stream",
     "text": []
    },
    {
     "name": "stdout",
     "output_type": "stream",
     "text": [
      "[1]\ttrain-mlogloss:1.08715\teval-mlogloss:1.14707\n"
     ]
    },
    {
     "name": "stderr",
     "output_type": "stream",
     "text": []
    },
    {
     "name": "stdout",
     "output_type": "stream",
     "text": [
      "[2]\ttrain-mlogloss:0.99015\teval-mlogloss:1.07738\n"
     ]
    },
    {
     "name": "stderr",
     "output_type": "stream",
     "text": []
    },
    {
     "name": "stdout",
     "output_type": "stream",
     "text": [
      "[3]\ttrain-mlogloss:0.91497\teval-mlogloss:1.02111\n"
     ]
    },
    {
     "name": "stderr",
     "output_type": "stream",
     "text": []
    },
    {
     "name": "stdout",
     "output_type": "stream",
     "text": [
      "[4]\ttrain-mlogloss:0.85198\teval-mlogloss:0.98031\n"
     ]
    },
    {
     "name": "stderr",
     "output_type": "stream",
     "text": []
    },
    {
     "name": "stdout",
     "output_type": "stream",
     "text": [
      "[5]\ttrain-mlogloss:0.80209\teval-mlogloss:0.94827\n"
     ]
    },
    {
     "name": "stderr",
     "output_type": "stream",
     "text": []
    },
    {
     "name": "stdout",
     "output_type": "stream",
     "text": [
      "[6]\ttrain-mlogloss:0.75738\teval-mlogloss:0.92411\n"
     ]
    },
    {
     "name": "stderr",
     "output_type": "stream",
     "text": []
    },
    {
     "name": "stdout",
     "output_type": "stream",
     "text": [
      "[7]\ttrain-mlogloss:0.72279\teval-mlogloss:0.90326\n"
     ]
    },
    {
     "name": "stderr",
     "output_type": "stream",
     "text": []
    },
    {
     "name": "stdout",
     "output_type": "stream",
     "text": [
      "[8]\ttrain-mlogloss:0.69017\teval-mlogloss:0.88937\n"
     ]
    },
    {
     "name": "stderr",
     "output_type": "stream",
     "text": []
    },
    {
     "name": "stdout",
     "output_type": "stream",
     "text": [
      "[9]\ttrain-mlogloss:0.66419\teval-mlogloss:0.87677\n"
     ]
    },
    {
     "name": "stderr",
     "output_type": "stream",
     "text": []
    },
    {
     "name": "stdout",
     "output_type": "stream",
     "text": [
      "[10]\ttrain-mlogloss:0.63785\teval-mlogloss:0.86847\n"
     ]
    },
    {
     "name": "stderr",
     "output_type": "stream",
     "text": []
    },
    {
     "name": "stdout",
     "output_type": "stream",
     "text": [
      "[11]\ttrain-mlogloss:0.61680\teval-mlogloss:0.86153\n"
     ]
    },
    {
     "name": "stderr",
     "output_type": "stream",
     "text": []
    },
    {
     "name": "stdout",
     "output_type": "stream",
     "text": [
      "[12]\ttrain-mlogloss:0.59804\teval-mlogloss:0.85671\n"
     ]
    },
    {
     "name": "stderr",
     "output_type": "stream",
     "text": []
    },
    {
     "name": "stdout",
     "output_type": "stream",
     "text": [
      "[13]\ttrain-mlogloss:0.57882\teval-mlogloss:0.85217\n"
     ]
    },
    {
     "name": "stderr",
     "output_type": "stream",
     "text": []
    },
    {
     "name": "stdout",
     "output_type": "stream",
     "text": [
      "[14]\ttrain-mlogloss:0.56278\teval-mlogloss:0.84728\n"
     ]
    },
    {
     "name": "stderr",
     "output_type": "stream",
     "text": []
    },
    {
     "name": "stdout",
     "output_type": "stream",
     "text": [
      "[15]\ttrain-mlogloss:0.54755\teval-mlogloss:0.84557\n"
     ]
    },
    {
     "name": "stderr",
     "output_type": "stream",
     "text": []
    },
    {
     "name": "stdout",
     "output_type": "stream",
     "text": [
      "[16]\ttrain-mlogloss:0.53157\teval-mlogloss:0.84550\n"
     ]
    },
    {
     "name": "stderr",
     "output_type": "stream",
     "text": []
    },
    {
     "name": "stdout",
     "output_type": "stream",
     "text": [
      "[17]\ttrain-mlogloss:0.51944\teval-mlogloss:0.84397\n"
     ]
    },
    {
     "name": "stderr",
     "output_type": "stream",
     "text": []
    },
    {
     "name": "stdout",
     "output_type": "stream",
     "text": [
      "[18]\ttrain-mlogloss:0.50493\teval-mlogloss:0.84324\n"
     ]
    },
    {
     "name": "stderr",
     "output_type": "stream",
     "text": []
    },
    {
     "name": "stdout",
     "output_type": "stream",
     "text": [
      "[19]\ttrain-mlogloss:0.49417\teval-mlogloss:0.84325\n"
     ]
    },
    {
     "name": "stderr",
     "output_type": "stream",
     "text": []
    },
    {
     "name": "stdout",
     "output_type": "stream",
     "text": [
      "[20]\ttrain-mlogloss:0.48062\teval-mlogloss:0.84430\n"
     ]
    },
    {
     "name": "stderr",
     "output_type": "stream",
     "text": []
    },
    {
     "name": "stdout",
     "output_type": "stream",
     "text": [
      "[21]\ttrain-mlogloss:0.46851\teval-mlogloss:0.84478\n"
     ]
    },
    {
     "name": "stderr",
     "output_type": "stream",
     "text": []
    },
    {
     "name": "stdout",
     "output_type": "stream",
     "text": [
      "[22]\ttrain-mlogloss:0.45890\teval-mlogloss:0.84430\n"
     ]
    },
    {
     "name": "stderr",
     "output_type": "stream",
     "text": []
    },
    {
     "name": "stdout",
     "output_type": "stream",
     "text": [
      "[23]\ttrain-mlogloss:0.44934\teval-mlogloss:0.84480\n"
     ]
    },
    {
     "name": "stderr",
     "output_type": "stream",
     "text": []
    },
    {
     "name": "stdout",
     "output_type": "stream",
     "text": [
      "[24]\ttrain-mlogloss:0.43785\teval-mlogloss:0.84742\n"
     ]
    },
    {
     "name": "stderr",
     "output_type": "stream",
     "text": []
    },
    {
     "name": "stdout",
     "output_type": "stream",
     "text": [
      "[25]\ttrain-mlogloss:0.43020\teval-mlogloss:0.84759\n"
     ]
    },
    {
     "name": "stderr",
     "output_type": "stream",
     "text": []
    },
    {
     "name": "stdout",
     "output_type": "stream",
     "text": [
      "[26]\ttrain-mlogloss:0.41691\teval-mlogloss:0.85154\n"
     ]
    },
    {
     "name": "stderr",
     "output_type": "stream",
     "text": []
    },
    {
     "name": "stdout",
     "output_type": "stream",
     "text": [
      "[27]\ttrain-mlogloss:0.40781\teval-mlogloss:0.85249\n"
     ]
    },
    {
     "name": "stderr",
     "output_type": "stream",
     "text": []
    },
    {
     "name": "stdout",
     "output_type": "stream",
     "text": [
      "[28]\ttrain-mlogloss:0.40004\teval-mlogloss:0.85534\n"
     ]
    },
    {
     "name": "stderr",
     "output_type": "stream",
     "text": []
    },
    {
     "name": "stdout",
     "output_type": "stream",
     "text": [
      "[29]\ttrain-mlogloss:0.39395\teval-mlogloss:0.85604\n"
     ]
    },
    {
     "name": "stderr",
     "output_type": "stream",
     "text": []
    },
    {
     "name": "stdout",
     "output_type": "stream",
     "text": [
      "[30]\ttrain-mlogloss:0.38807\teval-mlogloss:0.85658\n"
     ]
    },
    {
     "name": "stderr",
     "output_type": "stream",
     "text": []
    },
    {
     "name": "stdout",
     "output_type": "stream",
     "text": [
      "[31]\ttrain-mlogloss:0.37964\teval-mlogloss:0.85664\n"
     ]
    },
    {
     "name": "stderr",
     "output_type": "stream",
     "text": []
    },
    {
     "name": "stdout",
     "output_type": "stream",
     "text": [
      "[32]\ttrain-mlogloss:0.37309\teval-mlogloss:0.85800\n"
     ]
    },
    {
     "name": "stderr",
     "output_type": "stream",
     "text": []
    },
    {
     "name": "stdout",
     "output_type": "stream",
     "text": [
      "[33]\ttrain-mlogloss:0.36730\teval-mlogloss:0.85857\n"
     ]
    },
    {
     "name": "stderr",
     "output_type": "stream",
     "text": []
    },
    {
     "name": "stdout",
     "output_type": "stream",
     "text": [
      "[34]\ttrain-mlogloss:0.36082\teval-mlogloss:0.85983\n"
     ]
    },
    {
     "name": "stderr",
     "output_type": "stream",
     "text": []
    },
    {
     "name": "stdout",
     "output_type": "stream",
     "text": [
      "[35]\ttrain-mlogloss:0.35598\teval-mlogloss:0.86017\n"
     ]
    },
    {
     "name": "stderr",
     "output_type": "stream",
     "text": []
    },
    {
     "name": "stdout",
     "output_type": "stream",
     "text": [
      "[36]\ttrain-mlogloss:0.35075\teval-mlogloss:0.86188\n"
     ]
    },
    {
     "name": "stderr",
     "output_type": "stream",
     "text": []
    },
    {
     "name": "stdout",
     "output_type": "stream",
     "text": [
      "[37]\ttrain-mlogloss:0.34476\teval-mlogloss:0.86372\n"
     ]
    },
    {
     "name": "stderr",
     "output_type": "stream",
     "text": []
    },
    {
     "name": "stdout",
     "output_type": "stream",
     "text": [
      "[38]\ttrain-mlogloss:0.33736\teval-mlogloss:0.86685\n"
     ]
    },
    {
     "name": "stderr",
     "output_type": "stream",
     "text": []
    },
    {
     "name": "stdout",
     "output_type": "stream",
     "text": [
      "[39]\ttrain-mlogloss:0.32810\teval-mlogloss:0.86989\n"
     ]
    },
    {
     "name": "stderr",
     "output_type": "stream",
     "text": []
    },
    {
     "name": "stdout",
     "output_type": "stream",
     "text": [
      "[40]\ttrain-mlogloss:0.32408\teval-mlogloss:0.87144\n"
     ]
    },
    {
     "name": "stderr",
     "output_type": "stream",
     "text": []
    },
    {
     "name": "stdout",
     "output_type": "stream",
     "text": [
      "[41]\ttrain-mlogloss:0.31897\teval-mlogloss:0.87310\n"
     ]
    },
    {
     "name": "stderr",
     "output_type": "stream",
     "text": []
    },
    {
     "name": "stdout",
     "output_type": "stream",
     "text": [
      "[42]\ttrain-mlogloss:0.31522\teval-mlogloss:0.87391\n"
     ]
    },
    {
     "name": "stderr",
     "output_type": "stream",
     "text": []
    },
    {
     "name": "stdout",
     "output_type": "stream",
     "text": [
      "[43]\ttrain-mlogloss:0.30967\teval-mlogloss:0.87719\n"
     ]
    },
    {
     "name": "stderr",
     "output_type": "stream",
     "text": []
    },
    {
     "name": "stdout",
     "output_type": "stream",
     "text": [
      "[44]\ttrain-mlogloss:0.30437\teval-mlogloss:0.88057\n"
     ]
    },
    {
     "name": "stderr",
     "output_type": "stream",
     "text": []
    },
    {
     "name": "stdout",
     "output_type": "stream",
     "text": [
      "[45]\ttrain-mlogloss:0.29976\teval-mlogloss:0.88288\n"
     ]
    },
    {
     "name": "stderr",
     "output_type": "stream",
     "text": []
    },
    {
     "name": "stdout",
     "output_type": "stream",
     "text": [
      "[46]\ttrain-mlogloss:0.29574\teval-mlogloss:0.88664\n"
     ]
    },
    {
     "name": "stderr",
     "output_type": "stream",
     "text": []
    },
    {
     "name": "stdout",
     "output_type": "stream",
     "text": [
      "[47]\ttrain-mlogloss:0.28990\teval-mlogloss:0.88787\n"
     ]
    },
    {
     "name": "stderr",
     "output_type": "stream",
     "text": []
    },
    {
     "name": "stdout",
     "output_type": "stream",
     "text": [
      "[48]\ttrain-mlogloss:0.28486\teval-mlogloss:0.89031\n"
     ]
    },
    {
     "name": "stderr",
     "output_type": "stream",
     "text": []
    },
    {
     "name": "stdout",
     "output_type": "stream",
     "text": [
      "[49]\ttrain-mlogloss:0.28075\teval-mlogloss:0.89311\n"
     ]
    },
    {
     "name": "stderr",
     "output_type": "stream",
     "text": [
      "c:\\Users\\abhis\\Downloads\\Documents\\Learner Engagement Project\\venv\\Lib\\site-packages\\xgboost\\core.py:158: UserWarning: [01:51:08] WARNING: C:\\buildkite-agent\\builds\\buildkite-windows-cpu-autoscaling-group-i-08cbc0333d8d4aae1-1\\xgboost\\xgboost-ci-windows\\src\\c_api\\c_api.cc:1374: Saving model in the UBJSON format as default.  You can use file extension: `json`, `ubj` or `deprecated` to choose between formats.\n",
      "  warnings.warn(smsg, UserWarning)\n",
      "                                                                     \n",
      "Final Training Engagement:   0%|          | 0/500 [53:22<?, ?round/s]        "
     ]
    },
    {
     "name": "stdout",
     "output_type": "stream",
     "text": [
      "Checkpoint saved at iteration 50\n",
      "[50]\ttrain-mlogloss:0.27676\teval-mlogloss:0.89496\n"
     ]
    },
    {
     "name": "stderr",
     "output_type": "stream",
     "text": []
    },
    {
     "name": "stdout",
     "output_type": "stream",
     "text": [
      "[51]\ttrain-mlogloss:0.27240\teval-mlogloss:0.89823\n"
     ]
    },
    {
     "name": "stderr",
     "output_type": "stream",
     "text": []
    },
    {
     "name": "stdout",
     "output_type": "stream",
     "text": [
      "[52]\ttrain-mlogloss:0.26794\teval-mlogloss:0.89913\n"
     ]
    },
    {
     "name": "stderr",
     "output_type": "stream",
     "text": []
    },
    {
     "name": "stdout",
     "output_type": "stream",
     "text": [
      "[53]\ttrain-mlogloss:0.26444\teval-mlogloss:0.90043\n"
     ]
    },
    {
     "name": "stderr",
     "output_type": "stream",
     "text": []
    },
    {
     "name": "stdout",
     "output_type": "stream",
     "text": [
      "[54]\ttrain-mlogloss:0.26007\teval-mlogloss:0.90314\n"
     ]
    },
    {
     "name": "stderr",
     "output_type": "stream",
     "text": []
    },
    {
     "name": "stdout",
     "output_type": "stream",
     "text": [
      "[55]\ttrain-mlogloss:0.25657\teval-mlogloss:0.90511\n"
     ]
    },
    {
     "name": "stderr",
     "output_type": "stream",
     "text": []
    },
    {
     "name": "stdout",
     "output_type": "stream",
     "text": [
      "[56]\ttrain-mlogloss:0.25457\teval-mlogloss:0.90666\n"
     ]
    },
    {
     "name": "stderr",
     "output_type": "stream",
     "text": []
    },
    {
     "name": "stdout",
     "output_type": "stream",
     "text": [
      "[57]\ttrain-mlogloss:0.25130\teval-mlogloss:0.90819\n"
     ]
    },
    {
     "name": "stderr",
     "output_type": "stream",
     "text": []
    },
    {
     "name": "stdout",
     "output_type": "stream",
     "text": [
      "[58]\ttrain-mlogloss:0.24865\teval-mlogloss:0.90992\n"
     ]
    },
    {
     "name": "stderr",
     "output_type": "stream",
     "text": []
    },
    {
     "name": "stdout",
     "output_type": "stream",
     "text": [
      "[59]\ttrain-mlogloss:0.24411\teval-mlogloss:0.91383\n"
     ]
    },
    {
     "name": "stderr",
     "output_type": "stream",
     "text": []
    },
    {
     "name": "stdout",
     "output_type": "stream",
     "text": [
      "[60]\ttrain-mlogloss:0.24037\teval-mlogloss:0.91623\n"
     ]
    },
    {
     "name": "stderr",
     "output_type": "stream",
     "text": []
    },
    {
     "name": "stdout",
     "output_type": "stream",
     "text": [
      "[61]\ttrain-mlogloss:0.23751\teval-mlogloss:0.91818\n"
     ]
    },
    {
     "name": "stderr",
     "output_type": "stream",
     "text": []
    },
    {
     "name": "stdout",
     "output_type": "stream",
     "text": [
      "[62]\ttrain-mlogloss:0.23375\teval-mlogloss:0.92058\n"
     ]
    },
    {
     "name": "stderr",
     "output_type": "stream",
     "text": []
    },
    {
     "name": "stdout",
     "output_type": "stream",
     "text": [
      "[63]\ttrain-mlogloss:0.23152\teval-mlogloss:0.92241\n"
     ]
    },
    {
     "name": "stderr",
     "output_type": "stream",
     "text": []
    },
    {
     "name": "stdout",
     "output_type": "stream",
     "text": [
      "[64]\ttrain-mlogloss:0.22885\teval-mlogloss:0.92427\n"
     ]
    },
    {
     "name": "stderr",
     "output_type": "stream",
     "text": []
    },
    {
     "name": "stdout",
     "output_type": "stream",
     "text": [
      "[65]\ttrain-mlogloss:0.22602\teval-mlogloss:0.92658\n"
     ]
    },
    {
     "name": "stderr",
     "output_type": "stream",
     "text": []
    },
    {
     "name": "stdout",
     "output_type": "stream",
     "text": [
      "[66]\ttrain-mlogloss:0.22346\teval-mlogloss:0.92931\n"
     ]
    },
    {
     "name": "stderr",
     "output_type": "stream",
     "text": []
    },
    {
     "name": "stdout",
     "output_type": "stream",
     "text": [
      "[67]\ttrain-mlogloss:0.22031\teval-mlogloss:0.93276\n"
     ]
    },
    {
     "name": "stderr",
     "output_type": "stream",
     "text": []
    },
    {
     "name": "stdout",
     "output_type": "stream",
     "text": [
      "[68]\ttrain-mlogloss:0.21862\teval-mlogloss:0.93489\n"
     ]
    },
    {
     "name": "stderr",
     "output_type": "stream",
     "text": []
    },
    {
     "name": "stdout",
     "output_type": "stream",
     "text": [
      "[69]\ttrain-mlogloss:0.21657\teval-mlogloss:0.93677\n"
     ]
    },
    {
     "name": "stderr",
     "output_type": "stream",
     "text": []
    },
    {
     "name": "stdout",
     "output_type": "stream",
     "text": [
      "[70]\ttrain-mlogloss:0.21360\teval-mlogloss:0.93884\n"
     ]
    },
    {
     "name": "stderr",
     "output_type": "stream",
     "text": []
    },
    {
     "name": "stdout",
     "output_type": "stream",
     "text": [
      "[71]\ttrain-mlogloss:0.21017\teval-mlogloss:0.94063\n"
     ]
    },
    {
     "name": "stderr",
     "output_type": "stream",
     "text": []
    },
    {
     "name": "stdout",
     "output_type": "stream",
     "text": [
      "[72]\ttrain-mlogloss:0.20838\teval-mlogloss:0.94232\n"
     ]
    },
    {
     "name": "stderr",
     "output_type": "stream",
     "text": []
    },
    {
     "name": "stdout",
     "output_type": "stream",
     "text": [
      "[73]\ttrain-mlogloss:0.20601\teval-mlogloss:0.94361\n"
     ]
    },
    {
     "name": "stderr",
     "output_type": "stream",
     "text": []
    },
    {
     "name": "stdout",
     "output_type": "stream",
     "text": [
      "[74]\ttrain-mlogloss:0.20328\teval-mlogloss:0.94577\n"
     ]
    },
    {
     "name": "stderr",
     "output_type": "stream",
     "text": []
    },
    {
     "name": "stdout",
     "output_type": "stream",
     "text": [
      "[75]\ttrain-mlogloss:0.20022\teval-mlogloss:0.94699\n"
     ]
    },
    {
     "name": "stderr",
     "output_type": "stream",
     "text": []
    },
    {
     "name": "stdout",
     "output_type": "stream",
     "text": [
      "[76]\ttrain-mlogloss:0.19879\teval-mlogloss:0.94846\n"
     ]
    },
    {
     "name": "stderr",
     "output_type": "stream",
     "text": []
    },
    {
     "name": "stdout",
     "output_type": "stream",
     "text": [
      "[77]\ttrain-mlogloss:0.19644\teval-mlogloss:0.95012\n"
     ]
    },
    {
     "name": "stderr",
     "output_type": "stream",
     "text": []
    },
    {
     "name": "stdout",
     "output_type": "stream",
     "text": [
      "[78]\ttrain-mlogloss:0.19443\teval-mlogloss:0.95082\n"
     ]
    },
    {
     "name": "stderr",
     "output_type": "stream",
     "text": []
    },
    {
     "name": "stdout",
     "output_type": "stream",
     "text": [
      "[79]\ttrain-mlogloss:0.19268\teval-mlogloss:0.95234\n"
     ]
    },
    {
     "name": "stderr",
     "output_type": "stream",
     "text": []
    },
    {
     "name": "stdout",
     "output_type": "stream",
     "text": [
      "[80]\ttrain-mlogloss:0.19075\teval-mlogloss:0.95630\n"
     ]
    },
    {
     "name": "stderr",
     "output_type": "stream",
     "text": []
    },
    {
     "name": "stdout",
     "output_type": "stream",
     "text": [
      "[81]\ttrain-mlogloss:0.18814\teval-mlogloss:0.95893\n"
     ]
    },
    {
     "name": "stderr",
     "output_type": "stream",
     "text": []
    },
    {
     "name": "stdout",
     "output_type": "stream",
     "text": [
      "[82]\ttrain-mlogloss:0.18664\teval-mlogloss:0.96067\n"
     ]
    },
    {
     "name": "stderr",
     "output_type": "stream",
     "text": []
    },
    {
     "name": "stdout",
     "output_type": "stream",
     "text": [
      "[83]\ttrain-mlogloss:0.18527\teval-mlogloss:0.96258\n"
     ]
    },
    {
     "name": "stderr",
     "output_type": "stream",
     "text": []
    },
    {
     "name": "stdout",
     "output_type": "stream",
     "text": [
      "[84]\ttrain-mlogloss:0.18286\teval-mlogloss:0.96399\n"
     ]
    },
    {
     "name": "stderr",
     "output_type": "stream",
     "text": []
    },
    {
     "name": "stdout",
     "output_type": "stream",
     "text": [
      "[85]\ttrain-mlogloss:0.18016\teval-mlogloss:0.96876\n"
     ]
    },
    {
     "name": "stderr",
     "output_type": "stream",
     "text": []
    },
    {
     "name": "stdout",
     "output_type": "stream",
     "text": [
      "[86]\ttrain-mlogloss:0.17865\teval-mlogloss:0.96996\n"
     ]
    },
    {
     "name": "stderr",
     "output_type": "stream",
     "text": []
    },
    {
     "name": "stdout",
     "output_type": "stream",
     "text": [
      "[87]\ttrain-mlogloss:0.17610\teval-mlogloss:0.97124\n"
     ]
    },
    {
     "name": "stderr",
     "output_type": "stream",
     "text": []
    },
    {
     "name": "stdout",
     "output_type": "stream",
     "text": [
      "[88]\ttrain-mlogloss:0.17464\teval-mlogloss:0.97346\n"
     ]
    },
    {
     "name": "stderr",
     "output_type": "stream",
     "text": []
    },
    {
     "name": "stdout",
     "output_type": "stream",
     "text": [
      "[89]\ttrain-mlogloss:0.17240\teval-mlogloss:0.97621\n"
     ]
    },
    {
     "name": "stderr",
     "output_type": "stream",
     "text": []
    },
    {
     "name": "stdout",
     "output_type": "stream",
     "text": [
      "[90]\ttrain-mlogloss:0.17049\teval-mlogloss:0.97902\n"
     ]
    },
    {
     "name": "stderr",
     "output_type": "stream",
     "text": []
    },
    {
     "name": "stdout",
     "output_type": "stream",
     "text": [
      "[91]\ttrain-mlogloss:0.16901\teval-mlogloss:0.98027\n"
     ]
    },
    {
     "name": "stderr",
     "output_type": "stream",
     "text": []
    },
    {
     "name": "stdout",
     "output_type": "stream",
     "text": [
      "[92]\ttrain-mlogloss:0.16756\teval-mlogloss:0.98214\n"
     ]
    },
    {
     "name": "stderr",
     "output_type": "stream",
     "text": []
    },
    {
     "name": "stdout",
     "output_type": "stream",
     "text": [
      "[93]\ttrain-mlogloss:0.16542\teval-mlogloss:0.98331\n"
     ]
    },
    {
     "name": "stderr",
     "output_type": "stream",
     "text": []
    },
    {
     "name": "stdout",
     "output_type": "stream",
     "text": [
      "[94]\ttrain-mlogloss:0.16415\teval-mlogloss:0.98451\n"
     ]
    },
    {
     "name": "stderr",
     "output_type": "stream",
     "text": []
    },
    {
     "name": "stdout",
     "output_type": "stream",
     "text": [
      "[95]\ttrain-mlogloss:0.16209\teval-mlogloss:0.98648\n"
     ]
    },
    {
     "name": "stderr",
     "output_type": "stream",
     "text": []
    },
    {
     "name": "stdout",
     "output_type": "stream",
     "text": [
      "[96]\ttrain-mlogloss:0.16027\teval-mlogloss:0.98833\n"
     ]
    },
    {
     "name": "stderr",
     "output_type": "stream",
     "text": []
    },
    {
     "name": "stdout",
     "output_type": "stream",
     "text": [
      "[97]\ttrain-mlogloss:0.15853\teval-mlogloss:0.99092\n"
     ]
    },
    {
     "name": "stderr",
     "output_type": "stream",
     "text": []
    },
    {
     "name": "stdout",
     "output_type": "stream",
     "text": [
      "[98]\ttrain-mlogloss:0.15707\teval-mlogloss:0.99343\n"
     ]
    },
    {
     "name": "stderr",
     "output_type": "stream",
     "text": []
    },
    {
     "name": "stdout",
     "output_type": "stream",
     "text": [
      "[99]\ttrain-mlogloss:0.15571\teval-mlogloss:0.99580\n"
     ]
    },
    {
     "name": "stderr",
     "output_type": "stream",
     "text": [
      "c:\\Users\\abhis\\Downloads\\Documents\\Learner Engagement Project\\venv\\Lib\\site-packages\\xgboost\\core.py:158: UserWarning: [01:55:18] WARNING: C:\\buildkite-agent\\builds\\buildkite-windows-cpu-autoscaling-group-i-08cbc0333d8d4aae1-1\\xgboost\\xgboost-ci-windows\\src\\c_api\\c_api.cc:1374: Saving model in the UBJSON format as default.  You can use file extension: `json`, `ubj` or `deprecated` to choose between formats.\n",
      "  warnings.warn(smsg, UserWarning)\n",
      "                                                                     \n",
      "Final Training Engagement:   0%|          | 0/500 [57:32<?, ?round/s]         "
     ]
    },
    {
     "name": "stdout",
     "output_type": "stream",
     "text": [
      "Checkpoint saved at iteration 100\n",
      "[100]\ttrain-mlogloss:0.15364\teval-mlogloss:0.99915\n"
     ]
    },
    {
     "name": "stderr",
     "output_type": "stream",
     "text": []
    },
    {
     "name": "stdout",
     "output_type": "stream",
     "text": [
      "[101]\ttrain-mlogloss:0.15243\teval-mlogloss:1.00149\n"
     ]
    },
    {
     "name": "stderr",
     "output_type": "stream",
     "text": []
    },
    {
     "name": "stdout",
     "output_type": "stream",
     "text": [
      "[102]\ttrain-mlogloss:0.15140\teval-mlogloss:1.00344\n"
     ]
    },
    {
     "name": "stderr",
     "output_type": "stream",
     "text": []
    },
    {
     "name": "stdout",
     "output_type": "stream",
     "text": [
      "[103]\ttrain-mlogloss:0.14941\teval-mlogloss:1.00673\n"
     ]
    },
    {
     "name": "stderr",
     "output_type": "stream",
     "text": []
    },
    {
     "name": "stdout",
     "output_type": "stream",
     "text": [
      "[104]\ttrain-mlogloss:0.14777\teval-mlogloss:1.01018\n"
     ]
    },
    {
     "name": "stderr",
     "output_type": "stream",
     "text": []
    },
    {
     "name": "stdout",
     "output_type": "stream",
     "text": [
      "[105]\ttrain-mlogloss:0.14637\teval-mlogloss:1.01281\n"
     ]
    },
    {
     "name": "stderr",
     "output_type": "stream",
     "text": []
    },
    {
     "name": "stdout",
     "output_type": "stream",
     "text": [
      "[106]\ttrain-mlogloss:0.14501\teval-mlogloss:1.01505\n"
     ]
    },
    {
     "name": "stderr",
     "output_type": "stream",
     "text": []
    },
    {
     "name": "stdout",
     "output_type": "stream",
     "text": [
      "[107]\ttrain-mlogloss:0.14420\teval-mlogloss:1.01808\n"
     ]
    },
    {
     "name": "stderr",
     "output_type": "stream",
     "text": []
    },
    {
     "name": "stdout",
     "output_type": "stream",
     "text": [
      "[108]\ttrain-mlogloss:0.14239\teval-mlogloss:1.01999\n"
     ]
    },
    {
     "name": "stderr",
     "output_type": "stream",
     "text": []
    },
    {
     "name": "stdout",
     "output_type": "stream",
     "text": [
      "[109]\ttrain-mlogloss:0.14157\teval-mlogloss:1.02111\n"
     ]
    },
    {
     "name": "stderr",
     "output_type": "stream",
     "text": []
    },
    {
     "name": "stdout",
     "output_type": "stream",
     "text": [
      "[110]\ttrain-mlogloss:0.14026\teval-mlogloss:1.02350\n"
     ]
    },
    {
     "name": "stderr",
     "output_type": "stream",
     "text": []
    },
    {
     "name": "stdout",
     "output_type": "stream",
     "text": [
      "[111]\ttrain-mlogloss:0.13893\teval-mlogloss:1.02589\n"
     ]
    },
    {
     "name": "stderr",
     "output_type": "stream",
     "text": []
    },
    {
     "name": "stdout",
     "output_type": "stream",
     "text": [
      "[112]\ttrain-mlogloss:0.13765\teval-mlogloss:1.03001\n"
     ]
    },
    {
     "name": "stderr",
     "output_type": "stream",
     "text": []
    },
    {
     "name": "stdout",
     "output_type": "stream",
     "text": [
      "[113]\ttrain-mlogloss:0.13675\teval-mlogloss:1.03238\n"
     ]
    },
    {
     "name": "stderr",
     "output_type": "stream",
     "text": []
    },
    {
     "name": "stdout",
     "output_type": "stream",
     "text": [
      "[114]\ttrain-mlogloss:0.13555\teval-mlogloss:1.03469\n"
     ]
    },
    {
     "name": "stderr",
     "output_type": "stream",
     "text": []
    },
    {
     "name": "stdout",
     "output_type": "stream",
     "text": [
      "[115]\ttrain-mlogloss:0.13453\teval-mlogloss:1.03582\n"
     ]
    },
    {
     "name": "stderr",
     "output_type": "stream",
     "text": []
    },
    {
     "name": "stdout",
     "output_type": "stream",
     "text": [
      "[116]\ttrain-mlogloss:0.13284\teval-mlogloss:1.03715\n"
     ]
    },
    {
     "name": "stderr",
     "output_type": "stream",
     "text": []
    },
    {
     "name": "stdout",
     "output_type": "stream",
     "text": [
      "[117]\ttrain-mlogloss:0.13196\teval-mlogloss:1.03904\n"
     ]
    },
    {
     "name": "stderr",
     "output_type": "stream",
     "text": []
    },
    {
     "name": "stdout",
     "output_type": "stream",
     "text": [
      "[118]\ttrain-mlogloss:0.13055\teval-mlogloss:1.04235\n"
     ]
    },
    {
     "name": "stderr",
     "output_type": "stream",
     "text": []
    },
    {
     "name": "stdout",
     "output_type": "stream",
     "text": [
      "[119]\ttrain-mlogloss:0.12939\teval-mlogloss:1.04460\n"
     ]
    },
    {
     "name": "stderr",
     "output_type": "stream",
     "text": []
    },
    {
     "name": "stdout",
     "output_type": "stream",
     "text": [
      "[120]\ttrain-mlogloss:0.12842\teval-mlogloss:1.04779\n"
     ]
    },
    {
     "name": "stderr",
     "output_type": "stream",
     "text": []
    },
    {
     "name": "stdout",
     "output_type": "stream",
     "text": [
      "[121]\ttrain-mlogloss:0.12761\teval-mlogloss:1.04928\n"
     ]
    },
    {
     "name": "stderr",
     "output_type": "stream",
     "text": []
    },
    {
     "name": "stdout",
     "output_type": "stream",
     "text": [
      "[122]\ttrain-mlogloss:0.12646\teval-mlogloss:1.05192\n"
     ]
    },
    {
     "name": "stderr",
     "output_type": "stream",
     "text": []
    },
    {
     "name": "stdout",
     "output_type": "stream",
     "text": [
      "[123]\ttrain-mlogloss:0.12568\teval-mlogloss:1.05394\n"
     ]
    },
    {
     "name": "stderr",
     "output_type": "stream",
     "text": []
    },
    {
     "name": "stdout",
     "output_type": "stream",
     "text": [
      "[124]\ttrain-mlogloss:0.12478\teval-mlogloss:1.05560\n"
     ]
    },
    {
     "name": "stderr",
     "output_type": "stream",
     "text": []
    },
    {
     "name": "stdout",
     "output_type": "stream",
     "text": [
      "[125]\ttrain-mlogloss:0.12399\teval-mlogloss:1.05672\n"
     ]
    },
    {
     "name": "stderr",
     "output_type": "stream",
     "text": []
    },
    {
     "name": "stdout",
     "output_type": "stream",
     "text": [
      "[126]\ttrain-mlogloss:0.12288\teval-mlogloss:1.05905\n"
     ]
    },
    {
     "name": "stderr",
     "output_type": "stream",
     "text": []
    },
    {
     "name": "stdout",
     "output_type": "stream",
     "text": [
      "[127]\ttrain-mlogloss:0.12182\teval-mlogloss:1.06293\n"
     ]
    },
    {
     "name": "stderr",
     "output_type": "stream",
     "text": []
    },
    {
     "name": "stdout",
     "output_type": "stream",
     "text": [
      "[128]\ttrain-mlogloss:0.12095\teval-mlogloss:1.06567\n"
     ]
    },
    {
     "name": "stderr",
     "output_type": "stream",
     "text": []
    },
    {
     "name": "stdout",
     "output_type": "stream",
     "text": [
      "[129]\ttrain-mlogloss:0.12026\teval-mlogloss:1.06714\n"
     ]
    },
    {
     "name": "stderr",
     "output_type": "stream",
     "text": []
    },
    {
     "name": "stdout",
     "output_type": "stream",
     "text": [
      "[130]\ttrain-mlogloss:0.11914\teval-mlogloss:1.06893\n"
     ]
    },
    {
     "name": "stderr",
     "output_type": "stream",
     "text": []
    },
    {
     "name": "stdout",
     "output_type": "stream",
     "text": [
      "[131]\ttrain-mlogloss:0.11824\teval-mlogloss:1.06981\n"
     ]
    },
    {
     "name": "stderr",
     "output_type": "stream",
     "text": []
    },
    {
     "name": "stdout",
     "output_type": "stream",
     "text": [
      "[132]\ttrain-mlogloss:0.11740\teval-mlogloss:1.07118\n"
     ]
    },
    {
     "name": "stderr",
     "output_type": "stream",
     "text": []
    },
    {
     "name": "stdout",
     "output_type": "stream",
     "text": [
      "[133]\ttrain-mlogloss:0.11650\teval-mlogloss:1.07437\n"
     ]
    },
    {
     "name": "stderr",
     "output_type": "stream",
     "text": []
    },
    {
     "name": "stdout",
     "output_type": "stream",
     "text": [
      "[134]\ttrain-mlogloss:0.11594\teval-mlogloss:1.07579\n"
     ]
    },
    {
     "name": "stderr",
     "output_type": "stream",
     "text": []
    },
    {
     "name": "stdout",
     "output_type": "stream",
     "text": [
      "[135]\ttrain-mlogloss:0.11530\teval-mlogloss:1.07750\n"
     ]
    },
    {
     "name": "stderr",
     "output_type": "stream",
     "text": []
    },
    {
     "name": "stdout",
     "output_type": "stream",
     "text": [
      "[136]\ttrain-mlogloss:0.11439\teval-mlogloss:1.08011\n"
     ]
    },
    {
     "name": "stderr",
     "output_type": "stream",
     "text": []
    },
    {
     "name": "stdout",
     "output_type": "stream",
     "text": [
      "[137]\ttrain-mlogloss:0.11365\teval-mlogloss:1.08179\n"
     ]
    },
    {
     "name": "stderr",
     "output_type": "stream",
     "text": []
    },
    {
     "name": "stdout",
     "output_type": "stream",
     "text": [
      "[138]\ttrain-mlogloss:0.11283\teval-mlogloss:1.08301\n"
     ]
    },
    {
     "name": "stderr",
     "output_type": "stream",
     "text": []
    },
    {
     "name": "stdout",
     "output_type": "stream",
     "text": [
      "[139]\ttrain-mlogloss:0.11216\teval-mlogloss:1.08501\n"
     ]
    },
    {
     "name": "stderr",
     "output_type": "stream",
     "text": []
    },
    {
     "name": "stdout",
     "output_type": "stream",
     "text": [
      "[140]\ttrain-mlogloss:0.11140\teval-mlogloss:1.08680\n"
     ]
    },
    {
     "name": "stderr",
     "output_type": "stream",
     "text": []
    },
    {
     "name": "stdout",
     "output_type": "stream",
     "text": [
      "[141]\ttrain-mlogloss:0.11031\teval-mlogloss:1.09067\n"
     ]
    },
    {
     "name": "stderr",
     "output_type": "stream",
     "text": []
    },
    {
     "name": "stdout",
     "output_type": "stream",
     "text": [
      "[142]\ttrain-mlogloss:0.10963\teval-mlogloss:1.09331\n"
     ]
    },
    {
     "name": "stderr",
     "output_type": "stream",
     "text": []
    },
    {
     "name": "stdout",
     "output_type": "stream",
     "text": [
      "[143]\ttrain-mlogloss:0.10896\teval-mlogloss:1.09596\n"
     ]
    },
    {
     "name": "stderr",
     "output_type": "stream",
     "text": []
    },
    {
     "name": "stdout",
     "output_type": "stream",
     "text": [
      "[144]\ttrain-mlogloss:0.10846\teval-mlogloss:1.09804\n"
     ]
    },
    {
     "name": "stderr",
     "output_type": "stream",
     "text": []
    },
    {
     "name": "stdout",
     "output_type": "stream",
     "text": [
      "[145]\ttrain-mlogloss:0.10797\teval-mlogloss:1.09986\n"
     ]
    },
    {
     "name": "stderr",
     "output_type": "stream",
     "text": []
    },
    {
     "name": "stdout",
     "output_type": "stream",
     "text": [
      "[146]\ttrain-mlogloss:0.10737\teval-mlogloss:1.10090\n"
     ]
    },
    {
     "name": "stderr",
     "output_type": "stream",
     "text": []
    },
    {
     "name": "stdout",
     "output_type": "stream",
     "text": [
      "[147]\ttrain-mlogloss:0.10689\teval-mlogloss:1.10359\n"
     ]
    },
    {
     "name": "stderr",
     "output_type": "stream",
     "text": []
    },
    {
     "name": "stdout",
     "output_type": "stream",
     "text": [
      "[148]\ttrain-mlogloss:0.10634\teval-mlogloss:1.10649\n"
     ]
    },
    {
     "name": "stderr",
     "output_type": "stream",
     "text": []
    },
    {
     "name": "stdout",
     "output_type": "stream",
     "text": [
      "[149]\ttrain-mlogloss:0.10575\teval-mlogloss:1.10830\n"
     ]
    },
    {
     "name": "stderr",
     "output_type": "stream",
     "text": [
      "c:\\Users\\abhis\\Downloads\\Documents\\Learner Engagement Project\\venv\\Lib\\site-packages\\xgboost\\core.py:158: UserWarning: [01:59:26] WARNING: C:\\buildkite-agent\\builds\\buildkite-windows-cpu-autoscaling-group-i-08cbc0333d8d4aae1-1\\xgboost\\xgboost-ci-windows\\src\\c_api\\c_api.cc:1374: Saving model in the UBJSON format as default.  You can use file extension: `json`, `ubj` or `deprecated` to choose between formats.\n",
      "  warnings.warn(smsg, UserWarning)\n",
      "                                                                     \n",
      "Final Training Engagement:   0%|          | 0/500 [1:01:39<?, ?round/s]       "
     ]
    },
    {
     "name": "stdout",
     "output_type": "stream",
     "text": [
      "Checkpoint saved at iteration 150\n",
      "[150]\ttrain-mlogloss:0.10525\teval-mlogloss:1.11003\n"
     ]
    },
    {
     "name": "stderr",
     "output_type": "stream",
     "text": []
    },
    {
     "name": "stdout",
     "output_type": "stream",
     "text": [
      "[151]\ttrain-mlogloss:0.10480\teval-mlogloss:1.11139\n"
     ]
    },
    {
     "name": "stderr",
     "output_type": "stream",
     "text": []
    },
    {
     "name": "stdout",
     "output_type": "stream",
     "text": [
      "[152]\ttrain-mlogloss:0.10422\teval-mlogloss:1.11245\n"
     ]
    },
    {
     "name": "stderr",
     "output_type": "stream",
     "text": []
    },
    {
     "name": "stdout",
     "output_type": "stream",
     "text": [
      "[153]\ttrain-mlogloss:0.10357\teval-mlogloss:1.11550\n"
     ]
    },
    {
     "name": "stderr",
     "output_type": "stream",
     "text": []
    },
    {
     "name": "stdout",
     "output_type": "stream",
     "text": [
      "[154]\ttrain-mlogloss:0.10283\teval-mlogloss:1.11851\n"
     ]
    },
    {
     "name": "stderr",
     "output_type": "stream",
     "text": []
    },
    {
     "name": "stdout",
     "output_type": "stream",
     "text": [
      "[155]\ttrain-mlogloss:0.10231\teval-mlogloss:1.12090\n"
     ]
    },
    {
     "name": "stderr",
     "output_type": "stream",
     "text": []
    },
    {
     "name": "stdout",
     "output_type": "stream",
     "text": [
      "[156]\ttrain-mlogloss:0.10167\teval-mlogloss:1.12198\n"
     ]
    },
    {
     "name": "stderr",
     "output_type": "stream",
     "text": []
    },
    {
     "name": "stdout",
     "output_type": "stream",
     "text": [
      "[157]\ttrain-mlogloss:0.10110\teval-mlogloss:1.12514\n"
     ]
    },
    {
     "name": "stderr",
     "output_type": "stream",
     "text": []
    },
    {
     "name": "stdout",
     "output_type": "stream",
     "text": [
      "[158]\ttrain-mlogloss:0.10078\teval-mlogloss:1.12658\n"
     ]
    },
    {
     "name": "stderr",
     "output_type": "stream",
     "text": []
    },
    {
     "name": "stdout",
     "output_type": "stream",
     "text": [
      "[159]\ttrain-mlogloss:0.10016\teval-mlogloss:1.12769\n"
     ]
    },
    {
     "name": "stderr",
     "output_type": "stream",
     "text": []
    },
    {
     "name": "stdout",
     "output_type": "stream",
     "text": [
      "[160]\ttrain-mlogloss:0.09945\teval-mlogloss:1.13109\n"
     ]
    },
    {
     "name": "stderr",
     "output_type": "stream",
     "text": []
    },
    {
     "name": "stdout",
     "output_type": "stream",
     "text": [
      "[161]\ttrain-mlogloss:0.09914\teval-mlogloss:1.13317\n"
     ]
    },
    {
     "name": "stderr",
     "output_type": "stream",
     "text": []
    },
    {
     "name": "stdout",
     "output_type": "stream",
     "text": [
      "[162]\ttrain-mlogloss:0.09855\teval-mlogloss:1.13603\n"
     ]
    },
    {
     "name": "stderr",
     "output_type": "stream",
     "text": []
    },
    {
     "name": "stdout",
     "output_type": "stream",
     "text": [
      "[163]\ttrain-mlogloss:0.09802\teval-mlogloss:1.13814\n"
     ]
    },
    {
     "name": "stderr",
     "output_type": "stream",
     "text": []
    },
    {
     "name": "stdout",
     "output_type": "stream",
     "text": [
      "[164]\ttrain-mlogloss:0.09754\teval-mlogloss:1.13999\n"
     ]
    },
    {
     "name": "stderr",
     "output_type": "stream",
     "text": []
    },
    {
     "name": "stdout",
     "output_type": "stream",
     "text": [
      "[165]\ttrain-mlogloss:0.09715\teval-mlogloss:1.14203\n"
     ]
    },
    {
     "name": "stderr",
     "output_type": "stream",
     "text": []
    },
    {
     "name": "stdout",
     "output_type": "stream",
     "text": [
      "[166]\ttrain-mlogloss:0.09683\teval-mlogloss:1.14290\n"
     ]
    },
    {
     "name": "stderr",
     "output_type": "stream",
     "text": []
    },
    {
     "name": "stdout",
     "output_type": "stream",
     "text": [
      "[167]\ttrain-mlogloss:0.09615\teval-mlogloss:1.14551\n"
     ]
    },
    {
     "name": "stderr",
     "output_type": "stream",
     "text": []
    },
    {
     "name": "stdout",
     "output_type": "stream",
     "text": [
      "[168]\ttrain-mlogloss:0.09573\teval-mlogloss:1.14808\n"
     ]
    },
    {
     "name": "stderr",
     "output_type": "stream",
     "text": []
    },
    {
     "name": "stdout",
     "output_type": "stream",
     "text": [
      "[169]\ttrain-mlogloss:0.09526\teval-mlogloss:1.15051\n"
     ]
    },
    {
     "name": "stderr",
     "output_type": "stream",
     "text": []
    },
    {
     "name": "stdout",
     "output_type": "stream",
     "text": [
      "[170]\ttrain-mlogloss:0.09478\teval-mlogloss:1.15388\n"
     ]
    },
    {
     "name": "stderr",
     "output_type": "stream",
     "text": []
    },
    {
     "name": "stdout",
     "output_type": "stream",
     "text": [
      "[171]\ttrain-mlogloss:0.09445\teval-mlogloss:1.15548\n"
     ]
    },
    {
     "name": "stderr",
     "output_type": "stream",
     "text": []
    },
    {
     "name": "stdout",
     "output_type": "stream",
     "text": [
      "[172]\ttrain-mlogloss:0.09400\teval-mlogloss:1.15863\n"
     ]
    },
    {
     "name": "stderr",
     "output_type": "stream",
     "text": []
    },
    {
     "name": "stdout",
     "output_type": "stream",
     "text": [
      "[173]\ttrain-mlogloss:0.09346\teval-mlogloss:1.16114\n"
     ]
    },
    {
     "name": "stderr",
     "output_type": "stream",
     "text": []
    },
    {
     "name": "stdout",
     "output_type": "stream",
     "text": [
      "[174]\ttrain-mlogloss:0.09321\teval-mlogloss:1.16281\n"
     ]
    },
    {
     "name": "stderr",
     "output_type": "stream",
     "text": []
    },
    {
     "name": "stdout",
     "output_type": "stream",
     "text": [
      "[175]\ttrain-mlogloss:0.09279\teval-mlogloss:1.16390\n"
     ]
    },
    {
     "name": "stderr",
     "output_type": "stream",
     "text": []
    },
    {
     "name": "stdout",
     "output_type": "stream",
     "text": [
      "[176]\ttrain-mlogloss:0.09252\teval-mlogloss:1.16545\n"
     ]
    },
    {
     "name": "stderr",
     "output_type": "stream",
     "text": []
    },
    {
     "name": "stdout",
     "output_type": "stream",
     "text": [
      "[177]\ttrain-mlogloss:0.09208\teval-mlogloss:1.16730\n"
     ]
    },
    {
     "name": "stderr",
     "output_type": "stream",
     "text": []
    },
    {
     "name": "stdout",
     "output_type": "stream",
     "text": [
      "[178]\ttrain-mlogloss:0.09177\teval-mlogloss:1.16973\n"
     ]
    },
    {
     "name": "stderr",
     "output_type": "stream",
     "text": []
    },
    {
     "name": "stdout",
     "output_type": "stream",
     "text": [
      "[179]\ttrain-mlogloss:0.09130\teval-mlogloss:1.17236\n"
     ]
    },
    {
     "name": "stderr",
     "output_type": "stream",
     "text": []
    },
    {
     "name": "stdout",
     "output_type": "stream",
     "text": [
      "[180]\ttrain-mlogloss:0.09090\teval-mlogloss:1.17467\n"
     ]
    },
    {
     "name": "stderr",
     "output_type": "stream",
     "text": []
    },
    {
     "name": "stdout",
     "output_type": "stream",
     "text": [
      "[181]\ttrain-mlogloss:0.09067\teval-mlogloss:1.17662\n"
     ]
    },
    {
     "name": "stderr",
     "output_type": "stream",
     "text": []
    },
    {
     "name": "stdout",
     "output_type": "stream",
     "text": [
      "[182]\ttrain-mlogloss:0.09038\teval-mlogloss:1.17798\n"
     ]
    },
    {
     "name": "stderr",
     "output_type": "stream",
     "text": []
    },
    {
     "name": "stdout",
     "output_type": "stream",
     "text": [
      "[183]\ttrain-mlogloss:0.09003\teval-mlogloss:1.17941\n"
     ]
    },
    {
     "name": "stderr",
     "output_type": "stream",
     "text": []
    },
    {
     "name": "stdout",
     "output_type": "stream",
     "text": [
      "[184]\ttrain-mlogloss:0.08982\teval-mlogloss:1.18141\n"
     ]
    },
    {
     "name": "stderr",
     "output_type": "stream",
     "text": []
    },
    {
     "name": "stdout",
     "output_type": "stream",
     "text": [
      "[185]\ttrain-mlogloss:0.08943\teval-mlogloss:1.18228\n"
     ]
    },
    {
     "name": "stderr",
     "output_type": "stream",
     "text": []
    },
    {
     "name": "stdout",
     "output_type": "stream",
     "text": [
      "[186]\ttrain-mlogloss:0.08890\teval-mlogloss:1.18421\n"
     ]
    },
    {
     "name": "stderr",
     "output_type": "stream",
     "text": []
    },
    {
     "name": "stdout",
     "output_type": "stream",
     "text": [
      "[187]\ttrain-mlogloss:0.08858\teval-mlogloss:1.18584\n"
     ]
    },
    {
     "name": "stderr",
     "output_type": "stream",
     "text": []
    },
    {
     "name": "stdout",
     "output_type": "stream",
     "text": [
      "[188]\ttrain-mlogloss:0.08831\teval-mlogloss:1.18651\n"
     ]
    },
    {
     "name": "stderr",
     "output_type": "stream",
     "text": []
    },
    {
     "name": "stdout",
     "output_type": "stream",
     "text": [
      "[189]\ttrain-mlogloss:0.08795\teval-mlogloss:1.18840\n"
     ]
    },
    {
     "name": "stderr",
     "output_type": "stream",
     "text": []
    },
    {
     "name": "stdout",
     "output_type": "stream",
     "text": [
      "[190]\ttrain-mlogloss:0.08763\teval-mlogloss:1.19093\n"
     ]
    },
    {
     "name": "stderr",
     "output_type": "stream",
     "text": []
    },
    {
     "name": "stdout",
     "output_type": "stream",
     "text": [
      "[191]\ttrain-mlogloss:0.08734\teval-mlogloss:1.19312\n"
     ]
    },
    {
     "name": "stderr",
     "output_type": "stream",
     "text": []
    },
    {
     "name": "stdout",
     "output_type": "stream",
     "text": [
      "[192]\ttrain-mlogloss:0.08709\teval-mlogloss:1.19421\n"
     ]
    },
    {
     "name": "stderr",
     "output_type": "stream",
     "text": []
    },
    {
     "name": "stdout",
     "output_type": "stream",
     "text": [
      "[193]\ttrain-mlogloss:0.08672\teval-mlogloss:1.19604\n"
     ]
    },
    {
     "name": "stderr",
     "output_type": "stream",
     "text": []
    },
    {
     "name": "stdout",
     "output_type": "stream",
     "text": [
      "[194]\ttrain-mlogloss:0.08642\teval-mlogloss:1.19798\n"
     ]
    },
    {
     "name": "stderr",
     "output_type": "stream",
     "text": []
    },
    {
     "name": "stdout",
     "output_type": "stream",
     "text": [
      "[195]\ttrain-mlogloss:0.08616\teval-mlogloss:1.19926\n"
     ]
    },
    {
     "name": "stderr",
     "output_type": "stream",
     "text": []
    },
    {
     "name": "stdout",
     "output_type": "stream",
     "text": [
      "[196]\ttrain-mlogloss:0.08590\teval-mlogloss:1.20177\n"
     ]
    },
    {
     "name": "stderr",
     "output_type": "stream",
     "text": []
    },
    {
     "name": "stdout",
     "output_type": "stream",
     "text": [
      "[197]\ttrain-mlogloss:0.08567\teval-mlogloss:1.20419\n"
     ]
    },
    {
     "name": "stderr",
     "output_type": "stream",
     "text": []
    },
    {
     "name": "stdout",
     "output_type": "stream",
     "text": [
      "[198]\ttrain-mlogloss:0.08538\teval-mlogloss:1.20641\n"
     ]
    },
    {
     "name": "stderr",
     "output_type": "stream",
     "text": []
    },
    {
     "name": "stdout",
     "output_type": "stream",
     "text": [
      "[199]\ttrain-mlogloss:0.08497\teval-mlogloss:1.21010\n"
     ]
    },
    {
     "name": "stderr",
     "output_type": "stream",
     "text": [
      "c:\\Users\\abhis\\Downloads\\Documents\\Learner Engagement Project\\venv\\Lib\\site-packages\\xgboost\\core.py:158: UserWarning: [02:03:37] WARNING: C:\\buildkite-agent\\builds\\buildkite-windows-cpu-autoscaling-group-i-08cbc0333d8d4aae1-1\\xgboost\\xgboost-ci-windows\\src\\c_api\\c_api.cc:1374: Saving model in the UBJSON format as default.  You can use file extension: `json`, `ubj` or `deprecated` to choose between formats.\n",
      "  warnings.warn(smsg, UserWarning)\n",
      "                                                                       \n",
      "Final Training Engagement:   0%|          | 0/500 [1:05:50<?, ?round/s]       "
     ]
    },
    {
     "name": "stdout",
     "output_type": "stream",
     "text": [
      "Checkpoint saved at iteration 200\n",
      "[200]\ttrain-mlogloss:0.08474\teval-mlogloss:1.21194\n"
     ]
    },
    {
     "name": "stderr",
     "output_type": "stream",
     "text": []
    },
    {
     "name": "stdout",
     "output_type": "stream",
     "text": [
      "[201]\ttrain-mlogloss:0.08442\teval-mlogloss:1.21477\n"
     ]
    },
    {
     "name": "stderr",
     "output_type": "stream",
     "text": []
    },
    {
     "name": "stdout",
     "output_type": "stream",
     "text": [
      "[202]\ttrain-mlogloss:0.08418\teval-mlogloss:1.21646\n"
     ]
    },
    {
     "name": "stderr",
     "output_type": "stream",
     "text": []
    },
    {
     "name": "stdout",
     "output_type": "stream",
     "text": [
      "[203]\ttrain-mlogloss:0.08397\teval-mlogloss:1.21781\n"
     ]
    },
    {
     "name": "stderr",
     "output_type": "stream",
     "text": []
    },
    {
     "name": "stdout",
     "output_type": "stream",
     "text": [
      "[204]\ttrain-mlogloss:0.08367\teval-mlogloss:1.22014\n"
     ]
    },
    {
     "name": "stderr",
     "output_type": "stream",
     "text": []
    },
    {
     "name": "stdout",
     "output_type": "stream",
     "text": [
      "[205]\ttrain-mlogloss:0.08338\teval-mlogloss:1.22201\n"
     ]
    },
    {
     "name": "stderr",
     "output_type": "stream",
     "text": []
    },
    {
     "name": "stdout",
     "output_type": "stream",
     "text": [
      "[206]\ttrain-mlogloss:0.08315\teval-mlogloss:1.22423\n"
     ]
    },
    {
     "name": "stderr",
     "output_type": "stream",
     "text": []
    },
    {
     "name": "stdout",
     "output_type": "stream",
     "text": [
      "[207]\ttrain-mlogloss:0.08299\teval-mlogloss:1.22531\n"
     ]
    },
    {
     "name": "stderr",
     "output_type": "stream",
     "text": []
    },
    {
     "name": "stdout",
     "output_type": "stream",
     "text": [
      "[208]\ttrain-mlogloss:0.08278\teval-mlogloss:1.22728\n"
     ]
    },
    {
     "name": "stderr",
     "output_type": "stream",
     "text": []
    },
    {
     "name": "stdout",
     "output_type": "stream",
     "text": [
      "[209]\ttrain-mlogloss:0.08250\teval-mlogloss:1.23022\n"
     ]
    },
    {
     "name": "stderr",
     "output_type": "stream",
     "text": []
    },
    {
     "name": "stdout",
     "output_type": "stream",
     "text": [
      "[210]\ttrain-mlogloss:0.08224\teval-mlogloss:1.23171\n"
     ]
    },
    {
     "name": "stderr",
     "output_type": "stream",
     "text": []
    },
    {
     "name": "stdout",
     "output_type": "stream",
     "text": [
      "[211]\ttrain-mlogloss:0.08201\teval-mlogloss:1.23411\n"
     ]
    },
    {
     "name": "stderr",
     "output_type": "stream",
     "text": []
    },
    {
     "name": "stdout",
     "output_type": "stream",
     "text": [
      "[212]\ttrain-mlogloss:0.08178\teval-mlogloss:1.23598\n"
     ]
    },
    {
     "name": "stderr",
     "output_type": "stream",
     "text": []
    },
    {
     "name": "stdout",
     "output_type": "stream",
     "text": [
      "[213]\ttrain-mlogloss:0.08164\teval-mlogloss:1.23694\n"
     ]
    },
    {
     "name": "stderr",
     "output_type": "stream",
     "text": []
    },
    {
     "name": "stdout",
     "output_type": "stream",
     "text": [
      "[214]\ttrain-mlogloss:0.08148\teval-mlogloss:1.23781\n"
     ]
    },
    {
     "name": "stderr",
     "output_type": "stream",
     "text": []
    },
    {
     "name": "stdout",
     "output_type": "stream",
     "text": [
      "[215]\ttrain-mlogloss:0.08127\teval-mlogloss:1.23935\n"
     ]
    },
    {
     "name": "stderr",
     "output_type": "stream",
     "text": []
    },
    {
     "name": "stdout",
     "output_type": "stream",
     "text": [
      "[216]\ttrain-mlogloss:0.08108\teval-mlogloss:1.24052\n"
     ]
    },
    {
     "name": "stderr",
     "output_type": "stream",
     "text": []
    },
    {
     "name": "stdout",
     "output_type": "stream",
     "text": [
      "[217]\ttrain-mlogloss:0.08086\teval-mlogloss:1.24255\n"
     ]
    },
    {
     "name": "stderr",
     "output_type": "stream",
     "text": []
    },
    {
     "name": "stdout",
     "output_type": "stream",
     "text": [
      "[218]\ttrain-mlogloss:0.08059\teval-mlogloss:1.24383\n"
     ]
    },
    {
     "name": "stderr",
     "output_type": "stream",
     "text": []
    },
    {
     "name": "stdout",
     "output_type": "stream",
     "text": [
      "[219]\ttrain-mlogloss:0.08043\teval-mlogloss:1.24556\n"
     ]
    },
    {
     "name": "stderr",
     "output_type": "stream",
     "text": []
    },
    {
     "name": "stdout",
     "output_type": "stream",
     "text": [
      "[220]\ttrain-mlogloss:0.08025\teval-mlogloss:1.24674\n"
     ]
    },
    {
     "name": "stderr",
     "output_type": "stream",
     "text": []
    },
    {
     "name": "stdout",
     "output_type": "stream",
     "text": [
      "[221]\ttrain-mlogloss:0.08004\teval-mlogloss:1.24807\n"
     ]
    },
    {
     "name": "stderr",
     "output_type": "stream",
     "text": []
    },
    {
     "name": "stdout",
     "output_type": "stream",
     "text": [
      "[222]\ttrain-mlogloss:0.07993\teval-mlogloss:1.24932\n"
     ]
    },
    {
     "name": "stderr",
     "output_type": "stream",
     "text": []
    },
    {
     "name": "stdout",
     "output_type": "stream",
     "text": [
      "[223]\ttrain-mlogloss:0.07975\teval-mlogloss:1.25118\n"
     ]
    },
    {
     "name": "stderr",
     "output_type": "stream",
     "text": []
    },
    {
     "name": "stdout",
     "output_type": "stream",
     "text": [
      "[224]\ttrain-mlogloss:0.07964\teval-mlogloss:1.25258\n"
     ]
    },
    {
     "name": "stderr",
     "output_type": "stream",
     "text": []
    },
    {
     "name": "stdout",
     "output_type": "stream",
     "text": [
      "[225]\ttrain-mlogloss:0.07941\teval-mlogloss:1.25474\n"
     ]
    },
    {
     "name": "stderr",
     "output_type": "stream",
     "text": []
    },
    {
     "name": "stdout",
     "output_type": "stream",
     "text": [
      "[226]\ttrain-mlogloss:0.07924\teval-mlogloss:1.25681\n"
     ]
    },
    {
     "name": "stderr",
     "output_type": "stream",
     "text": []
    },
    {
     "name": "stdout",
     "output_type": "stream",
     "text": [
      "[227]\ttrain-mlogloss:0.07904\teval-mlogloss:1.25790\n"
     ]
    },
    {
     "name": "stderr",
     "output_type": "stream",
     "text": []
    },
    {
     "name": "stdout",
     "output_type": "stream",
     "text": [
      "[228]\ttrain-mlogloss:0.07888\teval-mlogloss:1.25900\n"
     ]
    },
    {
     "name": "stderr",
     "output_type": "stream",
     "text": []
    },
    {
     "name": "stdout",
     "output_type": "stream",
     "text": [
      "[229]\ttrain-mlogloss:0.07869\teval-mlogloss:1.25963\n"
     ]
    },
    {
     "name": "stderr",
     "output_type": "stream",
     "text": []
    },
    {
     "name": "stdout",
     "output_type": "stream",
     "text": [
      "[230]\ttrain-mlogloss:0.07857\teval-mlogloss:1.26072\n"
     ]
    },
    {
     "name": "stderr",
     "output_type": "stream",
     "text": []
    },
    {
     "name": "stdout",
     "output_type": "stream",
     "text": [
      "[231]\ttrain-mlogloss:0.07838\teval-mlogloss:1.26232\n"
     ]
    },
    {
     "name": "stderr",
     "output_type": "stream",
     "text": []
    },
    {
     "name": "stdout",
     "output_type": "stream",
     "text": [
      "[232]\ttrain-mlogloss:0.07819\teval-mlogloss:1.26287\n"
     ]
    },
    {
     "name": "stderr",
     "output_type": "stream",
     "text": []
    },
    {
     "name": "stdout",
     "output_type": "stream",
     "text": [
      "[233]\ttrain-mlogloss:0.07800\teval-mlogloss:1.26543\n"
     ]
    },
    {
     "name": "stderr",
     "output_type": "stream",
     "text": []
    },
    {
     "name": "stdout",
     "output_type": "stream",
     "text": [
      "[234]\ttrain-mlogloss:0.07780\teval-mlogloss:1.26611\n"
     ]
    },
    {
     "name": "stderr",
     "output_type": "stream",
     "text": []
    },
    {
     "name": "stdout",
     "output_type": "stream",
     "text": [
      "[235]\ttrain-mlogloss:0.07765\teval-mlogloss:1.26754\n"
     ]
    },
    {
     "name": "stderr",
     "output_type": "stream",
     "text": []
    },
    {
     "name": "stdout",
     "output_type": "stream",
     "text": [
      "[236]\ttrain-mlogloss:0.07748\teval-mlogloss:1.26984\n"
     ]
    },
    {
     "name": "stderr",
     "output_type": "stream",
     "text": []
    },
    {
     "name": "stdout",
     "output_type": "stream",
     "text": [
      "[237]\ttrain-mlogloss:0.07734\teval-mlogloss:1.27145\n"
     ]
    },
    {
     "name": "stderr",
     "output_type": "stream",
     "text": []
    },
    {
     "name": "stdout",
     "output_type": "stream",
     "text": [
      "[238]\ttrain-mlogloss:0.07719\teval-mlogloss:1.27268\n"
     ]
    },
    {
     "name": "stderr",
     "output_type": "stream",
     "text": []
    },
    {
     "name": "stdout",
     "output_type": "stream",
     "text": [
      "[239]\ttrain-mlogloss:0.07703\teval-mlogloss:1.27459\n"
     ]
    },
    {
     "name": "stderr",
     "output_type": "stream",
     "text": []
    },
    {
     "name": "stdout",
     "output_type": "stream",
     "text": [
      "[240]\ttrain-mlogloss:0.07682\teval-mlogloss:1.27674\n"
     ]
    },
    {
     "name": "stderr",
     "output_type": "stream",
     "text": []
    },
    {
     "name": "stdout",
     "output_type": "stream",
     "text": [
      "[241]\ttrain-mlogloss:0.07672\teval-mlogloss:1.27815\n"
     ]
    },
    {
     "name": "stderr",
     "output_type": "stream",
     "text": []
    },
    {
     "name": "stdout",
     "output_type": "stream",
     "text": [
      "[242]\ttrain-mlogloss:0.07662\teval-mlogloss:1.27913\n"
     ]
    },
    {
     "name": "stderr",
     "output_type": "stream",
     "text": []
    },
    {
     "name": "stdout",
     "output_type": "stream",
     "text": [
      "[243]\ttrain-mlogloss:0.07648\teval-mlogloss:1.28107\n"
     ]
    },
    {
     "name": "stderr",
     "output_type": "stream",
     "text": []
    },
    {
     "name": "stdout",
     "output_type": "stream",
     "text": [
      "[244]\ttrain-mlogloss:0.07632\teval-mlogloss:1.28324\n"
     ]
    },
    {
     "name": "stderr",
     "output_type": "stream",
     "text": []
    },
    {
     "name": "stdout",
     "output_type": "stream",
     "text": [
      "[245]\ttrain-mlogloss:0.07623\teval-mlogloss:1.28430\n"
     ]
    },
    {
     "name": "stderr",
     "output_type": "stream",
     "text": []
    },
    {
     "name": "stdout",
     "output_type": "stream",
     "text": [
      "[246]\ttrain-mlogloss:0.07602\teval-mlogloss:1.28679\n"
     ]
    },
    {
     "name": "stderr",
     "output_type": "stream",
     "text": []
    },
    {
     "name": "stdout",
     "output_type": "stream",
     "text": [
      "[247]\ttrain-mlogloss:0.07590\teval-mlogloss:1.28833\n"
     ]
    },
    {
     "name": "stderr",
     "output_type": "stream",
     "text": []
    },
    {
     "name": "stdout",
     "output_type": "stream",
     "text": [
      "[248]\ttrain-mlogloss:0.07576\teval-mlogloss:1.29030\n"
     ]
    },
    {
     "name": "stderr",
     "output_type": "stream",
     "text": []
    },
    {
     "name": "stdout",
     "output_type": "stream",
     "text": [
      "[249]\ttrain-mlogloss:0.07564\teval-mlogloss:1.29153\n"
     ]
    },
    {
     "name": "stderr",
     "output_type": "stream",
     "text": [
      "c:\\Users\\abhis\\Downloads\\Documents\\Learner Engagement Project\\venv\\Lib\\site-packages\\xgboost\\core.py:158: UserWarning: [02:07:56] WARNING: C:\\buildkite-agent\\builds\\buildkite-windows-cpu-autoscaling-group-i-08cbc0333d8d4aae1-1\\xgboost\\xgboost-ci-windows\\src\\c_api\\c_api.cc:1374: Saving model in the UBJSON format as default.  You can use file extension: `json`, `ubj` or `deprecated` to choose between formats.\n",
      "  warnings.warn(smsg, UserWarning)\n",
      "                                                                       \n",
      "Final Training Engagement:   0%|          | 0/500 [1:10:10<?, ?round/s]       "
     ]
    },
    {
     "name": "stdout",
     "output_type": "stream",
     "text": [
      "Checkpoint saved at iteration 250\n",
      "[250]\ttrain-mlogloss:0.07551\teval-mlogloss:1.29250\n"
     ]
    },
    {
     "name": "stderr",
     "output_type": "stream",
     "text": []
    },
    {
     "name": "stdout",
     "output_type": "stream",
     "text": [
      "[251]\ttrain-mlogloss:0.07535\teval-mlogloss:1.29370\n"
     ]
    },
    {
     "name": "stderr",
     "output_type": "stream",
     "text": []
    },
    {
     "name": "stdout",
     "output_type": "stream",
     "text": [
      "[252]\ttrain-mlogloss:0.07525\teval-mlogloss:1.29470\n"
     ]
    },
    {
     "name": "stderr",
     "output_type": "stream",
     "text": []
    },
    {
     "name": "stdout",
     "output_type": "stream",
     "text": [
      "[253]\ttrain-mlogloss:0.07514\teval-mlogloss:1.29655\n"
     ]
    },
    {
     "name": "stderr",
     "output_type": "stream",
     "text": []
    },
    {
     "name": "stdout",
     "output_type": "stream",
     "text": [
      "[254]\ttrain-mlogloss:0.07505\teval-mlogloss:1.29743\n"
     ]
    },
    {
     "name": "stderr",
     "output_type": "stream",
     "text": []
    },
    {
     "name": "stdout",
     "output_type": "stream",
     "text": [
      "[255]\ttrain-mlogloss:0.07492\teval-mlogloss:1.29862\n"
     ]
    },
    {
     "name": "stderr",
     "output_type": "stream",
     "text": []
    },
    {
     "name": "stdout",
     "output_type": "stream",
     "text": [
      "[256]\ttrain-mlogloss:0.07477\teval-mlogloss:1.30110\n"
     ]
    },
    {
     "name": "stderr",
     "output_type": "stream",
     "text": []
    },
    {
     "name": "stdout",
     "output_type": "stream",
     "text": [
      "[257]\ttrain-mlogloss:0.07466\teval-mlogloss:1.30252\n"
     ]
    },
    {
     "name": "stderr",
     "output_type": "stream",
     "text": []
    },
    {
     "name": "stdout",
     "output_type": "stream",
     "text": [
      "[258]\ttrain-mlogloss:0.07454\teval-mlogloss:1.30432\n"
     ]
    },
    {
     "name": "stderr",
     "output_type": "stream",
     "text": []
    },
    {
     "name": "stdout",
     "output_type": "stream",
     "text": [
      "[259]\ttrain-mlogloss:0.07442\teval-mlogloss:1.30567\n"
     ]
    },
    {
     "name": "stderr",
     "output_type": "stream",
     "text": []
    },
    {
     "name": "stdout",
     "output_type": "stream",
     "text": [
      "[260]\ttrain-mlogloss:0.07432\teval-mlogloss:1.30613\n"
     ]
    },
    {
     "name": "stderr",
     "output_type": "stream",
     "text": []
    },
    {
     "name": "stdout",
     "output_type": "stream",
     "text": [
      "[261]\ttrain-mlogloss:0.07417\teval-mlogloss:1.30721\n"
     ]
    },
    {
     "name": "stderr",
     "output_type": "stream",
     "text": []
    },
    {
     "name": "stdout",
     "output_type": "stream",
     "text": [
      "[262]\ttrain-mlogloss:0.07406\teval-mlogloss:1.30916\n"
     ]
    },
    {
     "name": "stderr",
     "output_type": "stream",
     "text": []
    },
    {
     "name": "stdout",
     "output_type": "stream",
     "text": [
      "[263]\ttrain-mlogloss:0.07391\teval-mlogloss:1.31057\n"
     ]
    },
    {
     "name": "stderr",
     "output_type": "stream",
     "text": []
    },
    {
     "name": "stdout",
     "output_type": "stream",
     "text": [
      "[264]\ttrain-mlogloss:0.07382\teval-mlogloss:1.31251\n"
     ]
    },
    {
     "name": "stderr",
     "output_type": "stream",
     "text": []
    },
    {
     "name": "stdout",
     "output_type": "stream",
     "text": [
      "[265]\ttrain-mlogloss:0.07370\teval-mlogloss:1.31359\n"
     ]
    },
    {
     "name": "stderr",
     "output_type": "stream",
     "text": []
    },
    {
     "name": "stdout",
     "output_type": "stream",
     "text": [
      "[266]\ttrain-mlogloss:0.07360\teval-mlogloss:1.31500\n"
     ]
    },
    {
     "name": "stderr",
     "output_type": "stream",
     "text": []
    },
    {
     "name": "stdout",
     "output_type": "stream",
     "text": [
      "[267]\ttrain-mlogloss:0.07346\teval-mlogloss:1.31753\n"
     ]
    },
    {
     "name": "stderr",
     "output_type": "stream",
     "text": []
    },
    {
     "name": "stdout",
     "output_type": "stream",
     "text": [
      "[268]\ttrain-mlogloss:0.07338\teval-mlogloss:1.31835\n"
     ]
    },
    {
     "name": "stderr",
     "output_type": "stream",
     "text": []
    },
    {
     "name": "stdout",
     "output_type": "stream",
     "text": [
      "[269]\ttrain-mlogloss:0.07322\teval-mlogloss:1.32105\n"
     ]
    },
    {
     "name": "stderr",
     "output_type": "stream",
     "text": []
    },
    {
     "name": "stdout",
     "output_type": "stream",
     "text": [
      "[270]\ttrain-mlogloss:0.07312\teval-mlogloss:1.32256\n"
     ]
    },
    {
     "name": "stderr",
     "output_type": "stream",
     "text": []
    },
    {
     "name": "stdout",
     "output_type": "stream",
     "text": [
      "[271]\ttrain-mlogloss:0.07303\teval-mlogloss:1.32363\n"
     ]
    },
    {
     "name": "stderr",
     "output_type": "stream",
     "text": []
    },
    {
     "name": "stdout",
     "output_type": "stream",
     "text": [
      "[272]\ttrain-mlogloss:0.07292\teval-mlogloss:1.32499\n"
     ]
    },
    {
     "name": "stderr",
     "output_type": "stream",
     "text": []
    },
    {
     "name": "stdout",
     "output_type": "stream",
     "text": [
      "[273]\ttrain-mlogloss:0.07280\teval-mlogloss:1.32637\n"
     ]
    },
    {
     "name": "stderr",
     "output_type": "stream",
     "text": []
    },
    {
     "name": "stdout",
     "output_type": "stream",
     "text": [
      "[274]\ttrain-mlogloss:0.07271\teval-mlogloss:1.32762\n"
     ]
    },
    {
     "name": "stderr",
     "output_type": "stream",
     "text": []
    },
    {
     "name": "stdout",
     "output_type": "stream",
     "text": [
      "[275]\ttrain-mlogloss:0.07263\teval-mlogloss:1.32795\n"
     ]
    },
    {
     "name": "stderr",
     "output_type": "stream",
     "text": []
    },
    {
     "name": "stdout",
     "output_type": "stream",
     "text": [
      "[276]\ttrain-mlogloss:0.07255\teval-mlogloss:1.32909\n"
     ]
    },
    {
     "name": "stderr",
     "output_type": "stream",
     "text": []
    },
    {
     "name": "stdout",
     "output_type": "stream",
     "text": [
      "[277]\ttrain-mlogloss:0.07242\teval-mlogloss:1.33192\n"
     ]
    },
    {
     "name": "stderr",
     "output_type": "stream",
     "text": []
    },
    {
     "name": "stdout",
     "output_type": "stream",
     "text": [
      "[278]\ttrain-mlogloss:0.07233\teval-mlogloss:1.33348\n"
     ]
    },
    {
     "name": "stderr",
     "output_type": "stream",
     "text": []
    },
    {
     "name": "stdout",
     "output_type": "stream",
     "text": [
      "[279]\ttrain-mlogloss:0.07226\teval-mlogloss:1.33402\n"
     ]
    },
    {
     "name": "stderr",
     "output_type": "stream",
     "text": []
    },
    {
     "name": "stdout",
     "output_type": "stream",
     "text": [
      "[280]\ttrain-mlogloss:0.07219\teval-mlogloss:1.33523\n"
     ]
    },
    {
     "name": "stderr",
     "output_type": "stream",
     "text": []
    },
    {
     "name": "stdout",
     "output_type": "stream",
     "text": [
      "[281]\ttrain-mlogloss:0.07212\teval-mlogloss:1.33731\n"
     ]
    },
    {
     "name": "stderr",
     "output_type": "stream",
     "text": []
    },
    {
     "name": "stdout",
     "output_type": "stream",
     "text": [
      "[282]\ttrain-mlogloss:0.07201\teval-mlogloss:1.33928\n"
     ]
    },
    {
     "name": "stderr",
     "output_type": "stream",
     "text": []
    },
    {
     "name": "stdout",
     "output_type": "stream",
     "text": [
      "[283]\ttrain-mlogloss:0.07193\teval-mlogloss:1.34044\n"
     ]
    },
    {
     "name": "stderr",
     "output_type": "stream",
     "text": []
    },
    {
     "name": "stdout",
     "output_type": "stream",
     "text": [
      "[284]\ttrain-mlogloss:0.07185\teval-mlogloss:1.34181\n"
     ]
    },
    {
     "name": "stderr",
     "output_type": "stream",
     "text": []
    },
    {
     "name": "stdout",
     "output_type": "stream",
     "text": [
      "[285]\ttrain-mlogloss:0.07177\teval-mlogloss:1.34247\n"
     ]
    },
    {
     "name": "stderr",
     "output_type": "stream",
     "text": []
    },
    {
     "name": "stdout",
     "output_type": "stream",
     "text": [
      "[286]\ttrain-mlogloss:0.07165\teval-mlogloss:1.34431\n"
     ]
    },
    {
     "name": "stderr",
     "output_type": "stream",
     "text": []
    },
    {
     "name": "stdout",
     "output_type": "stream",
     "text": [
      "[287]\ttrain-mlogloss:0.07160\teval-mlogloss:1.34591\n"
     ]
    },
    {
     "name": "stderr",
     "output_type": "stream",
     "text": []
    },
    {
     "name": "stdout",
     "output_type": "stream",
     "text": [
      "[288]\ttrain-mlogloss:0.07153\teval-mlogloss:1.34697\n"
     ]
    },
    {
     "name": "stderr",
     "output_type": "stream",
     "text": []
    },
    {
     "name": "stdout",
     "output_type": "stream",
     "text": [
      "[289]\ttrain-mlogloss:0.07145\teval-mlogloss:1.34845\n"
     ]
    },
    {
     "name": "stderr",
     "output_type": "stream",
     "text": []
    },
    {
     "name": "stdout",
     "output_type": "stream",
     "text": [
      "[290]\ttrain-mlogloss:0.07139\teval-mlogloss:1.35007\n"
     ]
    },
    {
     "name": "stderr",
     "output_type": "stream",
     "text": []
    },
    {
     "name": "stdout",
     "output_type": "stream",
     "text": [
      "[291]\ttrain-mlogloss:0.07131\teval-mlogloss:1.35176\n"
     ]
    },
    {
     "name": "stderr",
     "output_type": "stream",
     "text": []
    },
    {
     "name": "stdout",
     "output_type": "stream",
     "text": [
      "[292]\ttrain-mlogloss:0.07123\teval-mlogloss:1.35383\n"
     ]
    },
    {
     "name": "stderr",
     "output_type": "stream",
     "text": []
    },
    {
     "name": "stdout",
     "output_type": "stream",
     "text": [
      "[293]\ttrain-mlogloss:0.07117\teval-mlogloss:1.35440\n"
     ]
    },
    {
     "name": "stderr",
     "output_type": "stream",
     "text": []
    },
    {
     "name": "stdout",
     "output_type": "stream",
     "text": [
      "[294]\ttrain-mlogloss:0.07108\teval-mlogloss:1.35571\n"
     ]
    },
    {
     "name": "stderr",
     "output_type": "stream",
     "text": []
    },
    {
     "name": "stdout",
     "output_type": "stream",
     "text": [
      "[295]\ttrain-mlogloss:0.07101\teval-mlogloss:1.35710\n"
     ]
    },
    {
     "name": "stderr",
     "output_type": "stream",
     "text": []
    },
    {
     "name": "stdout",
     "output_type": "stream",
     "text": [
      "[296]\ttrain-mlogloss:0.07092\teval-mlogloss:1.35820\n"
     ]
    },
    {
     "name": "stderr",
     "output_type": "stream",
     "text": []
    },
    {
     "name": "stdout",
     "output_type": "stream",
     "text": [
      "[297]\ttrain-mlogloss:0.07087\teval-mlogloss:1.35885\n"
     ]
    },
    {
     "name": "stderr",
     "output_type": "stream",
     "text": []
    },
    {
     "name": "stdout",
     "output_type": "stream",
     "text": [
      "[298]\ttrain-mlogloss:0.07079\teval-mlogloss:1.36073\n"
     ]
    },
    {
     "name": "stderr",
     "output_type": "stream",
     "text": []
    },
    {
     "name": "stdout",
     "output_type": "stream",
     "text": [
      "[299]\ttrain-mlogloss:0.07072\teval-mlogloss:1.36225\n"
     ]
    },
    {
     "name": "stderr",
     "output_type": "stream",
     "text": [
      "c:\\Users\\abhis\\Downloads\\Documents\\Learner Engagement Project\\venv\\Lib\\site-packages\\xgboost\\core.py:158: UserWarning: [02:12:12] WARNING: C:\\buildkite-agent\\builds\\buildkite-windows-cpu-autoscaling-group-i-08cbc0333d8d4aae1-1\\xgboost\\xgboost-ci-windows\\src\\c_api\\c_api.cc:1374: Saving model in the UBJSON format as default.  You can use file extension: `json`, `ubj` or `deprecated` to choose between formats.\n",
      "  warnings.warn(smsg, UserWarning)\n",
      "                                                                       \n",
      "Final Training Engagement:   0%|          | 0/500 [1:14:25<?, ?round/s]       "
     ]
    },
    {
     "name": "stdout",
     "output_type": "stream",
     "text": [
      "Checkpoint saved at iteration 300\n",
      "[300]\ttrain-mlogloss:0.07065\teval-mlogloss:1.36282\n"
     ]
    },
    {
     "name": "stderr",
     "output_type": "stream",
     "text": []
    },
    {
     "name": "stdout",
     "output_type": "stream",
     "text": [
      "[301]\ttrain-mlogloss:0.07058\teval-mlogloss:1.36408\n"
     ]
    },
    {
     "name": "stderr",
     "output_type": "stream",
     "text": []
    },
    {
     "name": "stdout",
     "output_type": "stream",
     "text": [
      "[302]\ttrain-mlogloss:0.07052\teval-mlogloss:1.36486\n"
     ]
    },
    {
     "name": "stderr",
     "output_type": "stream",
     "text": []
    },
    {
     "name": "stdout",
     "output_type": "stream",
     "text": [
      "[303]\ttrain-mlogloss:0.07046\teval-mlogloss:1.36533\n"
     ]
    },
    {
     "name": "stderr",
     "output_type": "stream",
     "text": []
    },
    {
     "name": "stdout",
     "output_type": "stream",
     "text": [
      "[304]\ttrain-mlogloss:0.07040\teval-mlogloss:1.36730\n"
     ]
    },
    {
     "name": "stderr",
     "output_type": "stream",
     "text": []
    },
    {
     "name": "stdout",
     "output_type": "stream",
     "text": [
      "[305]\ttrain-mlogloss:0.07033\teval-mlogloss:1.36776\n"
     ]
    },
    {
     "name": "stderr",
     "output_type": "stream",
     "text": []
    },
    {
     "name": "stdout",
     "output_type": "stream",
     "text": [
      "[306]\ttrain-mlogloss:0.07028\teval-mlogloss:1.36833\n"
     ]
    },
    {
     "name": "stderr",
     "output_type": "stream",
     "text": []
    },
    {
     "name": "stdout",
     "output_type": "stream",
     "text": [
      "[307]\ttrain-mlogloss:0.07021\teval-mlogloss:1.36994\n"
     ]
    },
    {
     "name": "stderr",
     "output_type": "stream",
     "text": []
    },
    {
     "name": "stdout",
     "output_type": "stream",
     "text": [
      "[308]\ttrain-mlogloss:0.07014\teval-mlogloss:1.37118\n"
     ]
    },
    {
     "name": "stderr",
     "output_type": "stream",
     "text": []
    },
    {
     "name": "stdout",
     "output_type": "stream",
     "text": [
      "[309]\ttrain-mlogloss:0.07005\teval-mlogloss:1.37242\n"
     ]
    },
    {
     "name": "stderr",
     "output_type": "stream",
     "text": []
    },
    {
     "name": "stdout",
     "output_type": "stream",
     "text": [
      "[310]\ttrain-mlogloss:0.06998\teval-mlogloss:1.37321\n"
     ]
    },
    {
     "name": "stderr",
     "output_type": "stream",
     "text": []
    },
    {
     "name": "stdout",
     "output_type": "stream",
     "text": [
      "[311]\ttrain-mlogloss:0.06990\teval-mlogloss:1.37484\n"
     ]
    },
    {
     "name": "stderr",
     "output_type": "stream",
     "text": []
    },
    {
     "name": "stdout",
     "output_type": "stream",
     "text": [
      "[312]\ttrain-mlogloss:0.06985\teval-mlogloss:1.37607\n"
     ]
    },
    {
     "name": "stderr",
     "output_type": "stream",
     "text": []
    },
    {
     "name": "stdout",
     "output_type": "stream",
     "text": [
      "[313]\ttrain-mlogloss:0.06980\teval-mlogloss:1.37724\n"
     ]
    },
    {
     "name": "stderr",
     "output_type": "stream",
     "text": []
    },
    {
     "name": "stdout",
     "output_type": "stream",
     "text": [
      "[314]\ttrain-mlogloss:0.06972\teval-mlogloss:1.37960\n"
     ]
    },
    {
     "name": "stderr",
     "output_type": "stream",
     "text": []
    },
    {
     "name": "stdout",
     "output_type": "stream",
     "text": [
      "[315]\ttrain-mlogloss:0.06966\teval-mlogloss:1.38019\n"
     ]
    },
    {
     "name": "stderr",
     "output_type": "stream",
     "text": []
    },
    {
     "name": "stdout",
     "output_type": "stream",
     "text": [
      "[316]\ttrain-mlogloss:0.06961\teval-mlogloss:1.38117\n"
     ]
    },
    {
     "name": "stderr",
     "output_type": "stream",
     "text": []
    },
    {
     "name": "stdout",
     "output_type": "stream",
     "text": [
      "[317]\ttrain-mlogloss:0.06954\teval-mlogloss:1.38241\n"
     ]
    },
    {
     "name": "stderr",
     "output_type": "stream",
     "text": []
    },
    {
     "name": "stdout",
     "output_type": "stream",
     "text": [
      "[318]\ttrain-mlogloss:0.06946\teval-mlogloss:1.38412\n"
     ]
    },
    {
     "name": "stderr",
     "output_type": "stream",
     "text": []
    },
    {
     "name": "stdout",
     "output_type": "stream",
     "text": [
      "[319]\ttrain-mlogloss:0.06943\teval-mlogloss:1.38463\n"
     ]
    },
    {
     "name": "stderr",
     "output_type": "stream",
     "text": []
    },
    {
     "name": "stdout",
     "output_type": "stream",
     "text": [
      "[320]\ttrain-mlogloss:0.06939\teval-mlogloss:1.38493\n"
     ]
    },
    {
     "name": "stderr",
     "output_type": "stream",
     "text": []
    },
    {
     "name": "stdout",
     "output_type": "stream",
     "text": [
      "[321]\ttrain-mlogloss:0.06932\teval-mlogloss:1.38590\n"
     ]
    },
    {
     "name": "stderr",
     "output_type": "stream",
     "text": []
    },
    {
     "name": "stdout",
     "output_type": "stream",
     "text": [
      "[322]\ttrain-mlogloss:0.06928\teval-mlogloss:1.38703\n"
     ]
    },
    {
     "name": "stderr",
     "output_type": "stream",
     "text": []
    },
    {
     "name": "stdout",
     "output_type": "stream",
     "text": [
      "[323]\ttrain-mlogloss:0.06925\teval-mlogloss:1.38730\n"
     ]
    },
    {
     "name": "stderr",
     "output_type": "stream",
     "text": []
    },
    {
     "name": "stdout",
     "output_type": "stream",
     "text": [
      "[324]\ttrain-mlogloss:0.06919\teval-mlogloss:1.38840\n"
     ]
    },
    {
     "name": "stderr",
     "output_type": "stream",
     "text": []
    },
    {
     "name": "stdout",
     "output_type": "stream",
     "text": [
      "[325]\ttrain-mlogloss:0.06913\teval-mlogloss:1.38929\n"
     ]
    },
    {
     "name": "stderr",
     "output_type": "stream",
     "text": []
    },
    {
     "name": "stdout",
     "output_type": "stream",
     "text": [
      "[326]\ttrain-mlogloss:0.06906\teval-mlogloss:1.39022\n"
     ]
    },
    {
     "name": "stderr",
     "output_type": "stream",
     "text": []
    },
    {
     "name": "stdout",
     "output_type": "stream",
     "text": [
      "[327]\ttrain-mlogloss:0.06902\teval-mlogloss:1.39187\n"
     ]
    },
    {
     "name": "stderr",
     "output_type": "stream",
     "text": []
    },
    {
     "name": "stdout",
     "output_type": "stream",
     "text": [
      "[328]\ttrain-mlogloss:0.06895\teval-mlogloss:1.39334\n"
     ]
    },
    {
     "name": "stderr",
     "output_type": "stream",
     "text": []
    },
    {
     "name": "stdout",
     "output_type": "stream",
     "text": [
      "[329]\ttrain-mlogloss:0.06892\teval-mlogloss:1.39351\n"
     ]
    },
    {
     "name": "stderr",
     "output_type": "stream",
     "text": []
    },
    {
     "name": "stdout",
     "output_type": "stream",
     "text": [
      "[330]\ttrain-mlogloss:0.06886\teval-mlogloss:1.39515\n"
     ]
    },
    {
     "name": "stderr",
     "output_type": "stream",
     "text": []
    },
    {
     "name": "stdout",
     "output_type": "stream",
     "text": [
      "[331]\ttrain-mlogloss:0.06882\teval-mlogloss:1.39606\n"
     ]
    },
    {
     "name": "stderr",
     "output_type": "stream",
     "text": []
    },
    {
     "name": "stdout",
     "output_type": "stream",
     "text": [
      "[332]\ttrain-mlogloss:0.06878\teval-mlogloss:1.39709\n"
     ]
    },
    {
     "name": "stderr",
     "output_type": "stream",
     "text": []
    },
    {
     "name": "stdout",
     "output_type": "stream",
     "text": [
      "[333]\ttrain-mlogloss:0.06873\teval-mlogloss:1.39867\n"
     ]
    },
    {
     "name": "stderr",
     "output_type": "stream",
     "text": []
    },
    {
     "name": "stdout",
     "output_type": "stream",
     "text": [
      "[334]\ttrain-mlogloss:0.06867\teval-mlogloss:1.39905\n"
     ]
    },
    {
     "name": "stderr",
     "output_type": "stream",
     "text": []
    },
    {
     "name": "stdout",
     "output_type": "stream",
     "text": [
      "[335]\ttrain-mlogloss:0.06860\teval-mlogloss:1.40042\n"
     ]
    },
    {
     "name": "stderr",
     "output_type": "stream",
     "text": []
    },
    {
     "name": "stdout",
     "output_type": "stream",
     "text": [
      "[336]\ttrain-mlogloss:0.06856\teval-mlogloss:1.40147\n"
     ]
    },
    {
     "name": "stderr",
     "output_type": "stream",
     "text": []
    },
    {
     "name": "stdout",
     "output_type": "stream",
     "text": [
      "[337]\ttrain-mlogloss:0.06851\teval-mlogloss:1.40255\n"
     ]
    },
    {
     "name": "stderr",
     "output_type": "stream",
     "text": []
    },
    {
     "name": "stdout",
     "output_type": "stream",
     "text": [
      "[338]\ttrain-mlogloss:0.06845\teval-mlogloss:1.40378\n"
     ]
    },
    {
     "name": "stderr",
     "output_type": "stream",
     "text": []
    },
    {
     "name": "stdout",
     "output_type": "stream",
     "text": [
      "[339]\ttrain-mlogloss:0.06842\teval-mlogloss:1.40495\n"
     ]
    },
    {
     "name": "stderr",
     "output_type": "stream",
     "text": []
    },
    {
     "name": "stdout",
     "output_type": "stream",
     "text": [
      "[340]\ttrain-mlogloss:0.06838\teval-mlogloss:1.40597\n"
     ]
    },
    {
     "name": "stderr",
     "output_type": "stream",
     "text": []
    },
    {
     "name": "stdout",
     "output_type": "stream",
     "text": [
      "[341]\ttrain-mlogloss:0.06833\teval-mlogloss:1.40742\n"
     ]
    },
    {
     "name": "stderr",
     "output_type": "stream",
     "text": []
    },
    {
     "name": "stdout",
     "output_type": "stream",
     "text": [
      "[342]\ttrain-mlogloss:0.06829\teval-mlogloss:1.40884\n"
     ]
    },
    {
     "name": "stderr",
     "output_type": "stream",
     "text": []
    },
    {
     "name": "stdout",
     "output_type": "stream",
     "text": [
      "[343]\ttrain-mlogloss:0.06822\teval-mlogloss:1.41027\n"
     ]
    },
    {
     "name": "stderr",
     "output_type": "stream",
     "text": []
    },
    {
     "name": "stdout",
     "output_type": "stream",
     "text": [
      "[344]\ttrain-mlogloss:0.06818\teval-mlogloss:1.41133\n"
     ]
    },
    {
     "name": "stderr",
     "output_type": "stream",
     "text": []
    },
    {
     "name": "stdout",
     "output_type": "stream",
     "text": [
      "[345]\ttrain-mlogloss:0.06814\teval-mlogloss:1.41283\n"
     ]
    },
    {
     "name": "stderr",
     "output_type": "stream",
     "text": []
    },
    {
     "name": "stdout",
     "output_type": "stream",
     "text": [
      "[346]\ttrain-mlogloss:0.06810\teval-mlogloss:1.41338\n"
     ]
    },
    {
     "name": "stderr",
     "output_type": "stream",
     "text": []
    },
    {
     "name": "stdout",
     "output_type": "stream",
     "text": [
      "[347]\ttrain-mlogloss:0.06807\teval-mlogloss:1.41440\n"
     ]
    },
    {
     "name": "stderr",
     "output_type": "stream",
     "text": []
    },
    {
     "name": "stdout",
     "output_type": "stream",
     "text": [
      "[348]\ttrain-mlogloss:0.06804\teval-mlogloss:1.41567\n"
     ]
    },
    {
     "name": "stderr",
     "output_type": "stream",
     "text": []
    },
    {
     "name": "stdout",
     "output_type": "stream",
     "text": [
      "[349]\ttrain-mlogloss:0.06800\teval-mlogloss:1.41693\n"
     ]
    },
    {
     "name": "stderr",
     "output_type": "stream",
     "text": [
      "c:\\Users\\abhis\\Downloads\\Documents\\Learner Engagement Project\\venv\\Lib\\site-packages\\xgboost\\core.py:158: UserWarning: [02:16:17] WARNING: C:\\buildkite-agent\\builds\\buildkite-windows-cpu-autoscaling-group-i-08cbc0333d8d4aae1-1\\xgboost\\xgboost-ci-windows\\src\\c_api\\c_api.cc:1374: Saving model in the UBJSON format as default.  You can use file extension: `json`, `ubj` or `deprecated` to choose between formats.\n",
      "  warnings.warn(smsg, UserWarning)\n",
      "                                                                       \n",
      "Final Training Engagement:   0%|          | 0/500 [1:18:31<?, ?round/s]       "
     ]
    },
    {
     "name": "stdout",
     "output_type": "stream",
     "text": [
      "Checkpoint saved at iteration 350\n",
      "[350]\ttrain-mlogloss:0.06797\teval-mlogloss:1.41768\n"
     ]
    },
    {
     "name": "stderr",
     "output_type": "stream",
     "text": []
    },
    {
     "name": "stdout",
     "output_type": "stream",
     "text": [
      "[351]\ttrain-mlogloss:0.06794\teval-mlogloss:1.41844\n"
     ]
    },
    {
     "name": "stderr",
     "output_type": "stream",
     "text": []
    },
    {
     "name": "stdout",
     "output_type": "stream",
     "text": [
      "[352]\ttrain-mlogloss:0.06790\teval-mlogloss:1.41955\n"
     ]
    },
    {
     "name": "stderr",
     "output_type": "stream",
     "text": []
    },
    {
     "name": "stdout",
     "output_type": "stream",
     "text": [
      "[353]\ttrain-mlogloss:0.06785\teval-mlogloss:1.42097\n"
     ]
    },
    {
     "name": "stderr",
     "output_type": "stream",
     "text": []
    },
    {
     "name": "stdout",
     "output_type": "stream",
     "text": [
      "[354]\ttrain-mlogloss:0.06782\teval-mlogloss:1.42128\n"
     ]
    },
    {
     "name": "stderr",
     "output_type": "stream",
     "text": []
    },
    {
     "name": "stdout",
     "output_type": "stream",
     "text": [
      "[355]\ttrain-mlogloss:0.06780\teval-mlogloss:1.42206\n"
     ]
    },
    {
     "name": "stderr",
     "output_type": "stream",
     "text": []
    },
    {
     "name": "stdout",
     "output_type": "stream",
     "text": [
      "[356]\ttrain-mlogloss:0.06776\teval-mlogloss:1.42257\n"
     ]
    },
    {
     "name": "stderr",
     "output_type": "stream",
     "text": []
    },
    {
     "name": "stdout",
     "output_type": "stream",
     "text": [
      "[357]\ttrain-mlogloss:0.06773\teval-mlogloss:1.42316\n"
     ]
    },
    {
     "name": "stderr",
     "output_type": "stream",
     "text": []
    },
    {
     "name": "stdout",
     "output_type": "stream",
     "text": [
      "[358]\ttrain-mlogloss:0.06770\teval-mlogloss:1.42349\n"
     ]
    },
    {
     "name": "stderr",
     "output_type": "stream",
     "text": []
    },
    {
     "name": "stdout",
     "output_type": "stream",
     "text": [
      "[359]\ttrain-mlogloss:0.06766\teval-mlogloss:1.42415\n"
     ]
    },
    {
     "name": "stderr",
     "output_type": "stream",
     "text": []
    },
    {
     "name": "stdout",
     "output_type": "stream",
     "text": [
      "[360]\ttrain-mlogloss:0.06763\teval-mlogloss:1.42538\n"
     ]
    },
    {
     "name": "stderr",
     "output_type": "stream",
     "text": []
    },
    {
     "name": "stdout",
     "output_type": "stream",
     "text": [
      "[361]\ttrain-mlogloss:0.06760\teval-mlogloss:1.42612\n"
     ]
    },
    {
     "name": "stderr",
     "output_type": "stream",
     "text": []
    },
    {
     "name": "stdout",
     "output_type": "stream",
     "text": [
      "[362]\ttrain-mlogloss:0.06756\teval-mlogloss:1.42734\n"
     ]
    },
    {
     "name": "stderr",
     "output_type": "stream",
     "text": []
    },
    {
     "name": "stdout",
     "output_type": "stream",
     "text": [
      "[363]\ttrain-mlogloss:0.06753\teval-mlogloss:1.42798\n"
     ]
    },
    {
     "name": "stderr",
     "output_type": "stream",
     "text": []
    },
    {
     "name": "stdout",
     "output_type": "stream",
     "text": [
      "[364]\ttrain-mlogloss:0.06750\teval-mlogloss:1.42918\n"
     ]
    },
    {
     "name": "stderr",
     "output_type": "stream",
     "text": []
    },
    {
     "name": "stdout",
     "output_type": "stream",
     "text": [
      "[365]\ttrain-mlogloss:0.06746\teval-mlogloss:1.42963\n"
     ]
    },
    {
     "name": "stderr",
     "output_type": "stream",
     "text": []
    },
    {
     "name": "stdout",
     "output_type": "stream",
     "text": [
      "[366]\ttrain-mlogloss:0.06743\teval-mlogloss:1.43084\n"
     ]
    },
    {
     "name": "stderr",
     "output_type": "stream",
     "text": []
    },
    {
     "name": "stdout",
     "output_type": "stream",
     "text": [
      "[367]\ttrain-mlogloss:0.06738\teval-mlogloss:1.43154\n"
     ]
    },
    {
     "name": "stderr",
     "output_type": "stream",
     "text": []
    },
    {
     "name": "stdout",
     "output_type": "stream",
     "text": [
      "[368]\ttrain-mlogloss:0.06735\teval-mlogloss:1.43175\n"
     ]
    },
    {
     "name": "stderr",
     "output_type": "stream",
     "text": []
    },
    {
     "name": "stdout",
     "output_type": "stream",
     "text": [
      "[369]\ttrain-mlogloss:0.06730\teval-mlogloss:1.43260\n"
     ]
    },
    {
     "name": "stderr",
     "output_type": "stream",
     "text": []
    },
    {
     "name": "stdout",
     "output_type": "stream",
     "text": [
      "[370]\ttrain-mlogloss:0.06724\teval-mlogloss:1.43449\n"
     ]
    },
    {
     "name": "stderr",
     "output_type": "stream",
     "text": []
    },
    {
     "name": "stdout",
     "output_type": "stream",
     "text": [
      "[371]\ttrain-mlogloss:0.06719\teval-mlogloss:1.43506\n"
     ]
    },
    {
     "name": "stderr",
     "output_type": "stream",
     "text": []
    },
    {
     "name": "stdout",
     "output_type": "stream",
     "text": [
      "[372]\ttrain-mlogloss:0.06715\teval-mlogloss:1.43657\n"
     ]
    },
    {
     "name": "stderr",
     "output_type": "stream",
     "text": []
    },
    {
     "name": "stdout",
     "output_type": "stream",
     "text": [
      "[373]\ttrain-mlogloss:0.06712\teval-mlogloss:1.43729\n"
     ]
    },
    {
     "name": "stderr",
     "output_type": "stream",
     "text": []
    },
    {
     "name": "stdout",
     "output_type": "stream",
     "text": [
      "[374]\ttrain-mlogloss:0.06709\teval-mlogloss:1.43789\n"
     ]
    },
    {
     "name": "stderr",
     "output_type": "stream",
     "text": []
    },
    {
     "name": "stdout",
     "output_type": "stream",
     "text": [
      "[375]\ttrain-mlogloss:0.06706\teval-mlogloss:1.43872\n"
     ]
    },
    {
     "name": "stderr",
     "output_type": "stream",
     "text": []
    },
    {
     "name": "stdout",
     "output_type": "stream",
     "text": [
      "[376]\ttrain-mlogloss:0.06703\teval-mlogloss:1.43952\n"
     ]
    },
    {
     "name": "stderr",
     "output_type": "stream",
     "text": []
    },
    {
     "name": "stdout",
     "output_type": "stream",
     "text": [
      "[377]\ttrain-mlogloss:0.06700\teval-mlogloss:1.44019\n"
     ]
    },
    {
     "name": "stderr",
     "output_type": "stream",
     "text": []
    },
    {
     "name": "stdout",
     "output_type": "stream",
     "text": [
      "[378]\ttrain-mlogloss:0.06698\teval-mlogloss:1.44072\n"
     ]
    },
    {
     "name": "stderr",
     "output_type": "stream",
     "text": []
    },
    {
     "name": "stdout",
     "output_type": "stream",
     "text": [
      "[379]\ttrain-mlogloss:0.06693\teval-mlogloss:1.44198\n"
     ]
    },
    {
     "name": "stderr",
     "output_type": "stream",
     "text": []
    },
    {
     "name": "stdout",
     "output_type": "stream",
     "text": [
      "[380]\ttrain-mlogloss:0.06689\teval-mlogloss:1.44306\n"
     ]
    },
    {
     "name": "stderr",
     "output_type": "stream",
     "text": []
    },
    {
     "name": "stdout",
     "output_type": "stream",
     "text": [
      "[381]\ttrain-mlogloss:0.06686\teval-mlogloss:1.44377\n"
     ]
    },
    {
     "name": "stderr",
     "output_type": "stream",
     "text": []
    },
    {
     "name": "stdout",
     "output_type": "stream",
     "text": [
      "[382]\ttrain-mlogloss:0.06683\teval-mlogloss:1.44538\n"
     ]
    },
    {
     "name": "stderr",
     "output_type": "stream",
     "text": []
    },
    {
     "name": "stdout",
     "output_type": "stream",
     "text": [
      "[383]\ttrain-mlogloss:0.06680\teval-mlogloss:1.44582\n"
     ]
    },
    {
     "name": "stderr",
     "output_type": "stream",
     "text": []
    },
    {
     "name": "stdout",
     "output_type": "stream",
     "text": [
      "[384]\ttrain-mlogloss:0.06678\teval-mlogloss:1.44627\n"
     ]
    },
    {
     "name": "stderr",
     "output_type": "stream",
     "text": []
    },
    {
     "name": "stdout",
     "output_type": "stream",
     "text": [
      "[385]\ttrain-mlogloss:0.06675\teval-mlogloss:1.44752\n"
     ]
    },
    {
     "name": "stderr",
     "output_type": "stream",
     "text": []
    },
    {
     "name": "stdout",
     "output_type": "stream",
     "text": [
      "[386]\ttrain-mlogloss:0.06673\teval-mlogloss:1.44806\n"
     ]
    },
    {
     "name": "stderr",
     "output_type": "stream",
     "text": []
    },
    {
     "name": "stdout",
     "output_type": "stream",
     "text": [
      "[387]\ttrain-mlogloss:0.06670\teval-mlogloss:1.44875\n"
     ]
    },
    {
     "name": "stderr",
     "output_type": "stream",
     "text": []
    },
    {
     "name": "stdout",
     "output_type": "stream",
     "text": [
      "[388]\ttrain-mlogloss:0.06667\teval-mlogloss:1.44973\n"
     ]
    },
    {
     "name": "stderr",
     "output_type": "stream",
     "text": []
    },
    {
     "name": "stdout",
     "output_type": "stream",
     "text": [
      "[389]\ttrain-mlogloss:0.06662\teval-mlogloss:1.45091\n"
     ]
    },
    {
     "name": "stderr",
     "output_type": "stream",
     "text": []
    },
    {
     "name": "stdout",
     "output_type": "stream",
     "text": [
      "[390]\ttrain-mlogloss:0.06659\teval-mlogloss:1.45177\n"
     ]
    },
    {
     "name": "stderr",
     "output_type": "stream",
     "text": []
    },
    {
     "name": "stdout",
     "output_type": "stream",
     "text": [
      "[391]\ttrain-mlogloss:0.06656\teval-mlogloss:1.45215\n"
     ]
    },
    {
     "name": "stderr",
     "output_type": "stream",
     "text": []
    },
    {
     "name": "stdout",
     "output_type": "stream",
     "text": [
      "[392]\ttrain-mlogloss:0.06653\teval-mlogloss:1.45257\n"
     ]
    },
    {
     "name": "stderr",
     "output_type": "stream",
     "text": []
    },
    {
     "name": "stdout",
     "output_type": "stream",
     "text": [
      "[393]\ttrain-mlogloss:0.06650\teval-mlogloss:1.45346\n"
     ]
    },
    {
     "name": "stderr",
     "output_type": "stream",
     "text": []
    },
    {
     "name": "stdout",
     "output_type": "stream",
     "text": [
      "[394]\ttrain-mlogloss:0.06647\teval-mlogloss:1.45406\n"
     ]
    },
    {
     "name": "stderr",
     "output_type": "stream",
     "text": []
    },
    {
     "name": "stdout",
     "output_type": "stream",
     "text": [
      "[395]\ttrain-mlogloss:0.06644\teval-mlogloss:1.45467\n"
     ]
    },
    {
     "name": "stderr",
     "output_type": "stream",
     "text": []
    },
    {
     "name": "stdout",
     "output_type": "stream",
     "text": [
      "[396]\ttrain-mlogloss:0.06641\teval-mlogloss:1.45511\n"
     ]
    },
    {
     "name": "stderr",
     "output_type": "stream",
     "text": []
    },
    {
     "name": "stdout",
     "output_type": "stream",
     "text": [
      "[397]\ttrain-mlogloss:0.06639\teval-mlogloss:1.45590\n"
     ]
    },
    {
     "name": "stderr",
     "output_type": "stream",
     "text": []
    },
    {
     "name": "stdout",
     "output_type": "stream",
     "text": [
      "[398]\ttrain-mlogloss:0.06637\teval-mlogloss:1.45646\n"
     ]
    },
    {
     "name": "stderr",
     "output_type": "stream",
     "text": []
    },
    {
     "name": "stdout",
     "output_type": "stream",
     "text": [
      "[399]\ttrain-mlogloss:0.06635\teval-mlogloss:1.45675\n"
     ]
    },
    {
     "name": "stderr",
     "output_type": "stream",
     "text": [
      "c:\\Users\\abhis\\Downloads\\Documents\\Learner Engagement Project\\venv\\Lib\\site-packages\\xgboost\\core.py:158: UserWarning: [02:20:25] WARNING: C:\\buildkite-agent\\builds\\buildkite-windows-cpu-autoscaling-group-i-08cbc0333d8d4aae1-1\\xgboost\\xgboost-ci-windows\\src\\c_api\\c_api.cc:1374: Saving model in the UBJSON format as default.  You can use file extension: `json`, `ubj` or `deprecated` to choose between formats.\n",
      "  warnings.warn(smsg, UserWarning)\n",
      "                                                                       \n",
      "Final Training Engagement:   0%|          | 0/500 [1:22:39<?, ?round/s]       "
     ]
    },
    {
     "name": "stdout",
     "output_type": "stream",
     "text": [
      "Checkpoint saved at iteration 400\n",
      "[400]\ttrain-mlogloss:0.06632\teval-mlogloss:1.45781\n"
     ]
    },
    {
     "name": "stderr",
     "output_type": "stream",
     "text": []
    },
    {
     "name": "stdout",
     "output_type": "stream",
     "text": [
      "[401]\ttrain-mlogloss:0.06628\teval-mlogloss:1.45843\n"
     ]
    },
    {
     "name": "stderr",
     "output_type": "stream",
     "text": []
    },
    {
     "name": "stdout",
     "output_type": "stream",
     "text": [
      "[402]\ttrain-mlogloss:0.06626\teval-mlogloss:1.45990\n"
     ]
    },
    {
     "name": "stderr",
     "output_type": "stream",
     "text": []
    },
    {
     "name": "stdout",
     "output_type": "stream",
     "text": [
      "[403]\ttrain-mlogloss:0.06624\teval-mlogloss:1.46041\n"
     ]
    },
    {
     "name": "stderr",
     "output_type": "stream",
     "text": []
    },
    {
     "name": "stdout",
     "output_type": "stream",
     "text": [
      "[404]\ttrain-mlogloss:0.06621\teval-mlogloss:1.46129\n"
     ]
    },
    {
     "name": "stderr",
     "output_type": "stream",
     "text": []
    },
    {
     "name": "stdout",
     "output_type": "stream",
     "text": [
      "[405]\ttrain-mlogloss:0.06620\teval-mlogloss:1.46212\n"
     ]
    },
    {
     "name": "stderr",
     "output_type": "stream",
     "text": []
    },
    {
     "name": "stdout",
     "output_type": "stream",
     "text": [
      "[406]\ttrain-mlogloss:0.06618\teval-mlogloss:1.46273\n"
     ]
    },
    {
     "name": "stderr",
     "output_type": "stream",
     "text": []
    },
    {
     "name": "stdout",
     "output_type": "stream",
     "text": [
      "[407]\ttrain-mlogloss:0.06616\teval-mlogloss:1.46362\n"
     ]
    },
    {
     "name": "stderr",
     "output_type": "stream",
     "text": []
    },
    {
     "name": "stdout",
     "output_type": "stream",
     "text": [
      "[408]\ttrain-mlogloss:0.06614\teval-mlogloss:1.46427\n"
     ]
    },
    {
     "name": "stderr",
     "output_type": "stream",
     "text": []
    },
    {
     "name": "stdout",
     "output_type": "stream",
     "text": [
      "[409]\ttrain-mlogloss:0.06611\teval-mlogloss:1.46404\n"
     ]
    },
    {
     "name": "stderr",
     "output_type": "stream",
     "text": []
    },
    {
     "name": "stdout",
     "output_type": "stream",
     "text": [
      "[410]\ttrain-mlogloss:0.06609\teval-mlogloss:1.46481\n"
     ]
    },
    {
     "name": "stderr",
     "output_type": "stream",
     "text": []
    },
    {
     "name": "stdout",
     "output_type": "stream",
     "text": [
      "[411]\ttrain-mlogloss:0.06606\teval-mlogloss:1.46546\n"
     ]
    },
    {
     "name": "stderr",
     "output_type": "stream",
     "text": []
    },
    {
     "name": "stdout",
     "output_type": "stream",
     "text": [
      "[412]\ttrain-mlogloss:0.06602\teval-mlogloss:1.46671\n"
     ]
    },
    {
     "name": "stderr",
     "output_type": "stream",
     "text": []
    },
    {
     "name": "stdout",
     "output_type": "stream",
     "text": [
      "[413]\ttrain-mlogloss:0.06600\teval-mlogloss:1.46776\n"
     ]
    },
    {
     "name": "stderr",
     "output_type": "stream",
     "text": []
    },
    {
     "name": "stdout",
     "output_type": "stream",
     "text": [
      "[414]\ttrain-mlogloss:0.06598\teval-mlogloss:1.46767\n"
     ]
    },
    {
     "name": "stderr",
     "output_type": "stream",
     "text": []
    },
    {
     "name": "stdout",
     "output_type": "stream",
     "text": [
      "[415]\ttrain-mlogloss:0.06596\teval-mlogloss:1.46808\n"
     ]
    },
    {
     "name": "stderr",
     "output_type": "stream",
     "text": []
    },
    {
     "name": "stdout",
     "output_type": "stream",
     "text": [
      "[416]\ttrain-mlogloss:0.06593\teval-mlogloss:1.46866\n"
     ]
    },
    {
     "name": "stderr",
     "output_type": "stream",
     "text": []
    },
    {
     "name": "stdout",
     "output_type": "stream",
     "text": [
      "[417]\ttrain-mlogloss:0.06590\teval-mlogloss:1.47011\n"
     ]
    },
    {
     "name": "stderr",
     "output_type": "stream",
     "text": []
    },
    {
     "name": "stdout",
     "output_type": "stream",
     "text": [
      "[418]\ttrain-mlogloss:0.06588\teval-mlogloss:1.47115\n"
     ]
    },
    {
     "name": "stderr",
     "output_type": "stream",
     "text": []
    },
    {
     "name": "stdout",
     "output_type": "stream",
     "text": [
      "[419]\ttrain-mlogloss:0.06586\teval-mlogloss:1.47170\n"
     ]
    },
    {
     "name": "stderr",
     "output_type": "stream",
     "text": []
    },
    {
     "name": "stdout",
     "output_type": "stream",
     "text": [
      "[420]\ttrain-mlogloss:0.06585\teval-mlogloss:1.47291\n"
     ]
    },
    {
     "name": "stderr",
     "output_type": "stream",
     "text": []
    },
    {
     "name": "stdout",
     "output_type": "stream",
     "text": [
      "[421]\ttrain-mlogloss:0.06583\teval-mlogloss:1.47361\n"
     ]
    },
    {
     "name": "stderr",
     "output_type": "stream",
     "text": []
    },
    {
     "name": "stdout",
     "output_type": "stream",
     "text": [
      "[422]\ttrain-mlogloss:0.06580\teval-mlogloss:1.47421\n"
     ]
    },
    {
     "name": "stderr",
     "output_type": "stream",
     "text": []
    },
    {
     "name": "stdout",
     "output_type": "stream",
     "text": [
      "[423]\ttrain-mlogloss:0.06578\teval-mlogloss:1.47473\n"
     ]
    },
    {
     "name": "stderr",
     "output_type": "stream",
     "text": []
    },
    {
     "name": "stdout",
     "output_type": "stream",
     "text": [
      "[424]\ttrain-mlogloss:0.06575\teval-mlogloss:1.47597\n"
     ]
    },
    {
     "name": "stderr",
     "output_type": "stream",
     "text": []
    },
    {
     "name": "stdout",
     "output_type": "stream",
     "text": [
      "[425]\ttrain-mlogloss:0.06573\teval-mlogloss:1.47614\n"
     ]
    },
    {
     "name": "stderr",
     "output_type": "stream",
     "text": []
    },
    {
     "name": "stdout",
     "output_type": "stream",
     "text": [
      "[426]\ttrain-mlogloss:0.06571\teval-mlogloss:1.47633\n"
     ]
    },
    {
     "name": "stderr",
     "output_type": "stream",
     "text": []
    },
    {
     "name": "stdout",
     "output_type": "stream",
     "text": [
      "[427]\ttrain-mlogloss:0.06569\teval-mlogloss:1.47711\n"
     ]
    },
    {
     "name": "stderr",
     "output_type": "stream",
     "text": []
    },
    {
     "name": "stdout",
     "output_type": "stream",
     "text": [
      "[428]\ttrain-mlogloss:0.06567\teval-mlogloss:1.47773\n"
     ]
    },
    {
     "name": "stderr",
     "output_type": "stream",
     "text": []
    },
    {
     "name": "stdout",
     "output_type": "stream",
     "text": [
      "[429]\ttrain-mlogloss:0.06565\teval-mlogloss:1.47873\n"
     ]
    },
    {
     "name": "stderr",
     "output_type": "stream",
     "text": []
    },
    {
     "name": "stdout",
     "output_type": "stream",
     "text": [
      "[430]\ttrain-mlogloss:0.06563\teval-mlogloss:1.47995\n"
     ]
    },
    {
     "name": "stderr",
     "output_type": "stream",
     "text": []
    },
    {
     "name": "stdout",
     "output_type": "stream",
     "text": [
      "[431]\ttrain-mlogloss:0.06560\teval-mlogloss:1.48009\n"
     ]
    },
    {
     "name": "stderr",
     "output_type": "stream",
     "text": []
    },
    {
     "name": "stdout",
     "output_type": "stream",
     "text": [
      "[432]\ttrain-mlogloss:0.06558\teval-mlogloss:1.48077\n"
     ]
    },
    {
     "name": "stderr",
     "output_type": "stream",
     "text": []
    },
    {
     "name": "stdout",
     "output_type": "stream",
     "text": [
      "[433]\ttrain-mlogloss:0.06556\teval-mlogloss:1.48084\n"
     ]
    },
    {
     "name": "stderr",
     "output_type": "stream",
     "text": []
    },
    {
     "name": "stdout",
     "output_type": "stream",
     "text": [
      "[434]\ttrain-mlogloss:0.06554\teval-mlogloss:1.48229\n"
     ]
    },
    {
     "name": "stderr",
     "output_type": "stream",
     "text": []
    },
    {
     "name": "stdout",
     "output_type": "stream",
     "text": [
      "[435]\ttrain-mlogloss:0.06553\teval-mlogloss:1.48297\n"
     ]
    },
    {
     "name": "stderr",
     "output_type": "stream",
     "text": []
    },
    {
     "name": "stdout",
     "output_type": "stream",
     "text": [
      "[436]\ttrain-mlogloss:0.06550\teval-mlogloss:1.48381\n"
     ]
    },
    {
     "name": "stderr",
     "output_type": "stream",
     "text": []
    },
    {
     "name": "stdout",
     "output_type": "stream",
     "text": [
      "[437]\ttrain-mlogloss:0.06549\teval-mlogloss:1.48419\n"
     ]
    },
    {
     "name": "stderr",
     "output_type": "stream",
     "text": []
    },
    {
     "name": "stdout",
     "output_type": "stream",
     "text": [
      "[438]\ttrain-mlogloss:0.06547\teval-mlogloss:1.48453\n"
     ]
    },
    {
     "name": "stderr",
     "output_type": "stream",
     "text": []
    },
    {
     "name": "stdout",
     "output_type": "stream",
     "text": [
      "[439]\ttrain-mlogloss:0.06545\teval-mlogloss:1.48504\n"
     ]
    },
    {
     "name": "stderr",
     "output_type": "stream",
     "text": []
    },
    {
     "name": "stdout",
     "output_type": "stream",
     "text": [
      "[440]\ttrain-mlogloss:0.06543\teval-mlogloss:1.48534\n"
     ]
    },
    {
     "name": "stderr",
     "output_type": "stream",
     "text": []
    },
    {
     "name": "stdout",
     "output_type": "stream",
     "text": [
      "[441]\ttrain-mlogloss:0.06541\teval-mlogloss:1.48586\n"
     ]
    },
    {
     "name": "stderr",
     "output_type": "stream",
     "text": []
    },
    {
     "name": "stdout",
     "output_type": "stream",
     "text": [
      "[442]\ttrain-mlogloss:0.06539\teval-mlogloss:1.48673\n"
     ]
    },
    {
     "name": "stderr",
     "output_type": "stream",
     "text": []
    },
    {
     "name": "stdout",
     "output_type": "stream",
     "text": [
      "[443]\ttrain-mlogloss:0.06537\teval-mlogloss:1.48777\n"
     ]
    },
    {
     "name": "stderr",
     "output_type": "stream",
     "text": []
    },
    {
     "name": "stdout",
     "output_type": "stream",
     "text": [
      "[444]\ttrain-mlogloss:0.06534\teval-mlogloss:1.48881\n"
     ]
    },
    {
     "name": "stderr",
     "output_type": "stream",
     "text": []
    },
    {
     "name": "stdout",
     "output_type": "stream",
     "text": [
      "[445]\ttrain-mlogloss:0.06532\teval-mlogloss:1.48944\n"
     ]
    },
    {
     "name": "stderr",
     "output_type": "stream",
     "text": []
    },
    {
     "name": "stdout",
     "output_type": "stream",
     "text": [
      "[446]\ttrain-mlogloss:0.06529\teval-mlogloss:1.48985\n"
     ]
    },
    {
     "name": "stderr",
     "output_type": "stream",
     "text": []
    },
    {
     "name": "stdout",
     "output_type": "stream",
     "text": [
      "[447]\ttrain-mlogloss:0.06528\teval-mlogloss:1.49052\n"
     ]
    },
    {
     "name": "stderr",
     "output_type": "stream",
     "text": []
    },
    {
     "name": "stdout",
     "output_type": "stream",
     "text": [
      "[448]\ttrain-mlogloss:0.06526\teval-mlogloss:1.49117\n"
     ]
    },
    {
     "name": "stderr",
     "output_type": "stream",
     "text": []
    },
    {
     "name": "stdout",
     "output_type": "stream",
     "text": [
      "[449]\ttrain-mlogloss:0.06525\teval-mlogloss:1.49199\n"
     ]
    },
    {
     "name": "stderr",
     "output_type": "stream",
     "text": [
      "c:\\Users\\abhis\\Downloads\\Documents\\Learner Engagement Project\\venv\\Lib\\site-packages\\xgboost\\core.py:158: UserWarning: [02:24:25] WARNING: C:\\buildkite-agent\\builds\\buildkite-windows-cpu-autoscaling-group-i-08cbc0333d8d4aae1-1\\xgboost\\xgboost-ci-windows\\src\\c_api\\c_api.cc:1374: Saving model in the UBJSON format as default.  You can use file extension: `json`, `ubj` or `deprecated` to choose between formats.\n",
      "  warnings.warn(smsg, UserWarning)\n",
      "                                                                       \n",
      "Final Training Engagement:   0%|          | 0/500 [1:26:38<?, ?round/s]       "
     ]
    },
    {
     "name": "stdout",
     "output_type": "stream",
     "text": [
      "Checkpoint saved at iteration 450\n",
      "[450]\ttrain-mlogloss:0.06523\teval-mlogloss:1.49212\n"
     ]
    },
    {
     "name": "stderr",
     "output_type": "stream",
     "text": []
    },
    {
     "name": "stdout",
     "output_type": "stream",
     "text": [
      "[451]\ttrain-mlogloss:0.06521\teval-mlogloss:1.49359\n"
     ]
    },
    {
     "name": "stderr",
     "output_type": "stream",
     "text": []
    },
    {
     "name": "stdout",
     "output_type": "stream",
     "text": [
      "[452]\ttrain-mlogloss:0.06519\teval-mlogloss:1.49471\n"
     ]
    },
    {
     "name": "stderr",
     "output_type": "stream",
     "text": []
    },
    {
     "name": "stdout",
     "output_type": "stream",
     "text": [
      "[453]\ttrain-mlogloss:0.06517\teval-mlogloss:1.49535\n"
     ]
    },
    {
     "name": "stderr",
     "output_type": "stream",
     "text": []
    },
    {
     "name": "stdout",
     "output_type": "stream",
     "text": [
      "[454]\ttrain-mlogloss:0.06514\teval-mlogloss:1.49560\n"
     ]
    },
    {
     "name": "stderr",
     "output_type": "stream",
     "text": []
    },
    {
     "name": "stdout",
     "output_type": "stream",
     "text": [
      "[455]\ttrain-mlogloss:0.06513\teval-mlogloss:1.49607\n"
     ]
    },
    {
     "name": "stderr",
     "output_type": "stream",
     "text": []
    },
    {
     "name": "stdout",
     "output_type": "stream",
     "text": [
      "[456]\ttrain-mlogloss:0.06512\teval-mlogloss:1.49666\n"
     ]
    },
    {
     "name": "stderr",
     "output_type": "stream",
     "text": []
    },
    {
     "name": "stdout",
     "output_type": "stream",
     "text": [
      "[457]\ttrain-mlogloss:0.06510\teval-mlogloss:1.49739\n"
     ]
    },
    {
     "name": "stderr",
     "output_type": "stream",
     "text": []
    },
    {
     "name": "stdout",
     "output_type": "stream",
     "text": [
      "[458]\ttrain-mlogloss:0.06508\teval-mlogloss:1.49774\n"
     ]
    },
    {
     "name": "stderr",
     "output_type": "stream",
     "text": []
    },
    {
     "name": "stdout",
     "output_type": "stream",
     "text": [
      "[459]\ttrain-mlogloss:0.06505\teval-mlogloss:1.49812\n"
     ]
    },
    {
     "name": "stderr",
     "output_type": "stream",
     "text": []
    },
    {
     "name": "stdout",
     "output_type": "stream",
     "text": [
      "[460]\ttrain-mlogloss:0.06503\teval-mlogloss:1.49883\n"
     ]
    },
    {
     "name": "stderr",
     "output_type": "stream",
     "text": []
    },
    {
     "name": "stdout",
     "output_type": "stream",
     "text": [
      "[461]\ttrain-mlogloss:0.06502\teval-mlogloss:1.49906\n"
     ]
    },
    {
     "name": "stderr",
     "output_type": "stream",
     "text": []
    },
    {
     "name": "stdout",
     "output_type": "stream",
     "text": [
      "[462]\ttrain-mlogloss:0.06500\teval-mlogloss:1.49986\n"
     ]
    },
    {
     "name": "stderr",
     "output_type": "stream",
     "text": []
    },
    {
     "name": "stdout",
     "output_type": "stream",
     "text": [
      "[463]\ttrain-mlogloss:0.06499\teval-mlogloss:1.50046\n"
     ]
    },
    {
     "name": "stderr",
     "output_type": "stream",
     "text": []
    },
    {
     "name": "stdout",
     "output_type": "stream",
     "text": [
      "[464]\ttrain-mlogloss:0.06497\teval-mlogloss:1.50085\n"
     ]
    },
    {
     "name": "stderr",
     "output_type": "stream",
     "text": []
    },
    {
     "name": "stdout",
     "output_type": "stream",
     "text": [
      "[465]\ttrain-mlogloss:0.06496\teval-mlogloss:1.50147\n"
     ]
    },
    {
     "name": "stderr",
     "output_type": "stream",
     "text": []
    },
    {
     "name": "stdout",
     "output_type": "stream",
     "text": [
      "[466]\ttrain-mlogloss:0.06494\teval-mlogloss:1.50234\n"
     ]
    },
    {
     "name": "stderr",
     "output_type": "stream",
     "text": []
    },
    {
     "name": "stdout",
     "output_type": "stream",
     "text": [
      "[467]\ttrain-mlogloss:0.06493\teval-mlogloss:1.50282\n"
     ]
    },
    {
     "name": "stderr",
     "output_type": "stream",
     "text": []
    },
    {
     "name": "stdout",
     "output_type": "stream",
     "text": [
      "[468]\ttrain-mlogloss:0.06492\teval-mlogloss:1.50323\n"
     ]
    },
    {
     "name": "stderr",
     "output_type": "stream",
     "text": []
    },
    {
     "name": "stdout",
     "output_type": "stream",
     "text": [
      "[469]\ttrain-mlogloss:0.06491\teval-mlogloss:1.50354\n"
     ]
    },
    {
     "name": "stderr",
     "output_type": "stream",
     "text": []
    },
    {
     "name": "stdout",
     "output_type": "stream",
     "text": [
      "[470]\ttrain-mlogloss:0.06489\teval-mlogloss:1.50468\n"
     ]
    },
    {
     "name": "stderr",
     "output_type": "stream",
     "text": []
    },
    {
     "name": "stdout",
     "output_type": "stream",
     "text": [
      "[471]\ttrain-mlogloss:0.06487\teval-mlogloss:1.50528\n"
     ]
    },
    {
     "name": "stderr",
     "output_type": "stream",
     "text": []
    },
    {
     "name": "stdout",
     "output_type": "stream",
     "text": [
      "[472]\ttrain-mlogloss:0.06485\teval-mlogloss:1.50568\n"
     ]
    },
    {
     "name": "stderr",
     "output_type": "stream",
     "text": []
    },
    {
     "name": "stdout",
     "output_type": "stream",
     "text": [
      "[473]\ttrain-mlogloss:0.06483\teval-mlogloss:1.50619\n"
     ]
    },
    {
     "name": "stderr",
     "output_type": "stream",
     "text": []
    },
    {
     "name": "stdout",
     "output_type": "stream",
     "text": [
      "[474]\ttrain-mlogloss:0.06481\teval-mlogloss:1.50703\n"
     ]
    },
    {
     "name": "stderr",
     "output_type": "stream",
     "text": []
    },
    {
     "name": "stdout",
     "output_type": "stream",
     "text": [
      "[475]\ttrain-mlogloss:0.06479\teval-mlogloss:1.50852\n"
     ]
    },
    {
     "name": "stderr",
     "output_type": "stream",
     "text": []
    },
    {
     "name": "stdout",
     "output_type": "stream",
     "text": [
      "[476]\ttrain-mlogloss:0.06477\teval-mlogloss:1.50881\n"
     ]
    },
    {
     "name": "stderr",
     "output_type": "stream",
     "text": []
    },
    {
     "name": "stdout",
     "output_type": "stream",
     "text": [
      "[477]\ttrain-mlogloss:0.06476\teval-mlogloss:1.50963\n"
     ]
    },
    {
     "name": "stderr",
     "output_type": "stream",
     "text": []
    },
    {
     "name": "stdout",
     "output_type": "stream",
     "text": [
      "[478]\ttrain-mlogloss:0.06475\teval-mlogloss:1.51045\n"
     ]
    },
    {
     "name": "stderr",
     "output_type": "stream",
     "text": []
    },
    {
     "name": "stdout",
     "output_type": "stream",
     "text": [
      "[479]\ttrain-mlogloss:0.06473\teval-mlogloss:1.51074\n"
     ]
    },
    {
     "name": "stderr",
     "output_type": "stream",
     "text": []
    },
    {
     "name": "stdout",
     "output_type": "stream",
     "text": [
      "[480]\ttrain-mlogloss:0.06471\teval-mlogloss:1.51203\n"
     ]
    },
    {
     "name": "stderr",
     "output_type": "stream",
     "text": []
    },
    {
     "name": "stdout",
     "output_type": "stream",
     "text": [
      "[481]\ttrain-mlogloss:0.06469\teval-mlogloss:1.51245\n"
     ]
    },
    {
     "name": "stderr",
     "output_type": "stream",
     "text": []
    },
    {
     "name": "stdout",
     "output_type": "stream",
     "text": [
      "[482]\ttrain-mlogloss:0.06468\teval-mlogloss:1.51257\n"
     ]
    },
    {
     "name": "stderr",
     "output_type": "stream",
     "text": []
    },
    {
     "name": "stdout",
     "output_type": "stream",
     "text": [
      "[483]\ttrain-mlogloss:0.06465\teval-mlogloss:1.51277\n"
     ]
    },
    {
     "name": "stderr",
     "output_type": "stream",
     "text": []
    },
    {
     "name": "stdout",
     "output_type": "stream",
     "text": [
      "[484]\ttrain-mlogloss:0.06464\teval-mlogloss:1.51362\n"
     ]
    },
    {
     "name": "stderr",
     "output_type": "stream",
     "text": []
    },
    {
     "name": "stdout",
     "output_type": "stream",
     "text": [
      "[485]\ttrain-mlogloss:0.06462\teval-mlogloss:1.51442\n"
     ]
    },
    {
     "name": "stderr",
     "output_type": "stream",
     "text": []
    },
    {
     "name": "stdout",
     "output_type": "stream",
     "text": [
      "[486]\ttrain-mlogloss:0.06461\teval-mlogloss:1.51503\n"
     ]
    },
    {
     "name": "stderr",
     "output_type": "stream",
     "text": []
    },
    {
     "name": "stdout",
     "output_type": "stream",
     "text": [
      "[487]\ttrain-mlogloss:0.06459\teval-mlogloss:1.51579\n"
     ]
    },
    {
     "name": "stderr",
     "output_type": "stream",
     "text": []
    },
    {
     "name": "stdout",
     "output_type": "stream",
     "text": [
      "[488]\ttrain-mlogloss:0.06457\teval-mlogloss:1.51659\n"
     ]
    },
    {
     "name": "stderr",
     "output_type": "stream",
     "text": []
    },
    {
     "name": "stdout",
     "output_type": "stream",
     "text": [
      "[489]\ttrain-mlogloss:0.06456\teval-mlogloss:1.51694\n"
     ]
    },
    {
     "name": "stderr",
     "output_type": "stream",
     "text": []
    },
    {
     "name": "stdout",
     "output_type": "stream",
     "text": [
      "[490]\ttrain-mlogloss:0.06455\teval-mlogloss:1.51731\n"
     ]
    },
    {
     "name": "stderr",
     "output_type": "stream",
     "text": []
    },
    {
     "name": "stdout",
     "output_type": "stream",
     "text": [
      "[491]\ttrain-mlogloss:0.06454\teval-mlogloss:1.51754\n"
     ]
    },
    {
     "name": "stderr",
     "output_type": "stream",
     "text": []
    },
    {
     "name": "stdout",
     "output_type": "stream",
     "text": [
      "[492]\ttrain-mlogloss:0.06452\teval-mlogloss:1.51879\n"
     ]
    },
    {
     "name": "stderr",
     "output_type": "stream",
     "text": []
    },
    {
     "name": "stdout",
     "output_type": "stream",
     "text": [
      "[493]\ttrain-mlogloss:0.06451\teval-mlogloss:1.51944\n"
     ]
    },
    {
     "name": "stderr",
     "output_type": "stream",
     "text": []
    },
    {
     "name": "stdout",
     "output_type": "stream",
     "text": [
      "[494]\ttrain-mlogloss:0.06449\teval-mlogloss:1.51996\n"
     ]
    },
    {
     "name": "stderr",
     "output_type": "stream",
     "text": []
    },
    {
     "name": "stdout",
     "output_type": "stream",
     "text": [
      "[495]\ttrain-mlogloss:0.06448\teval-mlogloss:1.52047\n"
     ]
    },
    {
     "name": "stderr",
     "output_type": "stream",
     "text": []
    },
    {
     "name": "stdout",
     "output_type": "stream",
     "text": [
      "[496]\ttrain-mlogloss:0.06447\teval-mlogloss:1.52106\n"
     ]
    },
    {
     "name": "stderr",
     "output_type": "stream",
     "text": []
    },
    {
     "name": "stdout",
     "output_type": "stream",
     "text": [
      "[497]\ttrain-mlogloss:0.06445\teval-mlogloss:1.52168\n"
     ]
    },
    {
     "name": "stderr",
     "output_type": "stream",
     "text": []
    },
    {
     "name": "stdout",
     "output_type": "stream",
     "text": [
      "[498]\ttrain-mlogloss:0.06444\teval-mlogloss:1.52191\n"
     ]
    },
    {
     "name": "stderr",
     "output_type": "stream",
     "text": []
    },
    {
     "name": "stdout",
     "output_type": "stream",
     "text": [
      "[499]\ttrain-mlogloss:0.06442\teval-mlogloss:1.52244\n"
     ]
    },
    {
     "name": "stderr",
     "output_type": "stream",
     "text": [
      "c:\\Users\\abhis\\Downloads\\Documents\\Learner Engagement Project\\venv\\Lib\\site-packages\\xgboost\\core.py:158: UserWarning: [02:28:35] WARNING: C:\\buildkite-agent\\builds\\buildkite-windows-cpu-autoscaling-group-i-08cbc0333d8d4aae1-1\\xgboost\\xgboost-ci-windows\\src\\c_api\\c_api.cc:1374: Saving model in the UBJSON format as default.  You can use file extension: `json`, `ubj` or `deprecated` to choose between formats.\n",
      "  warnings.warn(smsg, UserWarning)\n",
      "                                                                       \n",
      "Final Training Engagement:   0%|          | 0/500 [1:30:48<?, ?round/s]       "
     ]
    },
    {
     "name": "stdout",
     "output_type": "stream",
     "text": [
      "Checkpoint saved at iteration 500\n"
     ]
    },
    {
     "name": "stderr",
     "output_type": "stream",
     "text": [
      "Final Training Confusion: 100%|██████████| 500/500 [42:05<00:00,  5.05s/round]\n"
     ]
    },
    {
     "name": "stdout",
     "output_type": "stream",
     "text": [
      "Final model for Confusion saved at C:\\Users\\abhis\\Downloads\\Documents\\Learner Engagement Project\\models\\final_model_Confusion.model\n",
      "\n",
      "Training final model for Frustration...\n"
     ]
    },
    {
     "name": "stderr",
     "output_type": "stream",
     "text": []
    },
    {
     "name": "stdout",
     "output_type": "stream",
     "text": [
      "[0]\ttrain-mlogloss:1.16558\teval-mlogloss:1.18996\n"
     ]
    },
    {
     "name": "stderr",
     "output_type": "stream",
     "text": []
    },
    {
     "name": "stdout",
     "output_type": "stream",
     "text": [
      "[1]\ttrain-mlogloss:1.01212\teval-mlogloss:1.05866\n"
     ]
    },
    {
     "name": "stderr",
     "output_type": "stream",
     "text": []
    },
    {
     "name": "stdout",
     "output_type": "stream",
     "text": [
      "[2]\ttrain-mlogloss:0.89762\teval-mlogloss:0.96595\n"
     ]
    },
    {
     "name": "stderr",
     "output_type": "stream",
     "text": []
    },
    {
     "name": "stdout",
     "output_type": "stream",
     "text": [
      "[3]\ttrain-mlogloss:0.80916\teval-mlogloss:0.89482\n"
     ]
    },
    {
     "name": "stderr",
     "output_type": "stream",
     "text": []
    },
    {
     "name": "stdout",
     "output_type": "stream",
     "text": [
      "[4]\ttrain-mlogloss:0.73886\teval-mlogloss:0.84460\n"
     ]
    },
    {
     "name": "stderr",
     "output_type": "stream",
     "text": []
    },
    {
     "name": "stdout",
     "output_type": "stream",
     "text": [
      "[5]\ttrain-mlogloss:0.68110\teval-mlogloss:0.80414\n"
     ]
    },
    {
     "name": "stderr",
     "output_type": "stream",
     "text": []
    },
    {
     "name": "stdout",
     "output_type": "stream",
     "text": [
      "[6]\ttrain-mlogloss:0.63580\teval-mlogloss:0.77434\n"
     ]
    },
    {
     "name": "stderr",
     "output_type": "stream",
     "text": []
    },
    {
     "name": "stdout",
     "output_type": "stream",
     "text": [
      "[7]\ttrain-mlogloss:0.59244\teval-mlogloss:0.75156\n"
     ]
    },
    {
     "name": "stderr",
     "output_type": "stream",
     "text": []
    },
    {
     "name": "stdout",
     "output_type": "stream",
     "text": [
      "[8]\ttrain-mlogloss:0.55715\teval-mlogloss:0.73492\n"
     ]
    },
    {
     "name": "stderr",
     "output_type": "stream",
     "text": []
    },
    {
     "name": "stdout",
     "output_type": "stream",
     "text": [
      "[9]\ttrain-mlogloss:0.53017\teval-mlogloss:0.72179\n"
     ]
    },
    {
     "name": "stderr",
     "output_type": "stream",
     "text": []
    },
    {
     "name": "stdout",
     "output_type": "stream",
     "text": [
      "[10]\ttrain-mlogloss:0.50246\teval-mlogloss:0.71273\n"
     ]
    },
    {
     "name": "stderr",
     "output_type": "stream",
     "text": []
    },
    {
     "name": "stdout",
     "output_type": "stream",
     "text": [
      "[11]\ttrain-mlogloss:0.47794\teval-mlogloss:0.70464\n"
     ]
    },
    {
     "name": "stderr",
     "output_type": "stream",
     "text": []
    },
    {
     "name": "stdout",
     "output_type": "stream",
     "text": [
      "[12]\ttrain-mlogloss:0.45667\teval-mlogloss:0.69881\n"
     ]
    },
    {
     "name": "stderr",
     "output_type": "stream",
     "text": []
    },
    {
     "name": "stdout",
     "output_type": "stream",
     "text": [
      "[13]\ttrain-mlogloss:0.43625\teval-mlogloss:0.69510\n"
     ]
    },
    {
     "name": "stderr",
     "output_type": "stream",
     "text": []
    },
    {
     "name": "stdout",
     "output_type": "stream",
     "text": [
      "[14]\ttrain-mlogloss:0.41820\teval-mlogloss:0.69168\n"
     ]
    },
    {
     "name": "stderr",
     "output_type": "stream",
     "text": []
    },
    {
     "name": "stdout",
     "output_type": "stream",
     "text": [
      "[15]\ttrain-mlogloss:0.40159\teval-mlogloss:0.69081\n"
     ]
    },
    {
     "name": "stderr",
     "output_type": "stream",
     "text": []
    },
    {
     "name": "stdout",
     "output_type": "stream",
     "text": [
      "[16]\ttrain-mlogloss:0.38699\teval-mlogloss:0.68894\n"
     ]
    },
    {
     "name": "stderr",
     "output_type": "stream",
     "text": []
    },
    {
     "name": "stdout",
     "output_type": "stream",
     "text": [
      "[17]\ttrain-mlogloss:0.37488\teval-mlogloss:0.68739\n"
     ]
    },
    {
     "name": "stderr",
     "output_type": "stream",
     "text": []
    },
    {
     "name": "stdout",
     "output_type": "stream",
     "text": [
      "[18]\ttrain-mlogloss:0.36020\teval-mlogloss:0.68619\n"
     ]
    },
    {
     "name": "stderr",
     "output_type": "stream",
     "text": []
    },
    {
     "name": "stdout",
     "output_type": "stream",
     "text": [
      "[19]\ttrain-mlogloss:0.34834\teval-mlogloss:0.68665\n"
     ]
    },
    {
     "name": "stderr",
     "output_type": "stream",
     "text": []
    },
    {
     "name": "stdout",
     "output_type": "stream",
     "text": [
      "[20]\ttrain-mlogloss:0.33624\teval-mlogloss:0.68680\n"
     ]
    },
    {
     "name": "stderr",
     "output_type": "stream",
     "text": []
    },
    {
     "name": "stdout",
     "output_type": "stream",
     "text": [
      "[21]\ttrain-mlogloss:0.32632\teval-mlogloss:0.68814\n"
     ]
    },
    {
     "name": "stderr",
     "output_type": "stream",
     "text": []
    },
    {
     "name": "stdout",
     "output_type": "stream",
     "text": [
      "[22]\ttrain-mlogloss:0.31881\teval-mlogloss:0.68893\n"
     ]
    },
    {
     "name": "stderr",
     "output_type": "stream",
     "text": []
    },
    {
     "name": "stdout",
     "output_type": "stream",
     "text": [
      "[23]\ttrain-mlogloss:0.31061\teval-mlogloss:0.69113\n"
     ]
    },
    {
     "name": "stderr",
     "output_type": "stream",
     "text": []
    },
    {
     "name": "stdout",
     "output_type": "stream",
     "text": [
      "[24]\ttrain-mlogloss:0.30203\teval-mlogloss:0.69201\n"
     ]
    },
    {
     "name": "stderr",
     "output_type": "stream",
     "text": []
    },
    {
     "name": "stdout",
     "output_type": "stream",
     "text": [
      "[25]\ttrain-mlogloss:0.29604\teval-mlogloss:0.69302\n"
     ]
    },
    {
     "name": "stderr",
     "output_type": "stream",
     "text": []
    },
    {
     "name": "stdout",
     "output_type": "stream",
     "text": [
      "[26]\ttrain-mlogloss:0.28780\teval-mlogloss:0.69492\n"
     ]
    },
    {
     "name": "stderr",
     "output_type": "stream",
     "text": []
    },
    {
     "name": "stdout",
     "output_type": "stream",
     "text": [
      "[27]\ttrain-mlogloss:0.28054\teval-mlogloss:0.69729\n"
     ]
    },
    {
     "name": "stderr",
     "output_type": "stream",
     "text": []
    },
    {
     "name": "stdout",
     "output_type": "stream",
     "text": [
      "[28]\ttrain-mlogloss:0.27406\teval-mlogloss:0.69761\n"
     ]
    },
    {
     "name": "stderr",
     "output_type": "stream",
     "text": []
    },
    {
     "name": "stdout",
     "output_type": "stream",
     "text": [
      "[29]\ttrain-mlogloss:0.26720\teval-mlogloss:0.69804\n"
     ]
    },
    {
     "name": "stderr",
     "output_type": "stream",
     "text": []
    },
    {
     "name": "stdout",
     "output_type": "stream",
     "text": [
      "[30]\ttrain-mlogloss:0.26247\teval-mlogloss:0.69898\n"
     ]
    },
    {
     "name": "stderr",
     "output_type": "stream",
     "text": []
    },
    {
     "name": "stdout",
     "output_type": "stream",
     "text": [
      "[31]\ttrain-mlogloss:0.25531\teval-mlogloss:0.70261\n"
     ]
    },
    {
     "name": "stderr",
     "output_type": "stream",
     "text": []
    },
    {
     "name": "stdout",
     "output_type": "stream",
     "text": [
      "[32]\ttrain-mlogloss:0.25042\teval-mlogloss:0.70438\n"
     ]
    },
    {
     "name": "stderr",
     "output_type": "stream",
     "text": []
    },
    {
     "name": "stdout",
     "output_type": "stream",
     "text": [
      "[33]\ttrain-mlogloss:0.24468\teval-mlogloss:0.70736\n"
     ]
    },
    {
     "name": "stderr",
     "output_type": "stream",
     "text": []
    },
    {
     "name": "stdout",
     "output_type": "stream",
     "text": [
      "[34]\ttrain-mlogloss:0.24135\teval-mlogloss:0.70938\n"
     ]
    },
    {
     "name": "stderr",
     "output_type": "stream",
     "text": []
    },
    {
     "name": "stdout",
     "output_type": "stream",
     "text": [
      "[35]\ttrain-mlogloss:0.23675\teval-mlogloss:0.71087\n"
     ]
    },
    {
     "name": "stderr",
     "output_type": "stream",
     "text": []
    },
    {
     "name": "stdout",
     "output_type": "stream",
     "text": [
      "[36]\ttrain-mlogloss:0.23138\teval-mlogloss:0.71116\n"
     ]
    },
    {
     "name": "stderr",
     "output_type": "stream",
     "text": []
    },
    {
     "name": "stdout",
     "output_type": "stream",
     "text": [
      "[37]\ttrain-mlogloss:0.22712\teval-mlogloss:0.71279\n"
     ]
    },
    {
     "name": "stderr",
     "output_type": "stream",
     "text": []
    },
    {
     "name": "stdout",
     "output_type": "stream",
     "text": [
      "[38]\ttrain-mlogloss:0.22340\teval-mlogloss:0.71522\n"
     ]
    },
    {
     "name": "stderr",
     "output_type": "stream",
     "text": []
    },
    {
     "name": "stdout",
     "output_type": "stream",
     "text": [
      "[39]\ttrain-mlogloss:0.21937\teval-mlogloss:0.71718\n"
     ]
    },
    {
     "name": "stderr",
     "output_type": "stream",
     "text": []
    },
    {
     "name": "stdout",
     "output_type": "stream",
     "text": [
      "[40]\ttrain-mlogloss:0.21485\teval-mlogloss:0.71869\n"
     ]
    },
    {
     "name": "stderr",
     "output_type": "stream",
     "text": []
    },
    {
     "name": "stdout",
     "output_type": "stream",
     "text": [
      "[41]\ttrain-mlogloss:0.21090\teval-mlogloss:0.72224\n"
     ]
    },
    {
     "name": "stderr",
     "output_type": "stream",
     "text": []
    },
    {
     "name": "stdout",
     "output_type": "stream",
     "text": [
      "[42]\ttrain-mlogloss:0.20735\teval-mlogloss:0.72489\n"
     ]
    },
    {
     "name": "stderr",
     "output_type": "stream",
     "text": []
    },
    {
     "name": "stdout",
     "output_type": "stream",
     "text": [
      "[43]\ttrain-mlogloss:0.20382\teval-mlogloss:0.72697\n"
     ]
    },
    {
     "name": "stderr",
     "output_type": "stream",
     "text": []
    },
    {
     "name": "stdout",
     "output_type": "stream",
     "text": [
      "[44]\ttrain-mlogloss:0.19933\teval-mlogloss:0.72948\n"
     ]
    },
    {
     "name": "stderr",
     "output_type": "stream",
     "text": []
    },
    {
     "name": "stdout",
     "output_type": "stream",
     "text": [
      "[45]\ttrain-mlogloss:0.19515\teval-mlogloss:0.73149\n"
     ]
    },
    {
     "name": "stderr",
     "output_type": "stream",
     "text": []
    },
    {
     "name": "stdout",
     "output_type": "stream",
     "text": [
      "[46]\ttrain-mlogloss:0.19036\teval-mlogloss:0.73410\n"
     ]
    },
    {
     "name": "stderr",
     "output_type": "stream",
     "text": []
    },
    {
     "name": "stdout",
     "output_type": "stream",
     "text": [
      "[47]\ttrain-mlogloss:0.18680\teval-mlogloss:0.73570\n"
     ]
    },
    {
     "name": "stderr",
     "output_type": "stream",
     "text": []
    },
    {
     "name": "stdout",
     "output_type": "stream",
     "text": [
      "[48]\ttrain-mlogloss:0.18276\teval-mlogloss:0.73819\n"
     ]
    },
    {
     "name": "stderr",
     "output_type": "stream",
     "text": []
    },
    {
     "name": "stdout",
     "output_type": "stream",
     "text": [
      "[49]\ttrain-mlogloss:0.17892\teval-mlogloss:0.74050\n"
     ]
    },
    {
     "name": "stderr",
     "output_type": "stream",
     "text": [
      "c:\\Users\\abhis\\Downloads\\Documents\\Learner Engagement Project\\venv\\Lib\\site-packages\\xgboost\\core.py:158: UserWarning: [02:33:44] WARNING: C:\\buildkite-agent\\builds\\buildkite-windows-cpu-autoscaling-group-i-08cbc0333d8d4aae1-1\\xgboost\\xgboost-ci-windows\\src\\c_api\\c_api.cc:1374: Saving model in the UBJSON format as default.  You can use file extension: `json`, `ubj` or `deprecated` to choose between formats.\n",
      "  warnings.warn(smsg, UserWarning)\n",
      "                                                                       \n",
      "Final Training Engagement:   0%|          | 0/500 [1:35:58<?, ?round/s]        "
     ]
    },
    {
     "name": "stdout",
     "output_type": "stream",
     "text": [
      "Checkpoint saved at iteration 50\n",
      "[50]\ttrain-mlogloss:0.17556\teval-mlogloss:0.74334\n"
     ]
    },
    {
     "name": "stderr",
     "output_type": "stream",
     "text": []
    },
    {
     "name": "stdout",
     "output_type": "stream",
     "text": [
      "[51]\ttrain-mlogloss:0.17071\teval-mlogloss:0.74771\n"
     ]
    },
    {
     "name": "stderr",
     "output_type": "stream",
     "text": []
    },
    {
     "name": "stdout",
     "output_type": "stream",
     "text": [
      "[52]\ttrain-mlogloss:0.16883\teval-mlogloss:0.74900\n"
     ]
    },
    {
     "name": "stderr",
     "output_type": "stream",
     "text": []
    },
    {
     "name": "stdout",
     "output_type": "stream",
     "text": [
      "[53]\ttrain-mlogloss:0.16677\teval-mlogloss:0.75168\n"
     ]
    },
    {
     "name": "stderr",
     "output_type": "stream",
     "text": []
    },
    {
     "name": "stdout",
     "output_type": "stream",
     "text": [
      "[54]\ttrain-mlogloss:0.16428\teval-mlogloss:0.75404\n"
     ]
    },
    {
     "name": "stderr",
     "output_type": "stream",
     "text": []
    },
    {
     "name": "stdout",
     "output_type": "stream",
     "text": [
      "[55]\ttrain-mlogloss:0.16165\teval-mlogloss:0.75737\n"
     ]
    },
    {
     "name": "stderr",
     "output_type": "stream",
     "text": []
    },
    {
     "name": "stdout",
     "output_type": "stream",
     "text": [
      "[56]\ttrain-mlogloss:0.15903\teval-mlogloss:0.76084\n"
     ]
    },
    {
     "name": "stderr",
     "output_type": "stream",
     "text": []
    },
    {
     "name": "stdout",
     "output_type": "stream",
     "text": [
      "[57]\ttrain-mlogloss:0.15652\teval-mlogloss:0.76437\n"
     ]
    },
    {
     "name": "stderr",
     "output_type": "stream",
     "text": []
    },
    {
     "name": "stdout",
     "output_type": "stream",
     "text": [
      "[58]\ttrain-mlogloss:0.15434\teval-mlogloss:0.76677\n"
     ]
    },
    {
     "name": "stderr",
     "output_type": "stream",
     "text": []
    },
    {
     "name": "stdout",
     "output_type": "stream",
     "text": [
      "[59]\ttrain-mlogloss:0.15171\teval-mlogloss:0.76941\n"
     ]
    },
    {
     "name": "stderr",
     "output_type": "stream",
     "text": []
    },
    {
     "name": "stdout",
     "output_type": "stream",
     "text": [
      "[60]\ttrain-mlogloss:0.14940\teval-mlogloss:0.77295\n"
     ]
    },
    {
     "name": "stderr",
     "output_type": "stream",
     "text": []
    },
    {
     "name": "stdout",
     "output_type": "stream",
     "text": [
      "[61]\ttrain-mlogloss:0.14750\teval-mlogloss:0.77441\n"
     ]
    },
    {
     "name": "stderr",
     "output_type": "stream",
     "text": []
    },
    {
     "name": "stdout",
     "output_type": "stream",
     "text": [
      "[62]\ttrain-mlogloss:0.14572\teval-mlogloss:0.77810\n"
     ]
    },
    {
     "name": "stderr",
     "output_type": "stream",
     "text": []
    },
    {
     "name": "stdout",
     "output_type": "stream",
     "text": [
      "[63]\ttrain-mlogloss:0.14384\teval-mlogloss:0.78085\n"
     ]
    },
    {
     "name": "stderr",
     "output_type": "stream",
     "text": []
    },
    {
     "name": "stdout",
     "output_type": "stream",
     "text": [
      "[64]\ttrain-mlogloss:0.14229\teval-mlogloss:0.78273\n"
     ]
    },
    {
     "name": "stderr",
     "output_type": "stream",
     "text": []
    },
    {
     "name": "stdout",
     "output_type": "stream",
     "text": [
      "[65]\ttrain-mlogloss:0.13970\teval-mlogloss:0.78743\n"
     ]
    },
    {
     "name": "stderr",
     "output_type": "stream",
     "text": []
    },
    {
     "name": "stdout",
     "output_type": "stream",
     "text": [
      "[66]\ttrain-mlogloss:0.13741\teval-mlogloss:0.79048\n"
     ]
    },
    {
     "name": "stderr",
     "output_type": "stream",
     "text": []
    },
    {
     "name": "stdout",
     "output_type": "stream",
     "text": [
      "[67]\ttrain-mlogloss:0.13509\teval-mlogloss:0.79348\n"
     ]
    },
    {
     "name": "stderr",
     "output_type": "stream",
     "text": []
    },
    {
     "name": "stdout",
     "output_type": "stream",
     "text": [
      "[68]\ttrain-mlogloss:0.13223\teval-mlogloss:0.79552\n"
     ]
    },
    {
     "name": "stderr",
     "output_type": "stream",
     "text": []
    },
    {
     "name": "stdout",
     "output_type": "stream",
     "text": [
      "[69]\ttrain-mlogloss:0.13086\teval-mlogloss:0.79758\n"
     ]
    },
    {
     "name": "stderr",
     "output_type": "stream",
     "text": []
    },
    {
     "name": "stdout",
     "output_type": "stream",
     "text": [
      "[70]\ttrain-mlogloss:0.12883\teval-mlogloss:0.80065\n"
     ]
    },
    {
     "name": "stderr",
     "output_type": "stream",
     "text": []
    },
    {
     "name": "stdout",
     "output_type": "stream",
     "text": [
      "[71]\ttrain-mlogloss:0.12769\teval-mlogloss:0.80291\n"
     ]
    },
    {
     "name": "stderr",
     "output_type": "stream",
     "text": []
    },
    {
     "name": "stdout",
     "output_type": "stream",
     "text": [
      "[72]\ttrain-mlogloss:0.12591\teval-mlogloss:0.80525\n"
     ]
    },
    {
     "name": "stderr",
     "output_type": "stream",
     "text": []
    },
    {
     "name": "stdout",
     "output_type": "stream",
     "text": [
      "[73]\ttrain-mlogloss:0.12413\teval-mlogloss:0.80843\n"
     ]
    },
    {
     "name": "stderr",
     "output_type": "stream",
     "text": []
    },
    {
     "name": "stdout",
     "output_type": "stream",
     "text": [
      "[74]\ttrain-mlogloss:0.12275\teval-mlogloss:0.80975\n"
     ]
    },
    {
     "name": "stderr",
     "output_type": "stream",
     "text": []
    },
    {
     "name": "stdout",
     "output_type": "stream",
     "text": [
      "[75]\ttrain-mlogloss:0.12091\teval-mlogloss:0.81134\n"
     ]
    },
    {
     "name": "stderr",
     "output_type": "stream",
     "text": []
    },
    {
     "name": "stdout",
     "output_type": "stream",
     "text": [
      "[76]\ttrain-mlogloss:0.11947\teval-mlogloss:0.81461\n"
     ]
    },
    {
     "name": "stderr",
     "output_type": "stream",
     "text": []
    },
    {
     "name": "stdout",
     "output_type": "stream",
     "text": [
      "[77]\ttrain-mlogloss:0.11810\teval-mlogloss:0.81712\n"
     ]
    },
    {
     "name": "stderr",
     "output_type": "stream",
     "text": []
    },
    {
     "name": "stdout",
     "output_type": "stream",
     "text": [
      "[78]\ttrain-mlogloss:0.11720\teval-mlogloss:0.81896\n"
     ]
    },
    {
     "name": "stderr",
     "output_type": "stream",
     "text": []
    },
    {
     "name": "stdout",
     "output_type": "stream",
     "text": [
      "[79]\ttrain-mlogloss:0.11553\teval-mlogloss:0.82261\n"
     ]
    },
    {
     "name": "stderr",
     "output_type": "stream",
     "text": []
    },
    {
     "name": "stdout",
     "output_type": "stream",
     "text": [
      "[80]\ttrain-mlogloss:0.11415\teval-mlogloss:0.82558\n"
     ]
    },
    {
     "name": "stderr",
     "output_type": "stream",
     "text": []
    },
    {
     "name": "stdout",
     "output_type": "stream",
     "text": [
      "[81]\ttrain-mlogloss:0.11297\teval-mlogloss:0.82832\n"
     ]
    },
    {
     "name": "stderr",
     "output_type": "stream",
     "text": []
    },
    {
     "name": "stdout",
     "output_type": "stream",
     "text": [
      "[82]\ttrain-mlogloss:0.11130\teval-mlogloss:0.83267\n"
     ]
    },
    {
     "name": "stderr",
     "output_type": "stream",
     "text": []
    },
    {
     "name": "stdout",
     "output_type": "stream",
     "text": [
      "[83]\ttrain-mlogloss:0.11003\teval-mlogloss:0.83322\n"
     ]
    },
    {
     "name": "stderr",
     "output_type": "stream",
     "text": []
    },
    {
     "name": "stdout",
     "output_type": "stream",
     "text": [
      "[84]\ttrain-mlogloss:0.10900\teval-mlogloss:0.83464\n"
     ]
    },
    {
     "name": "stderr",
     "output_type": "stream",
     "text": []
    },
    {
     "name": "stdout",
     "output_type": "stream",
     "text": [
      "[85]\ttrain-mlogloss:0.10782\teval-mlogloss:0.83714\n"
     ]
    },
    {
     "name": "stderr",
     "output_type": "stream",
     "text": []
    },
    {
     "name": "stdout",
     "output_type": "stream",
     "text": [
      "[86]\ttrain-mlogloss:0.10664\teval-mlogloss:0.83895\n"
     ]
    },
    {
     "name": "stderr",
     "output_type": "stream",
     "text": []
    },
    {
     "name": "stdout",
     "output_type": "stream",
     "text": [
      "[87]\ttrain-mlogloss:0.10591\teval-mlogloss:0.84215\n"
     ]
    },
    {
     "name": "stderr",
     "output_type": "stream",
     "text": []
    },
    {
     "name": "stdout",
     "output_type": "stream",
     "text": [
      "[88]\ttrain-mlogloss:0.10475\teval-mlogloss:0.84449\n"
     ]
    },
    {
     "name": "stderr",
     "output_type": "stream",
     "text": []
    },
    {
     "name": "stdout",
     "output_type": "stream",
     "text": [
      "[89]\ttrain-mlogloss:0.10365\teval-mlogloss:0.84661\n"
     ]
    },
    {
     "name": "stderr",
     "output_type": "stream",
     "text": []
    },
    {
     "name": "stdout",
     "output_type": "stream",
     "text": [
      "[90]\ttrain-mlogloss:0.10246\teval-mlogloss:0.84833\n"
     ]
    },
    {
     "name": "stderr",
     "output_type": "stream",
     "text": []
    },
    {
     "name": "stdout",
     "output_type": "stream",
     "text": [
      "[91]\ttrain-mlogloss:0.10119\teval-mlogloss:0.85185\n"
     ]
    },
    {
     "name": "stderr",
     "output_type": "stream",
     "text": []
    },
    {
     "name": "stdout",
     "output_type": "stream",
     "text": [
      "[92]\ttrain-mlogloss:0.10032\teval-mlogloss:0.85566\n"
     ]
    },
    {
     "name": "stderr",
     "output_type": "stream",
     "text": []
    },
    {
     "name": "stdout",
     "output_type": "stream",
     "text": [
      "[93]\ttrain-mlogloss:0.09888\teval-mlogloss:0.85798\n"
     ]
    },
    {
     "name": "stderr",
     "output_type": "stream",
     "text": []
    },
    {
     "name": "stdout",
     "output_type": "stream",
     "text": [
      "[94]\ttrain-mlogloss:0.09794\teval-mlogloss:0.85991\n"
     ]
    },
    {
     "name": "stderr",
     "output_type": "stream",
     "text": []
    },
    {
     "name": "stdout",
     "output_type": "stream",
     "text": [
      "[95]\ttrain-mlogloss:0.09679\teval-mlogloss:0.86264\n"
     ]
    },
    {
     "name": "stderr",
     "output_type": "stream",
     "text": []
    },
    {
     "name": "stdout",
     "output_type": "stream",
     "text": [
      "[96]\ttrain-mlogloss:0.09580\teval-mlogloss:0.86666\n"
     ]
    },
    {
     "name": "stderr",
     "output_type": "stream",
     "text": []
    },
    {
     "name": "stdout",
     "output_type": "stream",
     "text": [
      "[97]\ttrain-mlogloss:0.09493\teval-mlogloss:0.87028\n"
     ]
    },
    {
     "name": "stderr",
     "output_type": "stream",
     "text": []
    },
    {
     "name": "stdout",
     "output_type": "stream",
     "text": [
      "[98]\ttrain-mlogloss:0.09425\teval-mlogloss:0.87216\n"
     ]
    },
    {
     "name": "stderr",
     "output_type": "stream",
     "text": []
    },
    {
     "name": "stdout",
     "output_type": "stream",
     "text": [
      "[99]\ttrain-mlogloss:0.09338\teval-mlogloss:0.87369\n"
     ]
    },
    {
     "name": "stderr",
     "output_type": "stream",
     "text": [
      "c:\\Users\\abhis\\Downloads\\Documents\\Learner Engagement Project\\venv\\Lib\\site-packages\\xgboost\\core.py:158: UserWarning: [02:38:11] WARNING: C:\\buildkite-agent\\builds\\buildkite-windows-cpu-autoscaling-group-i-08cbc0333d8d4aae1-1\\xgboost\\xgboost-ci-windows\\src\\c_api\\c_api.cc:1374: Saving model in the UBJSON format as default.  You can use file extension: `json`, `ubj` or `deprecated` to choose between formats.\n",
      "  warnings.warn(smsg, UserWarning)\n",
      "                                                                       \n",
      "Final Training Engagement:   0%|          | 0/500 [1:40:25<?, ?round/s]         "
     ]
    },
    {
     "name": "stdout",
     "output_type": "stream",
     "text": [
      "Checkpoint saved at iteration 100\n",
      "[100]\ttrain-mlogloss:0.09282\teval-mlogloss:0.87466\n"
     ]
    },
    {
     "name": "stderr",
     "output_type": "stream",
     "text": []
    },
    {
     "name": "stdout",
     "output_type": "stream",
     "text": [
      "[101]\ttrain-mlogloss:0.09198\teval-mlogloss:0.87763\n"
     ]
    },
    {
     "name": "stderr",
     "output_type": "stream",
     "text": []
    },
    {
     "name": "stdout",
     "output_type": "stream",
     "text": [
      "[102]\ttrain-mlogloss:0.09106\teval-mlogloss:0.88009\n"
     ]
    },
    {
     "name": "stderr",
     "output_type": "stream",
     "text": []
    },
    {
     "name": "stdout",
     "output_type": "stream",
     "text": [
      "[103]\ttrain-mlogloss:0.09069\teval-mlogloss:0.88148\n"
     ]
    },
    {
     "name": "stderr",
     "output_type": "stream",
     "text": []
    },
    {
     "name": "stdout",
     "output_type": "stream",
     "text": [
      "[104]\ttrain-mlogloss:0.08980\teval-mlogloss:0.88370\n"
     ]
    },
    {
     "name": "stderr",
     "output_type": "stream",
     "text": []
    },
    {
     "name": "stdout",
     "output_type": "stream",
     "text": [
      "[105]\ttrain-mlogloss:0.08878\teval-mlogloss:0.88565\n"
     ]
    },
    {
     "name": "stderr",
     "output_type": "stream",
     "text": []
    },
    {
     "name": "stdout",
     "output_type": "stream",
     "text": [
      "[106]\ttrain-mlogloss:0.08783\teval-mlogloss:0.88940\n"
     ]
    },
    {
     "name": "stderr",
     "output_type": "stream",
     "text": []
    },
    {
     "name": "stdout",
     "output_type": "stream",
     "text": [
      "[107]\ttrain-mlogloss:0.08711\teval-mlogloss:0.89163\n"
     ]
    },
    {
     "name": "stderr",
     "output_type": "stream",
     "text": []
    },
    {
     "name": "stdout",
     "output_type": "stream",
     "text": [
      "[108]\ttrain-mlogloss:0.08621\teval-mlogloss:0.89354\n"
     ]
    },
    {
     "name": "stderr",
     "output_type": "stream",
     "text": []
    },
    {
     "name": "stdout",
     "output_type": "stream",
     "text": [
      "[109]\ttrain-mlogloss:0.08585\teval-mlogloss:0.89482\n"
     ]
    },
    {
     "name": "stderr",
     "output_type": "stream",
     "text": []
    },
    {
     "name": "stdout",
     "output_type": "stream",
     "text": [
      "[110]\ttrain-mlogloss:0.08517\teval-mlogloss:0.89617\n"
     ]
    },
    {
     "name": "stderr",
     "output_type": "stream",
     "text": []
    },
    {
     "name": "stdout",
     "output_type": "stream",
     "text": [
      "[111]\ttrain-mlogloss:0.08441\teval-mlogloss:0.89884\n"
     ]
    },
    {
     "name": "stderr",
     "output_type": "stream",
     "text": []
    },
    {
     "name": "stdout",
     "output_type": "stream",
     "text": [
      "[112]\ttrain-mlogloss:0.08371\teval-mlogloss:0.90076\n"
     ]
    },
    {
     "name": "stderr",
     "output_type": "stream",
     "text": []
    },
    {
     "name": "stdout",
     "output_type": "stream",
     "text": [
      "[113]\ttrain-mlogloss:0.08288\teval-mlogloss:0.90445\n"
     ]
    },
    {
     "name": "stderr",
     "output_type": "stream",
     "text": []
    },
    {
     "name": "stdout",
     "output_type": "stream",
     "text": [
      "[114]\ttrain-mlogloss:0.08235\teval-mlogloss:0.90677\n"
     ]
    },
    {
     "name": "stderr",
     "output_type": "stream",
     "text": []
    },
    {
     "name": "stdout",
     "output_type": "stream",
     "text": [
      "[115]\ttrain-mlogloss:0.08160\teval-mlogloss:0.90895\n"
     ]
    },
    {
     "name": "stderr",
     "output_type": "stream",
     "text": []
    },
    {
     "name": "stdout",
     "output_type": "stream",
     "text": [
      "[116]\ttrain-mlogloss:0.08106\teval-mlogloss:0.91039\n"
     ]
    },
    {
     "name": "stderr",
     "output_type": "stream",
     "text": []
    },
    {
     "name": "stdout",
     "output_type": "stream",
     "text": [
      "[117]\ttrain-mlogloss:0.08033\teval-mlogloss:0.91220\n"
     ]
    },
    {
     "name": "stderr",
     "output_type": "stream",
     "text": []
    },
    {
     "name": "stdout",
     "output_type": "stream",
     "text": [
      "[118]\ttrain-mlogloss:0.07996\teval-mlogloss:0.91448\n"
     ]
    },
    {
     "name": "stderr",
     "output_type": "stream",
     "text": []
    },
    {
     "name": "stdout",
     "output_type": "stream",
     "text": [
      "[119]\ttrain-mlogloss:0.07908\teval-mlogloss:0.91794\n"
     ]
    },
    {
     "name": "stderr",
     "output_type": "stream",
     "text": []
    },
    {
     "name": "stdout",
     "output_type": "stream",
     "text": [
      "[120]\ttrain-mlogloss:0.07860\teval-mlogloss:0.91940\n"
     ]
    },
    {
     "name": "stderr",
     "output_type": "stream",
     "text": []
    },
    {
     "name": "stdout",
     "output_type": "stream",
     "text": [
      "[121]\ttrain-mlogloss:0.07774\teval-mlogloss:0.92403\n"
     ]
    },
    {
     "name": "stderr",
     "output_type": "stream",
     "text": []
    },
    {
     "name": "stdout",
     "output_type": "stream",
     "text": [
      "[122]\ttrain-mlogloss:0.07733\teval-mlogloss:0.92642\n"
     ]
    },
    {
     "name": "stderr",
     "output_type": "stream",
     "text": []
    },
    {
     "name": "stdout",
     "output_type": "stream",
     "text": [
      "[123]\ttrain-mlogloss:0.07688\teval-mlogloss:0.92808\n"
     ]
    },
    {
     "name": "stderr",
     "output_type": "stream",
     "text": []
    },
    {
     "name": "stdout",
     "output_type": "stream",
     "text": [
      "[124]\ttrain-mlogloss:0.07648\teval-mlogloss:0.92990\n"
     ]
    },
    {
     "name": "stderr",
     "output_type": "stream",
     "text": []
    },
    {
     "name": "stdout",
     "output_type": "stream",
     "text": [
      "[125]\ttrain-mlogloss:0.07597\teval-mlogloss:0.93221\n"
     ]
    },
    {
     "name": "stderr",
     "output_type": "stream",
     "text": []
    },
    {
     "name": "stdout",
     "output_type": "stream",
     "text": [
      "[126]\ttrain-mlogloss:0.07536\teval-mlogloss:0.93504\n"
     ]
    },
    {
     "name": "stderr",
     "output_type": "stream",
     "text": []
    },
    {
     "name": "stdout",
     "output_type": "stream",
     "text": [
      "[127]\ttrain-mlogloss:0.07481\teval-mlogloss:0.93671\n"
     ]
    },
    {
     "name": "stderr",
     "output_type": "stream",
     "text": []
    },
    {
     "name": "stdout",
     "output_type": "stream",
     "text": [
      "[128]\ttrain-mlogloss:0.07448\teval-mlogloss:0.93820\n"
     ]
    },
    {
     "name": "stderr",
     "output_type": "stream",
     "text": []
    },
    {
     "name": "stdout",
     "output_type": "stream",
     "text": [
      "[129]\ttrain-mlogloss:0.07410\teval-mlogloss:0.93927\n"
     ]
    },
    {
     "name": "stderr",
     "output_type": "stream",
     "text": []
    },
    {
     "name": "stdout",
     "output_type": "stream",
     "text": [
      "[130]\ttrain-mlogloss:0.07375\teval-mlogloss:0.94091\n"
     ]
    },
    {
     "name": "stderr",
     "output_type": "stream",
     "text": []
    },
    {
     "name": "stdout",
     "output_type": "stream",
     "text": [
      "[131]\ttrain-mlogloss:0.07322\teval-mlogloss:0.94279\n"
     ]
    },
    {
     "name": "stderr",
     "output_type": "stream",
     "text": []
    },
    {
     "name": "stdout",
     "output_type": "stream",
     "text": [
      "[132]\ttrain-mlogloss:0.07252\teval-mlogloss:0.94666\n"
     ]
    },
    {
     "name": "stderr",
     "output_type": "stream",
     "text": []
    },
    {
     "name": "stdout",
     "output_type": "stream",
     "text": [
      "[133]\ttrain-mlogloss:0.07208\teval-mlogloss:0.94853\n"
     ]
    },
    {
     "name": "stderr",
     "output_type": "stream",
     "text": []
    },
    {
     "name": "stdout",
     "output_type": "stream",
     "text": [
      "[134]\ttrain-mlogloss:0.07168\teval-mlogloss:0.95166\n"
     ]
    },
    {
     "name": "stderr",
     "output_type": "stream",
     "text": []
    },
    {
     "name": "stdout",
     "output_type": "stream",
     "text": [
      "[135]\ttrain-mlogloss:0.07142\teval-mlogloss:0.95281\n"
     ]
    },
    {
     "name": "stderr",
     "output_type": "stream",
     "text": []
    },
    {
     "name": "stdout",
     "output_type": "stream",
     "text": [
      "[136]\ttrain-mlogloss:0.07081\teval-mlogloss:0.95535\n"
     ]
    },
    {
     "name": "stderr",
     "output_type": "stream",
     "text": []
    },
    {
     "name": "stdout",
     "output_type": "stream",
     "text": [
      "[137]\ttrain-mlogloss:0.07050\teval-mlogloss:0.95678\n"
     ]
    },
    {
     "name": "stderr",
     "output_type": "stream",
     "text": []
    },
    {
     "name": "stdout",
     "output_type": "stream",
     "text": [
      "[138]\ttrain-mlogloss:0.07003\teval-mlogloss:0.95885\n"
     ]
    },
    {
     "name": "stderr",
     "output_type": "stream",
     "text": []
    },
    {
     "name": "stdout",
     "output_type": "stream",
     "text": [
      "[139]\ttrain-mlogloss:0.06969\teval-mlogloss:0.96085\n"
     ]
    },
    {
     "name": "stderr",
     "output_type": "stream",
     "text": []
    },
    {
     "name": "stdout",
     "output_type": "stream",
     "text": [
      "[140]\ttrain-mlogloss:0.06943\teval-mlogloss:0.96196\n"
     ]
    },
    {
     "name": "stderr",
     "output_type": "stream",
     "text": []
    },
    {
     "name": "stdout",
     "output_type": "stream",
     "text": [
      "[141]\ttrain-mlogloss:0.06900\teval-mlogloss:0.96420\n"
     ]
    },
    {
     "name": "stderr",
     "output_type": "stream",
     "text": []
    },
    {
     "name": "stdout",
     "output_type": "stream",
     "text": [
      "[142]\ttrain-mlogloss:0.06865\teval-mlogloss:0.96583\n"
     ]
    },
    {
     "name": "stderr",
     "output_type": "stream",
     "text": []
    },
    {
     "name": "stdout",
     "output_type": "stream",
     "text": [
      "[143]\ttrain-mlogloss:0.06823\teval-mlogloss:0.96784\n"
     ]
    },
    {
     "name": "stderr",
     "output_type": "stream",
     "text": []
    },
    {
     "name": "stdout",
     "output_type": "stream",
     "text": [
      "[144]\ttrain-mlogloss:0.06793\teval-mlogloss:0.97009\n"
     ]
    },
    {
     "name": "stderr",
     "output_type": "stream",
     "text": []
    },
    {
     "name": "stdout",
     "output_type": "stream",
     "text": [
      "[145]\ttrain-mlogloss:0.06747\teval-mlogloss:0.97236\n"
     ]
    },
    {
     "name": "stderr",
     "output_type": "stream",
     "text": []
    },
    {
     "name": "stdout",
     "output_type": "stream",
     "text": [
      "[146]\ttrain-mlogloss:0.06709\teval-mlogloss:0.97379\n"
     ]
    },
    {
     "name": "stderr",
     "output_type": "stream",
     "text": []
    },
    {
     "name": "stdout",
     "output_type": "stream",
     "text": [
      "[147]\ttrain-mlogloss:0.06674\teval-mlogloss:0.97632\n"
     ]
    },
    {
     "name": "stderr",
     "output_type": "stream",
     "text": []
    },
    {
     "name": "stdout",
     "output_type": "stream",
     "text": [
      "[148]\ttrain-mlogloss:0.06637\teval-mlogloss:0.97811\n"
     ]
    },
    {
     "name": "stderr",
     "output_type": "stream",
     "text": []
    },
    {
     "name": "stdout",
     "output_type": "stream",
     "text": [
      "[149]\ttrain-mlogloss:0.06590\teval-mlogloss:0.98117\n"
     ]
    },
    {
     "name": "stderr",
     "output_type": "stream",
     "text": [
      "c:\\Users\\abhis\\Downloads\\Documents\\Learner Engagement Project\\venv\\Lib\\site-packages\\xgboost\\core.py:158: UserWarning: [02:42:31] WARNING: C:\\buildkite-agent\\builds\\buildkite-windows-cpu-autoscaling-group-i-08cbc0333d8d4aae1-1\\xgboost\\xgboost-ci-windows\\src\\c_api\\c_api.cc:1374: Saving model in the UBJSON format as default.  You can use file extension: `json`, `ubj` or `deprecated` to choose between formats.\n",
      "  warnings.warn(smsg, UserWarning)\n",
      "                                                                       \n",
      "Final Training Engagement:   0%|          | 0/500 [1:44:45<?, ?round/s]         "
     ]
    },
    {
     "name": "stdout",
     "output_type": "stream",
     "text": [
      "Checkpoint saved at iteration 150\n",
      "[150]\ttrain-mlogloss:0.06558\teval-mlogloss:0.98262\n"
     ]
    },
    {
     "name": "stderr",
     "output_type": "stream",
     "text": []
    },
    {
     "name": "stdout",
     "output_type": "stream",
     "text": [
      "[151]\ttrain-mlogloss:0.06530\teval-mlogloss:0.98427\n"
     ]
    },
    {
     "name": "stderr",
     "output_type": "stream",
     "text": []
    },
    {
     "name": "stdout",
     "output_type": "stream",
     "text": [
      "[152]\ttrain-mlogloss:0.06491\teval-mlogloss:0.98700\n"
     ]
    },
    {
     "name": "stderr",
     "output_type": "stream",
     "text": []
    },
    {
     "name": "stdout",
     "output_type": "stream",
     "text": [
      "[153]\ttrain-mlogloss:0.06472\teval-mlogloss:0.98820\n"
     ]
    },
    {
     "name": "stderr",
     "output_type": "stream",
     "text": []
    },
    {
     "name": "stdout",
     "output_type": "stream",
     "text": [
      "[154]\ttrain-mlogloss:0.06437\teval-mlogloss:0.99040\n"
     ]
    },
    {
     "name": "stderr",
     "output_type": "stream",
     "text": []
    },
    {
     "name": "stdout",
     "output_type": "stream",
     "text": [
      "[155]\ttrain-mlogloss:0.06411\teval-mlogloss:0.99161\n"
     ]
    },
    {
     "name": "stderr",
     "output_type": "stream",
     "text": []
    },
    {
     "name": "stdout",
     "output_type": "stream",
     "text": [
      "[156]\ttrain-mlogloss:0.06365\teval-mlogloss:0.99397\n"
     ]
    },
    {
     "name": "stderr",
     "output_type": "stream",
     "text": []
    },
    {
     "name": "stdout",
     "output_type": "stream",
     "text": [
      "[157]\ttrain-mlogloss:0.06346\teval-mlogloss:0.99558\n"
     ]
    },
    {
     "name": "stderr",
     "output_type": "stream",
     "text": []
    },
    {
     "name": "stdout",
     "output_type": "stream",
     "text": [
      "[158]\ttrain-mlogloss:0.06318\teval-mlogloss:0.99747\n"
     ]
    },
    {
     "name": "stderr",
     "output_type": "stream",
     "text": []
    },
    {
     "name": "stdout",
     "output_type": "stream",
     "text": [
      "[159]\ttrain-mlogloss:0.06294\teval-mlogloss:0.99961\n"
     ]
    },
    {
     "name": "stderr",
     "output_type": "stream",
     "text": []
    },
    {
     "name": "stdout",
     "output_type": "stream",
     "text": [
      "[160]\ttrain-mlogloss:0.06264\teval-mlogloss:1.00137\n"
     ]
    },
    {
     "name": "stderr",
     "output_type": "stream",
     "text": []
    },
    {
     "name": "stdout",
     "output_type": "stream",
     "text": [
      "[161]\ttrain-mlogloss:0.06244\teval-mlogloss:1.00282\n"
     ]
    },
    {
     "name": "stderr",
     "output_type": "stream",
     "text": []
    },
    {
     "name": "stdout",
     "output_type": "stream",
     "text": [
      "[162]\ttrain-mlogloss:0.06212\teval-mlogloss:1.00488\n"
     ]
    },
    {
     "name": "stderr",
     "output_type": "stream",
     "text": []
    },
    {
     "name": "stdout",
     "output_type": "stream",
     "text": [
      "[163]\ttrain-mlogloss:0.06194\teval-mlogloss:1.00589\n"
     ]
    },
    {
     "name": "stderr",
     "output_type": "stream",
     "text": []
    },
    {
     "name": "stdout",
     "output_type": "stream",
     "text": [
      "[164]\ttrain-mlogloss:0.06166\teval-mlogloss:1.00816\n"
     ]
    },
    {
     "name": "stderr",
     "output_type": "stream",
     "text": []
    },
    {
     "name": "stdout",
     "output_type": "stream",
     "text": [
      "[165]\ttrain-mlogloss:0.06144\teval-mlogloss:1.01030\n"
     ]
    },
    {
     "name": "stderr",
     "output_type": "stream",
     "text": []
    },
    {
     "name": "stdout",
     "output_type": "stream",
     "text": [
      "[166]\ttrain-mlogloss:0.06122\teval-mlogloss:1.01150\n"
     ]
    },
    {
     "name": "stderr",
     "output_type": "stream",
     "text": []
    },
    {
     "name": "stdout",
     "output_type": "stream",
     "text": [
      "[167]\ttrain-mlogloss:0.06091\teval-mlogloss:1.01260\n"
     ]
    },
    {
     "name": "stderr",
     "output_type": "stream",
     "text": []
    },
    {
     "name": "stdout",
     "output_type": "stream",
     "text": [
      "[168]\ttrain-mlogloss:0.06065\teval-mlogloss:1.01447\n"
     ]
    },
    {
     "name": "stderr",
     "output_type": "stream",
     "text": []
    },
    {
     "name": "stdout",
     "output_type": "stream",
     "text": [
      "[169]\ttrain-mlogloss:0.06049\teval-mlogloss:1.01551\n"
     ]
    },
    {
     "name": "stderr",
     "output_type": "stream",
     "text": []
    },
    {
     "name": "stdout",
     "output_type": "stream",
     "text": [
      "[170]\ttrain-mlogloss:0.06026\teval-mlogloss:1.01753\n"
     ]
    },
    {
     "name": "stderr",
     "output_type": "stream",
     "text": []
    },
    {
     "name": "stdout",
     "output_type": "stream",
     "text": [
      "[171]\ttrain-mlogloss:0.06002\teval-mlogloss:1.01980\n"
     ]
    },
    {
     "name": "stderr",
     "output_type": "stream",
     "text": []
    },
    {
     "name": "stdout",
     "output_type": "stream",
     "text": [
      "[172]\ttrain-mlogloss:0.05985\teval-mlogloss:1.02141\n"
     ]
    },
    {
     "name": "stderr",
     "output_type": "stream",
     "text": []
    },
    {
     "name": "stdout",
     "output_type": "stream",
     "text": [
      "[173]\ttrain-mlogloss:0.05969\teval-mlogloss:1.02324\n"
     ]
    },
    {
     "name": "stderr",
     "output_type": "stream",
     "text": []
    },
    {
     "name": "stdout",
     "output_type": "stream",
     "text": [
      "[174]\ttrain-mlogloss:0.05953\teval-mlogloss:1.02470\n"
     ]
    },
    {
     "name": "stderr",
     "output_type": "stream",
     "text": []
    },
    {
     "name": "stdout",
     "output_type": "stream",
     "text": [
      "[175]\ttrain-mlogloss:0.05938\teval-mlogloss:1.02565\n"
     ]
    },
    {
     "name": "stderr",
     "output_type": "stream",
     "text": []
    },
    {
     "name": "stdout",
     "output_type": "stream",
     "text": [
      "[176]\ttrain-mlogloss:0.05920\teval-mlogloss:1.02658\n"
     ]
    },
    {
     "name": "stderr",
     "output_type": "stream",
     "text": []
    },
    {
     "name": "stdout",
     "output_type": "stream",
     "text": [
      "[177]\ttrain-mlogloss:0.05897\teval-mlogloss:1.02802\n"
     ]
    },
    {
     "name": "stderr",
     "output_type": "stream",
     "text": []
    },
    {
     "name": "stdout",
     "output_type": "stream",
     "text": [
      "[178]\ttrain-mlogloss:0.05880\teval-mlogloss:1.02986\n"
     ]
    },
    {
     "name": "stderr",
     "output_type": "stream",
     "text": []
    },
    {
     "name": "stdout",
     "output_type": "stream",
     "text": [
      "[179]\ttrain-mlogloss:0.05870\teval-mlogloss:1.03068\n"
     ]
    },
    {
     "name": "stderr",
     "output_type": "stream",
     "text": []
    },
    {
     "name": "stdout",
     "output_type": "stream",
     "text": [
      "[180]\ttrain-mlogloss:0.05845\teval-mlogloss:1.03268\n"
     ]
    },
    {
     "name": "stderr",
     "output_type": "stream",
     "text": []
    },
    {
     "name": "stdout",
     "output_type": "stream",
     "text": [
      "[181]\ttrain-mlogloss:0.05828\teval-mlogloss:1.03360\n"
     ]
    },
    {
     "name": "stderr",
     "output_type": "stream",
     "text": []
    },
    {
     "name": "stdout",
     "output_type": "stream",
     "text": [
      "[182]\ttrain-mlogloss:0.05815\teval-mlogloss:1.03434\n"
     ]
    },
    {
     "name": "stderr",
     "output_type": "stream",
     "text": []
    },
    {
     "name": "stdout",
     "output_type": "stream",
     "text": [
      "[183]\ttrain-mlogloss:0.05798\teval-mlogloss:1.03607\n"
     ]
    },
    {
     "name": "stderr",
     "output_type": "stream",
     "text": []
    },
    {
     "name": "stdout",
     "output_type": "stream",
     "text": [
      "[184]\ttrain-mlogloss:0.05777\teval-mlogloss:1.03827\n"
     ]
    },
    {
     "name": "stderr",
     "output_type": "stream",
     "text": []
    },
    {
     "name": "stdout",
     "output_type": "stream",
     "text": [
      "[185]\ttrain-mlogloss:0.05767\teval-mlogloss:1.03949\n"
     ]
    },
    {
     "name": "stderr",
     "output_type": "stream",
     "text": []
    },
    {
     "name": "stdout",
     "output_type": "stream",
     "text": [
      "[186]\ttrain-mlogloss:0.05750\teval-mlogloss:1.04088\n"
     ]
    },
    {
     "name": "stderr",
     "output_type": "stream",
     "text": []
    },
    {
     "name": "stdout",
     "output_type": "stream",
     "text": [
      "[187]\ttrain-mlogloss:0.05726\teval-mlogloss:1.04323\n"
     ]
    },
    {
     "name": "stderr",
     "output_type": "stream",
     "text": []
    },
    {
     "name": "stdout",
     "output_type": "stream",
     "text": [
      "[188]\ttrain-mlogloss:0.05710\teval-mlogloss:1.04520\n"
     ]
    },
    {
     "name": "stderr",
     "output_type": "stream",
     "text": []
    },
    {
     "name": "stdout",
     "output_type": "stream",
     "text": [
      "[189]\ttrain-mlogloss:0.05701\teval-mlogloss:1.04636\n"
     ]
    },
    {
     "name": "stderr",
     "output_type": "stream",
     "text": []
    },
    {
     "name": "stdout",
     "output_type": "stream",
     "text": [
      "[190]\ttrain-mlogloss:0.05684\teval-mlogloss:1.04877\n"
     ]
    },
    {
     "name": "stderr",
     "output_type": "stream",
     "text": []
    },
    {
     "name": "stdout",
     "output_type": "stream",
     "text": [
      "[191]\ttrain-mlogloss:0.05672\teval-mlogloss:1.04944\n"
     ]
    },
    {
     "name": "stderr",
     "output_type": "stream",
     "text": []
    },
    {
     "name": "stdout",
     "output_type": "stream",
     "text": [
      "[192]\ttrain-mlogloss:0.05655\teval-mlogloss:1.05115\n"
     ]
    },
    {
     "name": "stderr",
     "output_type": "stream",
     "text": []
    },
    {
     "name": "stdout",
     "output_type": "stream",
     "text": [
      "[193]\ttrain-mlogloss:0.05635\teval-mlogloss:1.05297\n"
     ]
    },
    {
     "name": "stderr",
     "output_type": "stream",
     "text": []
    },
    {
     "name": "stdout",
     "output_type": "stream",
     "text": [
      "[194]\ttrain-mlogloss:0.05617\teval-mlogloss:1.05491\n"
     ]
    },
    {
     "name": "stderr",
     "output_type": "stream",
     "text": []
    },
    {
     "name": "stdout",
     "output_type": "stream",
     "text": [
      "[195]\ttrain-mlogloss:0.05607\teval-mlogloss:1.05587\n"
     ]
    },
    {
     "name": "stderr",
     "output_type": "stream",
     "text": []
    },
    {
     "name": "stdout",
     "output_type": "stream",
     "text": [
      "[196]\ttrain-mlogloss:0.05596\teval-mlogloss:1.05675\n"
     ]
    },
    {
     "name": "stderr",
     "output_type": "stream",
     "text": []
    },
    {
     "name": "stdout",
     "output_type": "stream",
     "text": [
      "[197]\ttrain-mlogloss:0.05584\teval-mlogloss:1.05763\n"
     ]
    },
    {
     "name": "stderr",
     "output_type": "stream",
     "text": []
    },
    {
     "name": "stdout",
     "output_type": "stream",
     "text": [
      "[198]\ttrain-mlogloss:0.05573\teval-mlogloss:1.05930\n"
     ]
    },
    {
     "name": "stderr",
     "output_type": "stream",
     "text": []
    },
    {
     "name": "stdout",
     "output_type": "stream",
     "text": [
      "[199]\ttrain-mlogloss:0.05563\teval-mlogloss:1.06126\n"
     ]
    },
    {
     "name": "stderr",
     "output_type": "stream",
     "text": [
      "c:\\Users\\abhis\\Downloads\\Documents\\Learner Engagement Project\\venv\\Lib\\site-packages\\xgboost\\core.py:158: UserWarning: [02:46:39] WARNING: C:\\buildkite-agent\\builds\\buildkite-windows-cpu-autoscaling-group-i-08cbc0333d8d4aae1-1\\xgboost\\xgboost-ci-windows\\src\\c_api\\c_api.cc:1374: Saving model in the UBJSON format as default.  You can use file extension: `json`, `ubj` or `deprecated` to choose between formats.\n",
      "  warnings.warn(smsg, UserWarning)\n",
      "                                                                       \n",
      "Final Training Engagement:   0%|          | 0/500 [1:48:52<?, ?round/s]         "
     ]
    },
    {
     "name": "stdout",
     "output_type": "stream",
     "text": [
      "Checkpoint saved at iteration 200\n",
      "[200]\ttrain-mlogloss:0.05553\teval-mlogloss:1.06262\n"
     ]
    },
    {
     "name": "stderr",
     "output_type": "stream",
     "text": []
    },
    {
     "name": "stdout",
     "output_type": "stream",
     "text": [
      "[201]\ttrain-mlogloss:0.05545\teval-mlogloss:1.06334\n"
     ]
    },
    {
     "name": "stderr",
     "output_type": "stream",
     "text": []
    },
    {
     "name": "stdout",
     "output_type": "stream",
     "text": [
      "[202]\ttrain-mlogloss:0.05528\teval-mlogloss:1.06544\n"
     ]
    },
    {
     "name": "stderr",
     "output_type": "stream",
     "text": []
    },
    {
     "name": "stdout",
     "output_type": "stream",
     "text": [
      "[203]\ttrain-mlogloss:0.05516\teval-mlogloss:1.06665\n"
     ]
    },
    {
     "name": "stderr",
     "output_type": "stream",
     "text": []
    },
    {
     "name": "stdout",
     "output_type": "stream",
     "text": [
      "[204]\ttrain-mlogloss:0.05505\teval-mlogloss:1.06725\n"
     ]
    },
    {
     "name": "stderr",
     "output_type": "stream",
     "text": []
    },
    {
     "name": "stdout",
     "output_type": "stream",
     "text": [
      "[205]\ttrain-mlogloss:0.05491\teval-mlogloss:1.06930\n"
     ]
    },
    {
     "name": "stderr",
     "output_type": "stream",
     "text": []
    },
    {
     "name": "stdout",
     "output_type": "stream",
     "text": [
      "[206]\ttrain-mlogloss:0.05474\teval-mlogloss:1.07146\n"
     ]
    },
    {
     "name": "stderr",
     "output_type": "stream",
     "text": []
    },
    {
     "name": "stdout",
     "output_type": "stream",
     "text": [
      "[207]\ttrain-mlogloss:0.05465\teval-mlogloss:1.07336\n"
     ]
    },
    {
     "name": "stderr",
     "output_type": "stream",
     "text": []
    },
    {
     "name": "stdout",
     "output_type": "stream",
     "text": [
      "[208]\ttrain-mlogloss:0.05456\teval-mlogloss:1.07521\n"
     ]
    },
    {
     "name": "stderr",
     "output_type": "stream",
     "text": []
    },
    {
     "name": "stdout",
     "output_type": "stream",
     "text": [
      "[209]\ttrain-mlogloss:0.05444\teval-mlogloss:1.07694\n"
     ]
    },
    {
     "name": "stderr",
     "output_type": "stream",
     "text": []
    },
    {
     "name": "stdout",
     "output_type": "stream",
     "text": [
      "[210]\ttrain-mlogloss:0.05433\teval-mlogloss:1.07768\n"
     ]
    },
    {
     "name": "stderr",
     "output_type": "stream",
     "text": []
    },
    {
     "name": "stdout",
     "output_type": "stream",
     "text": [
      "[211]\ttrain-mlogloss:0.05422\teval-mlogloss:1.07973\n"
     ]
    },
    {
     "name": "stderr",
     "output_type": "stream",
     "text": []
    },
    {
     "name": "stdout",
     "output_type": "stream",
     "text": [
      "[212]\ttrain-mlogloss:0.05406\teval-mlogloss:1.08176\n"
     ]
    },
    {
     "name": "stderr",
     "output_type": "stream",
     "text": []
    },
    {
     "name": "stdout",
     "output_type": "stream",
     "text": [
      "[213]\ttrain-mlogloss:0.05393\teval-mlogloss:1.08378\n"
     ]
    },
    {
     "name": "stderr",
     "output_type": "stream",
     "text": []
    },
    {
     "name": "stdout",
     "output_type": "stream",
     "text": [
      "[214]\ttrain-mlogloss:0.05381\teval-mlogloss:1.08510\n"
     ]
    },
    {
     "name": "stderr",
     "output_type": "stream",
     "text": []
    },
    {
     "name": "stdout",
     "output_type": "stream",
     "text": [
      "[215]\ttrain-mlogloss:0.05365\teval-mlogloss:1.08700\n"
     ]
    },
    {
     "name": "stderr",
     "output_type": "stream",
     "text": []
    },
    {
     "name": "stdout",
     "output_type": "stream",
     "text": [
      "[216]\ttrain-mlogloss:0.05352\teval-mlogloss:1.08904\n"
     ]
    },
    {
     "name": "stderr",
     "output_type": "stream",
     "text": []
    },
    {
     "name": "stdout",
     "output_type": "stream",
     "text": [
      "[217]\ttrain-mlogloss:0.05344\teval-mlogloss:1.09038\n"
     ]
    },
    {
     "name": "stderr",
     "output_type": "stream",
     "text": []
    },
    {
     "name": "stdout",
     "output_type": "stream",
     "text": [
      "[218]\ttrain-mlogloss:0.05330\teval-mlogloss:1.09162\n"
     ]
    },
    {
     "name": "stderr",
     "output_type": "stream",
     "text": []
    },
    {
     "name": "stdout",
     "output_type": "stream",
     "text": [
      "[219]\ttrain-mlogloss:0.05316\teval-mlogloss:1.09352\n"
     ]
    },
    {
     "name": "stderr",
     "output_type": "stream",
     "text": []
    },
    {
     "name": "stdout",
     "output_type": "stream",
     "text": [
      "[220]\ttrain-mlogloss:0.05308\teval-mlogloss:1.09462\n"
     ]
    },
    {
     "name": "stderr",
     "output_type": "stream",
     "text": []
    },
    {
     "name": "stdout",
     "output_type": "stream",
     "text": [
      "[221]\ttrain-mlogloss:0.05301\teval-mlogloss:1.09576\n"
     ]
    },
    {
     "name": "stderr",
     "output_type": "stream",
     "text": []
    },
    {
     "name": "stdout",
     "output_type": "stream",
     "text": [
      "[222]\ttrain-mlogloss:0.05287\teval-mlogloss:1.09710\n"
     ]
    },
    {
     "name": "stderr",
     "output_type": "stream",
     "text": []
    },
    {
     "name": "stdout",
     "output_type": "stream",
     "text": [
      "[223]\ttrain-mlogloss:0.05278\teval-mlogloss:1.09797\n"
     ]
    },
    {
     "name": "stderr",
     "output_type": "stream",
     "text": []
    },
    {
     "name": "stdout",
     "output_type": "stream",
     "text": [
      "[224]\ttrain-mlogloss:0.05269\teval-mlogloss:1.09897\n"
     ]
    },
    {
     "name": "stderr",
     "output_type": "stream",
     "text": []
    },
    {
     "name": "stdout",
     "output_type": "stream",
     "text": [
      "[225]\ttrain-mlogloss:0.05255\teval-mlogloss:1.10085\n"
     ]
    },
    {
     "name": "stderr",
     "output_type": "stream",
     "text": []
    },
    {
     "name": "stdout",
     "output_type": "stream",
     "text": [
      "[226]\ttrain-mlogloss:0.05246\teval-mlogloss:1.10177\n"
     ]
    },
    {
     "name": "stderr",
     "output_type": "stream",
     "text": []
    },
    {
     "name": "stdout",
     "output_type": "stream",
     "text": [
      "[227]\ttrain-mlogloss:0.05237\teval-mlogloss:1.10312\n"
     ]
    },
    {
     "name": "stderr",
     "output_type": "stream",
     "text": []
    },
    {
     "name": "stdout",
     "output_type": "stream",
     "text": [
      "[228]\ttrain-mlogloss:0.05226\teval-mlogloss:1.10487\n"
     ]
    },
    {
     "name": "stderr",
     "output_type": "stream",
     "text": []
    },
    {
     "name": "stdout",
     "output_type": "stream",
     "text": [
      "[229]\ttrain-mlogloss:0.05218\teval-mlogloss:1.10610\n"
     ]
    },
    {
     "name": "stderr",
     "output_type": "stream",
     "text": []
    },
    {
     "name": "stdout",
     "output_type": "stream",
     "text": [
      "[230]\ttrain-mlogloss:0.05210\teval-mlogloss:1.10657\n"
     ]
    },
    {
     "name": "stderr",
     "output_type": "stream",
     "text": []
    },
    {
     "name": "stdout",
     "output_type": "stream",
     "text": [
      "[231]\ttrain-mlogloss:0.05199\teval-mlogloss:1.10829\n"
     ]
    },
    {
     "name": "stderr",
     "output_type": "stream",
     "text": []
    },
    {
     "name": "stdout",
     "output_type": "stream",
     "text": [
      "[232]\ttrain-mlogloss:0.05190\teval-mlogloss:1.11000\n"
     ]
    },
    {
     "name": "stderr",
     "output_type": "stream",
     "text": []
    },
    {
     "name": "stdout",
     "output_type": "stream",
     "text": [
      "[233]\ttrain-mlogloss:0.05182\teval-mlogloss:1.11076\n"
     ]
    },
    {
     "name": "stderr",
     "output_type": "stream",
     "text": []
    },
    {
     "name": "stdout",
     "output_type": "stream",
     "text": [
      "[234]\ttrain-mlogloss:0.05175\teval-mlogloss:1.11196\n"
     ]
    },
    {
     "name": "stderr",
     "output_type": "stream",
     "text": []
    },
    {
     "name": "stdout",
     "output_type": "stream",
     "text": [
      "[235]\ttrain-mlogloss:0.05167\teval-mlogloss:1.11331\n"
     ]
    },
    {
     "name": "stderr",
     "output_type": "stream",
     "text": []
    },
    {
     "name": "stdout",
     "output_type": "stream",
     "text": [
      "[236]\ttrain-mlogloss:0.05164\teval-mlogloss:1.11438\n"
     ]
    },
    {
     "name": "stderr",
     "output_type": "stream",
     "text": []
    },
    {
     "name": "stdout",
     "output_type": "stream",
     "text": [
      "[237]\ttrain-mlogloss:0.05158\teval-mlogloss:1.11519\n"
     ]
    },
    {
     "name": "stderr",
     "output_type": "stream",
     "text": []
    },
    {
     "name": "stdout",
     "output_type": "stream",
     "text": [
      "[238]\ttrain-mlogloss:0.05149\teval-mlogloss:1.11626\n"
     ]
    },
    {
     "name": "stderr",
     "output_type": "stream",
     "text": []
    },
    {
     "name": "stdout",
     "output_type": "stream",
     "text": [
      "[239]\ttrain-mlogloss:0.05141\teval-mlogloss:1.11794\n"
     ]
    },
    {
     "name": "stderr",
     "output_type": "stream",
     "text": []
    },
    {
     "name": "stdout",
     "output_type": "stream",
     "text": [
      "[240]\ttrain-mlogloss:0.05135\teval-mlogloss:1.11880\n"
     ]
    },
    {
     "name": "stderr",
     "output_type": "stream",
     "text": []
    },
    {
     "name": "stdout",
     "output_type": "stream",
     "text": [
      "[241]\ttrain-mlogloss:0.05128\teval-mlogloss:1.12048\n"
     ]
    },
    {
     "name": "stderr",
     "output_type": "stream",
     "text": []
    },
    {
     "name": "stdout",
     "output_type": "stream",
     "text": [
      "[242]\ttrain-mlogloss:0.05121\teval-mlogloss:1.12108\n"
     ]
    },
    {
     "name": "stderr",
     "output_type": "stream",
     "text": []
    },
    {
     "name": "stdout",
     "output_type": "stream",
     "text": [
      "[243]\ttrain-mlogloss:0.05115\teval-mlogloss:1.12264\n"
     ]
    },
    {
     "name": "stderr",
     "output_type": "stream",
     "text": []
    },
    {
     "name": "stdout",
     "output_type": "stream",
     "text": [
      "[244]\ttrain-mlogloss:0.05110\teval-mlogloss:1.12336\n"
     ]
    },
    {
     "name": "stderr",
     "output_type": "stream",
     "text": []
    },
    {
     "name": "stdout",
     "output_type": "stream",
     "text": [
      "[245]\ttrain-mlogloss:0.05102\teval-mlogloss:1.12457\n"
     ]
    },
    {
     "name": "stderr",
     "output_type": "stream",
     "text": []
    },
    {
     "name": "stdout",
     "output_type": "stream",
     "text": [
      "[246]\ttrain-mlogloss:0.05091\teval-mlogloss:1.12712\n"
     ]
    },
    {
     "name": "stderr",
     "output_type": "stream",
     "text": []
    },
    {
     "name": "stdout",
     "output_type": "stream",
     "text": [
      "[247]\ttrain-mlogloss:0.05083\teval-mlogloss:1.12886\n"
     ]
    },
    {
     "name": "stderr",
     "output_type": "stream",
     "text": []
    },
    {
     "name": "stdout",
     "output_type": "stream",
     "text": [
      "[248]\ttrain-mlogloss:0.05079\teval-mlogloss:1.12893\n"
     ]
    },
    {
     "name": "stderr",
     "output_type": "stream",
     "text": []
    },
    {
     "name": "stdout",
     "output_type": "stream",
     "text": [
      "[249]\ttrain-mlogloss:0.05074\teval-mlogloss:1.12967\n"
     ]
    },
    {
     "name": "stderr",
     "output_type": "stream",
     "text": [
      "c:\\Users\\abhis\\Downloads\\Documents\\Learner Engagement Project\\venv\\Lib\\site-packages\\xgboost\\core.py:158: UserWarning: [02:50:46] WARNING: C:\\buildkite-agent\\builds\\buildkite-windows-cpu-autoscaling-group-i-08cbc0333d8d4aae1-1\\xgboost\\xgboost-ci-windows\\src\\c_api\\c_api.cc:1374: Saving model in the UBJSON format as default.  You can use file extension: `json`, `ubj` or `deprecated` to choose between formats.\n",
      "  warnings.warn(smsg, UserWarning)\n",
      "                                                                       \n",
      "Final Training Engagement:   0%|          | 0/500 [1:53:00<?, ?round/s]         "
     ]
    },
    {
     "name": "stdout",
     "output_type": "stream",
     "text": [
      "Checkpoint saved at iteration 250\n",
      "[250]\ttrain-mlogloss:0.05066\teval-mlogloss:1.13088\n"
     ]
    },
    {
     "name": "stderr",
     "output_type": "stream",
     "text": []
    },
    {
     "name": "stdout",
     "output_type": "stream",
     "text": [
      "[251]\ttrain-mlogloss:0.05062\teval-mlogloss:1.13142\n"
     ]
    },
    {
     "name": "stderr",
     "output_type": "stream",
     "text": []
    },
    {
     "name": "stdout",
     "output_type": "stream",
     "text": [
      "[252]\ttrain-mlogloss:0.05055\teval-mlogloss:1.13286\n"
     ]
    },
    {
     "name": "stderr",
     "output_type": "stream",
     "text": []
    },
    {
     "name": "stdout",
     "output_type": "stream",
     "text": [
      "[253]\ttrain-mlogloss:0.05049\teval-mlogloss:1.13311\n"
     ]
    },
    {
     "name": "stderr",
     "output_type": "stream",
     "text": []
    },
    {
     "name": "stdout",
     "output_type": "stream",
     "text": [
      "[254]\ttrain-mlogloss:0.05044\teval-mlogloss:1.13384\n"
     ]
    },
    {
     "name": "stderr",
     "output_type": "stream",
     "text": []
    },
    {
     "name": "stdout",
     "output_type": "stream",
     "text": [
      "[255]\ttrain-mlogloss:0.05040\teval-mlogloss:1.13471\n"
     ]
    },
    {
     "name": "stderr",
     "output_type": "stream",
     "text": []
    },
    {
     "name": "stdout",
     "output_type": "stream",
     "text": [
      "[256]\ttrain-mlogloss:0.05032\teval-mlogloss:1.13608\n"
     ]
    },
    {
     "name": "stderr",
     "output_type": "stream",
     "text": []
    },
    {
     "name": "stdout",
     "output_type": "stream",
     "text": [
      "[257]\ttrain-mlogloss:0.05023\teval-mlogloss:1.13745\n"
     ]
    },
    {
     "name": "stderr",
     "output_type": "stream",
     "text": []
    },
    {
     "name": "stdout",
     "output_type": "stream",
     "text": [
      "[258]\ttrain-mlogloss:0.05017\teval-mlogloss:1.13898\n"
     ]
    },
    {
     "name": "stderr",
     "output_type": "stream",
     "text": []
    },
    {
     "name": "stdout",
     "output_type": "stream",
     "text": [
      "[259]\ttrain-mlogloss:0.05010\teval-mlogloss:1.13970\n"
     ]
    },
    {
     "name": "stderr",
     "output_type": "stream",
     "text": []
    },
    {
     "name": "stdout",
     "output_type": "stream",
     "text": [
      "[260]\ttrain-mlogloss:0.05003\teval-mlogloss:1.14077\n"
     ]
    },
    {
     "name": "stderr",
     "output_type": "stream",
     "text": []
    },
    {
     "name": "stdout",
     "output_type": "stream",
     "text": [
      "[261]\ttrain-mlogloss:0.05000\teval-mlogloss:1.14144\n"
     ]
    },
    {
     "name": "stderr",
     "output_type": "stream",
     "text": []
    },
    {
     "name": "stdout",
     "output_type": "stream",
     "text": [
      "[262]\ttrain-mlogloss:0.04992\teval-mlogloss:1.14292\n"
     ]
    },
    {
     "name": "stderr",
     "output_type": "stream",
     "text": []
    },
    {
     "name": "stdout",
     "output_type": "stream",
     "text": [
      "[263]\ttrain-mlogloss:0.04985\teval-mlogloss:1.14393\n"
     ]
    },
    {
     "name": "stderr",
     "output_type": "stream",
     "text": []
    },
    {
     "name": "stdout",
     "output_type": "stream",
     "text": [
      "[264]\ttrain-mlogloss:0.04979\teval-mlogloss:1.14475\n"
     ]
    },
    {
     "name": "stderr",
     "output_type": "stream",
     "text": []
    },
    {
     "name": "stdout",
     "output_type": "stream",
     "text": [
      "[265]\ttrain-mlogloss:0.04975\teval-mlogloss:1.14549\n"
     ]
    },
    {
     "name": "stderr",
     "output_type": "stream",
     "text": []
    },
    {
     "name": "stdout",
     "output_type": "stream",
     "text": [
      "[266]\ttrain-mlogloss:0.04972\teval-mlogloss:1.14560\n"
     ]
    },
    {
     "name": "stderr",
     "output_type": "stream",
     "text": []
    },
    {
     "name": "stdout",
     "output_type": "stream",
     "text": [
      "[267]\ttrain-mlogloss:0.04965\teval-mlogloss:1.14627\n"
     ]
    },
    {
     "name": "stderr",
     "output_type": "stream",
     "text": []
    },
    {
     "name": "stdout",
     "output_type": "stream",
     "text": [
      "[268]\ttrain-mlogloss:0.04959\teval-mlogloss:1.14831\n"
     ]
    },
    {
     "name": "stderr",
     "output_type": "stream",
     "text": []
    },
    {
     "name": "stdout",
     "output_type": "stream",
     "text": [
      "[269]\ttrain-mlogloss:0.04954\teval-mlogloss:1.14970\n"
     ]
    },
    {
     "name": "stderr",
     "output_type": "stream",
     "text": []
    },
    {
     "name": "stdout",
     "output_type": "stream",
     "text": [
      "[270]\ttrain-mlogloss:0.04951\teval-mlogloss:1.15021\n"
     ]
    },
    {
     "name": "stderr",
     "output_type": "stream",
     "text": []
    },
    {
     "name": "stdout",
     "output_type": "stream",
     "text": [
      "[271]\ttrain-mlogloss:0.04947\teval-mlogloss:1.15085\n"
     ]
    },
    {
     "name": "stderr",
     "output_type": "stream",
     "text": []
    },
    {
     "name": "stdout",
     "output_type": "stream",
     "text": [
      "[272]\ttrain-mlogloss:0.04941\teval-mlogloss:1.15238\n"
     ]
    },
    {
     "name": "stderr",
     "output_type": "stream",
     "text": []
    },
    {
     "name": "stdout",
     "output_type": "stream",
     "text": [
      "[273]\ttrain-mlogloss:0.04935\teval-mlogloss:1.15418\n"
     ]
    },
    {
     "name": "stderr",
     "output_type": "stream",
     "text": []
    },
    {
     "name": "stdout",
     "output_type": "stream",
     "text": [
      "[274]\ttrain-mlogloss:0.04931\teval-mlogloss:1.15504\n"
     ]
    },
    {
     "name": "stderr",
     "output_type": "stream",
     "text": []
    },
    {
     "name": "stdout",
     "output_type": "stream",
     "text": [
      "[275]\ttrain-mlogloss:0.04924\teval-mlogloss:1.15613\n"
     ]
    },
    {
     "name": "stderr",
     "output_type": "stream",
     "text": []
    },
    {
     "name": "stdout",
     "output_type": "stream",
     "text": [
      "[276]\ttrain-mlogloss:0.04919\teval-mlogloss:1.15786\n"
     ]
    },
    {
     "name": "stderr",
     "output_type": "stream",
     "text": []
    },
    {
     "name": "stdout",
     "output_type": "stream",
     "text": [
      "[277]\ttrain-mlogloss:0.04915\teval-mlogloss:1.15886\n"
     ]
    },
    {
     "name": "stderr",
     "output_type": "stream",
     "text": []
    },
    {
     "name": "stdout",
     "output_type": "stream",
     "text": [
      "[278]\ttrain-mlogloss:0.04911\teval-mlogloss:1.15998\n"
     ]
    },
    {
     "name": "stderr",
     "output_type": "stream",
     "text": []
    },
    {
     "name": "stdout",
     "output_type": "stream",
     "text": [
      "[279]\ttrain-mlogloss:0.04905\teval-mlogloss:1.16124\n"
     ]
    },
    {
     "name": "stderr",
     "output_type": "stream",
     "text": []
    },
    {
     "name": "stdout",
     "output_type": "stream",
     "text": [
      "[280]\ttrain-mlogloss:0.04900\teval-mlogloss:1.16206\n"
     ]
    },
    {
     "name": "stderr",
     "output_type": "stream",
     "text": []
    },
    {
     "name": "stdout",
     "output_type": "stream",
     "text": [
      "[281]\ttrain-mlogloss:0.04894\teval-mlogloss:1.16335\n"
     ]
    },
    {
     "name": "stderr",
     "output_type": "stream",
     "text": []
    },
    {
     "name": "stdout",
     "output_type": "stream",
     "text": [
      "[282]\ttrain-mlogloss:0.04889\teval-mlogloss:1.16405\n"
     ]
    },
    {
     "name": "stderr",
     "output_type": "stream",
     "text": []
    },
    {
     "name": "stdout",
     "output_type": "stream",
     "text": [
      "[283]\ttrain-mlogloss:0.04884\teval-mlogloss:1.16538\n"
     ]
    },
    {
     "name": "stderr",
     "output_type": "stream",
     "text": []
    },
    {
     "name": "stdout",
     "output_type": "stream",
     "text": [
      "[284]\ttrain-mlogloss:0.04881\teval-mlogloss:1.16618\n"
     ]
    },
    {
     "name": "stderr",
     "output_type": "stream",
     "text": []
    },
    {
     "name": "stdout",
     "output_type": "stream",
     "text": [
      "[285]\ttrain-mlogloss:0.04877\teval-mlogloss:1.16790\n"
     ]
    },
    {
     "name": "stderr",
     "output_type": "stream",
     "text": []
    },
    {
     "name": "stdout",
     "output_type": "stream",
     "text": [
      "[286]\ttrain-mlogloss:0.04872\teval-mlogloss:1.16845\n"
     ]
    },
    {
     "name": "stderr",
     "output_type": "stream",
     "text": []
    },
    {
     "name": "stdout",
     "output_type": "stream",
     "text": [
      "[287]\ttrain-mlogloss:0.04868\teval-mlogloss:1.16945\n"
     ]
    },
    {
     "name": "stderr",
     "output_type": "stream",
     "text": []
    },
    {
     "name": "stdout",
     "output_type": "stream",
     "text": [
      "[288]\ttrain-mlogloss:0.04864\teval-mlogloss:1.17023\n"
     ]
    },
    {
     "name": "stderr",
     "output_type": "stream",
     "text": []
    },
    {
     "name": "stdout",
     "output_type": "stream",
     "text": [
      "[289]\ttrain-mlogloss:0.04861\teval-mlogloss:1.17090\n"
     ]
    },
    {
     "name": "stderr",
     "output_type": "stream",
     "text": []
    },
    {
     "name": "stdout",
     "output_type": "stream",
     "text": [
      "[290]\ttrain-mlogloss:0.04857\teval-mlogloss:1.17126\n"
     ]
    },
    {
     "name": "stderr",
     "output_type": "stream",
     "text": []
    },
    {
     "name": "stdout",
     "output_type": "stream",
     "text": [
      "[291]\ttrain-mlogloss:0.04853\teval-mlogloss:1.17250\n"
     ]
    },
    {
     "name": "stderr",
     "output_type": "stream",
     "text": []
    },
    {
     "name": "stdout",
     "output_type": "stream",
     "text": [
      "[292]\ttrain-mlogloss:0.04849\teval-mlogloss:1.17357\n"
     ]
    },
    {
     "name": "stderr",
     "output_type": "stream",
     "text": []
    },
    {
     "name": "stdout",
     "output_type": "stream",
     "text": [
      "[293]\ttrain-mlogloss:0.04845\teval-mlogloss:1.17515\n"
     ]
    },
    {
     "name": "stderr",
     "output_type": "stream",
     "text": []
    },
    {
     "name": "stdout",
     "output_type": "stream",
     "text": [
      "[294]\ttrain-mlogloss:0.04840\teval-mlogloss:1.17609\n"
     ]
    },
    {
     "name": "stderr",
     "output_type": "stream",
     "text": []
    },
    {
     "name": "stdout",
     "output_type": "stream",
     "text": [
      "[295]\ttrain-mlogloss:0.04837\teval-mlogloss:1.17669\n"
     ]
    },
    {
     "name": "stderr",
     "output_type": "stream",
     "text": []
    },
    {
     "name": "stdout",
     "output_type": "stream",
     "text": [
      "[296]\ttrain-mlogloss:0.04835\teval-mlogloss:1.17670\n"
     ]
    },
    {
     "name": "stderr",
     "output_type": "stream",
     "text": []
    },
    {
     "name": "stdout",
     "output_type": "stream",
     "text": [
      "[297]\ttrain-mlogloss:0.04831\teval-mlogloss:1.17764\n"
     ]
    },
    {
     "name": "stderr",
     "output_type": "stream",
     "text": []
    },
    {
     "name": "stdout",
     "output_type": "stream",
     "text": [
      "[298]\ttrain-mlogloss:0.04827\teval-mlogloss:1.17913\n"
     ]
    },
    {
     "name": "stderr",
     "output_type": "stream",
     "text": []
    },
    {
     "name": "stdout",
     "output_type": "stream",
     "text": [
      "[299]\ttrain-mlogloss:0.04824\teval-mlogloss:1.17974\n"
     ]
    },
    {
     "name": "stderr",
     "output_type": "stream",
     "text": [
      "c:\\Users\\abhis\\Downloads\\Documents\\Learner Engagement Project\\venv\\Lib\\site-packages\\xgboost\\core.py:158: UserWarning: [02:54:46] WARNING: C:\\buildkite-agent\\builds\\buildkite-windows-cpu-autoscaling-group-i-08cbc0333d8d4aae1-1\\xgboost\\xgboost-ci-windows\\src\\c_api\\c_api.cc:1374: Saving model in the UBJSON format as default.  You can use file extension: `json`, `ubj` or `deprecated` to choose between formats.\n",
      "  warnings.warn(smsg, UserWarning)\n",
      "                                                                       \n",
      "Final Training Engagement:   0%|          | 0/500 [1:56:59<?, ?round/s]         "
     ]
    },
    {
     "name": "stdout",
     "output_type": "stream",
     "text": [
      "Checkpoint saved at iteration 300\n",
      "[300]\ttrain-mlogloss:0.04820\teval-mlogloss:1.18025\n"
     ]
    },
    {
     "name": "stderr",
     "output_type": "stream",
     "text": []
    },
    {
     "name": "stdout",
     "output_type": "stream",
     "text": [
      "[301]\ttrain-mlogloss:0.04817\teval-mlogloss:1.18045\n"
     ]
    },
    {
     "name": "stderr",
     "output_type": "stream",
     "text": []
    },
    {
     "name": "stdout",
     "output_type": "stream",
     "text": [
      "[302]\ttrain-mlogloss:0.04814\teval-mlogloss:1.18149\n"
     ]
    },
    {
     "name": "stderr",
     "output_type": "stream",
     "text": []
    },
    {
     "name": "stdout",
     "output_type": "stream",
     "text": [
      "[303]\ttrain-mlogloss:0.04810\teval-mlogloss:1.18247\n"
     ]
    },
    {
     "name": "stderr",
     "output_type": "stream",
     "text": []
    },
    {
     "name": "stdout",
     "output_type": "stream",
     "text": [
      "[304]\ttrain-mlogloss:0.04806\teval-mlogloss:1.18305\n"
     ]
    },
    {
     "name": "stderr",
     "output_type": "stream",
     "text": []
    },
    {
     "name": "stdout",
     "output_type": "stream",
     "text": [
      "[305]\ttrain-mlogloss:0.04803\teval-mlogloss:1.18444\n"
     ]
    },
    {
     "name": "stderr",
     "output_type": "stream",
     "text": []
    },
    {
     "name": "stdout",
     "output_type": "stream",
     "text": [
      "[306]\ttrain-mlogloss:0.04800\teval-mlogloss:1.18506\n"
     ]
    },
    {
     "name": "stderr",
     "output_type": "stream",
     "text": []
    },
    {
     "name": "stdout",
     "output_type": "stream",
     "text": [
      "[307]\ttrain-mlogloss:0.04796\teval-mlogloss:1.18641\n"
     ]
    },
    {
     "name": "stderr",
     "output_type": "stream",
     "text": []
    },
    {
     "name": "stdout",
     "output_type": "stream",
     "text": [
      "[308]\ttrain-mlogloss:0.04793\teval-mlogloss:1.18688\n"
     ]
    },
    {
     "name": "stderr",
     "output_type": "stream",
     "text": []
    },
    {
     "name": "stdout",
     "output_type": "stream",
     "text": [
      "[309]\ttrain-mlogloss:0.04790\teval-mlogloss:1.18859\n"
     ]
    },
    {
     "name": "stderr",
     "output_type": "stream",
     "text": []
    },
    {
     "name": "stdout",
     "output_type": "stream",
     "text": [
      "[310]\ttrain-mlogloss:0.04787\teval-mlogloss:1.18932\n"
     ]
    },
    {
     "name": "stderr",
     "output_type": "stream",
     "text": []
    },
    {
     "name": "stdout",
     "output_type": "stream",
     "text": [
      "[311]\ttrain-mlogloss:0.04784\teval-mlogloss:1.18997\n"
     ]
    },
    {
     "name": "stderr",
     "output_type": "stream",
     "text": []
    },
    {
     "name": "stdout",
     "output_type": "stream",
     "text": [
      "[312]\ttrain-mlogloss:0.04780\teval-mlogloss:1.19069\n"
     ]
    },
    {
     "name": "stderr",
     "output_type": "stream",
     "text": []
    },
    {
     "name": "stdout",
     "output_type": "stream",
     "text": [
      "[313]\ttrain-mlogloss:0.04776\teval-mlogloss:1.19140\n"
     ]
    },
    {
     "name": "stderr",
     "output_type": "stream",
     "text": []
    },
    {
     "name": "stdout",
     "output_type": "stream",
     "text": [
      "[314]\ttrain-mlogloss:0.04773\teval-mlogloss:1.19218\n"
     ]
    },
    {
     "name": "stderr",
     "output_type": "stream",
     "text": []
    },
    {
     "name": "stdout",
     "output_type": "stream",
     "text": [
      "[315]\ttrain-mlogloss:0.04771\teval-mlogloss:1.19272\n"
     ]
    },
    {
     "name": "stderr",
     "output_type": "stream",
     "text": []
    },
    {
     "name": "stdout",
     "output_type": "stream",
     "text": [
      "[316]\ttrain-mlogloss:0.04768\teval-mlogloss:1.19357\n"
     ]
    },
    {
     "name": "stderr",
     "output_type": "stream",
     "text": []
    },
    {
     "name": "stdout",
     "output_type": "stream",
     "text": [
      "[317]\ttrain-mlogloss:0.04766\teval-mlogloss:1.19460\n"
     ]
    },
    {
     "name": "stderr",
     "output_type": "stream",
     "text": []
    },
    {
     "name": "stdout",
     "output_type": "stream",
     "text": [
      "[318]\ttrain-mlogloss:0.04763\teval-mlogloss:1.19519\n"
     ]
    },
    {
     "name": "stderr",
     "output_type": "stream",
     "text": []
    },
    {
     "name": "stdout",
     "output_type": "stream",
     "text": [
      "[319]\ttrain-mlogloss:0.04761\teval-mlogloss:1.19589\n"
     ]
    },
    {
     "name": "stderr",
     "output_type": "stream",
     "text": []
    },
    {
     "name": "stdout",
     "output_type": "stream",
     "text": [
      "[320]\ttrain-mlogloss:0.04756\teval-mlogloss:1.19780\n"
     ]
    },
    {
     "name": "stderr",
     "output_type": "stream",
     "text": []
    },
    {
     "name": "stdout",
     "output_type": "stream",
     "text": [
      "[321]\ttrain-mlogloss:0.04754\teval-mlogloss:1.19828\n"
     ]
    },
    {
     "name": "stderr",
     "output_type": "stream",
     "text": []
    },
    {
     "name": "stdout",
     "output_type": "stream",
     "text": [
      "[322]\ttrain-mlogloss:0.04751\teval-mlogloss:1.19949\n"
     ]
    },
    {
     "name": "stderr",
     "output_type": "stream",
     "text": []
    },
    {
     "name": "stdout",
     "output_type": "stream",
     "text": [
      "[323]\ttrain-mlogloss:0.04748\teval-mlogloss:1.20013\n"
     ]
    },
    {
     "name": "stderr",
     "output_type": "stream",
     "text": []
    },
    {
     "name": "stdout",
     "output_type": "stream",
     "text": [
      "[324]\ttrain-mlogloss:0.04746\teval-mlogloss:1.20082\n"
     ]
    },
    {
     "name": "stderr",
     "output_type": "stream",
     "text": []
    },
    {
     "name": "stdout",
     "output_type": "stream",
     "text": [
      "[325]\ttrain-mlogloss:0.04744\teval-mlogloss:1.20110\n"
     ]
    },
    {
     "name": "stderr",
     "output_type": "stream",
     "text": []
    },
    {
     "name": "stdout",
     "output_type": "stream",
     "text": [
      "[326]\ttrain-mlogloss:0.04741\teval-mlogloss:1.20208\n"
     ]
    },
    {
     "name": "stderr",
     "output_type": "stream",
     "text": []
    },
    {
     "name": "stdout",
     "output_type": "stream",
     "text": [
      "[327]\ttrain-mlogloss:0.04738\teval-mlogloss:1.20349\n"
     ]
    },
    {
     "name": "stderr",
     "output_type": "stream",
     "text": []
    },
    {
     "name": "stdout",
     "output_type": "stream",
     "text": [
      "[328]\ttrain-mlogloss:0.04734\teval-mlogloss:1.20452\n"
     ]
    },
    {
     "name": "stderr",
     "output_type": "stream",
     "text": []
    },
    {
     "name": "stdout",
     "output_type": "stream",
     "text": [
      "[329]\ttrain-mlogloss:0.04732\teval-mlogloss:1.20592\n"
     ]
    },
    {
     "name": "stderr",
     "output_type": "stream",
     "text": []
    },
    {
     "name": "stdout",
     "output_type": "stream",
     "text": [
      "[330]\ttrain-mlogloss:0.04730\teval-mlogloss:1.20696\n"
     ]
    },
    {
     "name": "stderr",
     "output_type": "stream",
     "text": []
    },
    {
     "name": "stdout",
     "output_type": "stream",
     "text": [
      "[331]\ttrain-mlogloss:0.04728\teval-mlogloss:1.20730\n"
     ]
    },
    {
     "name": "stderr",
     "output_type": "stream",
     "text": []
    },
    {
     "name": "stdout",
     "output_type": "stream",
     "text": [
      "[332]\ttrain-mlogloss:0.04724\teval-mlogloss:1.20838\n"
     ]
    },
    {
     "name": "stderr",
     "output_type": "stream",
     "text": []
    },
    {
     "name": "stdout",
     "output_type": "stream",
     "text": [
      "[333]\ttrain-mlogloss:0.04720\teval-mlogloss:1.20966\n"
     ]
    },
    {
     "name": "stderr",
     "output_type": "stream",
     "text": []
    },
    {
     "name": "stdout",
     "output_type": "stream",
     "text": [
      "[334]\ttrain-mlogloss:0.04718\teval-mlogloss:1.21033\n"
     ]
    },
    {
     "name": "stderr",
     "output_type": "stream",
     "text": []
    },
    {
     "name": "stdout",
     "output_type": "stream",
     "text": [
      "[335]\ttrain-mlogloss:0.04716\teval-mlogloss:1.21179\n"
     ]
    },
    {
     "name": "stderr",
     "output_type": "stream",
     "text": []
    },
    {
     "name": "stdout",
     "output_type": "stream",
     "text": [
      "[336]\ttrain-mlogloss:0.04713\teval-mlogloss:1.21235\n"
     ]
    },
    {
     "name": "stderr",
     "output_type": "stream",
     "text": []
    },
    {
     "name": "stdout",
     "output_type": "stream",
     "text": [
      "[337]\ttrain-mlogloss:0.04710\teval-mlogloss:1.21373\n"
     ]
    },
    {
     "name": "stderr",
     "output_type": "stream",
     "text": []
    },
    {
     "name": "stdout",
     "output_type": "stream",
     "text": [
      "[338]\ttrain-mlogloss:0.04707\teval-mlogloss:1.21488\n"
     ]
    },
    {
     "name": "stderr",
     "output_type": "stream",
     "text": []
    },
    {
     "name": "stdout",
     "output_type": "stream",
     "text": [
      "[339]\ttrain-mlogloss:0.04705\teval-mlogloss:1.21561\n"
     ]
    },
    {
     "name": "stderr",
     "output_type": "stream",
     "text": []
    },
    {
     "name": "stdout",
     "output_type": "stream",
     "text": [
      "[340]\ttrain-mlogloss:0.04704\teval-mlogloss:1.21636\n"
     ]
    },
    {
     "name": "stderr",
     "output_type": "stream",
     "text": []
    },
    {
     "name": "stdout",
     "output_type": "stream",
     "text": [
      "[341]\ttrain-mlogloss:0.04702\teval-mlogloss:1.21710\n"
     ]
    },
    {
     "name": "stderr",
     "output_type": "stream",
     "text": []
    },
    {
     "name": "stdout",
     "output_type": "stream",
     "text": [
      "[342]\ttrain-mlogloss:0.04700\teval-mlogloss:1.21785\n"
     ]
    },
    {
     "name": "stderr",
     "output_type": "stream",
     "text": []
    },
    {
     "name": "stdout",
     "output_type": "stream",
     "text": [
      "[343]\ttrain-mlogloss:0.04698\teval-mlogloss:1.21834\n"
     ]
    },
    {
     "name": "stderr",
     "output_type": "stream",
     "text": []
    },
    {
     "name": "stdout",
     "output_type": "stream",
     "text": [
      "[344]\ttrain-mlogloss:0.04695\teval-mlogloss:1.21924\n"
     ]
    },
    {
     "name": "stderr",
     "output_type": "stream",
     "text": []
    },
    {
     "name": "stdout",
     "output_type": "stream",
     "text": [
      "[345]\ttrain-mlogloss:0.04693\teval-mlogloss:1.21956\n"
     ]
    },
    {
     "name": "stderr",
     "output_type": "stream",
     "text": []
    },
    {
     "name": "stdout",
     "output_type": "stream",
     "text": [
      "[346]\ttrain-mlogloss:0.04690\teval-mlogloss:1.22066\n"
     ]
    },
    {
     "name": "stderr",
     "output_type": "stream",
     "text": []
    },
    {
     "name": "stdout",
     "output_type": "stream",
     "text": [
      "[347]\ttrain-mlogloss:0.04687\teval-mlogloss:1.22167\n"
     ]
    },
    {
     "name": "stderr",
     "output_type": "stream",
     "text": []
    },
    {
     "name": "stdout",
     "output_type": "stream",
     "text": [
      "[348]\ttrain-mlogloss:0.04686\teval-mlogloss:1.22264\n"
     ]
    },
    {
     "name": "stderr",
     "output_type": "stream",
     "text": []
    },
    {
     "name": "stdout",
     "output_type": "stream",
     "text": [
      "[349]\ttrain-mlogloss:0.04684\teval-mlogloss:1.22335\n"
     ]
    },
    {
     "name": "stderr",
     "output_type": "stream",
     "text": [
      "c:\\Users\\abhis\\Downloads\\Documents\\Learner Engagement Project\\venv\\Lib\\site-packages\\xgboost\\core.py:158: UserWarning: [02:58:42] WARNING: C:\\buildkite-agent\\builds\\buildkite-windows-cpu-autoscaling-group-i-08cbc0333d8d4aae1-1\\xgboost\\xgboost-ci-windows\\src\\c_api\\c_api.cc:1374: Saving model in the UBJSON format as default.  You can use file extension: `json`, `ubj` or `deprecated` to choose between formats.\n",
      "  warnings.warn(smsg, UserWarning)\n",
      "                                                                       \n",
      "Final Training Engagement:   0%|          | 0/500 [2:00:56<?, ?round/s]         "
     ]
    },
    {
     "name": "stdout",
     "output_type": "stream",
     "text": [
      "Checkpoint saved at iteration 350\n",
      "[350]\ttrain-mlogloss:0.04683\teval-mlogloss:1.22401\n"
     ]
    },
    {
     "name": "stderr",
     "output_type": "stream",
     "text": []
    },
    {
     "name": "stdout",
     "output_type": "stream",
     "text": [
      "[351]\ttrain-mlogloss:0.04679\teval-mlogloss:1.22493\n"
     ]
    },
    {
     "name": "stderr",
     "output_type": "stream",
     "text": []
    },
    {
     "name": "stdout",
     "output_type": "stream",
     "text": [
      "[352]\ttrain-mlogloss:0.04678\teval-mlogloss:1.22548\n"
     ]
    },
    {
     "name": "stderr",
     "output_type": "stream",
     "text": []
    },
    {
     "name": "stdout",
     "output_type": "stream",
     "text": [
      "[353]\ttrain-mlogloss:0.04676\teval-mlogloss:1.22618\n"
     ]
    },
    {
     "name": "stderr",
     "output_type": "stream",
     "text": []
    },
    {
     "name": "stdout",
     "output_type": "stream",
     "text": [
      "[354]\ttrain-mlogloss:0.04674\teval-mlogloss:1.22697\n"
     ]
    },
    {
     "name": "stderr",
     "output_type": "stream",
     "text": []
    },
    {
     "name": "stdout",
     "output_type": "stream",
     "text": [
      "[355]\ttrain-mlogloss:0.04673\teval-mlogloss:1.22789\n"
     ]
    },
    {
     "name": "stderr",
     "output_type": "stream",
     "text": []
    },
    {
     "name": "stdout",
     "output_type": "stream",
     "text": [
      "[356]\ttrain-mlogloss:0.04670\teval-mlogloss:1.22874\n"
     ]
    },
    {
     "name": "stderr",
     "output_type": "stream",
     "text": []
    },
    {
     "name": "stdout",
     "output_type": "stream",
     "text": [
      "[357]\ttrain-mlogloss:0.04668\teval-mlogloss:1.22941\n"
     ]
    },
    {
     "name": "stderr",
     "output_type": "stream",
     "text": []
    },
    {
     "name": "stdout",
     "output_type": "stream",
     "text": [
      "[358]\ttrain-mlogloss:0.04667\teval-mlogloss:1.23072\n"
     ]
    },
    {
     "name": "stderr",
     "output_type": "stream",
     "text": []
    },
    {
     "name": "stdout",
     "output_type": "stream",
     "text": [
      "[359]\ttrain-mlogloss:0.04663\teval-mlogloss:1.23237\n"
     ]
    },
    {
     "name": "stderr",
     "output_type": "stream",
     "text": []
    },
    {
     "name": "stdout",
     "output_type": "stream",
     "text": [
      "[360]\ttrain-mlogloss:0.04661\teval-mlogloss:1.23283\n"
     ]
    },
    {
     "name": "stderr",
     "output_type": "stream",
     "text": []
    },
    {
     "name": "stdout",
     "output_type": "stream",
     "text": [
      "[361]\ttrain-mlogloss:0.04659\teval-mlogloss:1.23380\n"
     ]
    },
    {
     "name": "stderr",
     "output_type": "stream",
     "text": []
    },
    {
     "name": "stdout",
     "output_type": "stream",
     "text": [
      "[362]\ttrain-mlogloss:0.04657\teval-mlogloss:1.23466\n"
     ]
    },
    {
     "name": "stderr",
     "output_type": "stream",
     "text": []
    },
    {
     "name": "stdout",
     "output_type": "stream",
     "text": [
      "[363]\ttrain-mlogloss:0.04655\teval-mlogloss:1.23493\n"
     ]
    },
    {
     "name": "stderr",
     "output_type": "stream",
     "text": []
    },
    {
     "name": "stdout",
     "output_type": "stream",
     "text": [
      "[364]\ttrain-mlogloss:0.04654\teval-mlogloss:1.23571\n"
     ]
    },
    {
     "name": "stderr",
     "output_type": "stream",
     "text": []
    },
    {
     "name": "stdout",
     "output_type": "stream",
     "text": [
      "[365]\ttrain-mlogloss:0.04652\teval-mlogloss:1.23664\n"
     ]
    },
    {
     "name": "stderr",
     "output_type": "stream",
     "text": []
    },
    {
     "name": "stdout",
     "output_type": "stream",
     "text": [
      "[366]\ttrain-mlogloss:0.04649\teval-mlogloss:1.23758\n"
     ]
    },
    {
     "name": "stderr",
     "output_type": "stream",
     "text": []
    },
    {
     "name": "stdout",
     "output_type": "stream",
     "text": [
      "[367]\ttrain-mlogloss:0.04647\teval-mlogloss:1.23776\n"
     ]
    },
    {
     "name": "stderr",
     "output_type": "stream",
     "text": []
    },
    {
     "name": "stdout",
     "output_type": "stream",
     "text": [
      "[368]\ttrain-mlogloss:0.04645\teval-mlogloss:1.23839\n"
     ]
    },
    {
     "name": "stderr",
     "output_type": "stream",
     "text": []
    },
    {
     "name": "stdout",
     "output_type": "stream",
     "text": [
      "[369]\ttrain-mlogloss:0.04643\teval-mlogloss:1.23970\n"
     ]
    },
    {
     "name": "stderr",
     "output_type": "stream",
     "text": []
    },
    {
     "name": "stdout",
     "output_type": "stream",
     "text": [
      "[370]\ttrain-mlogloss:0.04641\teval-mlogloss:1.24083\n"
     ]
    },
    {
     "name": "stderr",
     "output_type": "stream",
     "text": []
    },
    {
     "name": "stdout",
     "output_type": "stream",
     "text": [
      "[371]\ttrain-mlogloss:0.04639\teval-mlogloss:1.24165\n"
     ]
    },
    {
     "name": "stderr",
     "output_type": "stream",
     "text": []
    },
    {
     "name": "stdout",
     "output_type": "stream",
     "text": [
      "[372]\ttrain-mlogloss:0.04637\teval-mlogloss:1.24181\n"
     ]
    },
    {
     "name": "stderr",
     "output_type": "stream",
     "text": []
    },
    {
     "name": "stdout",
     "output_type": "stream",
     "text": [
      "[373]\ttrain-mlogloss:0.04635\teval-mlogloss:1.24284\n"
     ]
    },
    {
     "name": "stderr",
     "output_type": "stream",
     "text": []
    },
    {
     "name": "stdout",
     "output_type": "stream",
     "text": [
      "[374]\ttrain-mlogloss:0.04633\teval-mlogloss:1.24351\n"
     ]
    },
    {
     "name": "stderr",
     "output_type": "stream",
     "text": []
    },
    {
     "name": "stdout",
     "output_type": "stream",
     "text": [
      "[375]\ttrain-mlogloss:0.04631\teval-mlogloss:1.24387\n"
     ]
    },
    {
     "name": "stderr",
     "output_type": "stream",
     "text": []
    },
    {
     "name": "stdout",
     "output_type": "stream",
     "text": [
      "[376]\ttrain-mlogloss:0.04630\teval-mlogloss:1.24415\n"
     ]
    },
    {
     "name": "stderr",
     "output_type": "stream",
     "text": []
    },
    {
     "name": "stdout",
     "output_type": "stream",
     "text": [
      "[377]\ttrain-mlogloss:0.04629\teval-mlogloss:1.24415\n"
     ]
    },
    {
     "name": "stderr",
     "output_type": "stream",
     "text": []
    },
    {
     "name": "stdout",
     "output_type": "stream",
     "text": [
      "[378]\ttrain-mlogloss:0.04627\teval-mlogloss:1.24490\n"
     ]
    },
    {
     "name": "stderr",
     "output_type": "stream",
     "text": []
    },
    {
     "name": "stdout",
     "output_type": "stream",
     "text": [
      "[379]\ttrain-mlogloss:0.04626\teval-mlogloss:1.24563\n"
     ]
    },
    {
     "name": "stderr",
     "output_type": "stream",
     "text": []
    },
    {
     "name": "stdout",
     "output_type": "stream",
     "text": [
      "[380]\ttrain-mlogloss:0.04624\teval-mlogloss:1.24590\n"
     ]
    },
    {
     "name": "stderr",
     "output_type": "stream",
     "text": []
    },
    {
     "name": "stdout",
     "output_type": "stream",
     "text": [
      "[381]\ttrain-mlogloss:0.04623\teval-mlogloss:1.24613\n"
     ]
    },
    {
     "name": "stderr",
     "output_type": "stream",
     "text": []
    },
    {
     "name": "stdout",
     "output_type": "stream",
     "text": [
      "[382]\ttrain-mlogloss:0.04621\teval-mlogloss:1.24702\n"
     ]
    },
    {
     "name": "stderr",
     "output_type": "stream",
     "text": []
    },
    {
     "name": "stdout",
     "output_type": "stream",
     "text": [
      "[383]\ttrain-mlogloss:0.04619\teval-mlogloss:1.24775\n"
     ]
    },
    {
     "name": "stderr",
     "output_type": "stream",
     "text": []
    },
    {
     "name": "stdout",
     "output_type": "stream",
     "text": [
      "[384]\ttrain-mlogloss:0.04618\teval-mlogloss:1.24797\n"
     ]
    },
    {
     "name": "stderr",
     "output_type": "stream",
     "text": []
    },
    {
     "name": "stdout",
     "output_type": "stream",
     "text": [
      "[385]\ttrain-mlogloss:0.04617\teval-mlogloss:1.24848\n"
     ]
    },
    {
     "name": "stderr",
     "output_type": "stream",
     "text": []
    },
    {
     "name": "stdout",
     "output_type": "stream",
     "text": [
      "[386]\ttrain-mlogloss:0.04616\teval-mlogloss:1.24894\n"
     ]
    },
    {
     "name": "stderr",
     "output_type": "stream",
     "text": []
    },
    {
     "name": "stdout",
     "output_type": "stream",
     "text": [
      "[387]\ttrain-mlogloss:0.04614\teval-mlogloss:1.24973\n"
     ]
    },
    {
     "name": "stderr",
     "output_type": "stream",
     "text": []
    },
    {
     "name": "stdout",
     "output_type": "stream",
     "text": [
      "[388]\ttrain-mlogloss:0.04612\teval-mlogloss:1.25067\n"
     ]
    },
    {
     "name": "stderr",
     "output_type": "stream",
     "text": []
    },
    {
     "name": "stdout",
     "output_type": "stream",
     "text": [
      "[389]\ttrain-mlogloss:0.04609\teval-mlogloss:1.25175\n"
     ]
    },
    {
     "name": "stderr",
     "output_type": "stream",
     "text": []
    },
    {
     "name": "stdout",
     "output_type": "stream",
     "text": [
      "[390]\ttrain-mlogloss:0.04607\teval-mlogloss:1.25277\n"
     ]
    },
    {
     "name": "stderr",
     "output_type": "stream",
     "text": []
    },
    {
     "name": "stdout",
     "output_type": "stream",
     "text": [
      "[391]\ttrain-mlogloss:0.04605\teval-mlogloss:1.25339\n"
     ]
    },
    {
     "name": "stderr",
     "output_type": "stream",
     "text": []
    },
    {
     "name": "stdout",
     "output_type": "stream",
     "text": [
      "[392]\ttrain-mlogloss:0.04604\teval-mlogloss:1.25355\n"
     ]
    },
    {
     "name": "stderr",
     "output_type": "stream",
     "text": []
    },
    {
     "name": "stdout",
     "output_type": "stream",
     "text": [
      "[393]\ttrain-mlogloss:0.04603\teval-mlogloss:1.25438\n"
     ]
    },
    {
     "name": "stderr",
     "output_type": "stream",
     "text": []
    },
    {
     "name": "stdout",
     "output_type": "stream",
     "text": [
      "[394]\ttrain-mlogloss:0.04602\teval-mlogloss:1.25512\n"
     ]
    },
    {
     "name": "stderr",
     "output_type": "stream",
     "text": []
    },
    {
     "name": "stdout",
     "output_type": "stream",
     "text": [
      "[395]\ttrain-mlogloss:0.04601\teval-mlogloss:1.25601\n"
     ]
    },
    {
     "name": "stderr",
     "output_type": "stream",
     "text": []
    },
    {
     "name": "stdout",
     "output_type": "stream",
     "text": [
      "[396]\ttrain-mlogloss:0.04599\teval-mlogloss:1.25668\n"
     ]
    },
    {
     "name": "stderr",
     "output_type": "stream",
     "text": []
    },
    {
     "name": "stdout",
     "output_type": "stream",
     "text": [
      "[397]\ttrain-mlogloss:0.04597\teval-mlogloss:1.25743\n"
     ]
    },
    {
     "name": "stderr",
     "output_type": "stream",
     "text": []
    },
    {
     "name": "stdout",
     "output_type": "stream",
     "text": [
      "[398]\ttrain-mlogloss:0.04595\teval-mlogloss:1.25784\n"
     ]
    },
    {
     "name": "stderr",
     "output_type": "stream",
     "text": []
    },
    {
     "name": "stdout",
     "output_type": "stream",
     "text": [
      "[399]\ttrain-mlogloss:0.04594\teval-mlogloss:1.25822\n"
     ]
    },
    {
     "name": "stderr",
     "output_type": "stream",
     "text": [
      "c:\\Users\\abhis\\Downloads\\Documents\\Learner Engagement Project\\venv\\Lib\\site-packages\\xgboost\\core.py:158: UserWarning: [03:02:39] WARNING: C:\\buildkite-agent\\builds\\buildkite-windows-cpu-autoscaling-group-i-08cbc0333d8d4aae1-1\\xgboost\\xgboost-ci-windows\\src\\c_api\\c_api.cc:1374: Saving model in the UBJSON format as default.  You can use file extension: `json`, `ubj` or `deprecated` to choose between formats.\n",
      "  warnings.warn(smsg, UserWarning)\n",
      "                                                                       \n",
      "Final Training Engagement:   0%|          | 0/500 [2:04:53<?, ?round/s]         "
     ]
    },
    {
     "name": "stdout",
     "output_type": "stream",
     "text": [
      "Checkpoint saved at iteration 400\n",
      "[400]\ttrain-mlogloss:0.04593\teval-mlogloss:1.25926\n"
     ]
    },
    {
     "name": "stderr",
     "output_type": "stream",
     "text": []
    },
    {
     "name": "stdout",
     "output_type": "stream",
     "text": [
      "[401]\ttrain-mlogloss:0.04591\teval-mlogloss:1.25975\n"
     ]
    },
    {
     "name": "stderr",
     "output_type": "stream",
     "text": []
    },
    {
     "name": "stdout",
     "output_type": "stream",
     "text": [
      "[402]\ttrain-mlogloss:0.04590\teval-mlogloss:1.26036\n"
     ]
    },
    {
     "name": "stderr",
     "output_type": "stream",
     "text": []
    },
    {
     "name": "stdout",
     "output_type": "stream",
     "text": [
      "[403]\ttrain-mlogloss:0.04588\teval-mlogloss:1.26103\n"
     ]
    },
    {
     "name": "stderr",
     "output_type": "stream",
     "text": []
    },
    {
     "name": "stdout",
     "output_type": "stream",
     "text": [
      "[404]\ttrain-mlogloss:0.04587\teval-mlogloss:1.26161\n"
     ]
    },
    {
     "name": "stderr",
     "output_type": "stream",
     "text": []
    },
    {
     "name": "stdout",
     "output_type": "stream",
     "text": [
      "[405]\ttrain-mlogloss:0.04586\teval-mlogloss:1.26207\n"
     ]
    },
    {
     "name": "stderr",
     "output_type": "stream",
     "text": []
    },
    {
     "name": "stdout",
     "output_type": "stream",
     "text": [
      "[406]\ttrain-mlogloss:0.04585\teval-mlogloss:1.26294\n"
     ]
    },
    {
     "name": "stderr",
     "output_type": "stream",
     "text": []
    },
    {
     "name": "stdout",
     "output_type": "stream",
     "text": [
      "[407]\ttrain-mlogloss:0.04584\teval-mlogloss:1.26373\n"
     ]
    },
    {
     "name": "stderr",
     "output_type": "stream",
     "text": []
    },
    {
     "name": "stdout",
     "output_type": "stream",
     "text": [
      "[408]\ttrain-mlogloss:0.04582\teval-mlogloss:1.26421\n"
     ]
    },
    {
     "name": "stderr",
     "output_type": "stream",
     "text": []
    },
    {
     "name": "stdout",
     "output_type": "stream",
     "text": [
      "[409]\ttrain-mlogloss:0.04580\teval-mlogloss:1.26527\n"
     ]
    },
    {
     "name": "stderr",
     "output_type": "stream",
     "text": []
    },
    {
     "name": "stdout",
     "output_type": "stream",
     "text": [
      "[410]\ttrain-mlogloss:0.04579\teval-mlogloss:1.26561\n"
     ]
    },
    {
     "name": "stderr",
     "output_type": "stream",
     "text": []
    },
    {
     "name": "stdout",
     "output_type": "stream",
     "text": [
      "[411]\ttrain-mlogloss:0.04578\teval-mlogloss:1.26604\n"
     ]
    },
    {
     "name": "stderr",
     "output_type": "stream",
     "text": []
    },
    {
     "name": "stdout",
     "output_type": "stream",
     "text": [
      "[412]\ttrain-mlogloss:0.04577\teval-mlogloss:1.26630\n"
     ]
    },
    {
     "name": "stderr",
     "output_type": "stream",
     "text": []
    },
    {
     "name": "stdout",
     "output_type": "stream",
     "text": [
      "[413]\ttrain-mlogloss:0.04576\teval-mlogloss:1.26683\n"
     ]
    },
    {
     "name": "stderr",
     "output_type": "stream",
     "text": []
    },
    {
     "name": "stdout",
     "output_type": "stream",
     "text": [
      "[414]\ttrain-mlogloss:0.04574\teval-mlogloss:1.26734\n"
     ]
    },
    {
     "name": "stderr",
     "output_type": "stream",
     "text": []
    },
    {
     "name": "stdout",
     "output_type": "stream",
     "text": [
      "[415]\ttrain-mlogloss:0.04573\teval-mlogloss:1.26798\n"
     ]
    },
    {
     "name": "stderr",
     "output_type": "stream",
     "text": []
    },
    {
     "name": "stdout",
     "output_type": "stream",
     "text": [
      "[416]\ttrain-mlogloss:0.04572\teval-mlogloss:1.26840\n"
     ]
    },
    {
     "name": "stderr",
     "output_type": "stream",
     "text": []
    },
    {
     "name": "stdout",
     "output_type": "stream",
     "text": [
      "[417]\ttrain-mlogloss:0.04570\teval-mlogloss:1.26933\n"
     ]
    },
    {
     "name": "stderr",
     "output_type": "stream",
     "text": []
    },
    {
     "name": "stdout",
     "output_type": "stream",
     "text": [
      "[418]\ttrain-mlogloss:0.04569\teval-mlogloss:1.26983\n"
     ]
    },
    {
     "name": "stderr",
     "output_type": "stream",
     "text": []
    },
    {
     "name": "stdout",
     "output_type": "stream",
     "text": [
      "[419]\ttrain-mlogloss:0.04568\teval-mlogloss:1.27031\n"
     ]
    },
    {
     "name": "stderr",
     "output_type": "stream",
     "text": []
    },
    {
     "name": "stdout",
     "output_type": "stream",
     "text": [
      "[420]\ttrain-mlogloss:0.04567\teval-mlogloss:1.27092\n"
     ]
    },
    {
     "name": "stderr",
     "output_type": "stream",
     "text": []
    },
    {
     "name": "stdout",
     "output_type": "stream",
     "text": [
      "[421]\ttrain-mlogloss:0.04566\teval-mlogloss:1.27131\n"
     ]
    },
    {
     "name": "stderr",
     "output_type": "stream",
     "text": []
    },
    {
     "name": "stdout",
     "output_type": "stream",
     "text": [
      "[422]\ttrain-mlogloss:0.04565\teval-mlogloss:1.27169\n"
     ]
    },
    {
     "name": "stderr",
     "output_type": "stream",
     "text": []
    },
    {
     "name": "stdout",
     "output_type": "stream",
     "text": [
      "[423]\ttrain-mlogloss:0.04564\teval-mlogloss:1.27227\n"
     ]
    },
    {
     "name": "stderr",
     "output_type": "stream",
     "text": []
    },
    {
     "name": "stdout",
     "output_type": "stream",
     "text": [
      "[424]\ttrain-mlogloss:0.04563\teval-mlogloss:1.27281\n"
     ]
    },
    {
     "name": "stderr",
     "output_type": "stream",
     "text": []
    },
    {
     "name": "stdout",
     "output_type": "stream",
     "text": [
      "[425]\ttrain-mlogloss:0.04562\teval-mlogloss:1.27335\n"
     ]
    },
    {
     "name": "stderr",
     "output_type": "stream",
     "text": []
    },
    {
     "name": "stdout",
     "output_type": "stream",
     "text": [
      "[426]\ttrain-mlogloss:0.04560\teval-mlogloss:1.27402\n"
     ]
    },
    {
     "name": "stderr",
     "output_type": "stream",
     "text": []
    },
    {
     "name": "stdout",
     "output_type": "stream",
     "text": [
      "[427]\ttrain-mlogloss:0.04559\teval-mlogloss:1.27466\n"
     ]
    },
    {
     "name": "stderr",
     "output_type": "stream",
     "text": []
    },
    {
     "name": "stdout",
     "output_type": "stream",
     "text": [
      "[428]\ttrain-mlogloss:0.04558\teval-mlogloss:1.27500\n"
     ]
    },
    {
     "name": "stderr",
     "output_type": "stream",
     "text": []
    },
    {
     "name": "stdout",
     "output_type": "stream",
     "text": [
      "[429]\ttrain-mlogloss:0.04557\teval-mlogloss:1.27568\n"
     ]
    },
    {
     "name": "stderr",
     "output_type": "stream",
     "text": []
    },
    {
     "name": "stdout",
     "output_type": "stream",
     "text": [
      "[430]\ttrain-mlogloss:0.04556\teval-mlogloss:1.27595\n"
     ]
    },
    {
     "name": "stderr",
     "output_type": "stream",
     "text": []
    },
    {
     "name": "stdout",
     "output_type": "stream",
     "text": [
      "[431]\ttrain-mlogloss:0.04554\teval-mlogloss:1.27667\n"
     ]
    },
    {
     "name": "stderr",
     "output_type": "stream",
     "text": []
    },
    {
     "name": "stdout",
     "output_type": "stream",
     "text": [
      "[432]\ttrain-mlogloss:0.04553\teval-mlogloss:1.27689\n"
     ]
    },
    {
     "name": "stderr",
     "output_type": "stream",
     "text": []
    },
    {
     "name": "stdout",
     "output_type": "stream",
     "text": [
      "[433]\ttrain-mlogloss:0.04552\teval-mlogloss:1.27745\n"
     ]
    },
    {
     "name": "stderr",
     "output_type": "stream",
     "text": []
    },
    {
     "name": "stdout",
     "output_type": "stream",
     "text": [
      "[434]\ttrain-mlogloss:0.04550\teval-mlogloss:1.27801\n"
     ]
    },
    {
     "name": "stderr",
     "output_type": "stream",
     "text": []
    },
    {
     "name": "stdout",
     "output_type": "stream",
     "text": [
      "[435]\ttrain-mlogloss:0.04550\teval-mlogloss:1.27850\n"
     ]
    },
    {
     "name": "stderr",
     "output_type": "stream",
     "text": []
    },
    {
     "name": "stdout",
     "output_type": "stream",
     "text": [
      "[436]\ttrain-mlogloss:0.04549\teval-mlogloss:1.27909\n"
     ]
    },
    {
     "name": "stderr",
     "output_type": "stream",
     "text": []
    },
    {
     "name": "stdout",
     "output_type": "stream",
     "text": [
      "[437]\ttrain-mlogloss:0.04548\teval-mlogloss:1.27937\n"
     ]
    },
    {
     "name": "stderr",
     "output_type": "stream",
     "text": []
    },
    {
     "name": "stdout",
     "output_type": "stream",
     "text": [
      "[438]\ttrain-mlogloss:0.04546\teval-mlogloss:1.28019\n"
     ]
    },
    {
     "name": "stderr",
     "output_type": "stream",
     "text": []
    },
    {
     "name": "stdout",
     "output_type": "stream",
     "text": [
      "[439]\ttrain-mlogloss:0.04545\teval-mlogloss:1.28060\n"
     ]
    },
    {
     "name": "stderr",
     "output_type": "stream",
     "text": []
    },
    {
     "name": "stdout",
     "output_type": "stream",
     "text": [
      "[440]\ttrain-mlogloss:0.04544\teval-mlogloss:1.28113\n"
     ]
    },
    {
     "name": "stderr",
     "output_type": "stream",
     "text": []
    },
    {
     "name": "stdout",
     "output_type": "stream",
     "text": [
      "[441]\ttrain-mlogloss:0.04543\teval-mlogloss:1.28149\n"
     ]
    },
    {
     "name": "stderr",
     "output_type": "stream",
     "text": []
    },
    {
     "name": "stdout",
     "output_type": "stream",
     "text": [
      "[442]\ttrain-mlogloss:0.04542\teval-mlogloss:1.28173\n"
     ]
    },
    {
     "name": "stderr",
     "output_type": "stream",
     "text": []
    },
    {
     "name": "stdout",
     "output_type": "stream",
     "text": [
      "[443]\ttrain-mlogloss:0.04541\teval-mlogloss:1.28204\n"
     ]
    },
    {
     "name": "stderr",
     "output_type": "stream",
     "text": []
    },
    {
     "name": "stdout",
     "output_type": "stream",
     "text": [
      "[444]\ttrain-mlogloss:0.04540\teval-mlogloss:1.28335\n"
     ]
    },
    {
     "name": "stderr",
     "output_type": "stream",
     "text": []
    },
    {
     "name": "stdout",
     "output_type": "stream",
     "text": [
      "[445]\ttrain-mlogloss:0.04539\teval-mlogloss:1.28362\n"
     ]
    },
    {
     "name": "stderr",
     "output_type": "stream",
     "text": []
    },
    {
     "name": "stdout",
     "output_type": "stream",
     "text": [
      "[446]\ttrain-mlogloss:0.04538\teval-mlogloss:1.28422\n"
     ]
    },
    {
     "name": "stderr",
     "output_type": "stream",
     "text": []
    },
    {
     "name": "stdout",
     "output_type": "stream",
     "text": [
      "[447]\ttrain-mlogloss:0.04537\teval-mlogloss:1.28478\n"
     ]
    },
    {
     "name": "stderr",
     "output_type": "stream",
     "text": []
    },
    {
     "name": "stdout",
     "output_type": "stream",
     "text": [
      "[448]\ttrain-mlogloss:0.04536\teval-mlogloss:1.28540\n"
     ]
    },
    {
     "name": "stderr",
     "output_type": "stream",
     "text": []
    },
    {
     "name": "stdout",
     "output_type": "stream",
     "text": [
      "[449]\ttrain-mlogloss:0.04535\teval-mlogloss:1.28612\n"
     ]
    },
    {
     "name": "stderr",
     "output_type": "stream",
     "text": [
      "c:\\Users\\abhis\\Downloads\\Documents\\Learner Engagement Project\\venv\\Lib\\site-packages\\xgboost\\core.py:158: UserWarning: [03:06:31] WARNING: C:\\buildkite-agent\\builds\\buildkite-windows-cpu-autoscaling-group-i-08cbc0333d8d4aae1-1\\xgboost\\xgboost-ci-windows\\src\\c_api\\c_api.cc:1374: Saving model in the UBJSON format as default.  You can use file extension: `json`, `ubj` or `deprecated` to choose between formats.\n",
      "  warnings.warn(smsg, UserWarning)\n",
      "                                                                       \n",
      "Final Training Engagement:   0%|          | 0/500 [2:08:45<?, ?round/s]         "
     ]
    },
    {
     "name": "stdout",
     "output_type": "stream",
     "text": [
      "Checkpoint saved at iteration 450\n",
      "[450]\ttrain-mlogloss:0.04534\teval-mlogloss:1.28659\n"
     ]
    },
    {
     "name": "stderr",
     "output_type": "stream",
     "text": []
    },
    {
     "name": "stdout",
     "output_type": "stream",
     "text": [
      "[451]\ttrain-mlogloss:0.04533\teval-mlogloss:1.28701\n"
     ]
    },
    {
     "name": "stderr",
     "output_type": "stream",
     "text": []
    },
    {
     "name": "stdout",
     "output_type": "stream",
     "text": [
      "[452]\ttrain-mlogloss:0.04533\teval-mlogloss:1.28730\n"
     ]
    },
    {
     "name": "stderr",
     "output_type": "stream",
     "text": []
    },
    {
     "name": "stdout",
     "output_type": "stream",
     "text": [
      "[453]\ttrain-mlogloss:0.04532\teval-mlogloss:1.28761\n"
     ]
    },
    {
     "name": "stderr",
     "output_type": "stream",
     "text": []
    },
    {
     "name": "stdout",
     "output_type": "stream",
     "text": [
      "[454]\ttrain-mlogloss:0.04531\teval-mlogloss:1.28791\n"
     ]
    },
    {
     "name": "stderr",
     "output_type": "stream",
     "text": []
    },
    {
     "name": "stdout",
     "output_type": "stream",
     "text": [
      "[455]\ttrain-mlogloss:0.04530\teval-mlogloss:1.28856\n"
     ]
    },
    {
     "name": "stderr",
     "output_type": "stream",
     "text": []
    },
    {
     "name": "stdout",
     "output_type": "stream",
     "text": [
      "[456]\ttrain-mlogloss:0.04530\teval-mlogloss:1.28898\n"
     ]
    },
    {
     "name": "stderr",
     "output_type": "stream",
     "text": []
    },
    {
     "name": "stdout",
     "output_type": "stream",
     "text": [
      "[457]\ttrain-mlogloss:0.04529\teval-mlogloss:1.28957\n"
     ]
    },
    {
     "name": "stderr",
     "output_type": "stream",
     "text": []
    },
    {
     "name": "stdout",
     "output_type": "stream",
     "text": [
      "[458]\ttrain-mlogloss:0.04528\teval-mlogloss:1.29031\n"
     ]
    },
    {
     "name": "stderr",
     "output_type": "stream",
     "text": []
    },
    {
     "name": "stdout",
     "output_type": "stream",
     "text": [
      "[459]\ttrain-mlogloss:0.04527\teval-mlogloss:1.29139\n"
     ]
    },
    {
     "name": "stderr",
     "output_type": "stream",
     "text": []
    },
    {
     "name": "stdout",
     "output_type": "stream",
     "text": [
      "[460]\ttrain-mlogloss:0.04526\teval-mlogloss:1.29161\n"
     ]
    },
    {
     "name": "stderr",
     "output_type": "stream",
     "text": []
    },
    {
     "name": "stdout",
     "output_type": "stream",
     "text": [
      "[461]\ttrain-mlogloss:0.04525\teval-mlogloss:1.29197\n"
     ]
    },
    {
     "name": "stderr",
     "output_type": "stream",
     "text": []
    },
    {
     "name": "stdout",
     "output_type": "stream",
     "text": [
      "[462]\ttrain-mlogloss:0.04524\teval-mlogloss:1.29290\n"
     ]
    },
    {
     "name": "stderr",
     "output_type": "stream",
     "text": []
    },
    {
     "name": "stdout",
     "output_type": "stream",
     "text": [
      "[463]\ttrain-mlogloss:0.04523\teval-mlogloss:1.29334\n"
     ]
    },
    {
     "name": "stderr",
     "output_type": "stream",
     "text": []
    },
    {
     "name": "stdout",
     "output_type": "stream",
     "text": [
      "[464]\ttrain-mlogloss:0.04522\teval-mlogloss:1.29358\n"
     ]
    },
    {
     "name": "stderr",
     "output_type": "stream",
     "text": []
    },
    {
     "name": "stdout",
     "output_type": "stream",
     "text": [
      "[465]\ttrain-mlogloss:0.04521\teval-mlogloss:1.29415\n"
     ]
    },
    {
     "name": "stderr",
     "output_type": "stream",
     "text": []
    },
    {
     "name": "stdout",
     "output_type": "stream",
     "text": [
      "[466]\ttrain-mlogloss:0.04521\teval-mlogloss:1.29440\n"
     ]
    },
    {
     "name": "stderr",
     "output_type": "stream",
     "text": []
    },
    {
     "name": "stdout",
     "output_type": "stream",
     "text": [
      "[467]\ttrain-mlogloss:0.04520\teval-mlogloss:1.29489\n"
     ]
    },
    {
     "name": "stderr",
     "output_type": "stream",
     "text": []
    },
    {
     "name": "stdout",
     "output_type": "stream",
     "text": [
      "[468]\ttrain-mlogloss:0.04519\teval-mlogloss:1.29497\n"
     ]
    },
    {
     "name": "stderr",
     "output_type": "stream",
     "text": []
    },
    {
     "name": "stdout",
     "output_type": "stream",
     "text": [
      "[469]\ttrain-mlogloss:0.04518\teval-mlogloss:1.29613\n"
     ]
    },
    {
     "name": "stderr",
     "output_type": "stream",
     "text": []
    },
    {
     "name": "stdout",
     "output_type": "stream",
     "text": [
      "[470]\ttrain-mlogloss:0.04517\teval-mlogloss:1.29624\n"
     ]
    },
    {
     "name": "stderr",
     "output_type": "stream",
     "text": []
    },
    {
     "name": "stdout",
     "output_type": "stream",
     "text": [
      "[471]\ttrain-mlogloss:0.04516\teval-mlogloss:1.29657\n"
     ]
    },
    {
     "name": "stderr",
     "output_type": "stream",
     "text": []
    },
    {
     "name": "stdout",
     "output_type": "stream",
     "text": [
      "[472]\ttrain-mlogloss:0.04515\teval-mlogloss:1.29688\n"
     ]
    },
    {
     "name": "stderr",
     "output_type": "stream",
     "text": []
    },
    {
     "name": "stdout",
     "output_type": "stream",
     "text": [
      "[473]\ttrain-mlogloss:0.04514\teval-mlogloss:1.29728\n"
     ]
    },
    {
     "name": "stderr",
     "output_type": "stream",
     "text": []
    },
    {
     "name": "stdout",
     "output_type": "stream",
     "text": [
      "[474]\ttrain-mlogloss:0.04514\teval-mlogloss:1.29754\n"
     ]
    },
    {
     "name": "stderr",
     "output_type": "stream",
     "text": []
    },
    {
     "name": "stdout",
     "output_type": "stream",
     "text": [
      "[475]\ttrain-mlogloss:0.04513\teval-mlogloss:1.29820\n"
     ]
    },
    {
     "name": "stderr",
     "output_type": "stream",
     "text": []
    },
    {
     "name": "stdout",
     "output_type": "stream",
     "text": [
      "[476]\ttrain-mlogloss:0.04512\teval-mlogloss:1.29869\n"
     ]
    },
    {
     "name": "stderr",
     "output_type": "stream",
     "text": []
    },
    {
     "name": "stdout",
     "output_type": "stream",
     "text": [
      "[477]\ttrain-mlogloss:0.04511\teval-mlogloss:1.29930\n"
     ]
    },
    {
     "name": "stderr",
     "output_type": "stream",
     "text": []
    },
    {
     "name": "stdout",
     "output_type": "stream",
     "text": [
      "[478]\ttrain-mlogloss:0.04511\teval-mlogloss:1.29980\n"
     ]
    },
    {
     "name": "stderr",
     "output_type": "stream",
     "text": []
    },
    {
     "name": "stdout",
     "output_type": "stream",
     "text": [
      "[479]\ttrain-mlogloss:0.04510\teval-mlogloss:1.30078\n"
     ]
    },
    {
     "name": "stderr",
     "output_type": "stream",
     "text": []
    },
    {
     "name": "stdout",
     "output_type": "stream",
     "text": [
      "[480]\ttrain-mlogloss:0.04509\teval-mlogloss:1.30130\n"
     ]
    },
    {
     "name": "stderr",
     "output_type": "stream",
     "text": []
    },
    {
     "name": "stdout",
     "output_type": "stream",
     "text": [
      "[481]\ttrain-mlogloss:0.04508\teval-mlogloss:1.30158\n"
     ]
    },
    {
     "name": "stderr",
     "output_type": "stream",
     "text": []
    },
    {
     "name": "stdout",
     "output_type": "stream",
     "text": [
      "[482]\ttrain-mlogloss:0.04507\teval-mlogloss:1.30199\n"
     ]
    },
    {
     "name": "stderr",
     "output_type": "stream",
     "text": []
    },
    {
     "name": "stdout",
     "output_type": "stream",
     "text": [
      "[483]\ttrain-mlogloss:0.04506\teval-mlogloss:1.30181\n"
     ]
    },
    {
     "name": "stderr",
     "output_type": "stream",
     "text": []
    },
    {
     "name": "stdout",
     "output_type": "stream",
     "text": [
      "[484]\ttrain-mlogloss:0.04506\teval-mlogloss:1.30205\n"
     ]
    },
    {
     "name": "stderr",
     "output_type": "stream",
     "text": []
    },
    {
     "name": "stdout",
     "output_type": "stream",
     "text": [
      "[485]\ttrain-mlogloss:0.04505\teval-mlogloss:1.30287\n"
     ]
    },
    {
     "name": "stderr",
     "output_type": "stream",
     "text": []
    },
    {
     "name": "stdout",
     "output_type": "stream",
     "text": [
      "[486]\ttrain-mlogloss:0.04504\teval-mlogloss:1.30302\n"
     ]
    },
    {
     "name": "stderr",
     "output_type": "stream",
     "text": []
    },
    {
     "name": "stdout",
     "output_type": "stream",
     "text": [
      "[487]\ttrain-mlogloss:0.04504\teval-mlogloss:1.30329\n"
     ]
    },
    {
     "name": "stderr",
     "output_type": "stream",
     "text": []
    },
    {
     "name": "stdout",
     "output_type": "stream",
     "text": [
      "[488]\ttrain-mlogloss:0.04503\teval-mlogloss:1.30348\n"
     ]
    },
    {
     "name": "stderr",
     "output_type": "stream",
     "text": []
    },
    {
     "name": "stdout",
     "output_type": "stream",
     "text": [
      "[489]\ttrain-mlogloss:0.04502\teval-mlogloss:1.30420\n"
     ]
    },
    {
     "name": "stderr",
     "output_type": "stream",
     "text": []
    },
    {
     "name": "stdout",
     "output_type": "stream",
     "text": [
      "[490]\ttrain-mlogloss:0.04502\teval-mlogloss:1.30463\n"
     ]
    },
    {
     "name": "stderr",
     "output_type": "stream",
     "text": []
    },
    {
     "name": "stdout",
     "output_type": "stream",
     "text": [
      "[491]\ttrain-mlogloss:0.04501\teval-mlogloss:1.30513\n"
     ]
    },
    {
     "name": "stderr",
     "output_type": "stream",
     "text": []
    },
    {
     "name": "stdout",
     "output_type": "stream",
     "text": [
      "[492]\ttrain-mlogloss:0.04500\teval-mlogloss:1.30563\n"
     ]
    },
    {
     "name": "stderr",
     "output_type": "stream",
     "text": []
    },
    {
     "name": "stdout",
     "output_type": "stream",
     "text": [
      "[493]\ttrain-mlogloss:0.04499\teval-mlogloss:1.30617\n"
     ]
    },
    {
     "name": "stderr",
     "output_type": "stream",
     "text": []
    },
    {
     "name": "stdout",
     "output_type": "stream",
     "text": [
      "[494]\ttrain-mlogloss:0.04498\teval-mlogloss:1.30676\n"
     ]
    },
    {
     "name": "stderr",
     "output_type": "stream",
     "text": []
    },
    {
     "name": "stdout",
     "output_type": "stream",
     "text": [
      "[495]\ttrain-mlogloss:0.04497\teval-mlogloss:1.30702\n"
     ]
    },
    {
     "name": "stderr",
     "output_type": "stream",
     "text": []
    },
    {
     "name": "stdout",
     "output_type": "stream",
     "text": [
      "[496]\ttrain-mlogloss:0.04497\teval-mlogloss:1.30719\n"
     ]
    },
    {
     "name": "stderr",
     "output_type": "stream",
     "text": []
    },
    {
     "name": "stdout",
     "output_type": "stream",
     "text": [
      "[497]\ttrain-mlogloss:0.04496\teval-mlogloss:1.30767\n"
     ]
    },
    {
     "name": "stderr",
     "output_type": "stream",
     "text": []
    },
    {
     "name": "stdout",
     "output_type": "stream",
     "text": [
      "[498]\ttrain-mlogloss:0.04496\teval-mlogloss:1.30802\n"
     ]
    },
    {
     "name": "stderr",
     "output_type": "stream",
     "text": []
    },
    {
     "name": "stdout",
     "output_type": "stream",
     "text": [
      "[499]\ttrain-mlogloss:0.04495\teval-mlogloss:1.30868\n"
     ]
    },
    {
     "name": "stderr",
     "output_type": "stream",
     "text": [
      "c:\\Users\\abhis\\Downloads\\Documents\\Learner Engagement Project\\venv\\Lib\\site-packages\\xgboost\\core.py:158: UserWarning: [03:10:21] WARNING: C:\\buildkite-agent\\builds\\buildkite-windows-cpu-autoscaling-group-i-08cbc0333d8d4aae1-1\\xgboost\\xgboost-ci-windows\\src\\c_api\\c_api.cc:1374: Saving model in the UBJSON format as default.  You can use file extension: `json`, `ubj` or `deprecated` to choose between formats.\n",
      "  warnings.warn(smsg, UserWarning)\n",
      "                                                                       \n",
      "Final Training Engagement:   0%|          | 0/500 [2:12:35<?, ?round/s]         "
     ]
    },
    {
     "name": "stdout",
     "output_type": "stream",
     "text": [
      "Checkpoint saved at iteration 500\n"
     ]
    },
    {
     "name": "stderr",
     "output_type": "stream",
     "text": [
      "Final Training Frustration: 100%|██████████| 500/500 [41:41<00:00,  5.00s/round]"
     ]
    },
    {
     "name": "stdout",
     "output_type": "stream",
     "text": [
      "Final model for Frustration saved at C:\\Users\\abhis\\Downloads\\Documents\\Learner Engagement Project\\models\\final_model_Frustration.model\n"
     ]
    },
    {
     "name": "stderr",
     "output_type": "stream",
     "text": [
      "\n"
     ]
    }
   ],
   "source": [
    "# Define a custom callback for checkpointing\n",
    "class CheckpointCallback(TrainingCallback):\n",
    "    def __init__(self, pbar, checkpoint_dir, checkpoint_interval=50):\n",
    "        self.pbar = pbar\n",
    "        self.checkpoint_dir = checkpoint_dir\n",
    "        self.checkpoint_interval = checkpoint_interval\n",
    "\n",
    "    def after_iteration(self, model, epoch, evals_log):\n",
    "        self.pbar.update(1)\n",
    "        if (epoch + 1) % self.checkpoint_interval == 0:\n",
    "            ckpt_path = self.checkpoint_dir / f\"checkpoint_{epoch + 1}.model\"\n",
    "            model.save_model(str(ckpt_path))\n",
    "            tqdm.write(f\"Checkpoint saved at iteration {epoch + 1}\")\n",
    "        return False\n",
    "\n",
    "\n",
    "\n",
    "# Final Training for Multiple Metrics\n",
    "print(\"# --- Train Final Models for Multiple Metrics Using the Same Hyperparameters ---\")\n",
    "\n",
    "metrics = [\"Engagement\", \"Boredom\", \"Confusion\", \"Frustration\"]\n",
    "final_models = {}\n",
    "\n",
    "for metric in metrics:\n",
    "    # If Engagement is already trained above, load the model instead of retraining.\n",
    "    if metric == \"Engagement\":\n",
    "        print(f\"\\nUsing already trained Engagement model from {final_model_path}\")\n",
    "        bst_metric = xgb.Booster()\n",
    "        bst_metric.load_model(str(final_model_path))\n",
    "        final_models[metric] = bst_metric\n",
    "        continue\n",
    "\n",
    "    print(f\"\\nTraining final model for {metric}...\")\n",
    "    \n",
    "    y_metric = df_train[metric].astype(int).values\n",
    "    X_tr_m, X_val_m, y_tr_m, y_val_m = train_test_split(X, y_metric, test_size=0.2, random_state=42)\n",
    "    \n",
    "    dtrain_m = xgb.DMatrix(X_tr_m, label=y_tr_m)\n",
    "    dval_m = xgb.DMatrix(X_val_m, label=y_val_m)\n",
    "    watchlist_m = [(dtrain_m, 'train'), (dval_m, 'eval')]\n",
    "    \n",
    "    params_m = {\n",
    "        'max_depth': best_params['max_depth'],\n",
    "        'eta': best_params['learning_rate'],\n",
    "        'objective': 'multi:softmax',\n",
    "        'num_class': 4,\n",
    "        'eval_metric': 'mlogloss'\n",
    "    }\n",
    "    \n",
    "    num_boost_round = 500\n",
    "    checkpoint_dir_m = MODEL_DIR / f\"final_training_checkpoints_{metric}\"\n",
    "    os.makedirs(checkpoint_dir_m, exist_ok=True)\n",
    "    \n",
    "    pbar_train_m = tqdm(total=num_boost_round, unit=\"round\", desc=f\"Final Training {metric}\")\n",
    "    checkpoint_cb_m = CheckpointCallback(pbar_train_m, checkpoint_dir_m, checkpoint_interval=50)\n",
    "    \n",
    "    bst_m = xgb.train(\n",
    "        params_m,\n",
    "        dtrain_m,\n",
    "        num_boost_round=num_boost_round,\n",
    "        evals=watchlist_m,\n",
    "        callbacks=[checkpoint_cb_m]\n",
    "    )\n",
    "    pbar_train_m.close()\n",
    "    \n",
    "    model_path_m = MODEL_DIR / f\"final_model_{metric}.model\"\n",
    "    bst_m.save_model(str(model_path_m))\n",
    "    print(f\"Final model for {metric} saved at {model_path_m}\")\n",
    "    \n",
    "    final_models[metric] = bst_m"
   ]
  },
  {
   "cell_type": "markdown",
   "metadata": {},
   "source": [
    "# Evaluate the Final Model\n",
    "\n",
    "In this final section, we load the best saved model and evaluate its performance on the validation set. The evaluation includes:\n",
    "\n",
    "- **Accuracy**: The overall accuracy of the model on the validation data.\n",
    "- **Classification Report**: A detailed report showing precision, recall, F1-score, and support for each class.\n",
    "- **Confusion Matrix**: A matrix that visualizes the model's predictions against actual labels, providing insight into classification errors.\n",
    "\n",
    "These metrics provide a comprehensive understanding of the model's performance on the validation set.\n"
   ]
  },
  {
   "cell_type": "code",
   "execution_count": 18,
   "metadata": {},
   "outputs": [
    {
     "name": "stdout",
     "output_type": "stream",
     "text": [
      "\n",
      "Evaluating model for Engagement...\n",
      "Engagement validation accuracy: 0.5065\n",
      "\n",
      "Classification Report:\n",
      "              precision    recall  f1-score   support\n",
      "\n",
      "           0     0.0000    0.0000    0.0000        10\n",
      "           1     0.1818    0.0500    0.0784        40\n",
      "           2     0.5160    0.5885    0.5499       520\n",
      "           3     0.5076    0.4681    0.4870       502\n",
      "\n",
      "    accuracy                         0.5065      1072\n",
      "   macro avg     0.3013    0.2766    0.2788      1072\n",
      "weighted avg     0.4948    0.5065    0.4977      1072\n",
      "\n",
      "Confusion Matrix:\n",
      "[[  0   0   3   7]\n",
      " [  0   2  28  10]\n",
      " [  2   1 306 211]\n",
      " [  3   8 256 235]]\n",
      "\n",
      "Evaluating model for Boredom...\n",
      "Boredom validation accuracy: 0.4711\n",
      "\n",
      "Classification Report:\n",
      "              precision    recall  f1-score   support\n",
      "\n",
      "           0     0.5595    0.6476    0.6004       508\n",
      "           1     0.3878    0.3758    0.3817       322\n",
      "           2     0.3250    0.2453    0.2796       212\n",
      "           3     0.2500    0.1000    0.1429        30\n",
      "\n",
      "    accuracy                         0.4711      1072\n",
      "   macro avg     0.3806    0.3422    0.3511      1072\n",
      "weighted avg     0.4529    0.4711    0.4584      1072\n",
      "\n",
      "Confusion Matrix:\n",
      "[[329 121  55   3]\n",
      " [150 121  47   4]\n",
      " [ 97  61  52   2]\n",
      " [ 12   9   6   3]]\n",
      "\n",
      "Evaluating model for Confusion...\n",
      "Confusion validation accuracy: 0.6362\n",
      "\n",
      "Classification Report:\n",
      "              precision    recall  f1-score   support\n",
      "\n",
      "           0     0.7019    0.8703    0.7771       725\n",
      "           1     0.3529    0.1943    0.2507       247\n",
      "           2     0.0938    0.0333    0.0492        90\n",
      "           3     0.0000    0.0000    0.0000        10\n",
      "\n",
      "    accuracy                         0.6362      1072\n",
      "   macro avg     0.2871    0.2745    0.2692      1072\n",
      "weighted avg     0.5639    0.6362    0.5874      1072\n",
      "\n",
      "Confusion Matrix:\n",
      "[[631  68  22   4]\n",
      " [194  48   5   0]\n",
      " [ 68  18   3   1]\n",
      " [  6   2   2   0]]\n",
      "\n",
      "Evaluating model for Frustration...\n",
      "Frustration validation accuracy: 0.7444\n",
      "\n",
      "Classification Report:\n",
      "              precision    recall  f1-score   support\n",
      "\n",
      "           0     0.7822    0.9445    0.8557       829\n",
      "           1     0.2542    0.0773    0.1186       194\n",
      "           2     0.0000    0.0000    0.0000        35\n",
      "           3     0.0000    0.0000    0.0000        14\n",
      "\n",
      "    accuracy                         0.7444      1072\n",
      "   macro avg     0.2591    0.2555    0.2436      1072\n",
      "weighted avg     0.6509    0.7444    0.6832      1072\n",
      "\n",
      "Confusion Matrix:\n",
      "[[783  39   4   3]\n",
      " [175  15   4   0]\n",
      " [ 32   3   0   0]\n",
      " [ 11   2   1   0]]\n"
     ]
    }
   ],
   "source": [
    " # Define the list of metrics (ensure these match your cleaned column names)\n",
    "metrics = [\"Engagement\", \"Boredom\", \"Confusion\", \"Frustration\"]\n",
    "\n",
    "for metric in metrics:\n",
    "    print(f\"\\nEvaluating model for {metric}...\")\n",
    "    \n",
    "    # Extract labels for the current metric (convert to integer if needed)\n",
    "    y_metric = df_train[metric].astype(int).values\n",
    "\n",
    "    # Split the data into training and validation sets\n",
    "    # (We only need the validation part; using the same random_state ensures consistency)\n",
    "    _, X_val_m, _, y_val_m = train_test_split(X, y_metric, test_size=0.2, random_state=42)\n",
    "    \n",
    "    # Load the saved model for the current metric\n",
    "    model_path_m = MODEL_DIR / f\"final_model_{metric}.model\"\n",
    "    booster = xgb.Booster()\n",
    "    booster.load_model(str(model_path_m))\n",
    "    \n",
    "    # Create DMatrix for validation data and predict\n",
    "    dX_val_m = xgb.DMatrix(X_val_m)\n",
    "    preds = booster.predict(dX_val_m)\n",
    "    \n",
    "    # Compute accuracy and print classification report\n",
    "    acc = accuracy_score(y_val_m, preds)\n",
    "    print(f\"{metric} validation accuracy: {acc:.4f}\")\n",
    "    print(\"\\nClassification Report:\")\n",
    "    print(classification_report(y_val_m, preds, digits=4))\n",
    "    \n",
    "    # Compute confusion matrix\n",
    "    cm = confusion_matrix(y_val_m, preds)\n",
    "    print(\"Confusion Matrix:\")\n",
    "    print(cm)"
   ]
  },
  {
   "cell_type": "markdown",
   "metadata": {},
   "source": [
    "# Visualizations\n",
    "\n",
    "In this section, we generate visualizations to gain deeper insights into our model's performance. Specifically, we create the following:\n",
    "\n",
    "1. **Heatmap of the Confusion Matrix**: A visual representation of the confusion matrix, highlighting the model's correct and incorrect predictions across different classes.\n",
    "2. **Bar Chart**: A comparison of the distribution of true labels versus predicted labels, providing a clear view of how well the model is performing for each class.\n",
    "\n",
    "These visualizations help in understanding the strengths and weaknesses of the model, as well as identifying any potential issues such as class imbalance or misclassification patterns.\n"
   ]
  },
  {
   "cell_type": "code",
   "execution_count": 19,
   "metadata": {},
   "outputs": [
    {
     "name": "stdout",
     "output_type": "stream",
     "text": [
      "\n",
      "Evaluating model for Engagement...\n",
      "Engagement validation accuracy: 0.5065\n",
      "\n",
      "Classification Report:\n",
      "              precision    recall  f1-score   support\n",
      "\n",
      "           0     0.0000    0.0000    0.0000        10\n",
      "           1     0.1818    0.0500    0.0784        40\n",
      "           2     0.5160    0.5885    0.5499       520\n",
      "           3     0.5076    0.4681    0.4870       502\n",
      "\n",
      "    accuracy                         0.5065      1072\n",
      "   macro avg     0.3013    0.2766    0.2788      1072\n",
      "weighted avg     0.4948    0.5065    0.4977      1072\n",
      "\n",
      "Confusion Matrix:\n",
      "[[  0   0   3   7]\n",
      " [  0   2  28  10]\n",
      " [  2   1 306 211]\n",
      " [  3   8 256 235]]\n"
     ]
    },
    {
     "data": {
      "image/png": "[encoded data removed]",
      "text/plain": [
       "<Figure size 800x600 with 1 Axes>"
      ]
     },
     "metadata": {},
     "output_type": "display_data"
    },
    {
     "data": {
      "image/png": "[encoded data removed]",
      "text/plain": [
       "<Figure size 800x400 with 1 Axes>"
      ]
     },
     "metadata": {},
     "output_type": "display_data"
    },
    {
     "name": "stdout",
     "output_type": "stream",
     "text": [
      "\n",
      "Evaluating model for Boredom...\n",
      "Boredom validation accuracy: 0.4711\n",
      "\n",
      "Classification Report:\n",
      "              precision    recall  f1-score   support\n",
      "\n",
      "           0     0.5595    0.6476    0.6004       508\n",
      "           1     0.3878    0.3758    0.3817       322\n",
      "           2     0.3250    0.2453    0.2796       212\n",
      "           3     0.2500    0.1000    0.1429        30\n",
      "\n",
      "    accuracy                         0.4711      1072\n",
      "   macro avg     0.3806    0.3422    0.3511      1072\n",
      "weighted avg     0.4529    0.4711    0.4584      1072\n",
      "\n",
      "Confusion Matrix:\n",
      "[[329 121  55   3]\n",
      " [150 121  47   4]\n",
      " [ 97  61  52   2]\n",
      " [ 12   9   6   3]]\n"
     ]
    },
    {
     "data": {
      "image/png": "[encoded data removed]",
      "text/plain": [
       "<Figure size 800x600 with 1 Axes>"
      ]
     },
     "metadata": {},
     "output_type": "display_data"
    },
    {
     "data": {
      "image/png": "[encoded data removed]",
      "text/plain": [
       "<Figure size 800x400 with 1 Axes>"
      ]
     },
     "metadata": {},
     "output_type": "display_data"
    },
    {
     "name": "stdout",
     "output_type": "stream",
     "text": [
      "\n",
      "Evaluating model for Confusion...\n",
      "Confusion validation accuracy: 0.6362\n",
      "\n",
      "Classification Report:\n",
      "              precision    recall  f1-score   support\n",
      "\n",
      "           0     0.7019    0.8703    0.7771       725\n",
      "           1     0.3529    0.1943    0.2507       247\n",
      "           2     0.0938    0.0333    0.0492        90\n",
      "           3     0.0000    0.0000    0.0000        10\n",
      "\n",
      "    accuracy                         0.6362      1072\n",
      "   macro avg     0.2871    0.2745    0.2692      1072\n",
      "weighted avg     0.5639    0.6362    0.5874      1072\n",
      "\n",
      "Confusion Matrix:\n",
      "[[631  68  22   4]\n",
      " [194  48   5   0]\n",
      " [ 68  18   3   1]\n",
      " [  6   2   2   0]]\n"
     ]
    },
    {
     "data": {
      "image/png": "[encoded data removed]",
      "text/plain": [
       "<Figure size 800x600 with 1 Axes>"
      ]
     },
     "metadata": {},
     "output_type": "display_data"
    },
    {
     "data": {
      "image/png": "[encoded data removed]",
      "text/plain": [
       "<Figure size 800x400 with 1 Axes>"
      ]
     },
     "metadata": {},
     "output_type": "display_data"
    },
    {
     "name": "stdout",
     "output_type": "stream",
     "text": [
      "\n",
      "Evaluating model for Frustration...\n",
      "Frustration validation accuracy: 0.7444\n",
      "\n",
      "Classification Report:\n",
      "              precision    recall  f1-score   support\n",
      "\n",
      "           0     0.7822    0.9445    0.8557       829\n",
      "           1     0.2542    0.0773    0.1186       194\n",
      "           2     0.0000    0.0000    0.0000        35\n",
      "           3     0.0000    0.0000    0.0000        14\n",
      "\n",
      "    accuracy                         0.7444      1072\n",
      "   macro avg     0.2591    0.2555    0.2436      1072\n",
      "weighted avg     0.6509    0.7444    0.6832      1072\n",
      "\n",
      "Confusion Matrix:\n",
      "[[783  39   4   3]\n",
      " [175  15   4   0]\n",
      " [ 32   3   0   0]\n",
      " [ 11   2   1   0]]\n"
     ]
    },
    {
     "data": {
      "image/png": "[encoded data removed]",
      "text/plain": [
       "<Figure size 800x600 with 1 Axes>"
      ]
     },
     "metadata": {},
     "output_type": "display_data"
    },
    {
     "data": {
      "image/png": "[encoded data removed]",
      "text/plain": [
       "<Figure size 800x400 with 1 Axes>"
      ]
     },
     "metadata": {},
     "output_type": "display_data"
    },
    {
     "name": "stdout",
     "output_type": "stream",
     "text": [
      "\n",
      "XGBoost HOG model training, evaluation, and visualizations complete for all metrics!\n"
     ]
    }
   ],
   "source": [
    "import matplotlib.pyplot as plt\n",
    "import seaborn as sns\n",
    "from collections import Counter\n",
    "import numpy as np\n",
    "\n",
    "# Define the list of metrics (ensure these match the cleaned column names in df_train)\n",
    "metrics = [\"Engagement\", \"Boredom\", \"Confusion\", \"Frustration\"]\n",
    "\n",
    "for metric in metrics:\n",
    "    print(f\"\\nEvaluating model for {metric}...\")\n",
    "    \n",
    "    # Load the saved model for the current metric\n",
    "    model_path = MODEL_DIR / f\"final_model_{metric}.model\"\n",
    "    booster = xgb.Booster()\n",
    "    booster.load_model(str(model_path))\n",
    "    \n",
    "    # Extract labels for the current metric from df_train\n",
    "    # (Ensure the column name is correct; for example, if the CSV had extra spaces, they should be stripped)\n",
    "    y_metric = df_train[metric].astype(int).values\n",
    "    \n",
    "    # Split the data into training and validation sets (we only need the validation part here)\n",
    "    # Using the same random_state to ensure consistency with training splits\n",
    "    _, X_val_metric, _, y_val_metric = train_test_split(X, y_metric, test_size=0.2, random_state=42)\n",
    "    \n",
    "    # Create a DMatrix for the validation set and predict\n",
    "    dX_val_metric = xgb.DMatrix(X_val_metric)\n",
    "    preds = booster.predict(dX_val_metric)\n",
    "    \n",
    "    # Evaluate predictions\n",
    "    acc = accuracy_score(y_val_metric, preds)\n",
    "    print(f\"{metric} validation accuracy: {acc:.4f}\")\n",
    "    print(\"\\nClassification Report:\")\n",
    "    print(classification_report(y_val_metric, preds, digits=4))\n",
    "    \n",
    "    cm = confusion_matrix(y_val_metric, preds)\n",
    "    print(\"Confusion Matrix:\")\n",
    "    print(cm)\n",
    "    \n",
    "    # --- Visualizations ---\n",
    "    \n",
    "    # 1. Confusion Matrix Heatmap\n",
    "    plt.figure(figsize=(8, 6))\n",
    "    sns.heatmap(cm, annot=True, fmt=\"d\", cmap=\"Blues\", cbar=False)\n",
    "    plt.title(f\"{metric} - Confusion Matrix\")\n",
    "    plt.xlabel(\"Predicted Labels\")\n",
    "    plt.ylabel(\"True Labels\")\n",
    "    plt.show()\n",
    "    \n",
    "    # 2. Bar Chart for Label Distribution\n",
    "    true_counts = Counter(y_val_metric)\n",
    "    pred_counts = Counter(preds)\n",
    "    \n",
    "    labels = sorted(set(y_val_metric))\n",
    "    true_vals = [true_counts.get(label, 0) for label in labels]\n",
    "    pred_vals = [pred_counts.get(label, 0) for label in labels]\n",
    "    \n",
    "    plt.figure(figsize=(8, 4))\n",
    "    width = 0.35\n",
    "    x = np.arange(len(labels))\n",
    "    plt.bar(x - width/2, true_vals, width, label=\"True Labels\")\n",
    "    plt.bar(x + width/2, pred_vals, width, label=\"Predicted Labels\")\n",
    "    plt.xlabel(\"Label\")\n",
    "    plt.ylabel(\"Count\")\n",
    "    plt.title(f\"{metric} - Distribution of True vs Predicted Labels\")\n",
    "    plt.xticks(x, labels)\n",
    "    plt.legend()\n",
    "    plt.show()\n",
    " \n",
    "print(\"\\nXGBoost HOG model training, evaluation, and visualizations complete for all metrics!\")"
   ]
  }
 ],
 "metadata": {
  "kernelspec": {
   "display_name": "venv",
   "language": "python",
   "name": "python3"
  },
  "language_info": {
   "codemirror_mode": {
    "name": "ipython",
    "version": 3
   },
   "file_extension": ".py",
   "mimetype": "text/x-python",
   "name": "python",
   "nbconvert_exporter": "python",
   "pygments_lexer": "ipython3",
   "version": "3.12.1"
  }
 },
 "nbformat": 4,
 "nbformat_minor": 2
}
