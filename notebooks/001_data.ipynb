{
 "cells": [
  {
   "cell_type": "code",
   "execution_count": 58,
   "metadata": {},
   "outputs": [
    {
     "name": "stdout",
     "output_type": "stream",
     "text": [
      "✅ Dataset found at: ../data/DAiSEE/DataSet\n",
      "📂 Found Train dataset.\n",
      "📂 Found Test dataset.\n",
      "📂 Found Validation dataset.\n",
      "✅ Found label file: Train.txt\n",
      "✅ Found label file: Test.txt\n",
      "✅ Found label file: Validation.txt\n",
      "✅ Found 4 label files in ../data/DAiSEE/DataSet\\Labels\n",
      "✅ DAiSEE dataset successfully verified!\n"
     ]
    }
   ],
   "source": [
    "import os\n",
    "import pandas as pd\n",
    "\n",
    "DATASET_PATH = \"../data/DAiSEE/DataSet\"\n",
    "LABELS_PATH = os.path.join(DATASET_PATH, \"Labels\")\n",
    "\n",
    "# Ensure dataset is available\n",
    "if not os.path.exists(DATASET_PATH) or not os.listdir(DATASET_PATH):\n",
    "    raise FileNotFoundError(f\"❌ Dataset not found at {DATASET_PATH}. Please verify extraction.\")\n",
    "\n",
    "print(f\"✅ Dataset found at: {DATASET_PATH}\")\n",
    "\n",
    "# Check subfolders\n",
    "subfolders = [\"Train\", \"Test\", \"Validation\"]\n",
    "for folder in subfolders:\n",
    "    path = os.path.join(DATASET_PATH, folder)\n",
    "    if not os.path.exists(path):\n",
    "        print(f\"⚠️ Warning: {folder} folder missing.\")\n",
    "    else:\n",
    "        print(f\"📂 Found {folder} dataset.\")\n",
    "\n",
    "# Verify label files exist\n",
    "label_files = [\"Train.txt\", \"Test.txt\", \"Validation.txt\"]\n",
    "for label_file in label_files:\n",
    "    label_path = os.path.join(DATASET_PATH, label_file)\n",
    "    if not os.path.exists(label_path):\n",
    "        print(f\"⚠️ Warning: {label_file} not found in dataset.\")\n",
    "    else:\n",
    "        print(f\"✅ Found label file: {label_file}\")\n",
    "\n",
    "# Load Labels\n",
    "if os.path.exists(LABELS_PATH):\n",
    "    label_files = [f for f in os.listdir(LABELS_PATH) if f.endswith(\".csv\")]\n",
    "    if label_files:\n",
    "        print(f\"✅ Found {len(label_files)} label files in {LABELS_PATH}\")\n",
    "    else:\n",
    "        print(\"⚠️ No CSV label files found in Labels directory.\")\n",
    "else:\n",
    "    print(\"⚠️ Labels folder missing.\")\n",
    "\n",
    "print(\"✅ DAiSEE dataset successfully verified!\")"
   ]
  }
 ],
 "metadata": {
  "kernelspec": {
   "display_name": "venv",
   "language": "python",
   "name": "python3"
  },
  "language_info": {
   "codemirror_mode": {
    "name": "ipython",
    "version": 3
   },
   "file_extension": ".py",
   "mimetype": "text/x-python",
   "name": "python",
   "nbconvert_exporter": "python",
   "pygments_lexer": "ipython3",
   "version": "3.12.1"
  }
 },
 "nbformat": 4,
 "nbformat_minor": 2
}
